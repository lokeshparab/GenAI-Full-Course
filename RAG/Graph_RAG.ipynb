{
  "nbformat": 4,
  "nbformat_minor": 0,
  "metadata": {
    "colab": {
      "provenance": [],
      "authorship_tag": "ABX9TyO9V0m3QFKb7xcXWRY0vvjT",
      "include_colab_link": true
    },
    "kernelspec": {
      "name": "python3",
      "display_name": "Python 3"
    },
    "language_info": {
      "name": "python"
    }
  },
  "cells": [
    {
      "cell_type": "markdown",
      "metadata": {
        "id": "view-in-github",
        "colab_type": "text"
      },
      "source": [
        "<a href=\"https://colab.research.google.com/github/lokeshparab/GenAI-Full-Course/blob/main/RAG/Graph_RAG.ipynb\" target=\"_parent\"><img src=\"https://colab.research.google.com/assets/colab-badge.svg\" alt=\"Open In Colab\"/></a>"
      ]
    },
    {
      "cell_type": "markdown",
      "source": [
        "# Import and Install Library"
      ],
      "metadata": {
        "id": "pEodhnOYLUaj"
      }
    },
    {
      "cell_type": "code",
      "execution_count": 1,
      "metadata": {
        "colab": {
          "base_uri": "https://localhost:8080/",
          "height": 1000
        },
        "id": "urtwt_zcFHFk",
        "outputId": "95004876-24d5-470c-d23f-ba6d43e87a7c"
      },
      "outputs": [
        {
          "output_type": "stream",
          "name": "stdout",
          "text": [
            "Collecting langchain-graph-retriever\n",
            "  Downloading langchain_graph_retriever-0.8.0-py3-none-any.whl.metadata (4.1 kB)\n",
            "Collecting graph_rag_example_helpers\n",
            "  Downloading graph_rag_example_helpers-0.8.0-py3-none-any.whl.metadata (1.6 kB)\n",
            "Requirement already satisfied: transformers in /usr/local/lib/python3.11/dist-packages (4.52.2)\n",
            "Collecting grandalf\n",
            "  Downloading grandalf-0.8-py3-none-any.whl.metadata (1.7 kB)\n",
            "Collecting backoff>=2.2.1 (from langchain-graph-retriever)\n",
            "  Downloading backoff-2.2.1-py3-none-any.whl.metadata (14 kB)\n",
            "Collecting graph-retriever (from langchain-graph-retriever)\n",
            "  Downloading graph_retriever-0.8.0-py3-none-any.whl.metadata (1.6 kB)\n",
            "Requirement already satisfied: immutabledict>=4.2.1 in /usr/local/lib/python3.11/dist-packages (from langchain-graph-retriever) (4.2.1)\n",
            "Requirement already satisfied: langchain-core>=0.3.29 in /usr/local/lib/python3.11/dist-packages (from langchain-graph-retriever) (0.3.60)\n",
            "Requirement already satisfied: networkx>=3.4.2 in /usr/local/lib/python3.11/dist-packages (from langchain-graph-retriever) (3.4.2)\n",
            "Requirement already satisfied: pydantic>=2.10.4 in /usr/local/lib/python3.11/dist-packages (from langchain-graph-retriever) (2.11.4)\n",
            "Requirement already satisfied: typing-extensions>=4.12.2 in /usr/local/lib/python3.11/dist-packages (from langchain-graph-retriever) (4.13.2)\n",
            "Collecting astrapy>=1.5.2 (from graph_rag_example_helpers)\n",
            "  Downloading astrapy-2.0.1-py3-none-any.whl.metadata (23 kB)\n",
            "Collecting griffe>=1.5.7 (from graph_rag_example_helpers)\n",
            "  Downloading griffe-1.7.3-py3-none-any.whl.metadata (5.0 kB)\n",
            "Requirement already satisfied: httpx>=0.28.1 in /usr/local/lib/python3.11/dist-packages (from graph_rag_example_helpers) (0.28.1)\n",
            "Collecting python-dotenv>=1.0.1 (from graph_rag_example_helpers)\n",
            "  Downloading python_dotenv-1.1.0-py3-none-any.whl.metadata (24 kB)\n",
            "Requirement already satisfied: requests>=2.32.3 in /usr/local/lib/python3.11/dist-packages (from graph_rag_example_helpers) (2.32.3)\n",
            "Requirement already satisfied: simsimd>=6.2.1 in /usr/local/lib/python3.11/dist-packages (from graph_rag_example_helpers) (6.2.1)\n",
            "Requirement already satisfied: tqdm>=4.67.1 in /usr/local/lib/python3.11/dist-packages (from graph_rag_example_helpers) (4.67.1)\n",
            "Requirement already satisfied: filelock in /usr/local/lib/python3.11/dist-packages (from transformers) (3.18.0)\n",
            "Requirement already satisfied: huggingface-hub<1.0,>=0.30.0 in /usr/local/lib/python3.11/dist-packages (from transformers) (0.31.4)\n",
            "Requirement already satisfied: numpy>=1.17 in /usr/local/lib/python3.11/dist-packages (from transformers) (2.0.2)\n",
            "Requirement already satisfied: packaging>=20.0 in /usr/local/lib/python3.11/dist-packages (from transformers) (24.2)\n",
            "Requirement already satisfied: pyyaml>=5.1 in /usr/local/lib/python3.11/dist-packages (from transformers) (6.0.2)\n",
            "Requirement already satisfied: regex!=2019.12.17 in /usr/local/lib/python3.11/dist-packages (from transformers) (2024.11.6)\n",
            "Requirement already satisfied: tokenizers<0.22,>=0.21 in /usr/local/lib/python3.11/dist-packages (from transformers) (0.21.1)\n",
            "Requirement already satisfied: safetensors>=0.4.3 in /usr/local/lib/python3.11/dist-packages (from transformers) (0.5.3)\n",
            "Requirement already satisfied: pyparsing in /usr/local/lib/python3.11/dist-packages (from grandalf) (3.2.3)\n",
            "Collecting deprecation<2.2.0,>=2.1.0 (from astrapy>=1.5.2->graph_rag_example_helpers)\n",
            "  Downloading deprecation-2.1.0-py2.py3-none-any.whl.metadata (4.6 kB)\n",
            "Collecting pymongo>=3 (from astrapy>=1.5.2->graph_rag_example_helpers)\n",
            "  Downloading pymongo-4.13.0-cp311-cp311-manylinux_2_17_x86_64.manylinux2014_x86_64.whl.metadata (22 kB)\n",
            "Requirement already satisfied: toml<0.11.0,>=0.10.2 in /usr/local/lib/python3.11/dist-packages (from astrapy>=1.5.2->graph_rag_example_helpers) (0.10.2)\n",
            "Collecting uuid6>=2024.1.12 (from astrapy>=1.5.2->graph_rag_example_helpers)\n",
            "  Downloading uuid6-2024.7.10-py3-none-any.whl.metadata (8.6 kB)\n",
            "Collecting colorama>=0.4 (from griffe>=1.5.7->graph_rag_example_helpers)\n",
            "  Downloading colorama-0.4.6-py2.py3-none-any.whl.metadata (17 kB)\n",
            "Requirement already satisfied: anyio in /usr/local/lib/python3.11/dist-packages (from httpx>=0.28.1->graph_rag_example_helpers) (4.9.0)\n",
            "Requirement already satisfied: certifi in /usr/local/lib/python3.11/dist-packages (from httpx>=0.28.1->graph_rag_example_helpers) (2025.4.26)\n",
            "Requirement already satisfied: httpcore==1.* in /usr/local/lib/python3.11/dist-packages (from httpx>=0.28.1->graph_rag_example_helpers) (1.0.9)\n",
            "Requirement already satisfied: idna in /usr/local/lib/python3.11/dist-packages (from httpx>=0.28.1->graph_rag_example_helpers) (3.10)\n",
            "Requirement already satisfied: h11>=0.16 in /usr/local/lib/python3.11/dist-packages (from httpcore==1.*->httpx>=0.28.1->graph_rag_example_helpers) (0.16.0)\n",
            "Requirement already satisfied: fsspec>=2023.5.0 in /usr/local/lib/python3.11/dist-packages (from huggingface-hub<1.0,>=0.30.0->transformers) (2025.3.2)\n",
            "Requirement already satisfied: langsmith<0.4,>=0.1.126 in /usr/local/lib/python3.11/dist-packages (from langchain-core>=0.3.29->langchain-graph-retriever) (0.3.42)\n",
            "Requirement already satisfied: tenacity!=8.4.0,<10.0.0,>=8.1.0 in /usr/local/lib/python3.11/dist-packages (from langchain-core>=0.3.29->langchain-graph-retriever) (9.1.2)\n",
            "Requirement already satisfied: jsonpatch<2.0,>=1.33 in /usr/local/lib/python3.11/dist-packages (from langchain-core>=0.3.29->langchain-graph-retriever) (1.33)\n",
            "Requirement already satisfied: annotated-types>=0.6.0 in /usr/local/lib/python3.11/dist-packages (from pydantic>=2.10.4->langchain-graph-retriever) (0.7.0)\n",
            "Requirement already satisfied: pydantic-core==2.33.2 in /usr/local/lib/python3.11/dist-packages (from pydantic>=2.10.4->langchain-graph-retriever) (2.33.2)\n",
            "Requirement already satisfied: typing-inspection>=0.4.0 in /usr/local/lib/python3.11/dist-packages (from pydantic>=2.10.4->langchain-graph-retriever) (0.4.1)\n",
            "Requirement already satisfied: charset-normalizer<4,>=2 in /usr/local/lib/python3.11/dist-packages (from requests>=2.32.3->graph_rag_example_helpers) (3.4.2)\n",
            "Requirement already satisfied: urllib3<3,>=1.21.1 in /usr/local/lib/python3.11/dist-packages (from requests>=2.32.3->graph_rag_example_helpers) (2.4.0)\n",
            "Requirement already satisfied: pytest>=8.3.4 in /usr/local/lib/python3.11/dist-packages (from graph-retriever->langchain-graph-retriever) (8.3.5)\n",
            "Requirement already satisfied: h2<5,>=3 in /usr/local/lib/python3.11/dist-packages (from httpx[http2]<1,>=0.25.2->astrapy>=1.5.2->graph_rag_example_helpers) (4.2.0)\n",
            "Requirement already satisfied: jsonpointer>=1.9 in /usr/local/lib/python3.11/dist-packages (from jsonpatch<2.0,>=1.33->langchain-core>=0.3.29->langchain-graph-retriever) (3.0.0)\n",
            "Requirement already satisfied: orjson<4.0.0,>=3.9.14 in /usr/local/lib/python3.11/dist-packages (from langsmith<0.4,>=0.1.126->langchain-core>=0.3.29->langchain-graph-retriever) (3.10.18)\n",
            "Requirement already satisfied: requests-toolbelt<2.0.0,>=1.0.0 in /usr/local/lib/python3.11/dist-packages (from langsmith<0.4,>=0.1.126->langchain-core>=0.3.29->langchain-graph-retriever) (1.0.0)\n",
            "Requirement already satisfied: zstandard<0.24.0,>=0.23.0 in /usr/local/lib/python3.11/dist-packages (from langsmith<0.4,>=0.1.126->langchain-core>=0.3.29->langchain-graph-retriever) (0.23.0)\n",
            "Collecting dnspython<3.0.0,>=1.16.0 (from pymongo>=3->astrapy>=1.5.2->graph_rag_example_helpers)\n",
            "  Downloading dnspython-2.7.0-py3-none-any.whl.metadata (5.8 kB)\n",
            "Requirement already satisfied: iniconfig in /usr/local/lib/python3.11/dist-packages (from pytest>=8.3.4->graph-retriever->langchain-graph-retriever) (2.1.0)\n",
            "Requirement already satisfied: pluggy<2,>=1.5 in /usr/local/lib/python3.11/dist-packages (from pytest>=8.3.4->graph-retriever->langchain-graph-retriever) (1.6.0)\n",
            "Requirement already satisfied: sniffio>=1.1 in /usr/local/lib/python3.11/dist-packages (from anyio->httpx>=0.28.1->graph_rag_example_helpers) (1.3.1)\n",
            "Requirement already satisfied: hyperframe<7,>=6.1 in /usr/local/lib/python3.11/dist-packages (from h2<5,>=3->httpx[http2]<1,>=0.25.2->astrapy>=1.5.2->graph_rag_example_helpers) (6.1.0)\n",
            "Requirement already satisfied: hpack<5,>=4.1 in /usr/local/lib/python3.11/dist-packages (from h2<5,>=3->httpx[http2]<1,>=0.25.2->astrapy>=1.5.2->graph_rag_example_helpers) (4.1.0)\n",
            "Downloading langchain_graph_retriever-0.8.0-py3-none-any.whl (33 kB)\n",
            "Downloading graph_rag_example_helpers-0.8.0-py3-none-any.whl (19 kB)\n",
            "Downloading grandalf-0.8-py3-none-any.whl (41 kB)\n",
            "\u001b[2K   \u001b[90m━━━━━━━━━━━━━━━━━━━━━━━━━━━━━━━━━━━━━━━━\u001b[0m \u001b[32m41.8/41.8 kB\u001b[0m \u001b[31m2.1 MB/s\u001b[0m eta \u001b[36m0:00:00\u001b[0m\n",
            "\u001b[?25hDownloading astrapy-2.0.1-py3-none-any.whl (300 kB)\n",
            "\u001b[2K   \u001b[90m━━━━━━━━━━━━━━━━━━━━━━━━━━━━━━━━━━━━━━━━\u001b[0m \u001b[32m300.5/300.5 kB\u001b[0m \u001b[31m9.7 MB/s\u001b[0m eta \u001b[36m0:00:00\u001b[0m\n",
            "\u001b[?25hDownloading backoff-2.2.1-py3-none-any.whl (15 kB)\n",
            "Downloading griffe-1.7.3-py3-none-any.whl (129 kB)\n",
            "\u001b[2K   \u001b[90m━━━━━━━━━━━━━━━━━━━━━━━━━━━━━━━━━━━━━━━━\u001b[0m \u001b[32m129.3/129.3 kB\u001b[0m \u001b[31m9.8 MB/s\u001b[0m eta \u001b[36m0:00:00\u001b[0m\n",
            "\u001b[?25hDownloading python_dotenv-1.1.0-py3-none-any.whl (20 kB)\n",
            "Downloading graph_retriever-0.8.0-py3-none-any.whl (37 kB)\n",
            "Downloading colorama-0.4.6-py2.py3-none-any.whl (25 kB)\n",
            "Downloading deprecation-2.1.0-py2.py3-none-any.whl (11 kB)\n",
            "Downloading pymongo-4.13.0-cp311-cp311-manylinux_2_17_x86_64.manylinux2014_x86_64.whl (1.4 MB)\n",
            "\u001b[2K   \u001b[90m━━━━━━━━━━━━━━━━━━━━━━━━━━━━━━━━━━━━━━━━\u001b[0m \u001b[32m1.4/1.4 MB\u001b[0m \u001b[31m35.7 MB/s\u001b[0m eta \u001b[36m0:00:00\u001b[0m\n",
            "\u001b[?25hDownloading uuid6-2024.7.10-py3-none-any.whl (6.4 kB)\n",
            "Downloading dnspython-2.7.0-py3-none-any.whl (313 kB)\n",
            "\u001b[2K   \u001b[90m━━━━━━━━━━━━━━━━━━━━━━━━━━━━━━━━━━━━━━━━\u001b[0m \u001b[32m313.6/313.6 kB\u001b[0m \u001b[31m17.9 MB/s\u001b[0m eta \u001b[36m0:00:00\u001b[0m\n",
            "\u001b[?25hInstalling collected packages: uuid6, python-dotenv, grandalf, dnspython, deprecation, colorama, backoff, pymongo, griffe, graph-retriever, astrapy, langchain-graph-retriever, graph_rag_example_helpers\n",
            "Successfully installed astrapy-2.0.1 backoff-2.2.1 colorama-0.4.6 deprecation-2.1.0 dnspython-2.7.0 grandalf-0.8 graph-retriever-0.8.0 graph_rag_example_helpers-0.8.0 griffe-1.7.3 langchain-graph-retriever-0.8.0 pymongo-4.13.0 python-dotenv-1.1.0 uuid6-2024.7.10\n",
            "Collecting langchain-openai\n",
            "  Downloading langchain_openai-0.3.18-py3-none-any.whl.metadata (2.3 kB)\n",
            "Collecting langchain-groq\n",
            "  Downloading langchain_groq-0.3.2-py3-none-any.whl.metadata (2.6 kB)\n",
            "Collecting langchain-anthropic\n",
            "  Downloading langchain_anthropic-0.3.14-py3-none-any.whl.metadata (1.9 kB)\n",
            "Collecting langchain-google-genai\n",
            "  Downloading langchain_google_genai-2.1.4-py3-none-any.whl.metadata (5.2 kB)\n",
            "Collecting langchain-huggingface\n",
            "  Downloading langchain_huggingface-0.2.0-py3-none-any.whl.metadata (941 bytes)\n",
            "Collecting langchain-core<1.0.0,>=0.3.61 (from langchain-openai)\n",
            "  Downloading langchain_core-0.3.62-py3-none-any.whl.metadata (5.8 kB)\n",
            "Requirement already satisfied: openai<2.0.0,>=1.68.2 in /usr/local/lib/python3.11/dist-packages (from langchain-openai) (1.81.0)\n",
            "Requirement already satisfied: tiktoken<1,>=0.7 in /usr/local/lib/python3.11/dist-packages (from langchain-openai) (0.9.0)\n",
            "Collecting groq<1,>=0.4.1 (from langchain-groq)\n",
            "  Downloading groq-0.25.0-py3-none-any.whl.metadata (15 kB)\n",
            "Collecting anthropic<1,>=0.52.0 (from langchain-anthropic)\n",
            "  Downloading anthropic-0.52.0-py3-none-any.whl.metadata (25 kB)\n",
            "Requirement already satisfied: pydantic<3.0.0,>=2.7.4 in /usr/local/lib/python3.11/dist-packages (from langchain-anthropic) (2.11.4)\n",
            "Collecting filetype<2.0.0,>=1.2.0 (from langchain-google-genai)\n",
            "  Downloading filetype-1.2.0-py2.py3-none-any.whl.metadata (6.5 kB)\n",
            "Collecting google-ai-generativelanguage<0.7.0,>=0.6.18 (from langchain-google-genai)\n",
            "  Downloading google_ai_generativelanguage-0.6.18-py3-none-any.whl.metadata (9.8 kB)\n",
            "Requirement already satisfied: tokenizers>=0.19.1 in /usr/local/lib/python3.11/dist-packages (from langchain-huggingface) (0.21.1)\n",
            "Requirement already satisfied: transformers>=4.39.0 in /usr/local/lib/python3.11/dist-packages (from langchain-huggingface) (4.52.2)\n",
            "Requirement already satisfied: sentence-transformers>=2.6.0 in /usr/local/lib/python3.11/dist-packages (from langchain-huggingface) (4.1.0)\n",
            "Requirement already satisfied: huggingface-hub>=0.30.2 in /usr/local/lib/python3.11/dist-packages (from langchain-huggingface) (0.31.4)\n",
            "Requirement already satisfied: anyio<5,>=3.5.0 in /usr/local/lib/python3.11/dist-packages (from anthropic<1,>=0.52.0->langchain-anthropic) (4.9.0)\n",
            "Requirement already satisfied: distro<2,>=1.7.0 in /usr/local/lib/python3.11/dist-packages (from anthropic<1,>=0.52.0->langchain-anthropic) (1.9.0)\n",
            "Requirement already satisfied: httpx<1,>=0.25.0 in /usr/local/lib/python3.11/dist-packages (from anthropic<1,>=0.52.0->langchain-anthropic) (0.28.1)\n",
            "Requirement already satisfied: jiter<1,>=0.4.0 in /usr/local/lib/python3.11/dist-packages (from anthropic<1,>=0.52.0->langchain-anthropic) (0.10.0)\n",
            "Requirement already satisfied: sniffio in /usr/local/lib/python3.11/dist-packages (from anthropic<1,>=0.52.0->langchain-anthropic) (1.3.1)\n",
            "Requirement already satisfied: typing-extensions<5,>=4.10 in /usr/local/lib/python3.11/dist-packages (from anthropic<1,>=0.52.0->langchain-anthropic) (4.13.2)\n",
            "Requirement already satisfied: google-api-core!=2.0.*,!=2.1.*,!=2.10.*,!=2.2.*,!=2.3.*,!=2.4.*,!=2.5.*,!=2.6.*,!=2.7.*,!=2.8.*,!=2.9.*,<3.0.0,>=1.34.1 in /usr/local/lib/python3.11/dist-packages (from google-api-core[grpc]!=2.0.*,!=2.1.*,!=2.10.*,!=2.2.*,!=2.3.*,!=2.4.*,!=2.5.*,!=2.6.*,!=2.7.*,!=2.8.*,!=2.9.*,<3.0.0,>=1.34.1->google-ai-generativelanguage<0.7.0,>=0.6.18->langchain-google-genai) (2.24.2)\n",
            "Requirement already satisfied: google-auth!=2.24.0,!=2.25.0,<3.0.0,>=2.14.1 in /usr/local/lib/python3.11/dist-packages (from google-ai-generativelanguage<0.7.0,>=0.6.18->langchain-google-genai) (2.38.0)\n",
            "Requirement already satisfied: proto-plus<2.0.0,>=1.22.3 in /usr/local/lib/python3.11/dist-packages (from google-ai-generativelanguage<0.7.0,>=0.6.18->langchain-google-genai) (1.26.1)\n",
            "Requirement already satisfied: protobuf!=4.21.0,!=4.21.1,!=4.21.2,!=4.21.3,!=4.21.4,!=4.21.5,<7.0.0,>=3.20.2 in /usr/local/lib/python3.11/dist-packages (from google-ai-generativelanguage<0.7.0,>=0.6.18->langchain-google-genai) (5.29.4)\n",
            "Requirement already satisfied: filelock in /usr/local/lib/python3.11/dist-packages (from huggingface-hub>=0.30.2->langchain-huggingface) (3.18.0)\n",
            "Requirement already satisfied: fsspec>=2023.5.0 in /usr/local/lib/python3.11/dist-packages (from huggingface-hub>=0.30.2->langchain-huggingface) (2025.3.2)\n",
            "Requirement already satisfied: packaging>=20.9 in /usr/local/lib/python3.11/dist-packages (from huggingface-hub>=0.30.2->langchain-huggingface) (24.2)\n",
            "Requirement already satisfied: pyyaml>=5.1 in /usr/local/lib/python3.11/dist-packages (from huggingface-hub>=0.30.2->langchain-huggingface) (6.0.2)\n",
            "Requirement already satisfied: requests in /usr/local/lib/python3.11/dist-packages (from huggingface-hub>=0.30.2->langchain-huggingface) (2.32.3)\n",
            "Requirement already satisfied: tqdm>=4.42.1 in /usr/local/lib/python3.11/dist-packages (from huggingface-hub>=0.30.2->langchain-huggingface) (4.67.1)\n",
            "Requirement already satisfied: langsmith<0.4,>=0.1.126 in /usr/local/lib/python3.11/dist-packages (from langchain-core<1.0.0,>=0.3.61->langchain-openai) (0.3.42)\n",
            "Requirement already satisfied: tenacity!=8.4.0,<10.0.0,>=8.1.0 in /usr/local/lib/python3.11/dist-packages (from langchain-core<1.0.0,>=0.3.61->langchain-openai) (9.1.2)\n",
            "Requirement already satisfied: jsonpatch<2.0,>=1.33 in /usr/local/lib/python3.11/dist-packages (from langchain-core<1.0.0,>=0.3.61->langchain-openai) (1.33)\n",
            "Requirement already satisfied: annotated-types>=0.6.0 in /usr/local/lib/python3.11/dist-packages (from pydantic<3.0.0,>=2.7.4->langchain-anthropic) (0.7.0)\n",
            "Requirement already satisfied: pydantic-core==2.33.2 in /usr/local/lib/python3.11/dist-packages (from pydantic<3.0.0,>=2.7.4->langchain-anthropic) (2.33.2)\n",
            "Requirement already satisfied: typing-inspection>=0.4.0 in /usr/local/lib/python3.11/dist-packages (from pydantic<3.0.0,>=2.7.4->langchain-anthropic) (0.4.1)\n",
            "Requirement already satisfied: torch>=1.11.0 in /usr/local/lib/python3.11/dist-packages (from sentence-transformers>=2.6.0->langchain-huggingface) (2.6.0+cu124)\n",
            "Requirement already satisfied: scikit-learn in /usr/local/lib/python3.11/dist-packages (from sentence-transformers>=2.6.0->langchain-huggingface) (1.6.1)\n",
            "Requirement already satisfied: scipy in /usr/local/lib/python3.11/dist-packages (from sentence-transformers>=2.6.0->langchain-huggingface) (1.15.3)\n",
            "Requirement already satisfied: Pillow in /usr/local/lib/python3.11/dist-packages (from sentence-transformers>=2.6.0->langchain-huggingface) (11.2.1)\n",
            "Requirement already satisfied: regex>=2022.1.18 in /usr/local/lib/python3.11/dist-packages (from tiktoken<1,>=0.7->langchain-openai) (2024.11.6)\n",
            "Requirement already satisfied: numpy>=1.17 in /usr/local/lib/python3.11/dist-packages (from transformers>=4.39.0->langchain-huggingface) (2.0.2)\n",
            "Requirement already satisfied: safetensors>=0.4.3 in /usr/local/lib/python3.11/dist-packages (from transformers>=4.39.0->langchain-huggingface) (0.5.3)\n",
            "Requirement already satisfied: idna>=2.8 in /usr/local/lib/python3.11/dist-packages (from anyio<5,>=3.5.0->anthropic<1,>=0.52.0->langchain-anthropic) (3.10)\n",
            "Requirement already satisfied: googleapis-common-protos<2.0.0,>=1.56.2 in /usr/local/lib/python3.11/dist-packages (from google-api-core!=2.0.*,!=2.1.*,!=2.10.*,!=2.2.*,!=2.3.*,!=2.4.*,!=2.5.*,!=2.6.*,!=2.7.*,!=2.8.*,!=2.9.*,<3.0.0,>=1.34.1->google-api-core[grpc]!=2.0.*,!=2.1.*,!=2.10.*,!=2.2.*,!=2.3.*,!=2.4.*,!=2.5.*,!=2.6.*,!=2.7.*,!=2.8.*,!=2.9.*,<3.0.0,>=1.34.1->google-ai-generativelanguage<0.7.0,>=0.6.18->langchain-google-genai) (1.70.0)\n",
            "Requirement already satisfied: grpcio<2.0dev,>=1.33.2 in /usr/local/lib/python3.11/dist-packages (from google-api-core[grpc]!=2.0.*,!=2.1.*,!=2.10.*,!=2.2.*,!=2.3.*,!=2.4.*,!=2.5.*,!=2.6.*,!=2.7.*,!=2.8.*,!=2.9.*,<3.0.0,>=1.34.1->google-ai-generativelanguage<0.7.0,>=0.6.18->langchain-google-genai) (1.71.0)\n",
            "Requirement already satisfied: grpcio-status<2.0.dev0,>=1.33.2 in /usr/local/lib/python3.11/dist-packages (from google-api-core[grpc]!=2.0.*,!=2.1.*,!=2.10.*,!=2.2.*,!=2.3.*,!=2.4.*,!=2.5.*,!=2.6.*,!=2.7.*,!=2.8.*,!=2.9.*,<3.0.0,>=1.34.1->google-ai-generativelanguage<0.7.0,>=0.6.18->langchain-google-genai) (1.71.0)\n",
            "Requirement already satisfied: cachetools<6.0,>=2.0.0 in /usr/local/lib/python3.11/dist-packages (from google-auth!=2.24.0,!=2.25.0,<3.0.0,>=2.14.1->google-ai-generativelanguage<0.7.0,>=0.6.18->langchain-google-genai) (5.5.2)\n",
            "Requirement already satisfied: pyasn1-modules>=0.2.1 in /usr/local/lib/python3.11/dist-packages (from google-auth!=2.24.0,!=2.25.0,<3.0.0,>=2.14.1->google-ai-generativelanguage<0.7.0,>=0.6.18->langchain-google-genai) (0.4.2)\n",
            "Requirement already satisfied: rsa<5,>=3.1.4 in /usr/local/lib/python3.11/dist-packages (from google-auth!=2.24.0,!=2.25.0,<3.0.0,>=2.14.1->google-ai-generativelanguage<0.7.0,>=0.6.18->langchain-google-genai) (4.9.1)\n",
            "Requirement already satisfied: certifi in /usr/local/lib/python3.11/dist-packages (from httpx<1,>=0.25.0->anthropic<1,>=0.52.0->langchain-anthropic) (2025.4.26)\n",
            "Requirement already satisfied: httpcore==1.* in /usr/local/lib/python3.11/dist-packages (from httpx<1,>=0.25.0->anthropic<1,>=0.52.0->langchain-anthropic) (1.0.9)\n",
            "Requirement already satisfied: h11>=0.16 in /usr/local/lib/python3.11/dist-packages (from httpcore==1.*->httpx<1,>=0.25.0->anthropic<1,>=0.52.0->langchain-anthropic) (0.16.0)\n",
            "Requirement already satisfied: jsonpointer>=1.9 in /usr/local/lib/python3.11/dist-packages (from jsonpatch<2.0,>=1.33->langchain-core<1.0.0,>=0.3.61->langchain-openai) (3.0.0)\n",
            "Requirement already satisfied: orjson<4.0.0,>=3.9.14 in /usr/local/lib/python3.11/dist-packages (from langsmith<0.4,>=0.1.126->langchain-core<1.0.0,>=0.3.61->langchain-openai) (3.10.18)\n",
            "Requirement already satisfied: requests-toolbelt<2.0.0,>=1.0.0 in /usr/local/lib/python3.11/dist-packages (from langsmith<0.4,>=0.1.126->langchain-core<1.0.0,>=0.3.61->langchain-openai) (1.0.0)\n",
            "Requirement already satisfied: zstandard<0.24.0,>=0.23.0 in /usr/local/lib/python3.11/dist-packages (from langsmith<0.4,>=0.1.126->langchain-core<1.0.0,>=0.3.61->langchain-openai) (0.23.0)\n",
            "Requirement already satisfied: charset-normalizer<4,>=2 in /usr/local/lib/python3.11/dist-packages (from requests->huggingface-hub>=0.30.2->langchain-huggingface) (3.4.2)\n",
            "Requirement already satisfied: urllib3<3,>=1.21.1 in /usr/local/lib/python3.11/dist-packages (from requests->huggingface-hub>=0.30.2->langchain-huggingface) (2.4.0)\n",
            "Requirement already satisfied: networkx in /usr/local/lib/python3.11/dist-packages (from torch>=1.11.0->sentence-transformers>=2.6.0->langchain-huggingface) (3.4.2)\n",
            "Requirement already satisfied: jinja2 in /usr/local/lib/python3.11/dist-packages (from torch>=1.11.0->sentence-transformers>=2.6.0->langchain-huggingface) (3.1.6)\n",
            "Collecting nvidia-cuda-nvrtc-cu12==12.4.127 (from torch>=1.11.0->sentence-transformers>=2.6.0->langchain-huggingface)\n",
            "  Downloading nvidia_cuda_nvrtc_cu12-12.4.127-py3-none-manylinux2014_x86_64.whl.metadata (1.5 kB)\n",
            "Collecting nvidia-cuda-runtime-cu12==12.4.127 (from torch>=1.11.0->sentence-transformers>=2.6.0->langchain-huggingface)\n",
            "  Downloading nvidia_cuda_runtime_cu12-12.4.127-py3-none-manylinux2014_x86_64.whl.metadata (1.5 kB)\n",
            "Collecting nvidia-cuda-cupti-cu12==12.4.127 (from torch>=1.11.0->sentence-transformers>=2.6.0->langchain-huggingface)\n",
            "  Downloading nvidia_cuda_cupti_cu12-12.4.127-py3-none-manylinux2014_x86_64.whl.metadata (1.6 kB)\n",
            "Collecting nvidia-cudnn-cu12==9.1.0.70 (from torch>=1.11.0->sentence-transformers>=2.6.0->langchain-huggingface)\n",
            "  Downloading nvidia_cudnn_cu12-9.1.0.70-py3-none-manylinux2014_x86_64.whl.metadata (1.6 kB)\n",
            "Collecting nvidia-cublas-cu12==12.4.5.8 (from torch>=1.11.0->sentence-transformers>=2.6.0->langchain-huggingface)\n",
            "  Downloading nvidia_cublas_cu12-12.4.5.8-py3-none-manylinux2014_x86_64.whl.metadata (1.5 kB)\n",
            "Collecting nvidia-cufft-cu12==11.2.1.3 (from torch>=1.11.0->sentence-transformers>=2.6.0->langchain-huggingface)\n",
            "  Downloading nvidia_cufft_cu12-11.2.1.3-py3-none-manylinux2014_x86_64.whl.metadata (1.5 kB)\n",
            "Collecting nvidia-curand-cu12==10.3.5.147 (from torch>=1.11.0->sentence-transformers>=2.6.0->langchain-huggingface)\n",
            "  Downloading nvidia_curand_cu12-10.3.5.147-py3-none-manylinux2014_x86_64.whl.metadata (1.5 kB)\n",
            "Collecting nvidia-cusolver-cu12==11.6.1.9 (from torch>=1.11.0->sentence-transformers>=2.6.0->langchain-huggingface)\n",
            "  Downloading nvidia_cusolver_cu12-11.6.1.9-py3-none-manylinux2014_x86_64.whl.metadata (1.6 kB)\n",
            "Collecting nvidia-cusparse-cu12==12.3.1.170 (from torch>=1.11.0->sentence-transformers>=2.6.0->langchain-huggingface)\n",
            "  Downloading nvidia_cusparse_cu12-12.3.1.170-py3-none-manylinux2014_x86_64.whl.metadata (1.6 kB)\n",
            "Requirement already satisfied: nvidia-cusparselt-cu12==0.6.2 in /usr/local/lib/python3.11/dist-packages (from torch>=1.11.0->sentence-transformers>=2.6.0->langchain-huggingface) (0.6.2)\n",
            "Requirement already satisfied: nvidia-nccl-cu12==2.21.5 in /usr/local/lib/python3.11/dist-packages (from torch>=1.11.0->sentence-transformers>=2.6.0->langchain-huggingface) (2.21.5)\n",
            "Requirement already satisfied: nvidia-nvtx-cu12==12.4.127 in /usr/local/lib/python3.11/dist-packages (from torch>=1.11.0->sentence-transformers>=2.6.0->langchain-huggingface) (12.4.127)\n",
            "Collecting nvidia-nvjitlink-cu12==12.4.127 (from torch>=1.11.0->sentence-transformers>=2.6.0->langchain-huggingface)\n",
            "  Downloading nvidia_nvjitlink_cu12-12.4.127-py3-none-manylinux2014_x86_64.whl.metadata (1.5 kB)\n",
            "Requirement already satisfied: triton==3.2.0 in /usr/local/lib/python3.11/dist-packages (from torch>=1.11.0->sentence-transformers>=2.6.0->langchain-huggingface) (3.2.0)\n",
            "Requirement already satisfied: sympy==1.13.1 in /usr/local/lib/python3.11/dist-packages (from torch>=1.11.0->sentence-transformers>=2.6.0->langchain-huggingface) (1.13.1)\n",
            "Requirement already satisfied: mpmath<1.4,>=1.1.0 in /usr/local/lib/python3.11/dist-packages (from sympy==1.13.1->torch>=1.11.0->sentence-transformers>=2.6.0->langchain-huggingface) (1.3.0)\n",
            "Requirement already satisfied: joblib>=1.2.0 in /usr/local/lib/python3.11/dist-packages (from scikit-learn->sentence-transformers>=2.6.0->langchain-huggingface) (1.5.0)\n",
            "Requirement already satisfied: threadpoolctl>=3.1.0 in /usr/local/lib/python3.11/dist-packages (from scikit-learn->sentence-transformers>=2.6.0->langchain-huggingface) (3.6.0)\n",
            "Requirement already satisfied: pyasn1<0.7.0,>=0.6.1 in /usr/local/lib/python3.11/dist-packages (from pyasn1-modules>=0.2.1->google-auth!=2.24.0,!=2.25.0,<3.0.0,>=2.14.1->google-ai-generativelanguage<0.7.0,>=0.6.18->langchain-google-genai) (0.6.1)\n",
            "Requirement already satisfied: MarkupSafe>=2.0 in /usr/local/lib/python3.11/dist-packages (from jinja2->torch>=1.11.0->sentence-transformers>=2.6.0->langchain-huggingface) (3.0.2)\n",
            "Downloading langchain_openai-0.3.18-py3-none-any.whl (63 kB)\n",
            "\u001b[2K   \u001b[90m━━━━━━━━━━━━━━━━━━━━━━━━━━━━━━━━━━━━━━━━\u001b[0m \u001b[32m63.4/63.4 kB\u001b[0m \u001b[31m1.6 MB/s\u001b[0m eta \u001b[36m0:00:00\u001b[0m\n",
            "\u001b[?25hDownloading langchain_groq-0.3.2-py3-none-any.whl (15 kB)\n",
            "Downloading langchain_anthropic-0.3.14-py3-none-any.whl (27 kB)\n",
            "Downloading langchain_google_genai-2.1.4-py3-none-any.whl (44 kB)\n",
            "\u001b[2K   \u001b[90m━━━━━━━━━━━━━━━━━━━━━━━━━━━━━━━━━━━━━━━━\u001b[0m \u001b[32m44.3/44.3 kB\u001b[0m \u001b[31m3.1 MB/s\u001b[0m eta \u001b[36m0:00:00\u001b[0m\n",
            "\u001b[?25hDownloading langchain_huggingface-0.2.0-py3-none-any.whl (27 kB)\n",
            "Downloading anthropic-0.52.0-py3-none-any.whl (286 kB)\n",
            "\u001b[2K   \u001b[90m━━━━━━━━━━━━━━━━━━━━━━━━━━━━━━━━━━━━━━━━\u001b[0m \u001b[32m286.1/286.1 kB\u001b[0m \u001b[31m14.2 MB/s\u001b[0m eta \u001b[36m0:00:00\u001b[0m\n",
            "\u001b[?25hDownloading filetype-1.2.0-py2.py3-none-any.whl (19 kB)\n",
            "Downloading google_ai_generativelanguage-0.6.18-py3-none-any.whl (1.4 MB)\n",
            "\u001b[2K   \u001b[90m━━━━━━━━━━━━━━━━━━━━━━━━━━━━━━━━━━━━━━━━\u001b[0m \u001b[32m1.4/1.4 MB\u001b[0m \u001b[31m34.7 MB/s\u001b[0m eta \u001b[36m0:00:00\u001b[0m\n",
            "\u001b[?25hDownloading groq-0.25.0-py3-none-any.whl (129 kB)\n",
            "\u001b[2K   \u001b[90m━━━━━━━━━━━━━━━━━━━━━━━━━━━━━━━━━━━━━━━━\u001b[0m \u001b[32m129.4/129.4 kB\u001b[0m \u001b[31m11.2 MB/s\u001b[0m eta \u001b[36m0:00:00\u001b[0m\n",
            "\u001b[?25hDownloading langchain_core-0.3.62-py3-none-any.whl (438 kB)\n",
            "\u001b[2K   \u001b[90m━━━━━━━━━━━━━━━━━━━━━━━━━━━━━━━━━━━━━━━━\u001b[0m \u001b[32m438.4/438.4 kB\u001b[0m \u001b[31m22.3 MB/s\u001b[0m eta \u001b[36m0:00:00\u001b[0m\n",
            "\u001b[?25hDownloading nvidia_cublas_cu12-12.4.5.8-py3-none-manylinux2014_x86_64.whl (363.4 MB)\n",
            "\u001b[2K   \u001b[90m━━━━━━━━━━━━━━━━━━━━━━━━━━━━━━━━━━━━━━━━\u001b[0m \u001b[32m363.4/363.4 MB\u001b[0m \u001b[31m4.2 MB/s\u001b[0m eta \u001b[36m0:00:00\u001b[0m\n",
            "\u001b[?25hDownloading nvidia_cuda_cupti_cu12-12.4.127-py3-none-manylinux2014_x86_64.whl (13.8 MB)\n",
            "\u001b[2K   \u001b[90m━━━━━━━━━━━━━━━━━━━━━━━━━━━━━━━━━━━━━━━━\u001b[0m \u001b[32m13.8/13.8 MB\u001b[0m \u001b[31m100.3 MB/s\u001b[0m eta \u001b[36m0:00:00\u001b[0m\n",
            "\u001b[?25hDownloading nvidia_cuda_nvrtc_cu12-12.4.127-py3-none-manylinux2014_x86_64.whl (24.6 MB)\n",
            "\u001b[2K   \u001b[90m━━━━━━━━━━━━━━━━━━━━━━━━━━━━━━━━━━━━━━━━\u001b[0m \u001b[32m24.6/24.6 MB\u001b[0m \u001b[31m79.0 MB/s\u001b[0m eta \u001b[36m0:00:00\u001b[0m\n",
            "\u001b[?25hDownloading nvidia_cuda_runtime_cu12-12.4.127-py3-none-manylinux2014_x86_64.whl (883 kB)\n",
            "\u001b[2K   \u001b[90m━━━━━━━━━━━━━━━━━━━━━━━━━━━━━━━━━━━━━━━━\u001b[0m \u001b[32m883.7/883.7 kB\u001b[0m \u001b[31m48.6 MB/s\u001b[0m eta \u001b[36m0:00:00\u001b[0m\n",
            "\u001b[?25hDownloading nvidia_cudnn_cu12-9.1.0.70-py3-none-manylinux2014_x86_64.whl (664.8 MB)\n",
            "\u001b[2K   \u001b[90m━━━━━━━━━━━━━━━━━━━━━━━━━━━━━━━━━━━━━━━━\u001b[0m \u001b[32m664.8/664.8 MB\u001b[0m \u001b[31m2.8 MB/s\u001b[0m eta \u001b[36m0:00:00\u001b[0m\n",
            "\u001b[?25hDownloading nvidia_cufft_cu12-11.2.1.3-py3-none-manylinux2014_x86_64.whl (211.5 MB)\n",
            "\u001b[2K   \u001b[90m━━━━━━━━━━━━━━━━━━━━━━━━━━━━━━━━━━━━━━━━\u001b[0m \u001b[32m211.5/211.5 MB\u001b[0m \u001b[31m5.5 MB/s\u001b[0m eta \u001b[36m0:00:00\u001b[0m\n",
            "\u001b[?25hDownloading nvidia_curand_cu12-10.3.5.147-py3-none-manylinux2014_x86_64.whl (56.3 MB)\n",
            "\u001b[2K   \u001b[90m━━━━━━━━━━━━━━━━━━━━━━━━━━━━━━━━━━━━━━━━\u001b[0m \u001b[32m56.3/56.3 MB\u001b[0m \u001b[31m16.4 MB/s\u001b[0m eta \u001b[36m0:00:00\u001b[0m\n",
            "\u001b[?25hDownloading nvidia_cusolver_cu12-11.6.1.9-py3-none-manylinux2014_x86_64.whl (127.9 MB)\n",
            "\u001b[2K   \u001b[90m━━━━━━━━━━━━━━━━━━━━━━━━━━━━━━━━━━━━━━━━\u001b[0m \u001b[32m127.9/127.9 MB\u001b[0m \u001b[31m7.5 MB/s\u001b[0m eta \u001b[36m0:00:00\u001b[0m\n",
            "\u001b[?25hDownloading nvidia_cusparse_cu12-12.3.1.170-py3-none-manylinux2014_x86_64.whl (207.5 MB)\n",
            "\u001b[2K   \u001b[90m━━━━━━━━━━━━━━━━━━━━━━━━━━━━━━━━━━━━━━━━\u001b[0m \u001b[32m207.5/207.5 MB\u001b[0m \u001b[31m5.4 MB/s\u001b[0m eta \u001b[36m0:00:00\u001b[0m\n",
            "\u001b[?25hDownloading nvidia_nvjitlink_cu12-12.4.127-py3-none-manylinux2014_x86_64.whl (21.1 MB)\n",
            "\u001b[2K   \u001b[90m━━━━━━━━━━━━━━━━━━━━━━━━━━━━━━━━━━━━━━━━\u001b[0m \u001b[32m21.1/21.1 MB\u001b[0m \u001b[31m71.7 MB/s\u001b[0m eta \u001b[36m0:00:00\u001b[0m\n",
            "\u001b[?25hInstalling collected packages: filetype, nvidia-nvjitlink-cu12, nvidia-curand-cu12, nvidia-cufft-cu12, nvidia-cuda-runtime-cu12, nvidia-cuda-nvrtc-cu12, nvidia-cuda-cupti-cu12, nvidia-cublas-cu12, nvidia-cusparse-cu12, nvidia-cudnn-cu12, nvidia-cusolver-cu12, groq, anthropic, langchain-core, langchain-openai, langchain-groq, langchain-anthropic, google-ai-generativelanguage, langchain-huggingface, langchain-google-genai\n",
            "  Attempting uninstall: nvidia-nvjitlink-cu12\n",
            "    Found existing installation: nvidia-nvjitlink-cu12 12.5.82\n",
            "    Uninstalling nvidia-nvjitlink-cu12-12.5.82:\n",
            "      Successfully uninstalled nvidia-nvjitlink-cu12-12.5.82\n",
            "  Attempting uninstall: nvidia-curand-cu12\n",
            "    Found existing installation: nvidia-curand-cu12 10.3.6.82\n",
            "    Uninstalling nvidia-curand-cu12-10.3.6.82:\n",
            "      Successfully uninstalled nvidia-curand-cu12-10.3.6.82\n",
            "  Attempting uninstall: nvidia-cufft-cu12\n",
            "    Found existing installation: nvidia-cufft-cu12 11.2.3.61\n",
            "    Uninstalling nvidia-cufft-cu12-11.2.3.61:\n",
            "      Successfully uninstalled nvidia-cufft-cu12-11.2.3.61\n",
            "  Attempting uninstall: nvidia-cuda-runtime-cu12\n",
            "    Found existing installation: nvidia-cuda-runtime-cu12 12.5.82\n",
            "    Uninstalling nvidia-cuda-runtime-cu12-12.5.82:\n",
            "      Successfully uninstalled nvidia-cuda-runtime-cu12-12.5.82\n",
            "  Attempting uninstall: nvidia-cuda-nvrtc-cu12\n",
            "    Found existing installation: nvidia-cuda-nvrtc-cu12 12.5.82\n",
            "    Uninstalling nvidia-cuda-nvrtc-cu12-12.5.82:\n",
            "      Successfully uninstalled nvidia-cuda-nvrtc-cu12-12.5.82\n",
            "  Attempting uninstall: nvidia-cuda-cupti-cu12\n",
            "    Found existing installation: nvidia-cuda-cupti-cu12 12.5.82\n",
            "    Uninstalling nvidia-cuda-cupti-cu12-12.5.82:\n",
            "      Successfully uninstalled nvidia-cuda-cupti-cu12-12.5.82\n",
            "  Attempting uninstall: nvidia-cublas-cu12\n",
            "    Found existing installation: nvidia-cublas-cu12 12.5.3.2\n",
            "    Uninstalling nvidia-cublas-cu12-12.5.3.2:\n",
            "      Successfully uninstalled nvidia-cublas-cu12-12.5.3.2\n",
            "  Attempting uninstall: nvidia-cusparse-cu12\n",
            "    Found existing installation: nvidia-cusparse-cu12 12.5.1.3\n",
            "    Uninstalling nvidia-cusparse-cu12-12.5.1.3:\n",
            "      Successfully uninstalled nvidia-cusparse-cu12-12.5.1.3\n",
            "  Attempting uninstall: nvidia-cudnn-cu12\n",
            "    Found existing installation: nvidia-cudnn-cu12 9.3.0.75\n",
            "    Uninstalling nvidia-cudnn-cu12-9.3.0.75:\n",
            "      Successfully uninstalled nvidia-cudnn-cu12-9.3.0.75\n",
            "  Attempting uninstall: nvidia-cusolver-cu12\n",
            "    Found existing installation: nvidia-cusolver-cu12 11.6.3.83\n",
            "    Uninstalling nvidia-cusolver-cu12-11.6.3.83:\n",
            "      Successfully uninstalled nvidia-cusolver-cu12-11.6.3.83\n",
            "  Attempting uninstall: langchain-core\n",
            "    Found existing installation: langchain-core 0.3.60\n",
            "    Uninstalling langchain-core-0.3.60:\n",
            "      Successfully uninstalled langchain-core-0.3.60\n",
            "  Attempting uninstall: google-ai-generativelanguage\n",
            "    Found existing installation: google-ai-generativelanguage 0.6.15\n",
            "    Uninstalling google-ai-generativelanguage-0.6.15:\n",
            "      Successfully uninstalled google-ai-generativelanguage-0.6.15\n",
            "\u001b[31mERROR: pip's dependency resolver does not currently take into account all the packages that are installed. This behaviour is the source of the following dependency conflicts.\n",
            "google-generativeai 0.8.5 requires google-ai-generativelanguage==0.6.15, but you have google-ai-generativelanguage 0.6.18 which is incompatible.\u001b[0m\u001b[31m\n",
            "\u001b[0mSuccessfully installed anthropic-0.52.0 filetype-1.2.0 google-ai-generativelanguage-0.6.18 groq-0.25.0 langchain-anthropic-0.3.14 langchain-core-0.3.62 langchain-google-genai-2.1.4 langchain-groq-0.3.2 langchain-huggingface-0.2.0 langchain-openai-0.3.18 nvidia-cublas-cu12-12.4.5.8 nvidia-cuda-cupti-cu12-12.4.127 nvidia-cuda-nvrtc-cu12-12.4.127 nvidia-cuda-runtime-cu12-12.4.127 nvidia-cudnn-cu12-9.1.0.70 nvidia-cufft-cu12-11.2.1.3 nvidia-curand-cu12-10.3.5.147 nvidia-cusolver-cu12-11.6.1.9 nvidia-cusparse-cu12-12.3.1.170 nvidia-nvjitlink-cu12-12.4.127\n"
          ]
        },
        {
          "output_type": "display_data",
          "data": {
            "application/vnd.colab-display-data+json": {
              "pip_warning": {
                "packages": [
                  "google"
                ]
              },
              "id": "e5853b0573644ce2a07d42fa82d3cb60"
            }
          },
          "metadata": {}
        }
      ],
      "source": [
        "!pip install langchain-graph-retriever graph_rag_example_helpers transformers grandalf\n",
        "!pip install langchain-openai langchain-groq langchain-anthropic langchain-google-genai langchain-huggingface"
      ]
    },
    {
      "cell_type": "code",
      "source": [
        "from langchain_openai import ChatOpenAI, OpenAIEmbeddings\n",
        "from langchain_anthropic import ChatAnthropic\n",
        "from langchain_google_genai import ChatGoogleGenerativeAI, GoogleGenerativeAIEmbeddings\n",
        "from langchain_groq import ChatGroq\n",
        "from langchain_huggingface import HuggingFaceEmbeddings, ChatHuggingFace, HuggingFacePipeline,HuggingFaceEndpoint\n",
        "\n",
        "from graph_rag_example_helpers.datasets.animals import fetch_documents\n",
        "from graph_retriever.strategies import Eager\n",
        "from langchain_graph_retriever import GraphRetriever\n",
        "\n",
        "from langchain_core.output_parsers import StrOutputParser\n",
        "from langchain_core.prompts import ChatPromptTemplate\n",
        "from langchain_core.runnables import RunnablePassthrough\n",
        "\n",
        "from langchain_core.vectorstores import InMemoryVectorStore\n",
        "from langchain_core.messages import (\n",
        "    HumanMessage,\n",
        "    SystemMessage,\n",
        ")\n",
        "# from lanchain_core.output_parse\n",
        "\n",
        "import os\n",
        "from google.colab import userdata\n",
        "\n",
        "os.environ[\"GROQ_API_KEY\"]=userdata.get('GROQ_API_KEY')\n",
        "os.environ[\"GOOGLE_API_KEY\"]=userdata.get('GOOGLE_API_KEY')\n",
        "os.environ[\"OPENAI_API_KEY\"]=userdata.get('OPENAI_API_KEY')\n",
        "os.environ[\"ANTHROPIC_API_KEY\"]=userdata.get('ANTHROPIC_API_KEY')\n",
        "# os.environ[\"HUGGINGFACEHUB_API_TOKEN\"]=userdata.get('HUGGINGFACE_API_KEY')\n",
        "os.environ[\"HF_TOKEN\"]=userdata.get('HUGGINGFACE_API_KEY')\n",
        "# from huggingface_hub import login\n",
        "# login(token=os.environ[\"HF_TOKEN\"])\n"
      ],
      "metadata": {
        "id": "nj05xJxqLcAW"
      },
      "execution_count": 1,
      "outputs": []
    },
    {
      "cell_type": "markdown",
      "source": [
        "# Model loading"
      ],
      "metadata": {
        "id": "DSHB5G2k8boG"
      }
    },
    {
      "cell_type": "markdown",
      "source": [
        "## Chat Model"
      ],
      "metadata": {
        "id": "D_sW3-Ei79mG"
      }
    },
    {
      "cell_type": "code",
      "source": [
        "#@markdown ### Google GenAI\n",
        "\n",
        "model_name = \"gemini-1.5-flash\" # @param [\"gemini-1.5-flash\",\"gemini-1.5-flash-8b\",\"gemini-1.5-pro\",\"gemini-2.0-flash-lite\",\"gemini-2.0-flash\"] {\"allow-input\":true}\n",
        "\n",
        "gemini_model = ChatGoogleGenerativeAI(model=model_name)\n",
        "gemini_model.invoke(\"Hi How are you?\")"
      ],
      "metadata": {
        "id": "Fx01kgSQTeTk",
        "colab": {
          "base_uri": "https://localhost:8080/"
        },
        "outputId": "c1941775-c632-4c9e-f19c-0a1058cc2b77"
      },
      "execution_count": 4,
      "outputs": [
        {
          "output_type": "execute_result",
          "data": {
            "text/plain": [
              "AIMessage(content=\"I'm doing well, thank you for asking!  How are you today?\", additional_kwargs={}, response_metadata={'prompt_feedback': {'block_reason': 0, 'safety_ratings': []}, 'finish_reason': 'STOP', 'model_name': 'gemini-1.5-flash', 'safety_ratings': []}, id='run--eb3e338e-00e0-4184-924d-7e2c8e7aacf3-0', usage_metadata={'input_tokens': 5, 'output_tokens': 18, 'total_tokens': 23, 'input_token_details': {'cache_read': 0}})"
            ]
          },
          "metadata": {},
          "execution_count": 4
        }
      ]
    },
    {
      "cell_type": "code",
      "source": [
        "#@markdown ### Groq Model\n",
        "\n",
        "model_name = \"llama3-70b-8192\" # @param [\"deepseek-r1-distill-llama-70b\",\"allam-2-7b\",\"meta-llama/llama-4-maverick-17b-128e-instruct\",\"meta-llama/llama-4-scout-17b-16e-instruct\",\"meta-llama/Llama-Guard-4-12B\",\"mistral-saba-24b\",\"playai-tts\",\"playai-tts-arabic\",\"qwen-qwq-32b\",\"llama3-8b-8192\",\"llama3-70b-8192\"] {\"allow-input\":true}\n",
        "groq_model =ChatGroq(model=model_name)\n",
        "groq_model.invoke(\"Hi How are you?\")"
      ],
      "metadata": {
        "id": "zWMcWKv8eCQp",
        "colab": {
          "base_uri": "https://localhost:8080/"
        },
        "outputId": "569b1823-7697-46e4-a9a5-265379dd5c24"
      },
      "execution_count": 5,
      "outputs": [
        {
          "output_type": "execute_result",
          "data": {
            "text/plain": [
              "AIMessage(content=\"I'm just a language model, I don't have emotions or personal experiences, but I'm functioning properly and ready to assist you with any questions or topics you'd like to discuss. How can I help you today?\", additional_kwargs={}, response_metadata={'token_usage': {'completion_tokens': 45, 'prompt_tokens': 15, 'total_tokens': 60, 'completion_time': 0.128571429, 'prompt_time': 0.000189919, 'queue_time': 0.22068280199999998, 'total_time': 0.128761348}, 'model_name': 'llama3-70b-8192', 'system_fingerprint': 'fp_dd4ae1c591', 'finish_reason': 'stop', 'logprobs': None}, id='run--95b3cc47-e2e5-421a-a608-ac71dd14ba2d-0', usage_metadata={'input_tokens': 15, 'output_tokens': 45, 'total_tokens': 60})"
            ]
          },
          "metadata": {},
          "execution_count": 5
        }
      ]
    },
    {
      "cell_type": "code",
      "source": [
        "#@markdown ### OpenAI model\n",
        "\n",
        "model_name = \"o3\" # @param [\"o4-mini\",\"o3\",\"o3-mini\",\"o1\",\"o1-pro\",\"gpt-4o\",\"gpt-4.1\",\"gpt-4o-mini\",\"chatgpt-4o-latest\",\"gpt-4.1-mini\",\"gpt-4.1-nano\"] {\"allow-input\":true}\n",
        "openai_model = ChatOpenAI(model=model_name)\n",
        "openai_model.invoke(\"Hi How are you?\")"
      ],
      "metadata": {
        "id": "k0O0bFZxeQrT",
        "colab": {
          "base_uri": "https://localhost:8080/"
        },
        "outputId": "7734cdd1-1b06-4aec-dc48-aa47ddb8bb8d"
      },
      "execution_count": 6,
      "outputs": [
        {
          "output_type": "execute_result",
          "data": {
            "text/plain": [
              "AIMessage(content='Hello! I’m doing well, thank you for asking. How can I help you today?', additional_kwargs={'refusal': None}, response_metadata={'token_usage': {'completion_tokens': 101, 'prompt_tokens': 11, 'total_tokens': 112, 'completion_tokens_details': {'accepted_prediction_tokens': 0, 'audio_tokens': 0, 'reasoning_tokens': 64, 'rejected_prediction_tokens': 0}, 'prompt_tokens_details': {'audio_tokens': 0, 'cached_tokens': 0}}, 'model_name': 'o3-2025-04-16', 'system_fingerprint': None, 'id': 'chatcmpl-Bc6Lehr6rKZWMqsKhkSzD2CNQ03sh', 'service_tier': 'default', 'finish_reason': 'stop', 'logprobs': None}, id='run--f8675d44-5b95-44c3-964f-d521edbaf8bc-0', usage_metadata={'input_tokens': 11, 'output_tokens': 101, 'total_tokens': 112, 'input_token_details': {'audio': 0, 'cache_read': 0}, 'output_token_details': {'audio': 0, 'reasoning': 64}})"
            ]
          },
          "metadata": {},
          "execution_count": 6
        }
      ]
    },
    {
      "cell_type": "code",
      "source": [
        "#@markdown ### Anthropic AI\n",
        "\n",
        "model_name = \"claude-3-opus-latest\" # @param [\"claude-2\",\"claude-3-5-sonnet-latest\",\"claude-3-opus-latest\",\"claude-3-5-haiku-latest\",\"claude-3-7-sonnet-latest\"] {\"allow-input\":true}\n",
        "claude_model = ChatAnthropic(model=model_name)\n",
        "claude_model.invoke(\"Hi How are you?\")"
      ],
      "metadata": {
        "id": "fekGPHO0bUG5",
        "colab": {
          "base_uri": "https://localhost:8080/"
        },
        "outputId": "f9aa2b9e-a359-4d77-8e46-4c728761fe39"
      },
      "execution_count": 7,
      "outputs": [
        {
          "output_type": "execute_result",
          "data": {
            "text/plain": [
              "AIMessage(content=\"Hello! As an AI language model, I don't have feelings, but I'm functioning properly and ready to assist you. How can I help you today?\", additional_kwargs={}, response_metadata={'id': 'msg_01A3aefD6XCokJ5k6ZqBf915', 'model': 'claude-3-opus-20240229', 'stop_reason': 'end_turn', 'stop_sequence': None, 'usage': {'cache_creation_input_tokens': 0, 'cache_read_input_tokens': 0, 'input_tokens': 12, 'output_tokens': 35, 'server_tool_use': None, 'service_tier': 'standard'}, 'model_name': 'claude-3-opus-20240229'}, id='run--16f0c957-a290-4a60-87c6-505e7ee5bb1f-0', usage_metadata={'input_tokens': 12, 'output_tokens': 35, 'total_tokens': 47, 'input_token_details': {'cache_read': 0, 'cache_creation': 0}})"
            ]
          },
          "metadata": {},
          "execution_count": 7
        }
      ]
    },
    {
      "cell_type": "code",
      "source": [
        "# del llm"
      ],
      "metadata": {
        "id": "eTEvo5KYJ4KD"
      },
      "execution_count": null,
      "outputs": []
    },
    {
      "cell_type": "code",
      "source": [
        "# # llm = HuggingFacePipeline.from_model_id(\n",
        "# #     model_id='TinyLlama/TinyLlama-1.1B-Chat-v1.0',\n",
        "# #     task='text-generation',\n",
        "# #     pipeline_kwargs={\n",
        "# #         \"do_sample\": False,\n",
        "# #         \"max_new_tokens\":100\n",
        "# #         }\n",
        "# # )\n",
        "\n",
        "# llm = HuggingFaceEndpoint(\n",
        "#     repo_id=\"TinyLlama/TinyLlama-1.1B-Chat-v1.0\",\n",
        "#     task=\"text-generation\",\n",
        "#     max_new_tokens=512,\n",
        "#     do_sample=False,\n",
        "#     repetition_penalty=1.03,\n",
        "# )\n",
        "# messages = [\n",
        "#     SystemMessage(content=\"You're a helpful assistant\"),\n",
        "#     HumanMessage(\n",
        "#         content=\"Hi I am Lokesh\"\n",
        "#     ),\n",
        "# ]\n",
        "\n",
        "# model = ChatHuggingFace(llm=llm)\n",
        "# model.invoke(messages)\n"
      ],
      "metadata": {
        "id": "IgmG5tFwecH1"
      },
      "execution_count": null,
      "outputs": []
    },
    {
      "cell_type": "markdown",
      "source": [
        "##Embeding Model"
      ],
      "metadata": {
        "id": "tMWLHLX98BmK"
      }
    },
    {
      "cell_type": "code",
      "source": [
        "# @markdown # OpenAI\n",
        "\n",
        "embedding_model = \"text-embedding-3-large\" # @param [\"text-embedding-3-large\",\"text-embedding-3-small\",\"text-embedding-ada-002\"]\n",
        "dimensions = 128 #@param {type:\"integer\"}\n",
        "set_dimension = True # @param {type:\"boolean\"}\n",
        "query = \"India is a growing country\" # @param {\"type\":\"string\",\"placeholder\":\"India is a growing country\"}\n",
        "\n",
        "if set_dimension:\n",
        "  openai_embedding = OpenAIEmbeddings(\n",
        "      model=embedding_model,\n",
        "      dimensions=dimensions,\n",
        "  )\n",
        "else:\n",
        "  openai_embedding = OpenAIEmbeddings(\n",
        "      model=embedding_model,\n",
        "  )\n",
        "\n",
        "result = openai_embedding.embed_query(query)\n",
        "print(len(result),result)"
      ],
      "metadata": {
        "id": "EMOwYZgO8DuK",
        "colab": {
          "base_uri": "https://localhost:8080/"
        },
        "outputId": "8243dad5-d0bb-408f-ce70-59d86d7756f0"
      },
      "execution_count": 43,
      "outputs": [
        {
          "output_type": "stream",
          "name": "stdout",
          "text": [
            "128 [-0.15703527629375458, 0.1968393623828888, -0.013897349126636982, 0.03334273397922516, 0.005019812379032373, 0.001335038454271853, -0.11188763380050659, 0.06423179060220718, 0.022900978103280067, -0.08653298020362854, 0.0598151721060276, -0.03255210444331169, 0.08069868385791779, -0.07344670593738556, -0.0737193375825882, 0.010571255348622799, 0.06297768652439117, -0.14602099359035492, -0.02182408608496189, -0.07704543322324753, -0.14056839048862457, -0.08200731128454208, 0.032006844878196716, -0.12639158964157104, -0.15245507657527924, 0.06401368975639343, -0.02585902065038681, 0.0024656038731336594, -0.10992469638586044, 0.09329422563314438, 0.06706714630126953, 0.009944204241037369, 0.04356638342142105, -0.03857724368572235, -0.022451138123869896, 0.19618503749370575, -0.0173393115401268, -0.038822609931230545, -0.053217511624097824, -0.059324439615011215, -0.005176575388759375, 0.01108925323933363, -0.07988078892230988, 0.28724369406700134, 0.13358904421329498, 0.007504159584641457, -0.020760826766490936, -0.10321798175573349, -0.06074211746454239, -0.014531215652823448, -0.18102677166461945, 0.06395915895700455, -0.01976572535932064, 0.03549651429057121, -0.07829953730106354, 0.025531863793730736, -0.010073703713715076, 0.06259600818157196, -0.02783559262752533, -0.11341436952352524, -0.07666374742984772, -0.033833470195531845, -0.012227486819028854, 0.13467955589294434, -0.14274942874908447, -0.11417773365974426, -0.015553580597043037, -0.10310892760753632, -0.0268813855946064, 0.06434084475040436, -0.027344858273863792, 0.04555658996105194, 0.06995703279972076, -0.09923756867647171, 0.09340327233076096, -0.12312001734972, 0.03950418531894684, 0.031161688268184662, 0.07322860509157181, 0.04321196302771568, 0.11450488865375519, -0.003878171555697918, 0.19182296097278595, -0.09994640946388245, -0.021565087139606476, 0.03170694783329964, 0.07077492773532867, -0.20065619051456451, -0.011361883953213692, 0.05768865346908569, 0.05774318054318428, 0.034624096006155014, -0.07775427401065826, 0.027017701417207718, -0.020951667800545692, 0.061232853680849075, 0.04075828939676285, -0.08255257457494736, 0.023459870368242264, 0.1079617515206337, -0.023841554298996925, -0.04127628728747368, -0.046319954097270966, -0.06886651366949081, -0.041548918932676315, -0.017202995717525482, -0.15616285800933838, 0.034487783908843994, -0.1222475990653038, -0.03939513489603996, -0.03454230725765228, -0.018538886681199074, 0.06995703279972076, 0.1829897165298462, -0.11461394280195236, 0.28898853063583374, -0.03996765986084938, -0.07224713265895844, 0.009576153010129929, 0.17175734043121338, -0.002549096941947937, -0.06510420888662338, 0.07579132914543152, 0.09858325868844986, 0.026976807042956352, 0.0059876516461372375, -0.07611849159002304, 0.007490528281778097]\n"
          ]
        }
      ]
    },
    {
      "cell_type": "code",
      "source": [
        "# @markdown # Google GenAi\n",
        "\n",
        "embedding_model = \"models/gemini-embedding-exp-03-07\" # @param [\"models/gemini-embedding-exp-03-07\",\"models/text-embedding-004\",\"models/embedding-001\"]\n",
        "task_type = \"retrieval_query\" # @param [\"None\",\"task_type_unspecified\",\"retrieval_query\",\"retrieval_document\",\"semantic_similarity\",\"classification\",\"clustering\"]\n",
        "transport = \"None\" # @param [\"None\",\"rest\",\"grpc\",\"grpc_asyncio\"]\n",
        "query = \"India is a growing country\" # @param {\"type\":\"string\",\"placeholder\":\"India is a growing country\"}\n",
        "\n",
        "func = lambda x : None if x==\"None\" else x\n",
        "task_type = func(task_type)\n",
        "transport = func(transport)\n",
        "\n",
        "google_embedding = GoogleGenerativeAIEmbeddings(\n",
        "    model=embedding_model,\n",
        "    task_type=task_type,\n",
        "    transport=transport\n",
        ")\n",
        "\n",
        "result = google_embedding.embed_query(query)\n",
        "print(len(result),result)\n"
      ],
      "metadata": {
        "id": "z0xAC56Z8QEC",
        "colab": {
          "base_uri": "https://localhost:8080/"
        },
        "outputId": "8ea6e0f3-65f0-45c7-ecf3-6463fdf2cb6a"
      },
      "execution_count": 9,
      "outputs": [
        {
          "output_type": "stream",
          "name": "stdout",
          "text": [
            "3072 [-0.01328858733177185, -0.008076989091932774, -0.02803654596209526, -0.0385795421898365, -0.0012177267344668508, -0.009753282181918621, 0.018366066738963127, 0.0390302836894989, 0.005043548997491598, -0.023734668269753456, -0.011821064166724682, 0.006893169600516558, 0.019229836761951447, 0.03314683958888054, 0.11351391673088074, 0.020717905834317207, 0.0073205651715397835, -0.019075468182563782, 0.006459957454353571, -0.0205469261854887, -0.003892261302098632, 0.01249883696436882, 0.01834138110280037, 0.004717701114714146, -0.005373682361096144, -0.0032776377629488707, 0.006898732855916023, 0.02193414606153965, 0.021265285089612007, 0.014482101425528526, 0.005145769566297531, -0.027150483801960945, 0.023643454536795616, 0.012725071050226688, 0.017535502091050148, 0.015545469708740711, 0.022201204672455788, 0.0026000298094004393, 0.02127012610435486, 0.005257639102637768, -0.02616986259818077, 0.009095565415918827, -0.022166412323713303, -0.007171641103923321, -0.028205083683133125, -0.009816399775445461, -0.013868274167180061, -0.0021237717010080814, -0.00363388704136014, 0.014518032781779766, -0.008481813594698906, -0.0129407849162817, -0.030563408508896828, -0.16161364316940308, -0.00013045463128946722, 0.010254891589283943, -0.003525951411575079, -0.005071470979601145, 0.02015729807317257, 0.000320611143251881, -0.008248499594628811, 0.01632642187178135, -0.0036300814244896173, 0.013907567597925663, 0.002236715517938137, -0.012520856224000454, 0.014694290235638618, -0.02716130204498768, -0.0030767086427658796, 0.017162470147013664, 0.03978263586759567, 0.008536068722605705, 0.011873491108417511, -0.0011896451469510794, -0.007652594242244959, -0.007194088771939278, 0.0008688752423040569, 0.010223313234746456, -0.006604047026485205, 0.05249914154410362, -0.02720547467470169, -0.008542787283658981, -0.008755945600569248, -0.0224667526781559, -0.007026237901300192, -0.023030972108244896, -0.016797348856925964, -0.014020211063325405, -0.026935499161481857, -0.0015378773678094149, 0.002020171843469143, 0.003660211805254221, 0.000308151647914201, -0.004498661961406469, -0.010725809261202812, 0.027641596272587776, -0.039983220398426056, 0.008669508621096611, 0.02008422464132309, -0.0029375043231993914, 0.016934974119067192, -0.006346066482365131, 0.011027980595827103, -0.006908406503498554, -0.008716331794857979, 0.007638164795935154, 0.013640833087265491, 0.00021102986647747457, 0.02662036009132862, 0.02476804330945015, 0.0017494743224233389, 0.0012057898566126823, -0.010028357617557049, 0.020040303468704224, -0.005316232331097126, -0.1729799509048462, -0.001118279411457479, 0.023696739226579666, 0.009850597940385342, 0.012775289826095104, 0.0015446918550878763, 0.009080201387405396, -0.004664798732846975, 0.021889563649892807, 0.0021150754764676094, 0.009001697413623333, 0.005126600153744221, 0.025885142385959625, -0.01286401692777872, 0.0215202234685421, -0.013138740323483944, -0.004653527867048979, -0.007690559606999159, -0.002446215832605958, 0.009388744831085205, 0.017057884484529495, 0.02007322944700718, -0.01612553559243679, 0.01779586263000965, -0.04356278106570244, -0.005822404287755489, 0.00584682310000062, -0.010354278609156609, -0.003033964429050684, 0.014901647344231606, -0.026056863367557526, 0.010833218693733215, -0.003392668440937996, 0.01776634156703949, -0.004775885958224535, 0.013060222379863262, 0.01801242120563984, 0.022511370480060577, 0.005569703411310911, -0.016939904540777206, -0.015604627318680286, 0.011984610930085182, 0.006109213922172785, 0.0007568472647108138, 0.0007346800994127989, 1.3178240806155372e-05, -0.005773508921265602, -0.0057408371940255165, 0.029451772570610046, 0.009471258148550987, 0.00675201416015625, -0.035964950919151306, 0.027263598516583443, 0.030009020119905472, 0.011075926944613457, -0.009842092171311378, -0.004086132626980543, 0.013223040848970413, 0.013967524282634258, -0.005430908408015966, -0.00701926788315177, -0.002991889137774706, 0.011471616104245186, 0.012308084405958652, -0.017933743074536324, -0.007461375091224909, -0.007117716129869223, 0.0061567616648972034, 0.004008299671113491, 0.027051839977502823, -0.014606441371142864, -0.006023608148097992, 0.024581369012594223, -0.005047841463238001, 0.017041459679603577, 0.009725897572934628, -0.012158689089119434, -0.010167291387915611, 0.01833183690905571, 0.008918344974517822, -0.007445288356393576, -0.004829488694667816, -0.005451180972158909, 0.021369358524680138, -0.010841966606676579, 0.004771878477185965, -0.01536942832171917, 0.0019211956532672048, -0.040554966777563095, 0.02200292982161045, -0.00141267164144665, -0.0030087961349636316, 0.011986348778009415, -0.005316930823028088, 0.003230549395084381, 0.011558122001588345, -0.016957156360149384, 0.0032684672623872757, -0.02911391295492649, 0.010184552520513535, 0.028007997199892998, 0.019913680851459503, -0.003779997583478689, 0.007493571378290653, -0.0032305074855685234, 0.004747293423861265, -0.0006689053261652589, -0.017515406012535095, -0.007237907964736223, -0.03203301504254341, 0.004186207428574562, 0.007935373112559319, 0.004376985598355532, -0.0072417110204696655, -0.005618639290332794, 0.0005628494545817375, -0.01893950067460537, -0.008714668452739716, 0.021415019407868385, 0.007415829226374626, 0.01574568636715412, 0.0020907940343022346, 0.004538604058325291, -0.005613327957689762, 0.005402945913374424, -0.0005990678328089416, 0.0096841249614954, -0.0005873253685422242, -0.007221763487905264, -0.01987713761627674, 0.009963876567780972, 0.0102542070671916, -0.011801251210272312, -0.004612331744283438, -0.0033667890820652246, -0.017371155321598053, -0.005380946211516857, 0.0019039734033867717, -0.013756928965449333, -0.013157353736460209, -0.007344068493694067, 0.00641285814344883, -0.006528493016958237, 0.013233501464128494, -0.010545504279434681, 0.03203568235039711, 0.00027929586940445006, -0.011440623551607132, 0.010218425653874874, -0.02321087196469307, 0.009720535948872566, -0.018735071644186974, 0.0008710568654350936, -0.0058290595188736916, 0.003551002824679017, 0.02016921155154705, 0.0010876379674300551, -0.027063217014074326, 0.005553065333515406, 0.006464877165853977, 0.00749899772927165, -0.10462263971567154, -0.017483368515968323, -0.015061816200613976, -0.018675850704312325, -0.008898206055164337, 0.006106674205511808, -0.00027126900386065245, -0.009967370890080929, 0.013854856602847576, -0.0028792161028832197, 0.004857202991843224, -0.03870219364762306, 0.02305835485458374, -0.001044764881953597, 0.0026640358846634626, -0.003949160221964121, 0.011039276607334614, -0.02238893322646618, 0.019215410575270653, -0.003433150239288807, 0.008415354415774345, -0.024734986945986748, -0.016157107427716255, -0.033389583230018616, 0.0015876912511885166, -0.02166362851858139, 0.006787093356251717, 0.02423846535384655, 0.012233495712280273, 0.007516331505030394, 0.003762052161619067, 0.001421425142325461, -0.008626443333923817, -0.017286352813243866, 0.0005761257489211857, 0.016438130289316177, 0.005258513614535332, -0.002808360615745187, 0.011932657100260258, -0.0015924813924357295, -0.01784755289554596, -0.0008568678167648613, 0.0058567882515490055, 0.007032514549791813, -0.01029953546822071, 0.0068122027441859245, 0.016625018790364265, 0.005658837500959635, -0.03484586253762245, 0.004347261041402817, -0.009011661633849144, 0.014271852560341358, 0.01746724359691143, -0.027600325644016266, -0.011917353607714176, -0.019400212913751602, 0.013688918203115463, -0.012054309248924255, -0.015026874840259552, 0.02563525177538395, 0.0207963977009058, 0.012762758880853653, 0.025196097791194916, 0.022890936583280563, -0.0034276004880666733, -0.007387765683233738, 0.01176832988858223, 0.004306682851165533, 0.018149549141526222, -0.014347770251333714, 0.0011797891929745674, -0.03418947011232376, -0.015698017552495003, -0.02022680640220642, 0.020329689607024193, 0.026210149750113487, -0.007637994829565287, -0.004439729265868664, -0.01937456801533699, 0.02001914568245411, 0.012015653774142265, -0.00273223128169775, -0.0171341672539711, -0.029504980891942978, 0.010965420864522457, -0.0026978219393640757, -0.004007942508906126, 0.013661948032677174, 0.011280725710093975, -0.027947017922997475, 0.0026866968255490065, -0.0044016302563250065, 0.005154501646757126, 0.021115565672516823, 0.012378512881696224, -0.03470443934202194, 0.002687624655663967, 0.008444366045296192, 0.01721627078950405, -0.004192827735096216, 0.028254201635718346, 0.0047379727475345135, 0.004425984341651201, -0.016044648364186287, -0.009902129881083965, 0.004982952959835529, 0.001839779200963676, 0.002410158747807145, -0.025146108120679855, 0.0039494093507528305, 0.018323805183172226, -6.331028998829424e-05, -0.02706882171332836, 0.00947005394846201, -0.015696292743086815, 0.005258192308247089, 0.001486025983467698, 0.0074331071227788925, -0.00814251508563757, -0.0019101533107459545, -0.0008601164445281029, -0.014394747093319893, -0.024475831538438797, -0.010162217542529106, -0.011837058700621128, 0.00260562589392066, -0.006542458664625883, 0.0018276824848726392, 0.02373342774808407, -0.012077194638550282, -0.013622510246932507, -0.01414803508669138, -0.009060469456017017, 0.014645912684500217, 0.019193386659026146, -0.010457796044647694, 0.02766517549753189, -4.307894050725736e-05, 0.0081464983522892, 0.014720146544277668, -0.0013719691196456552, -0.0003253570175729692, -0.0038764376658946276, -0.0010302538285031915, 0.006728939712047577, -0.003243714338168502, 0.0037410028744488955, 0.02397567592561245, -0.036909107118844986, -0.052270159125328064, -0.0050603775307536125, -0.016918903216719627, 0.0013149197911843657, 0.01762070320546627, -0.014276213012635708, -0.016231177374720573, -0.0239238478243351, 0.010637004859745502, 0.024114936590194702, -0.000958852528128773, -0.011494380421936512, 0.006723067257553339, -0.017161644995212555, -0.021848348900675774, 0.012520384043455124, 0.03133997321128845, 0.005922100506722927, -0.0010543587850406766, 0.011450430378317833, 0.004480584058910608, -0.026533450931310654, 0.00996390450745821, 0.0066037867218256, -0.012916270643472672, -0.010910965502262115, 0.0066541098058223724, 0.002415962517261505, -0.008300118148326874, -0.00542700057849288, -0.0036218289751559496, -0.022138280794024467, 0.008680958300828934, -0.016180770471692085, 0.005901570897549391, -0.009499143809080124, -0.03682234510779381, -0.003500863444060087, 0.014422590844333172, -0.005550962407141924, 0.0009487607167102396, 0.009545882232487202, -0.006882570218294859, 0.011903900653123856, 0.028826549649238586, -0.0013902389910072088, 0.00026085827266797423, -0.011553093791007996, -0.018907060846686363, 0.012374537996947765, -0.006712971720844507, 0.004027099814265966, -0.012835266068577766, 0.011239612475037575, -0.02201913297176361, -0.003912024199962616, 0.02954147756099701, 0.03763280436396599, -0.017041103914380074, 0.0014771586284041405, 0.030036956071853638, -0.0148527966812253, 0.010300871916115284, -0.009595811367034912, 0.02844923920929432, 0.010783259756863117, 0.04309343546628952, -0.00353330303914845, 0.022411255165934563, 0.014991506934165955, -0.004550333134829998, -0.020099451765418053, -0.03624674305319786, 0.0007640434196218848, 0.008924929425120354, 0.02260611020028591, 0.006523012183606625, 0.007508858572691679, -0.01289471797645092, 0.0037648987490683794, 0.0010571889579296112, 0.01962236315011978, 0.014318239875137806, -0.006821987219154835, -0.004595195408910513, -0.03598346933722496, 0.007755048107355833, -0.0049430252984166145, 0.01730780489742756, -0.02996545284986496, -0.009809802286326885, -0.03953634575009346, -0.021993208676576614, 0.01781483180820942, -0.004618403967469931, 0.00497483229264617, -0.0037403141614049673, -0.0024006948806345463, -0.014433327130973339, -0.0021481961011886597, 0.02964198589324951, 0.014213464222848415, 0.014412649907171726, 0.011648689396679401, 0.0010990963783115149, -0.01020006276667118, 0.047519877552986145, 0.004143726546317339, 0.01015120092779398, -0.011310561560094357, -0.0003509059315547347, 0.0054963380098342896, -0.022703003138303757, 0.016693342477083206, 0.013723064213991165, 0.0014658075524494052, -0.005842177662998438, -0.017931153997778893, 0.0029256592970341444, 0.0360502228140831, -0.11751149594783783, -0.005792273208498955, 0.025081578642129898, -0.025802306830883026, -0.016527732834219933, 0.009331448934972286, 0.04134884849190712, -0.02390679158270359, 0.020924411714076996, -0.005896535702049732, -0.008752789348363876, -0.0033869019243866205, 0.009435515850782394, -0.0219638179987669, -0.003517063334584236, 0.009109681472182274, 0.020551074296236038, 0.02668928913772106, -0.0013479777844622731, -0.021931542083621025, 0.014413649216294289, 0.02952062524855137, 0.007464569061994553, 0.01369615737348795, -0.010624933056533337, 0.021618660539388657, -0.00940257403999567, 0.014302127063274384, -0.040469951927661896, -0.02712346985936165, -0.017977075651288033, -0.02341991662979126, -0.0030013860668987036, 0.009440809488296509, 0.02800152264535427, -0.0258029792457819, 0.003907973878085613, 0.024756737053394318, 0.004653310403227806, -0.0030385886784642935, 0.02321702428162098, 0.01377109158784151, -0.0071786558255553246, -0.006920694839209318, -0.009031925350427628, -0.0014905947027727962, 0.015182940289378166, -0.0023227070923894644, -0.0076354509219527245, 0.02026692032814026, -0.03693917766213417, -0.02441369742155075, 0.01564507931470871, 0.0018958266591653228, -0.007500235922634602, -0.017256397753953934, -0.010287887416779995, 0.01717860996723175, 0.010272026993334293, -0.002609944436699152, -0.01589532569050789, 0.026556087657809258, 0.01207673829048872, 0.01922982558608055, 0.012770542874932289, -0.0102620804682374, -0.019737670198082924, 0.0039646257646381855, 0.029812529683113098, 0.014455199241638184, -0.00563602801412344, 0.0011948972241953015, -0.024004636332392693, 0.009614778682589531, 0.013962561264634132, 0.00906507670879364, 0.04832981526851654, 0.0146405640989542, 0.015451514162123203, -0.010362319648265839, -0.012805408798158169, 0.00021689539426006377, -0.0750727504491806, -0.01418739091604948, -0.007728958502411842, -0.010442612692713737, 0.029987875372171402, -0.011085128411650658, 0.02498294971883297, -0.0018163984641432762, -0.020261796191334724, 0.041012950241565704, 0.01655394956469536, 0.008147467859089375, 0.003376768436282873, -0.018934354186058044, 0.003468253882601857, -0.011688867583870888, 0.04292931780219078, -0.006761870812624693, -0.03044573776423931, 0.002786266850307584, -0.010424476116895676, -0.006910531781613827, -0.002776909153908491, 0.01617816649377346, 0.010964591056108475, 0.01573224924504757, 0.01834448240697384, -0.0034775889944285154, -0.005235271994024515, -0.01611205004155636, -0.005497316364198923, -0.12945277988910675, -0.0033692819997668266, -0.009314854629337788, -0.017597265541553497, 0.015999484807252884, 0.009192251600325108, 0.019983192905783653, -0.017605412751436234, -0.03313663974404335, -0.01994767226278782, 0.018786055967211723, -0.007588492706418037, -0.03689134493470192, -0.005885520949959755, 0.03926307335495949, 0.1315392255783081, -0.014131598174571991, 0.014688683673739433, -0.00018412916688248515, -0.026730824261903763, 0.0016901098424568772, 0.005101846996694803, 0.004284312948584557, -0.01493796519935131, -0.005246900487691164, 0.007614889647811651, 0.005465996451675892, 0.00252100289799273, 0.013686633668839931, -0.002985991770401597, 0.008780748583376408, -0.008530582301318645, 0.0066359457559883595, 0.0076441578567028046, -0.008641986176371574, 0.013642092235386372, 0.01027417741715908, 0.010010742582380772, 0.01780262216925621, -0.023556148633360863, 0.035923559218645096, 0.0013729817001149058, -0.026909608393907547, 0.000373545044567436, -0.014378062449395657, -0.01292633917182684, 0.0056676375679671764, -0.028638223186135292, -0.004468465689569712, 0.021307380869984627, -0.01082415971904993, -0.07938436418771744, -0.001620759954676032, 0.028142979368567467, -0.0009418439585715532, -0.018306566402316093, 0.005071737337857485, 0.004331565462052822, -0.017061475664377213, 0.012779648415744305, -0.00032267061760649085, -0.01813609153032303, -0.00809529609978199, -0.00035403616493567824, -0.027980050072073936, 0.01461845450103283, 0.022495754063129425, -0.005554698407649994, 0.0036493507213890553, 0.0298948772251606, -0.019249850884079933, 0.0028817576821893454, -0.0015675564063712955, 0.027793988585472107, 0.015440907329320908, -0.018435392528772354, -0.004554152954369783, 0.026539746671915054, 0.008480986580252647, -0.0023713356349617243, -0.020937299355864525, -0.00037827150663360953, 0.028483670204877853, 0.0063894749619066715, 0.02249014750123024, -0.04134916886687279, -0.005675296299159527, 0.008896609768271446, -0.0019385573687031865, 0.01748812384903431, -0.014470286667346954, -0.008413533680140972, -0.008721327409148216, -0.0004697235708590597, 0.011241680011153221, -0.0116786053404212, -0.026882072910666466, 0.017150288447737694, 0.035568952560424805, -0.019255181774497032, 0.03189807012677193, -0.01572776958346367, 0.03019873984158039, -0.03333519399166107, -0.01474298257380724, 0.0016041190829128027, 0.013395769521594048, -0.010776839219033718, -0.010052177123725414, 0.008153068833053112, -0.0017413757741451263, -0.02201179414987564, -0.025120873004198074, 0.016354944556951523, -0.006429646164178848, 0.009535226970911026, 0.007025949656963348, 0.011537018232047558, 0.010505151003599167, -0.010308469645678997, 0.012192036025226116, 0.025505565106868744, -0.014862403273582458, -0.0034718059469014406, 0.0014514017384499311, 0.009804384782910347, -0.006480119191110134, 0.004014854319393635, 0.0069696372374892235, -0.014871803112328053, -0.003626797581091523, 0.01152511965483427, 0.00015950424131006002, 0.0019964927341789007, 0.016392502933740616, 0.0141539191827178, -0.007166753988713026, -0.005720288958400488, -0.007052588742226362, -0.009472386911511421, 0.026133915409445763, 0.00022589077707380056, -0.0024966213386505842, 0.001363577088341117, 0.010817380622029305, 0.007715876214206219, 4.631416595657356e-05, -0.0012967473594471812, 0.008814670145511627, -0.005072040483355522, 0.007134543266147375, -0.011244363151490688, 0.013078015297651291, 0.0060137612745165825, 0.0143817700445652, 0.017532138153910637, 0.009082538075745106, 0.02732601761817932, -0.0007949123973958194, 0.0004999272641725838, 0.00247476645745337, -0.0014520756667479873, -0.006443042773753405, -0.005626296158879995, -0.001705923699773848, 0.002901969477534294, -0.010938704945147038, -0.0017223182367160916, 0.009410458616912365, 0.02929300256073475, 0.013756281696259975, 0.0064602321945130825, -0.02961556985974312, -0.021045314148068428, -0.007610950153321028, 0.007160964421927929, -0.006207238417118788, -0.011247849091887474, -0.015818139538168907, 0.006418820004910231, -0.0030257808975875378, -0.004327889531850815, -0.00033444419386796653, 0.015929915010929108, -0.016812840476632118, 0.02405374124646187, 0.0300450399518013, 0.006558182183653116, 0.015038037672638893, 0.009853418916463852, 0.0028953973669558764, -0.011019737459719181, 0.023617299273610115, 0.0009789341129362583, -0.001037341309711337, 0.013233627192676067, -0.010271476581692696, -0.009546296671032906, -0.0003561167686711997, 0.01560923084616661, 0.009693445637822151, -0.001438385690562427, 0.011524706147611141, -0.006340225227177143, -0.001619722810573876, 0.011298262514173985, 0.0015459766145795584, -0.008991770446300507, 0.00025864929193630815, 0.016127850860357285, 0.003312622429803014, 0.010512317530810833, -0.007343323901295662, 0.008342706598341465, -0.021729014813899994, -0.00474186334758997, -0.01970616541802883, -0.004252954386174679, -0.0005697408341802657, -0.008934436365962029, -0.002213083440437913, -0.0019178080838173628, 0.004072417505085468, -0.012840895913541317, -0.005146440584212542, -0.013458194211125374, -6.72814276185818e-05, -0.010060150176286697, 0.008334633894264698, 0.0017405423568561673, -0.0026581967249512672, -0.0021273954771459103, -0.00423845648765564, 0.010107554495334625, -0.003482712898403406, 0.0009100022143684328, 0.010695471428334713, -0.0020791247952729464, 0.013637256808578968, -0.01229273620992899, 0.009968052618205547, -0.008636167272925377, 0.004983231890946627, -0.0014730397379025817, 0.0018485183827579021, -0.002666736952960491, 0.016015559434890747, 0.018517211079597473, -0.019358286634087563, 0.02471931092441082, -0.0017484348500147462, 0.014403392560780048, -0.0033955792896449566, 0.005579076707363129, -0.019219741225242615, 0.002039544750005007, -0.003054292406886816, 0.012830546125769615, -0.016909072175621986, 0.008328012190759182, -0.00444420799612999, 0.010171854868531227, 0.0019433186389505863, 0.02751610428094864, -0.003942765295505524, -0.012731576338410378, -0.00979330763220787, -0.012039054185152054, -0.006642154883593321, 0.014390452764928341, 0.01548704318702221, 0.004574477206915617, 0.002438075141981244, 0.009177112951874733, 0.0010290315840393305, -0.0030991709791123867, -0.0007719369023106992, -0.0010907496325671673, 0.0042881774716079235, -0.0041784681379795074, 0.0019744005985558033, -0.014964361675083637, 2.162704367947299e-05, 0.010843265801668167, -0.006398896221071482, -0.012601200491189957, 0.005770224146544933, -0.0006175790913403034, 0.017544828355312347, -0.01852460764348507, -0.00915355235338211, -0.002896183868870139, -0.013982756994664669, 0.009359491989016533, -0.0019762939773499966, 0.0039041407871991396, 0.004062795080244541, 0.005871545523405075, -0.010342412628233433, -0.005209058057516813, 0.012386265210807323, -0.007345925085246563, -0.0059326994232833385, 0.0012232467997819185, 0.02737661637365818, 0.0038059207145124674, 0.013677303679287434, 0.002089955611154437, 0.0041382089257240295, 0.008175721392035484, 0.09378590434789658, -0.001165886176750064, 0.01438823714852333, 0.02309589646756649, 0.000680590863339603, -0.013379745185375214, -0.00014001726231072098, -0.01901184767484665, -0.0037063329946249723, 0.010051061399281025, -0.012579120695590973, -0.009601125493645668, 0.012617782689630985, 0.012859842739999294, 0.004886328708380461, 0.009092062711715698, -0.0030681847129017115, -0.009541511535644531, 0.01793203316628933, -0.002616175217553973, -0.0030907485634088516, 0.007287723012268543, -0.008655978366732597, -0.01753891445696354, 0.01075720600783825, -0.0280048456043005, 0.008579451590776443, -0.021763160824775696, -0.005743036977946758, 0.009215370751917362, -0.004947655834257603, -0.006942472420632839, 0.006494154222309589, 0.010513263754546642, 0.003461346961557865, 0.013463298790156841, -0.010295895859599113, 0.009883003309369087, -0.002619424369186163, -0.010814681649208069, 0.001052380190230906, -0.005923808552324772, -0.003298367140814662, 0.012645446695387363, -0.0011562822619453073, 0.005589002277702093, -0.018622247502207756, -0.004405265208333731, -0.014452275820076466, -0.0026866584084928036, -0.0013150088489055634, -0.00401536887511611, 0.011327248066663742, 0.008686566725373268, 0.007146268151700497, 0.0001866282254923135, 0.004476736765354872, -0.009989669546484947, -0.009388312697410583, -0.01893782988190651, 0.0009559312602505088, 0.010790102183818817, -0.004740056116133928, -0.00910812709480524, -0.0024608662351965904, -0.012401445768773556, -0.0018534656846895814, -0.0054603079333901405, -0.01949860341846943, 0.0041955625638365746, -0.008055292069911957, -0.009824808686971664, -0.006319538690149784, 0.015026931650936604, 0.041833795607089996, 0.014727109111845493, -0.005369856953620911, -0.0104244789108634, -0.0038949435111135244, -0.003833286464214325, -0.001637271954677999, 0.005627532955259085, 0.005987919867038727, -0.019941681995987892, 0.009401549585163593, -0.016592569649219513, -0.00481637567281723, -0.005577788222581148, -0.0015299554215744138, -0.006335475482046604, -0.009916997514665127, 0.0045005204156041145, -0.006080114282667637, -0.007462998852133751, 0.006761027500033379, 0.0007970434962771833, 0.08332464098930359, 0.004015937447547913, -0.019152158871293068, 0.008129376918077469, 0.009040029719471931, 0.01077691838145256, 0.005819081328809261, 0.0022804834879934788, 0.026350269094109535, 0.003214799566194415, 0.01737646386027336, 0.00012170330592198297, 0.009235079400241375, -0.00175623525865376, -0.001689879922196269, 0.002481182338669896, -0.009103959426283836, 0.010298890061676502, 0.006491833832114935, -0.015552589669823647, -0.0027703174855560064, 0.009428600780665874, -0.007206527981907129, 0.004612456075847149, -0.015710564330220222, 0.0024211248382925987, 0.0002556598628871143, -0.012880470603704453, -0.005563025362789631, -0.006357715930789709, -0.008722049184143543, -0.012452876195311546, 0.0026872067246586084, 0.011273089796304703, -0.00222362345084548, 0.0019123679958283901, 0.002393947681412101, 0.009942241944372654, 0.005812611896544695, -0.006896663457155228, 0.008762495592236519, 0.015075936913490295, -0.0018306146375834942, 0.0060026333667337894, -0.018397295847535133, -0.0038662953302264214, -0.006326139438897371, 0.014784881845116615, -0.002163069089874625, 0.001801275764591992, -0.007970981299877167, -0.009136003442108631, -0.01618318259716034, -0.0028799790889024734, -0.003107442520558834, -0.0022691157646477222, -0.0019820043817162514, -0.0030494481325149536, -0.007886171340942383, 0.025890560820698738, -0.0010657594539225101, -0.016829516738653183, 0.007582900580018759, 0.005752018187195063, -0.021554574370384216, 0.0036691557615995407, 0.013257135637104511, 0.011776287108659744, 0.0014969018520787358, 0.0054893819615244865, -0.0012511516688391566, 0.018096478655934334, -0.004348302725702524, 0.021253829821944237, 0.002041077008470893, 0.014675034210085869, -0.011642410419881344, -0.009472078643739223, -0.007605202961713076, 0.008670571260154247, 0.003685439471155405, -0.003906056983396411, -0.008088418282568455, 0.008212129585444927, 0.00983371865004301, 0.013162923976778984, 0.004394227638840675, 0.015969401225447655, 0.02249715104699135, -0.006875868421047926, -0.0018449377967044711, -0.016396289691329002, -0.00920373760163784, 0.007722979877144098, -0.010056684724986553, -0.0012909520883113146, -0.009844930842518806, 0.001633345615118742, -0.011350569315254688, 0.010802256874740124, -0.005172785371541977, 0.010712745599448681, -0.009635989554226398, -0.015681259334087372, 0.010590653866529465, -0.0061666760593652725, -0.005514507181942463, -0.004461857955902815, 0.003558896016329527, 0.004388376139104366, -0.029346365481615067, 0.00020702053734567016, -0.007121792063117027, 0.0005941647686995566, 0.00804111734032631, -0.021338697522878647, -0.0025723772123456, -0.009236986748874187, -0.0008349426789209247, -0.00982227735221386, 5.9105541367898695e-06, -0.011921286582946777, -0.00894884578883648, 0.014792678877711296, -0.006550110876560211, -0.014504891820251942, 0.0024900506250560284, 0.005497332196682692, 0.0009826344903558493, -0.0011663512559607625, 0.017316648736596107, -0.0022777514532208443, -0.005813748110085726, -0.010394947603344917, 0.01879136450588703, 0.003986380062997341, -0.011821753345429897, 0.0191112719476223, -0.013518418185412884, 0.006668406073004007, 0.008293918333947659, -0.015851307660341263, -0.019959595054388046, -0.007447301875799894, 0.011714155785739422, 0.007041063159704208, -0.014657826162874699, -0.006393141113221645, 0.00039681282942183316, -0.014382807537913322, -0.021124834194779396, 0.005088697653263807, -0.006019861903041601, 0.0052501908503472805, 0.005430873017758131, -0.006157414522022009, 0.0015928137581795454, 0.003679470391944051, -0.008318174630403519, -0.011522086337208748, 0.02121584862470627, -0.06031360477209091, 0.006917450577020645, 0.0025965797249227762, 0.004059139173477888, -0.003948066849261522, 0.0004576897481456399, -0.00523928040638566, -0.0005621068412438035, 0.010063822381198406, -0.017914773896336555, -0.005314290057867765, -0.01484303455799818, 0.00022231806360650808, 0.010761556215584278, -0.017128387466073036, 0.012173475697636604, -0.0011957817478105426, 0.012898216024041176, -0.005369173362851143, -0.004420273005962372, -0.0006196373142302036, 0.0025067406240850687, -0.01168831530958414, 0.01117966789752245, 0.022111406549811363, 0.0006548913079313934, -0.0006875720573589206, 0.005936674773693085, -6.805764132877812e-05, 7.900774653535336e-05, -0.0014314241707324982, -0.011147154495120049, 0.006290697492659092, 0.020954493433237076, 0.01088282372802496, -0.0007316836854442954, 0.0030415868386626244, -0.0012748305452987552, 0.0036636514123529196, -0.010949750430881977, -0.011532105505466461, -0.0049323104321956635, -0.00018733477918431163, 0.005096959415823221, -0.014694340527057648, 0.0028503506910055876, 0.022797031328082085, -0.0030924901366233826, 0.02174854278564453, -0.003067219629883766, 0.006617911159992218, 0.019078684970736504, -0.005146028008311987, 0.007592090871185064, -0.0029291589744389057, -2.1114541596034542e-05, -0.00101366825401783, 0.0015199838671833277, 0.002870461205020547, -0.00709689361974597, 0.01488563697785139, -0.0001753609103616327, -0.006439183838665485, 0.007206756621599197, -0.010649329982697964, 0.006107760593295097, 0.012424701824784279, 0.010081454180181026, -0.022923221811652184, -0.009457983076572418, 0.006372913718223572, 0.00967329926788807, -0.015781553462147713, -0.0065523786470294, -0.006723855622112751, 0.0016048181569203734, 0.00426945835351944, 0.019162926822900772, 0.002784224459901452, 0.010740403085947037, 0.007713716011494398, 0.011921608820557594, 0.013596885837614536, -0.015241366811096668, 0.01747843623161316, -0.0020391319412738085, 0.00025371884112246335, 0.0002239910390926525, -0.021796688437461853, -0.010243941098451614, 0.002743021585047245, 0.003116446314379573, 0.0008654974517412484, 0.004982560873031616, -0.0017711423570290208, 0.018063634634017944, 0.01420375145971775, 0.00542053859680891, 0.013404542580246925, 0.0037796124815940857, -0.0184597447514534, -0.03281616047024727, 0.0041008200496435165, 0.013596110977232456, -0.010426509194076061, 0.009346285834908485, -0.014257697388529778, 0.0015296210767701268, 0.002986632287502289, -0.00019413113477639854, 0.004568730015307665, -0.002179908100515604, 0.0009267341229133308, -0.0074128094129264355, -0.015964452177286148, -0.0011179184075444937, 0.0022412321995943785, -0.004298115149140358, -0.0004162184486631304, 0.0014280450996011496, -0.009912355802953243, 0.006910561118274927, 0.005097000859677792, -0.01800219714641571, 0.01439499482512474, -0.0061784773133695126, -0.00819759164005518, 0.008580327033996582, 0.0044676573015749454, -0.008678324520587921, 0.0006821280694566667, 0.0061704558320343494, -0.0008810217841528356, 0.002721853321418166, 0.002718100557103753, 0.007166680414229631, 0.011545474641025066, 0.023633914068341255, -0.007805683184415102, -0.01132554467767477, 0.00015082604659255594, 0.0031502917408943176, 0.012858198955655098, -0.002457505324855447, 0.01268454547971487, -0.005959332454949617, 0.01930583268404007, 0.000984208774752915, 0.018037816509604454, 0.006561052054166794, -0.005797810852527618, 0.014617260545492172, 0.02134053036570549, 0.003991372417658567, -0.002691415371373296, -0.01268844772130251, 0.009914965368807316, -0.004740691743791103, -0.000983863021247089, -0.0009204798843711615, 0.007801236119121313, -0.00336856534704566, 0.008007959462702274, -0.003081487724557519, 0.015544066205620766, -0.012083322741091251, -0.002105755964294076, 0.0005764501402154565, -0.007332124747335911, -0.011123448610305786, 0.010771570727229118, -0.012784790247678757, -0.01544584333896637, 0.01441658940166235, -0.007293094415217638, -0.015383492223918438, 0.005893138237297535, -0.0063249594531953335, -0.003544497536495328, 0.006646256428211927, -0.017420588061213493, 0.0010037708561867476, -0.0018982220208272338, 0.0034584093373268843, 0.006218425929546356, -0.001025506528094411, 0.002053579781204462, 0.0005409293808043003, 0.004587043076753616, 0.014824953861534595, 0.007324757520109415, 0.00466138357296586, -0.029703481122851372, -0.004515799693763256, 0.0006597661413252354, 0.004691724665462971, -0.00820132065564394, -0.0059221419505774975, 0.018144875764846802, -0.00037093376158736646, -0.010413948446512222, -0.013153934851288795, 0.019855637103319168, -0.013586221262812614, 0.012597751803696156, -0.1076473519206047, -0.00723522063344717, 0.0007123809773474932, -0.0020223099272698164, -0.007248611189424992, -0.004780794959515333, 0.019857129082083702, -0.017489757388830185, -0.008182063698768616, -0.015798207372426987, 0.008198562078177929, -0.013349568471312523, -0.011583741754293442, -0.033705778419971466, -0.0028869525995105505, 0.007089974358677864, 0.004725117702037096, -0.023175431415438652, 0.004312857985496521, 0.015592322684824467, -0.006876148749142885, -0.0025501293130218983, -0.013571109622716904, 0.00326846307143569, -0.007737492676824331, -0.004958984442055225, -0.01244539488106966, -0.002879844978451729, -0.004989580251276493, 0.028435971587896347, -0.008701689541339874, 0.004599238745868206, 0.006427035667002201, -0.004361109808087349, 0.013628292828798294, -0.007047416176646948, 0.008524023927748203, 0.007645521312952042, -0.13263514637947083, -0.004020132124423981, 0.003942784853279591, -0.016674863174557686, -0.0012385814916342497, 0.015231072902679443, -0.005411607213318348, -0.007878675125539303, 0.004778949078172445, -0.001167198526673019, -0.0042077722027897835, -0.011381981894373894, -0.005144424736499786, -0.008606525138020515, 0.005931728985160589, -0.008526775985956192, -0.025564882904291153, 0.023580553010106087, -0.0011002783430740237, -0.007845158688724041, 0.005135186482220888, 0.0029120808467268944, 0.009909023530781269, 0.007341313175857067, 0.0036838268861174583, -0.012222465127706528, 0.008004467934370041, 0.009153622202575207, 0.016203289851546288, -0.004891273565590382, 0.022191010415554047, 0.006580699700862169, -0.0051149711944162846, 0.008745936676859856, 0.021879611536860466, 0.021640628576278687, -0.0029249759390950203, 0.011976630426943302, 0.0022016216535121202, -0.002100847428664565, 0.012602762319147587, 0.02311176061630249, 0.008927162736654282, 0.014750543981790543, 0.011661405675113201, -0.0040100133046507835, 0.002547171898186207, 0.008176642470061779, 0.0029579007532447577, -0.006715219933539629, 0.0091573940590024, 0.001137498882599175, -0.005689001642167568, 0.006293172482401133, 0.001004791702143848, 0.004942979197949171, 1.2983192391402554e-05, 0.002776492852717638, 0.01155821792781353, 0.002307955641299486, -0.006546309683471918, -0.016894035041332245, -0.0014984633307904005, 0.004226695746183395, 0.0017887544818222523, -0.0033998817671090364, 0.01627836562693119, 0.0056996396742761135, -0.008619751781225204, 0.0017954835202544928, 0.005020207725465298, 0.02093588560819626, 0.008480323478579521, -0.016279729083180428, -0.023909810930490494, -0.01178758218884468, 0.017065394669771194, 0.010937071405351162, -0.01882997527718544, -0.00023371088900603354, 0.01539680827409029, 0.002190994331613183, 0.00182085030246526, -0.0012696634512394667, -0.0014234873233363032, -0.006662747822701931, 0.0063637723214924335, -0.004932392854243517, 0.00364022352732718, -0.0392729789018631, -0.001252252608537674, 0.008313602767884731, -0.012586381286382675, 0.00322997965849936, -0.019817477092146873, -0.008517958223819733, -0.02155313454568386, -0.00019366366905160248, 0.004834326449781656, 0.0005430726450867951, 0.033606529235839844, -0.00029803323559463024, 0.009309569373726845, 0.004758809227496386, 0.003962131682783365, -0.006122655235230923, -0.01455635391175747, -0.012924205511808395, 0.005281707737594843, -0.012622407637536526, -0.006677051540464163, -0.022990375757217407, 0.017360277473926544, 0.017802687361836433, -0.023882517591118813, 0.01669805310666561, -0.025536030530929565, -0.0040024262852966785, -0.016901105642318726, -0.0032039338257163763, -0.016797108575701714, 0.014113388024270535, 0.011638456955552101, -0.011014807969331741, 0.02577820047736168, 0.00316159357316792, 0.02415228635072708, -0.02655906043946743, -0.0064916107803583145, 0.010503973811864853, 0.003478024620562792, -0.008697272278368473, -0.009536058641970158, 0.010516803711652756, 5.3849921641813125e-06, 0.011721871793270111, 0.002238920656964183, 0.019649064168334007, -0.012855407781898975, -0.014396333135664463, -0.009122959338128567, 0.009956290014088154, -0.017112312838435173, 0.006591572891920805, -0.0012147531379014254, 0.015569156967103481, 0.006980262231081724, 0.00018629759142640978, -0.004953069146722555, -0.0029862697701901197, -0.018230075016617775, -0.004150106571614742, -0.010113196447491646, 0.003924478776752949, -0.004456379916518927, -0.0016025586519390345, -0.026390070095658302, -0.011597920209169388, 0.006403652019798756, -0.00958871841430664, -0.006394336465746164, 0.0013902768259868026, -0.012931604869663715, -0.004174347966909409, 0.0004648423637263477, 0.024170953780412674, 0.002886270172894001, -0.030529895797371864, 0.015311618335545063, -0.003828235901892185, -0.006515458691865206, 0.0017830729484558105, -0.008579840883612633, 0.013079244643449783, 0.0029220646247267723, -0.009432089515030384, -0.00812060758471489, -0.0022381881717592478, 0.026811107993125916, 0.01964288204908371, -0.012076032347977161, -0.011309574358165264, -0.004275328014045954, -0.015420744195580482, 0.03280337154865265, -0.004843683447688818, -0.011989710852503777, -0.008978010155260563, -0.004080540034919977, -0.01492864266037941, -0.008923674933612347, -0.0082711698487401, 0.010436603799462318, -0.015860561281442642, -0.002495874185115099, 0.009511117823421955, 0.0011404057731851935, -0.0033643031492829323, 0.0059378682635724545, 0.013501917012035847, 0.008448618464171886, 0.0006864697788842022, 0.01042186189442873, -0.1348380148410797, 0.004177234135568142, -0.0015929262153804302, -0.01939922384917736, -0.006744918413460255, -0.014928440563380718, -0.007023122161626816, 0.00041094468906521797, 0.018726227805018425, -0.027765842154622078, 0.003943184390664101, -8.491543849231675e-05, -0.00018129248928744346, -0.012785973958671093, 0.007022008299827576, -0.015521280467510223, 0.00936637632548809, 0.020988527685403824, -0.013797763735055923, -0.004144972190260887, -0.026158176362514496, -0.01118401251733303, -0.02206113003194332, 0.005199471488595009, -0.037203073501586914, -0.007156831678003073, -0.0143052376806736, -0.003514890791848302, -0.0031357875559479, 0.0035249919164925814, 0.008044340647757053, -0.004336517304182053, -0.004324423614889383, 0.005740475840866566, 0.0013804258778691292, -0.00544745521619916, 0.011916503310203552, 0.004500718787312508, -0.009991337545216084, 0.04022327810525894, -0.005114453844726086, 0.004551529418677092, -0.02060248889029026, 0.003119345288723707, 0.007235264405608177, 0.0030220814514905214, -0.02900771051645279, -0.023122379556298256, -0.014417995698750019, -0.005312000866979361, -0.014877868816256523, -0.0028498934116214514, 0.005631375592201948, -0.0050279232673347, 0.010108738206326962, -0.028686515986919403, 0.0016856958391144872, 0.007702157367020845, -0.01280878484249115, -0.007656225468963385, 0.015806008130311966, -0.0036221304908394814, 0.0007337133283726871, 0.011124907061457634, 0.023060530424118042, -0.016133103519678116, 0.00935949757695198, 0.16485388576984406, -0.0023343064822256565, -0.0016358165303245187, -0.007942445576190948, -0.014351037330925465, -0.0044353376142680645, 0.01421650405973196, -0.006627182010561228, -0.003420105902478099, -0.01937832497060299, 0.024734344333410263, 0.016018345952033997, -0.011150367558002472, -0.008652250282466412, -0.006553378887474537, -0.004461463075131178, 0.0064875343814492226, -0.009933436289429665, 0.002258383436128497, -0.0013844402274116874, -0.013114762492477894, -0.013891172595322132, 0.0019321291474625468, -0.02652677148580551, 0.016079582273960114, -0.010148628614842892, 0.005361219402402639, 0.02914300002157688, 0.00991654023528099, 0.003569973399862647, 0.0076081156730651855, -0.024209383875131607, 0.000911596929654479, -0.01925239898264408, -0.0017878457438200712, 0.015870383009314537, -0.012609270401299, 0.009261883795261383, 0.00728247407823801, -0.00376332551240921, 0.022861666977405548, -0.00919640064239502, -0.015062268823385239, -0.008080716244876385, -0.006774331443011761, -0.022667013108730316, -0.005625760182738304, -0.004152765031903982, 0.0011411431478336453, -0.004528135526925325, -0.013897971250116825, -0.009348820894956589, -0.007455325685441494, 0.014162336476147175, 0.011412370018661022, 0.013633697293698788, -0.022202065214514732, -0.00045988752390258014, 0.0028680693358182907, -0.00944735947996378, -0.007330194115638733, 6.317395309451967e-05, -0.02317420393228531, -0.014790121465921402, 0.0024852147325873375, 0.017514057457447052, -0.004182170610874891, -0.03406967222690582, 0.011228714138269424, -0.1244254931807518, 0.006296620704233646, -0.019423309713602066, -0.020825156942009926, -0.009901251643896103, 0.0021920581348240376, 0.024839699268341064, 0.03518237546086311, 0.019685300067067146, 0.012196478433907032, 0.007373434957116842, 0.009603729471564293, -0.014683319255709648, 0.016667239367961884, 0.010603442788124084, 0.016505567356944084, 0.0009999608155339956, -0.0015780298272147775, 0.03467750921845436, 0.010037226602435112, -0.010064533911645412, 0.01960126869380474, 0.004729357548058033, -0.002154436195269227, 0.008662763051688671, 0.013781355693936348, -0.01684243604540825, 0.006379368714988232, -0.006057994905859232, -0.022148653864860535, 0.008242874406278133, 0.030508698895573616, -0.010978372767567635, 0.004483467899262905, -0.0036923105362802744, -0.00838402658700943, 0.015929408371448517, 0.019319556653499603, -0.0012297899229452014, 0.008937019854784012, -0.00012469696230255067, 0.006659781094640493, -0.012048798613250256, 0.0002646470384206623, -0.003412610152736306, 0.012642069719731808, 0.013798867352306843, -0.021662583574652672, -0.0021118326112627983, -0.006650259718298912, 0.002875769278034568, -0.01656060293316841, -0.01298945676535368, 0.005857702810317278, 0.010867110453546047, -0.009051748551428318, 0.02947556972503662, -0.021449483931064606, 0.004059482365846634, 0.002315693302080035, -0.014033970423042774, 0.020138829946517944, 0.018799955025315285, -0.005676714237779379, 0.0062441457994282246, -0.021657494828104973, -0.0020670986268669367, -0.003643258009105921, 0.024800308048725128, 0.001759265549480915, -0.0281737819314003, -0.009120051749050617, 0.011548852548003197, 0.0018545633647590876, 0.00602008868008852, -0.02595554105937481, 0.011022496968507767, 0.0011507488088682294, -0.0021056176628917456, 0.010616408661007881, 0.005103547591716051, 0.0044352333061397076, 0.002033558674156666, -0.014532445929944515, 0.05388914793729782, -0.008297284133732319, -0.009412514045834541, -0.012229613028466702, 0.012323681265115738, 0.018291091546416283, -0.010210246779024601, 0.023636123165488243, 0.0072483886033296585, 0.001840917975641787, 0.015493523329496384, 0.021333646029233932, -0.004910225979983807, 0.02131631225347519, 0.003290375228971243, -0.020018363371491432, 0.0049929553642869, -0.00676412507891655, 0.0038143452256917953, 0.02401747927069664, 0.01440659910440445, -0.002988494699820876, 0.007410991936922073, 0.003441218053922057, 0.002943882253021002, 0.0135292187333107, 0.012910944409668446, -0.014082680456340313, 0.005304886028170586, 0.007101838942617178, 0.016762277111411095, 0.03087615966796875, -0.004992553498595953, -0.005020202603191137, 0.0014249024679884315, -0.010307428427040577, 0.017609313130378723, -0.0022981977090239525, 0.00315157906152308, -0.0041457111947238445, -0.006058716680854559, 0.00894047599285841, 0.008043394424021244, 0.007152414880692959, 0.03743710741400719, 0.020348189398646355, 0.004007161594927311, 0.02948322333395481, -0.004564314614981413, -0.009192478843033314, 0.012805177830159664, -0.005346042104065418, 0.03234764561057091, -0.007531913463026285, -0.01700618490576744, -0.004680939018726349, 0.013695272617042065, -0.014647185802459717, -0.0019884025678038597, 0.0304054357111454, -0.01739390939474106, -0.000914381816983223, 0.013306712731719017, 0.011422563344240189, 0.005350591614842415, -0.0077351792715489864, -0.03123105689883232, -0.012427769601345062, -0.020723305642604828, 0.005386835429817438, 0.006032547913491726, 0.007149749901145697, 0.00842262152582407, -0.003654671832919121, -0.011768453754484653, -0.012387492693960667, -0.02708388864994049, -0.0011771139688789845, -0.004974993411451578, 0.00810147263109684, 0.012108616530895233, 0.003622549818828702, -0.0017986512975767255, -0.019709529355168343, -0.016830332577228546, 0.00031068208045326173, 0.029062410816550255, 0.007662045303732157, -0.0032731918618083, 0.000989978201687336, -7.383248157566413e-05, 0.02173413150012493, 0.018253210932016373, -0.008708122186362743, 0.003768555587157607, -0.07770949602127075, 0.007290242705494165, 0.011157583445310593, -0.013044144958257675, 0.0016936102183535695, -0.008832489140331745, 0.0019144826801493764, -0.012308274395763874, -0.03703510761260986, -0.02569892443716526, 0.026658715680241585, -0.018253471702337265, 0.0011529993498697877, -0.0035613325890153646, -0.021146515384316444, 0.0323844775557518, -0.017551133409142494, -0.011165432631969452, 0.007089164573699236, 0.01229042001068592, 0.007409955840557814, 0.005163088906556368, 0.005250937771052122, 0.008845852687954903, -0.012731275521218777, -0.015035467222332954, -0.007809184491634369, 0.019557608291506767, -0.010132893919944763, -0.0060460916720330715, 0.014628286473453045, -0.002818026579916477, -0.014853931032121181, -0.03644948825240135, -0.016655592247843742, 0.00030313487513922155, -0.011562255211174488, -0.01687578111886978, 0.008698445744812489, -0.032079067081213, 0.01996234431862831, 0.005404299590736628, -0.09511695057153702, -0.0007755542756058276, -0.000680362107232213, -0.00014651569654233754, 0.022435113787651062, -0.013644799590110779, 0.004703387152403593, -0.013985254801809788, 0.007137341424822807, 0.0002729800471570343, 0.004633347038179636, 0.004091928247362375, -0.004793011583387852, 0.006192969158291817, -0.012287701480090618, 0.009760797023773193, -0.0024225274100899696, -0.013304273597896099, -0.025770146399736404, -0.022104907780885696, 0.01872146688401699, -0.01396960113197565, 0.002309646224603057, 0.00683793518692255, -0.014403645880520344, 0.009703029878437519, -0.004891805816441774, 0.03337075188755989, 0.004819423891603947, -0.013712783344089985, -0.005514001008123159, 0.0042887660674750805, 0.024308549240231514, 0.010968245565891266, 0.01088013220578432, 0.003959304187446833, 0.004231554456055164, 0.019619300961494446, 0.026182960718870163, 0.02286560833454132, 0.00955805554986, 0.011938193812966347, 0.00667917262762785, 0.00037227338179945946, 0.01669689640402794, -0.1197676733136177, -0.0002679718309082091, 0.0011811986332759261, -0.019013244658708572, 0.019541118294000626, 0.005745868198573589, 0.0041518667712807655, 0.10716651380062103, 0.002193667460232973, -0.03058452159166336, -0.0026946449652314186, 0.007021752651780844, -0.019001128152012825, -0.006546063348650932, -0.009224442765116692, 0.002154486021026969, 0.012490476481616497, 0.011120056733489037, 0.0015903855673968792, -0.007961893454194069, -0.027321703732013702, -0.005017496179789305, 0.011072317138314247, -0.02522849105298519, 0.010922970250248909, -0.06516678631305695, -0.012962841428816319, 0.004688472021371126, -0.005950085818767548, 0.011720702983438969, -0.011569565162062645, -0.024725351482629776, -0.013118403032422066, -0.0017148819752037525, -0.0005957928369753063, 0.014579419046640396, -0.001382474321871996, 0.003967319615185261, -0.0012498062569648027, 0.01405593566596508, -0.017815636470913887, 0.005363635253161192, 0.016577288508415222, -0.020331867039203644, 0.010641631670296192, -0.003335685236379504, -0.007181367836892605, 0.02538468688726425, -0.03842005878686905, 0.00042200525058433414, 0.0018073560204356909, -0.024537468329072, -0.004673693794757128, -0.008599611930549145, 0.014544245786964893, -0.009674504399299622, -0.012573564425110817, -0.013823259621858597, -0.0027538216672837734, 0.006078389007598162, -0.005533628631383181, -0.0010111534502357244, -0.005318010691553354, -0.0038460774812847376, -0.010283023118972778, 0.010618564672768116, -0.01743711344897747, -0.020936686545610428, -0.015189951285719872, 0.007061748765408993, 0.015320578590035439, 0.01379713136702776, 0.027479203417897224, -0.006004102993756533, 0.008280807174742222, -0.01872536912560463, -0.015889715403318405, 0.005293151363730431, -0.01976575143635273, -0.02178427204489708, 0.01082679908722639, 0.014926794916391373, 0.01651175506412983, -0.014258751645684242, -0.0008192502427846193, -0.001580232521519065, 0.006466224789619446, 0.0173360463231802, 0.005358257330954075, 0.024113915860652924, -0.001138958497904241, 0.017149604856967926, 0.004240833222866058, -0.012876348569989204, -0.0022212453186511993, 0.014303356409072876, -0.003691335441544652, 0.002679812256246805, 0.0016480851918458939, 0.0005948570906184614, 0.007658522110432386, 0.03484295308589935, 0.00017304570064879954, -0.017466573044657707, -0.013646271079778671, 0.005076609551906586, 0.0008128646295517683, 0.010173222050070763, -0.0038050932344049215, 0.0033299820497632027, 0.013884719461202621, -0.01435771118849516, -0.013851840049028397, 0.006598439533263445, 0.03276501223444939, -0.012565518729388714, -0.00922292098402977, -0.004122341983020306, -0.027973024174571037, -0.0002571498625911772, 0.007557202596217394, 0.002681559417396784, -0.011944305151700974, -0.015582959167659283, 0.008422142826020718, -0.0049859946593642235, -0.005566791165620089, -0.0272283386439085, -0.0033743262756615877, 0.00373673508875072, 0.028188349679112434, 0.008979322388768196, -0.020740164443850517, -0.0028888657689094543, 0.0009580907062627375, 0.0021482042502611876, 0.004002775996923447, 0.015370077453553677, -0.023697618395090103, -0.0038452749140560627, -0.0001904294331325218, -0.01445489376783371, -0.003475708421319723, 0.005496329162269831, 0.013971527107059956, 0.008112091571092606, -0.0008314648875966668, 0.004665221553295851, -0.005783579312264919, -0.0014098092215135694, -0.017778584733605385, 0.025294553488492966, 0.0056548104621469975, -0.014151240698993206, 0.012171437032520771, 0.002688990207388997, 0.01643485762178898, 0.005331507883965969, 0.01787497103214264, -0.012368883937597275, 0.00867017824202776, -0.004896694328635931, 0.0028753287624567747, 0.027523944154381752, -0.008098820224404335, -0.0010554061736911535, 0.008267812430858612, -0.009985150769352913, 0.002499455353245139, -0.0031236843205988407, 0.04178006574511528, -0.01642834022641182, 0.010983899235725403, 0.00363841000944376, 0.03235780447721481, -0.011745870113372803, -0.0005992952501401305, 0.0003396125102881342, 0.0018654746236279607, -0.003409497905522585, 0.001001924742013216, 0.008349098265171051, -0.011317380703985691, -0.0029860823415219784, 0.009884475730359554, 0.01794380508363247, 0.004686318803578615, -0.01011921837925911, 0.022739751264452934, -0.019995801150798798, 0.010847951285541058, 0.016834255307912827, -0.0048689646646380424, -0.008150995709002018, 0.0050621647387743, 0.010394170880317688, -0.004421773832291365, -0.010828118771314621, 0.015071727335453033, 0.015654847025871277, 0.014634993858635426, -0.0034323239233344793, -0.010356404818594456, -0.01025665644556284, 0.003173207398504019, 0.005011940374970436, -0.034552477300167084, 0.02061515673995018, -0.006420977413654327, 0.005674912128597498, 0.001060189912095666, -0.00647811871021986, 0.0035320071037858725, 0.014523692429065704, -0.0010079023195430636, 0.012613195925951004, 0.022783488035202026, -0.02854624018073082, -0.0019005016656592488, 0.0048736026510596275, 0.01074291579425335, 0.0017360917991027236, 0.0009135931613855064, 0.01136306207627058, -0.012216472066938877, -0.00061573158018291, 0.005930843763053417, -0.007330005522817373, 0.0006138037424534559, 0.003615995403379202, 0.0028281027916818857, 0.0017319181933999062, -0.0005196588463149965, 4.629351678886451e-05, -0.025416307151317596, -0.037752602249383926, -0.01215266715735197, -0.023849232122302055, -1.4213692338671535e-05, -0.001388812204822898, -0.0015339609235525131, 0.0065259188413619995, 0.0006459835567511618, -4.296947372495197e-05, -0.010023152455687523, -0.007894477806985378, -0.007713627070188522, -0.009382683783769608, -0.004857551772147417, 0.006140642333775759, -0.00157629803288728, -0.007621290627866983, 0.005803065840154886, -0.022206222638487816, -0.0034239445813000202, 0.005160510540008545, -0.0037929038517177105, 0.0029246548656374216, -0.0035703573375940323, 0.01179152075201273, 0.03409230336546898, 0.0092979297041893, -0.00613282760605216, 0.00782342255115509, -0.02441238984465599, 0.00984582956880331, 0.0037543175276368856, 4.395019277581014e-05, -0.027660371735692024, 0.012625782750546932, 0.027683837339282036, -0.014833223074674606, -0.02996239997446537, 0.00969600211828947, -0.0063352035358548164, -0.0034649320878088474, 0.002271464327350259, 0.006218577269464731, 0.0005078351241536438, 0.018734967336058617, 0.00910938624292612, -0.0012264872202649713, 0.008284795098006725, 0.012430757284164429, 0.005730191245675087, -0.014890541322529316, 0.028736228123307228, -0.0018142798217013478, 0.0009475177503190935, -0.010430079884827137, 0.005570776294916868, 0.006227846257388592, 0.010723303072154522, -0.0030596796423196793, -0.025962000712752342, -0.039370208978652954, 0.013002255000174046, 0.0015269488794729114, -0.012038704939186573, 0.010218500159680843, -0.0020185422617942095, -0.010749232955276966, -0.013674859888851643, -0.017939068377017975, -0.004821692127734423, 0.0036286073736846447, 0.019266456365585327, 0.0035632646176964045, -0.010580945760011673, -0.0015183323994278908, 0.0037549762055277824, -0.009843505918979645, 0.019854579120874405, 0.01384916715323925, -0.02867267280817032, -0.004765793215483427, 0.010295775718986988, 0.0006748687592335045, 0.002666880376636982, -0.0027768113650381565, -0.01511292066425085, 0.006755774840712547, 0.016504263505339622, 0.01078652124851942, 0.008027956821024418, 0.012385114096105099, 0.030641155317425728, -0.0005567778134718537, -0.0008513397187925875, -0.02524569071829319, -0.02416769042611122, 0.007490529213100672, -0.005536300130188465, -0.0018703036475926638, 0.017046557739377022, 0.011900006793439388, -0.010101817548274994, 0.018548108637332916, 0.012109329923987389, 0.01966463029384613, -0.015239929780364037, 0.012718643993139267, 0.007269838824868202, -0.02073613740503788, 0.019215155392885208, 1.8954326151288114e-05, -0.010207444429397583, -0.0015237407060340047, 0.008070421405136585, -0.009663160890340805, -0.006891086231917143, 0.007607459556311369, 0.005954877473413944, 0.008658559061586857, 0.010052413679659367, -0.0026660903822630644, -0.011954267509281635, -0.01142663974314928, 0.02003946155309677, 0.006150881759822369, 0.007936927489936352, -0.006752899847924709, 0.00544177507981658, 0.011908323504030704, 0.016225697472691536, -0.0050387014634907246, 0.0021109168883413076, -0.03169659525156021, -0.01619897224009037, -0.0007703203009441495, 8.629521471448243e-05, 0.0010042230132967234, -0.02213233709335327, -0.010758553631603718, -0.011119608767330647, -0.003622503485530615, -0.02492593787610531, 0.004821347072720528, -0.009320111945271492, -0.015448145568370819, -0.0005651611718349159, 0.00020887785649392754, -0.017979247495532036, -0.008656186051666737, 0.0014125594170764089, 0.010636170394718647, -0.004286757670342922, 0.010004770942032337, -0.006711128633469343, 0.009671610780060291, 0.0001517490454716608, 0.007308180443942547, 0.011582779698073864, 0.0001511629088781774, 0.005227291025221348, -0.00525309331715107, -0.013911325484514236, -0.012409470975399017, -0.01714172586798668, -0.0012289178557693958, -0.009810618124902248, -0.005948150064796209, 0.003891662461683154, 0.008757296949625015, 0.005751237738877535, -0.0011970873456448317, 0.020354503765702248, 0.015365717001259327, -0.0024607947561889887, 0.009550418704748154, 0.009769699536263943, -0.0015130401588976383, 0.016117842867970467, 0.005236098077148199, -0.015279747545719147, 0.013506961055099964, -0.009698474779725075, 0.005106382537633181, 0.0013198427623137832, 0.019235067069530487, -0.014965699054300785, -0.013156155124306679, -0.0005890098982490599, -0.0027701419312506914, -0.007449310272932053, -0.0011548828333616257, -0.0120107876136899, -0.019145814701914787, 0.030314190313220024, -0.006033594720065594, 0.013143743388354778, -0.007506218738853931, -0.0004665380984079093, 0.008268697187304497, -0.010413420386612415, 0.001087578828446567, -0.0194707028567791, 0.00945606455206871, -0.005049975123256445, 0.016847433522343636, 0.014914093539118767, 0.023083966225385666, -0.0011298551689833403, 0.004446530248969793, 0.0009230542927980423, 0.0073202792555093765, -0.0026034903712570667, 0.008866879157721996, -0.021769488230347633, 0.016724810004234314, -0.0053199948742985725, -0.01537367608398199, -0.0029164301231503487, 0.004684540443122387, 0.00037819560384377837, -0.0030824607238173485, 0.015129228122532368, -0.0056968810968101025, 0.012666088528931141, -0.018424993380904198, -0.012089535593986511, 0.003778196405619383, 0.004595635458827019, -0.008211148902773857, -0.0034001674503087997, -0.007960638962686062, -0.0009708101861178875, -0.009445550851523876, -0.01371467299759388, -0.014962807297706604, -0.030479300767183304, 0.0015499681467190385, -0.0567665733397007, 0.022877249866724014, 0.01202844362705946, -0.0016956203617155552, 0.026457522064447403, 0.0008449822198599577, 0.007149197161197662, -0.05228515341877937, 0.007666960824280977, 0.004749962594360113, -0.0033734783064574003, 0.018260320648550987, 0.0014495443319901824, -0.008396463468670845, 0.00152835703920573, 0.016482066363096237, -0.010889118537306786, -0.008941629901528358, -0.03341102600097656, 0.016827061772346497, -0.01867138221859932, 0.008941489271819592, 0.004619118757545948, -0.0060266489163041115, 0.00386616587638855, -0.01708097755908966, 0.005407622549682856, -0.01129680871963501, -0.005450356286019087, -0.012220142409205437, 0.021215315908193588, -0.012670828960835934, 0.0026220555882900953, 0.0008652001852169633, 0.02071787603199482, 0.018996909260749817, 0.0068143513053655624, -0.05469895899295807, -0.0046437084674835205, 0.0008842174429446459, 0.015333930030465126, 0.0002678986929822713, 0.015518136322498322, -0.017129380255937576, -0.00860968604683876, 0.018422305583953857, -0.013257474638521671, 0.0017671501263976097, -0.007982403971254826, 0.011437776498496532, -0.0007172739715315402, -0.032180506736040115, -0.00654223607853055, 0.0023724145721644163, -0.007891546003520489, -0.0001254249073099345, 0.013850986957550049, -0.00411599176004529, 0.003351099556311965, 0.0045462059788405895, -0.014054863713681698, 0.020840482786297798, -0.011523650959134102, 0.009297488257288933, -0.008747474290430546, -0.006789712235331535, -0.013833936303853989, -0.009562991559505463, 0.009847510606050491, -0.00872745644301176, -0.011077001690864563, 0.010407799854874611, 0.007620038464665413, -0.006661323364824057, 0.0069982754066586494, -0.016728604212403297, -0.01344231516122818, 0.0021744403056800365, -0.004003418143838644, -0.0023834938183426857, 0.02974877506494522, -0.016525156795978546, 0.0025834841653704643, -0.02001972496509552, 0.008305942639708519, -0.006860042456537485, 0.02060064673423767, 0.01068668719381094, -0.019591134041547775, -0.0005517256795428693, -0.0019336408004164696, -0.0016721595311537385, -0.01644769497215748, 0.004258826375007629, -0.0034443638287484646, -0.009049365296959877, 0.020297273993492126, 0.0402236171066761, -0.012901166453957558, -0.003748105140402913, 0.0008922318229451776, 0.017133694142103195, 0.022880462929606438, 0.035569362342357635, 0.006555237807333469, -0.004866652190685272, 0.0037520399782806635, 0.00018345967691857368, 0.0017672289395704865, 0.0014726795488968492, -0.00959673710167408, 0.006809554994106293, -0.007259634789079428, 0.0034339416306465864, 0.006659000646322966, -0.006825719960033894, 0.003601590869948268, 0.00634962972253561, -0.018997585400938988, -0.00505433976650238, 0.009987467899918556, -0.004694285802543163, 0.005398789886385202, -0.0067517259158194065, -0.012780616991221905, -0.007677262648940086, 0.009250618517398834, 0.010629433207213879, 0.0014435381162911654, -0.0034909099340438843, 0.0008536798413842916, 0.0003523837367538363, 0.00045579447760246694, 0.006832537241280079, 0.021629350259900093, -0.006299363914877176, -0.0029663729947060347, -0.024362847208976746, -0.018028540536761284, 0.0026179817505180836, -0.010541806928813457, 0.00750148156657815, 0.003360284259542823, -0.02661113440990448, 0.0043257297948002815, -0.026979563757777214, 0.01870860531926155, 0.008322197012603283, -0.013429082930088043, 0.002216180320829153, 0.001105220289900899, -0.0029584337025880814, -0.008152153342962265, 8.714382420293987e-05, 0.012141374871134758, 0.010948545299470425, -0.0032512398902326822, 0.003538332646712661, -0.009772373363375664, -0.006223761476576328, -0.009715733118355274, 0.015039591118693352, -0.02616751380264759, 0.02128325216472149, -0.004727799445390701, -0.002160412725061178, 0.0003339234972372651, 0.00539819523692131, 0.02376304194331169, -0.0021713750902563334, -0.00705938832834363, 0.006226509343832731, 0.008817285299301147, 0.006560558453202248, 0.025750242173671722, -0.014160947874188423, 0.013130019418895245, 0.01239712256938219, -0.008871188387274742, 0.003619680879637599, 0.010060188360512257, -0.014508301392197609, -0.007714997511357069, 0.022196093574166298, 0.017014378681778908, -0.007146788295358419, 0.018323566764593124, 0.006328250281512737, -0.009522109292447567, -0.004335344303399324, 0.0023124953731894493, -0.004555622581392527, 0.008589563891291618, 0.008943342603743076, 0.018259042873978615, 0.007268367800861597, -0.009770938195288181, -0.01613692380487919, -0.001054848893545568, -0.00025543422088958323, -0.015365125611424446, -0.001453657285310328, 0.003451024182140827, 0.006898172199726105, -0.003542232094332576, 0.02377176471054554, 0.008325117640197277, -0.0027308003045618534, -0.02452232502400875, 0.013318328186869621, 0.006352782249450684, 0.011135557666420937, 0.004601226653903723, -0.006763390731066465, 0.17747637629508972, 0.10216069966554642, -0.013987695798277855, -0.011849995702505112, 0.011831648647785187, -0.008159485645592213, 0.003571164794266224, 0.016672804951667786, 0.01987130381166935, 0.00016688648611307144, -0.01006250735372305, -0.012720275670289993, -0.010160029865801334, 0.005148051306605339, 0.016432590782642365, -0.01889961212873459, -0.004381826147437096, 0.005272671580314636, 0.0013939790660515428, 0.009678510017693043, -0.014982200227677822, 0.01036656554788351, -0.00786574650555849, -0.0087351119145751, -0.014524318277835846, -0.006528636906296015, -0.019901972264051437, 0.0023987703025341034, -0.0014309296384453773, 0.019250478595495224, -0.014855309389531612, -0.0020434220787137747, -0.013098962604999542, -0.005579764489084482, 0.010567763820290565, -0.00420769490301609, -0.01374741829931736, -0.019841644912958145, 0.0057880268432199955, 0.003019717987626791, -0.022371266037225723, 0.006137416232377291, -0.009741673246026039, -0.012050365097820759, 0.0006322301342152059, -0.00864062923938036, -0.015580152161419392, 0.003628554055467248, 0.0005287619424052536, -0.007670645136386156, -0.023414913564920425, 0.006192071363329887, 0.002509911311790347, 0.01650385744869709, 0.0020846265833824873, -0.0036579726729542017, 0.022575104609131813, -0.0021296534687280655, -0.03097594529390335, 0.007616014685481787, 0.006731057073920965, -0.015381255187094212, 0.012173417955636978, -0.004120634403079748, 0.009023926220834255, -0.007224990054965019, 0.004411148838698864, 0.0014800068456679583, -0.007584966719150543, 0.006377695593982935, -0.004077638033777475, 0.023020314052700996, -0.015979306772351265, 0.006413148250430822, -0.019000709056854248, 0.001823129365220666, 0.005231979303061962, 0.0007559424266219139, 0.0009134528809227049, -0.006613965146243572, -0.005489641800522804, -0.005901381839066744, -0.015039848163723946, 0.023785952478647232, 0.0021403534337878227, 0.010665844194591045, 0.008084678091108799, 0.020645704120397568, 0.11449828743934631, 0.011167431250214577, 0.002554314909502864, -0.009922643192112446, 0.009776790626347065, 0.0093989921733737, -0.011855141259729862, 0.04651356115937233, 0.00393309723585844, -0.006411741022020578, -0.004919785540550947, 0.011394538916647434, 0.006572223734110594, 0.0019573417957872152, 0.011369576677680016, 0.013790563680231571, 0.01882580853998661, 0.050724729895591736, 0.012148457579314709, -0.0014636908890679479, -0.012477327138185501, 0.006086581852287054, -0.009008824825286865, -0.010536180809140205, 0.006831394508481026, -0.007330639753490686, 0.008830582723021507, 0.01610601134598255, -0.009078588336706161, 0.01841220073401928, -0.0875713899731636, 0.0003436806728132069, -0.019023647531867027, -0.015278913080692291, -0.0002725996309891343, 0.0008294932777062058, -0.003795467782765627, -0.00771499564871192, -0.03500979021191597, 0.010278400965034962, -0.010892053134739399, -0.014119807630777359, -0.0009082432952709496, -0.005637738388031721, -0.007800987455993891, 0.026481114327907562, 0.013303371146321297, 0.008243135176599026, -0.02244790829718113, 0.014836988411843777, -0.022120941430330276, 0.009179891087114811, 0.0017816199688240886, 0.041691169142723083, 0.005526185967028141, 0.011160864494740963, 0.02374882623553276, 0.012609027326107025, -0.0022528746630996466, 0.005812540650367737, 0.004120551981031895, 0.006874788086861372, -0.0011651975801214576, -0.001832381822168827, -0.001228270586580038, 0.01802785135805607, -0.005278395488858223, -0.010725121945142746, 0.005258272867649794, 0.008830958046019077, 0.01409714762121439, -0.02889464609324932, -0.001450310810469091, -0.047569312155246735, -0.00920156855136156, 0.004153953865170479, -0.018607480451464653, 0.007250675465911627, -0.010692236013710499, -0.01584869623184204, 0.05646444484591484, -0.006540016271173954, -0.004483573138713837, -0.009804436936974525, -0.017676135525107384, -0.009097610600292683, 0.025004038587212563, 0.010966276749968529, 0.005269411485642195, 0.02735844813287258, -0.017337271943688393, 0.00571989081799984, -0.010263681411743164, 0.007580539211630821, 0.002401940291747451, -0.0067969998344779015, -0.001359616289846599, 0.008712044917047024, 0.02016257308423519, 0.015748189762234688, -0.01070936769247055, 0.010186650790274143, 0.01822623237967491, -0.012284214608371258, -0.00473607424646616, -0.008414201438426971, 0.00447540357708931, -0.01420158613473177, 0.020297441631555557, 0.0280614010989666, 0.018713394179940224, -0.0077304840087890625, -0.01462982501834631, 0.15605881810188293, -0.004211545456200838, 0.0038541227113455534, 0.01266256533563137, 0.014143969863653183, 0.013340877369046211, 0.021967941895127296, -0.006989834364503622, 0.017395542934536934, -0.005411892663687468, -0.020678211003541946, 0.012266227975487709, -0.0033954130485653877, 0.0012332285987213254, -0.016151325777173042, -0.014301598072052002, 0.003349518170580268, -0.027506548911333084, 0.023518187925219536, -0.006149211432784796, -0.02092776633799076, -0.01460941880941391, -0.0012642777292057872, -0.0038283702451735735, -0.029304519295692444, -0.00010851673141587526, -0.004149585496634245, 0.02552252821624279, -0.017868435010313988, 0.003146624192595482, 0.010213378816843033, 1.6215431969612837e-05, 0.030160684138536453, -0.01813052035868168, -0.01758938655257225, 0.004767769016325474, 0.012031057849526405, -0.0005329383420757949, -0.008707622066140175, 0.005478938575834036, -0.009966708719730377, 0.024113714694976807, 0.006523939315229654, 0.01196730975061655, -0.02757124789059162, 0.200795516371727, 0.007405104115605354, 0.008039125241339207, 0.018737666308879852, 0.009460900910198689, 0.0003555542789399624, -0.005531535483896732, 0.013351303525269032, 0.02378748543560505, 0.02233627624809742, 0.0016332898521795869, -7.110490696504712e-05, -0.008858252316713333, 0.0068496353924274445, -0.029436510056257248, 0.004679437261074781, 0.006671624258160591, 0.00021922800806351006, -0.010709901340305805, -0.020260054618120193, 3.37276651407592e-05, 0.0109724011272192, -0.011331710033118725, -0.0048538981936872005, -0.01475105807185173, 0.00852289516478777, 0.005434667691588402, 0.009040392003953457, 0.012687873095273972, 0.009946622885763645, -0.005790078081190586, -0.006860286928713322, -0.028284572064876556, 0.014708089642226696, -0.0002985840546898544, -0.006213660351932049, -0.008630531840026379, -0.004831978585571051, -0.000976721988990903, -0.01416360680013895, -0.0037039355374872684, -0.004098815843462944, 0.014447378925979137, 0.029721127822995186, -0.008668721653521061, -0.00333578628487885, -0.0029913061298429966, 0.01232840120792389, 0.008163326419889927, 0.003918318543583155, 0.02631228230893612, 0.008715867064893246, -0.011344535276293755, 0.02076593041419983, 0.005838864482939243, 0.010892540216445923, 0.002628169720992446, -0.0025816084817051888, -0.0331055223941803, 0.014574280008673668, -0.011587711982429028, 0.014369508251547813, 0.0028302972204983234, 0.012692592106759548, 0.005942538846284151, -0.005189818330109119, -0.004026086535304785]\n"
          ]
        }
      ]
    },
    {
      "cell_type": "code",
      "source": [
        "# @markdown # Hugging Face\n",
        "model_name = \"jinaai/jina-embeddings-v2-base-en\" # @param [\"BAAI/bge-en-icl\",\"all-MiniLM-L6-v2\",\"jinaai/jina-embeddings-v3\",\"jinaai/jina-embeddings-v2-base-en\"]\n",
        "query = \"India is a growing country\" # @param {\"type\":\"string\",\"placeholder\":\"India is a growing country\"}\n",
        "huggingface_embeddings=HuggingFaceEmbeddings(model_name=model_name)\n",
        "\n",
        "result = huggingface_embeddings.embed_query(query)\n",
        "print(len(result),result)"
      ],
      "metadata": {
        "id": "Tn8JwvZQ8SHS"
      },
      "execution_count": null,
      "outputs": []
    },
    {
      "cell_type": "markdown",
      "source": [
        "# Ready Example"
      ],
      "metadata": {
        "id": "XwmvHY9HWqSz"
      }
    },
    {
      "cell_type": "code",
      "source": [
        "animals=fetch_documents()\n",
        "print(\"Length of documents:\",len(animals))\n",
        "animals[:3]"
      ],
      "metadata": {
        "colab": {
          "base_uri": "https://localhost:8080/"
        },
        "id": "DqE4HVnIWliH",
        "outputId": "bcddc745-afe2-4933-8a91-73c16b5f4e38"
      },
      "execution_count": 12,
      "outputs": [
        {
          "output_type": "stream",
          "name": "stdout",
          "text": [
            "Length of documents: 99\n"
          ]
        },
        {
          "output_type": "execute_result",
          "data": {
            "text/plain": [
              "[Document(id='aardvark', metadata={'type': 'mammal', 'number_of_legs': 4, 'keywords': ['burrowing', 'nocturnal', 'ants', 'savanna'], 'habitat': 'savanna', 'tags': [{'a': 5, 'b': 7}, {'a': 8, 'b': 10}]}, page_content='the aardvark is a nocturnal mammal known for its burrowing habits and long snout used to sniff out ants.'),\n",
              " Document(id='albatross', metadata={'type': 'bird', 'number_of_legs': 2, 'keywords': ['seabird', 'wingspan', 'ocean'], 'habitat': 'marine', 'tags': [{'a': 5, 'b': 8}, {'a': 8, 'b': 10}]}, page_content='the albatross is a large seabird with the longest wingspan of any bird, allowing it to glide effortlessly over oceans.'),\n",
              " Document(id='alligator', metadata={'type': 'reptile', 'number_of_legs': 4, 'keywords': ['reptile', 'jaws', 'wetlands'], 'diet': 'carnivorous', 'nested': {'a': 5}}, page_content='alligators are large reptiles with powerful jaws and are commonly found in freshwater wetlands.')]"
            ]
          },
          "metadata": {},
          "execution_count": 12
        }
      ]
    },
    {
      "cell_type": "code",
      "source": [
        "vector_store = InMemoryVectorStore.from_documents(\n",
        "    documents=animals,\n",
        "    embedding=openai_embedding,\n",
        ")\n",
        "\n",
        "traversal_retriever = GraphRetriever(\n",
        "    store=vector_store,\n",
        "    edges = [\n",
        "        (\"habitat\", \"habitat\"), (\"origin\", \"origin\")\n",
        "    ],\n",
        "    strategy=Eager(select_k=5,start_k=1,max_depth=10)\n",
        ")\n",
        "\n",
        "traversal_retriever"
      ],
      "metadata": {
        "colab": {
          "base_uri": "https://localhost:8080/"
        },
        "id": "ymKhNRc5Wy2L",
        "outputId": "b3cf0f0f-f489-4e69-9bc6-9d130bbe35dc"
      },
      "execution_count": 44,
      "outputs": [
        {
          "output_type": "execute_result",
          "data": {
            "text/plain": [
              "GraphRetriever(store=<langchain_core.vectorstores.in_memory.InMemoryVectorStore object at 0x7c468466d550>, edges=[('habitat', 'habitat'), ('origin', 'origin')], strategy=Eager(select_k=5, start_k=1, adjacent_k=10, max_traverse=None, max_depth=10, _query_embedding=[]), adapter=<langchain_graph_retriever.adapters.in_memory.InMemoryAdapter object at 0x7c4684698050>)"
            ]
          },
          "metadata": {},
          "execution_count": 44
        }
      ]
    },
    {
      "cell_type": "code",
      "source": [
        "print(traversal_retriever.get_graph().draw_ascii())"
      ],
      "metadata": {
        "colab": {
          "base_uri": "https://localhost:8080/"
        },
        "id": "BqRS1AobQl4M",
        "outputId": "df0a6d29-3611-4b3d-d7b1-400bdeb9a41e"
      },
      "execution_count": 45,
      "outputs": [
        {
          "output_type": "stream",
          "name": "stdout",
          "text": [
            "+---------------------+  \n",
            "| GraphRetrieverInput |  \n",
            "+---------------------+  \n",
            "            *            \n",
            "            *            \n",
            "            *            \n",
            "   +----------------+    \n",
            "   | GraphRetriever |    \n",
            "   +----------------+    \n",
            "            *            \n",
            "            *            \n",
            "            *            \n",
            "+----------------------+ \n",
            "| GraphRetrieverOutput | \n",
            "+----------------------+ \n"
          ]
        }
      ]
    },
    {
      "cell_type": "code",
      "source": [
        "results=traversal_retriever.invoke(\"what animal could be found near a anaconda?\")\n",
        "\n",
        "print(len(results))\n",
        "results"
      ],
      "metadata": {
        "colab": {
          "base_uri": "https://localhost:8080/"
        },
        "id": "MNkZJ-vaXf0E",
        "outputId": "0176ffa3-9a61-43c7-a977-3979b299a426"
      },
      "execution_count": 46,
      "outputs": [
        {
          "output_type": "stream",
          "name": "stdout",
          "text": [
            "1\n"
          ]
        },
        {
          "output_type": "execute_result",
          "data": {
            "text/plain": [
              "[Document(id='anteater', metadata={'_depth': 0, '_similarity_score': np.float64(0.45615814038534386), 'type': 'mammal', 'number_of_legs': 4, 'keywords': ['ants', 'tongue', 'termites'], 'diet': 'insectivore', 'nested': {'b': 5}}, page_content='anteaters use their long tongues to eat thousands of ants and termites each day.')]"
            ]
          },
          "metadata": {},
          "execution_count": 46
        }
      ]
    },
    {
      "cell_type": "code",
      "source": [
        "prompt = ChatPromptTemplate.from_template(\n",
        "\"\"\"Answer the question based only on the context provided.\n",
        "\n",
        "Context: {context}\n",
        "\n",
        "Question: {question}\"\"\"\n",
        ")\n",
        "\n",
        "def format_docs(docs):\n",
        "  return \"\\n\\n\".join(\n",
        "      f\"text :{doc.page_content} metadata: {doc.metadata}\"\n",
        "      for doc in docs\n",
        "  )\n",
        "\n",
        "chain = (\n",
        "    {\"context\": traversal_retriever | format_docs, \"question\": RunnablePassthrough()}\n",
        "    | prompt\n",
        "    | openai_model\n",
        "    | StrOutputParser()\n",
        ")\n",
        "\n",
        "chain.get_graph().print_ascii()"
      ],
      "metadata": {
        "id": "9TobVC1ZYfhX",
        "colab": {
          "base_uri": "https://localhost:8080/"
        },
        "outputId": "2ea87a64-2f59-494c-deb4-0339a0f30391"
      },
      "execution_count": 27,
      "outputs": [
        {
          "output_type": "stream",
          "name": "stdout",
          "text": [
            "        +---------------------------------+        \n",
            "        | Parallel<context,question>Input |        \n",
            "        +---------------------------------+        \n",
            "                 **              ***               \n",
            "              ***                   **             \n",
            "            **                        ***          \n",
            "+----------------+                       **        \n",
            "| GraphRetriever |                        *        \n",
            "+----------------+                        *        \n",
            "         *                                *        \n",
            "         *                                *        \n",
            "         *                                *        \n",
            "  +-------------+                 +-------------+  \n",
            "  | format_docs |                 | Passthrough |  \n",
            "  +-------------+                 +-------------+  \n",
            "                 **              **                \n",
            "                   ***        ***                  \n",
            "                      **    **                     \n",
            "       +----------------------------------+        \n",
            "       | Parallel<context,question>Output |        \n",
            "       +----------------------------------+        \n",
            "                         *                         \n",
            "                         *                         \n",
            "                         *                         \n",
            "              +--------------------+               \n",
            "              | ChatPromptTemplate |               \n",
            "              +--------------------+               \n",
            "                         *                         \n",
            "                         *                         \n",
            "                         *                         \n",
            "                  +------------+                   \n",
            "                  | ChatOpenAI |                   \n",
            "                  +------------+                   \n",
            "                         *                         \n",
            "                         *                         \n",
            "                         *                         \n",
            "                +-----------------+                \n",
            "                | StrOutputParser |                \n",
            "                +-----------------+                \n",
            "                         *                         \n",
            "                         *                         \n",
            "                         *                         \n",
            "             +-----------------------+             \n",
            "             | StrOutputParserOutput |             \n",
            "             +-----------------------+             \n"
          ]
        }
      ]
    },
    {
      "cell_type": "code",
      "source": [
        "chain.invoke(\"what animal could be found near a anaconda?\")"
      ],
      "metadata": {
        "colab": {
          "base_uri": "https://localhost:8080/",
          "height": 36
        },
        "id": "PlsrIc4SScUX",
        "outputId": "3003cec8-a852-4652-af0b-0e1d67037909"
      },
      "execution_count": 28,
      "outputs": [
        {
          "output_type": "execute_result",
          "data": {
            "text/plain": [
              "'An anteater'"
            ],
            "application/vnd.google.colaboratory.intrinsic+json": {
              "type": "string"
            }
          },
          "metadata": {},
          "execution_count": 28
        }
      ]
    },
    {
      "cell_type": "code",
      "source": [
        "chain.invoke(\"what animal could be found near a tiger?\")"
      ],
      "metadata": {
        "colab": {
          "base_uri": "https://localhost:8080/",
          "height": 36
        },
        "id": "LpwJ10PDS7dm",
        "outputId": "9d761bd4-12e8-4983-a4b9-d4c1297c31a1"
      },
      "execution_count": 29,
      "outputs": [
        {
          "output_type": "execute_result",
          "data": {
            "text/plain": [
              "'Based on the context, a deer could be found near a tiger.'"
            ],
            "application/vnd.google.colaboratory.intrinsic+json": {
              "type": "string"
            }
          },
          "metadata": {},
          "execution_count": 29
        }
      ]
    },
    {
      "cell_type": "code",
      "source": [
        "chain.invoke(\"what animal can be found in north America?\")"
      ],
      "metadata": {
        "colab": {
          "base_uri": "https://localhost:8080/",
          "height": 36
        },
        "id": "JvXo7H5RVhzv",
        "outputId": "7826c7be-7f10-48b4-9d5b-da42a0858cbc"
      },
      "execution_count": 33,
      "outputs": [
        {
          "output_type": "execute_result",
          "data": {
            "text/plain": [
              "'The animal is the bison.'"
            ],
            "application/vnd.google.colaboratory.intrinsic+json": {
              "type": "string"
            }
          },
          "metadata": {},
          "execution_count": 33
        }
      ]
    },
    {
      "cell_type": "code",
      "source": [
        "chain.invoke(\"what all animal can be found in north America give me all the names?\")"
      ],
      "metadata": {
        "colab": {
          "base_uri": "https://localhost:8080/",
          "height": 36
        },
        "id": "kIs3uH5vVnEM",
        "outputId": "64dd3acf-8a8c-4ba3-96cc-242123973db3"
      },
      "execution_count": 32,
      "outputs": [
        {
          "output_type": "execute_result",
          "data": {
            "text/plain": [
              "'From the information given, the only animal identified as living in North America is the bison.'"
            ],
            "application/vnd.google.colaboratory.intrinsic+json": {
              "type": "string"
            }
          },
          "metadata": {},
          "execution_count": 32
        }
      ]
    }
  ]
}
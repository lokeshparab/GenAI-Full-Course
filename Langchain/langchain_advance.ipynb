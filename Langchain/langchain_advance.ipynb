{
  "nbformat": 4,
  "nbformat_minor": 0,
  "metadata": {
    "colab": {
      "provenance": []
    },
    "kernelspec": {
      "name": "python3",
      "display_name": "Python 3"
    },
    "language_info": {
      "name": "python"
    },
    "widgets": {
      "application/vnd.jupyter.widget-state+json": {
        "46539b0ee97345588b8ce3bb95e35acd": {
          "model_module": "@jupyter-widgets/controls",
          "model_name": "HBoxModel",
          "model_module_version": "1.5.0",
          "state": {
            "_dom_classes": [],
            "_model_module": "@jupyter-widgets/controls",
            "_model_module_version": "1.5.0",
            "_model_name": "HBoxModel",
            "_view_count": null,
            "_view_module": "@jupyter-widgets/controls",
            "_view_module_version": "1.5.0",
            "_view_name": "HBoxView",
            "box_style": "",
            "children": [
              "IPY_MODEL_fca1540ba5a94fc49d619e8cd182d4bc",
              "IPY_MODEL_21f7a0b502264f37b6e9f758be3e5b2a",
              "IPY_MODEL_70d1a00b62bb4232b33c500b1cd5dc54"
            ],
            "layout": "IPY_MODEL_551fdd6a1f754cd1b156fcbcae0723d0"
          }
        },
        "fca1540ba5a94fc49d619e8cd182d4bc": {
          "model_module": "@jupyter-widgets/controls",
          "model_name": "HTMLModel",
          "model_module_version": "1.5.0",
          "state": {
            "_dom_classes": [],
            "_model_module": "@jupyter-widgets/controls",
            "_model_module_version": "1.5.0",
            "_model_name": "HTMLModel",
            "_view_count": null,
            "_view_module": "@jupyter-widgets/controls",
            "_view_module_version": "1.5.0",
            "_view_name": "HTMLView",
            "description": "",
            "description_tooltip": null,
            "layout": "IPY_MODEL_e8686c39744c4d89b42b2a4493bba577",
            "placeholder": "​",
            "style": "IPY_MODEL_97fb41df88b44530925ac6d673dfec2c",
            "value": "modules.json: 100%"
          }
        },
        "21f7a0b502264f37b6e9f758be3e5b2a": {
          "model_module": "@jupyter-widgets/controls",
          "model_name": "FloatProgressModel",
          "model_module_version": "1.5.0",
          "state": {
            "_dom_classes": [],
            "_model_module": "@jupyter-widgets/controls",
            "_model_module_version": "1.5.0",
            "_model_name": "FloatProgressModel",
            "_view_count": null,
            "_view_module": "@jupyter-widgets/controls",
            "_view_module_version": "1.5.0",
            "_view_name": "ProgressView",
            "bar_style": "success",
            "description": "",
            "description_tooltip": null,
            "layout": "IPY_MODEL_7f1646502366456ea0c214dd23f3e8c3",
            "max": 349,
            "min": 0,
            "orientation": "horizontal",
            "style": "IPY_MODEL_f67bb65bd3d7411898becc5ac114e8c3",
            "value": 349
          }
        },
        "70d1a00b62bb4232b33c500b1cd5dc54": {
          "model_module": "@jupyter-widgets/controls",
          "model_name": "HTMLModel",
          "model_module_version": "1.5.0",
          "state": {
            "_dom_classes": [],
            "_model_module": "@jupyter-widgets/controls",
            "_model_module_version": "1.5.0",
            "_model_name": "HTMLModel",
            "_view_count": null,
            "_view_module": "@jupyter-widgets/controls",
            "_view_module_version": "1.5.0",
            "_view_name": "HTMLView",
            "description": "",
            "description_tooltip": null,
            "layout": "IPY_MODEL_a4b58292078649f5b9cd17af5b0ceb70",
            "placeholder": "​",
            "style": "IPY_MODEL_cf2da8f5c75c41dc8561f71cdd92506d",
            "value": " 349/349 [00:00&lt;00:00, 23.9kB/s]"
          }
        },
        "551fdd6a1f754cd1b156fcbcae0723d0": {
          "model_module": "@jupyter-widgets/base",
          "model_name": "LayoutModel",
          "model_module_version": "1.2.0",
          "state": {
            "_model_module": "@jupyter-widgets/base",
            "_model_module_version": "1.2.0",
            "_model_name": "LayoutModel",
            "_view_count": null,
            "_view_module": "@jupyter-widgets/base",
            "_view_module_version": "1.2.0",
            "_view_name": "LayoutView",
            "align_content": null,
            "align_items": null,
            "align_self": null,
            "border": null,
            "bottom": null,
            "display": null,
            "flex": null,
            "flex_flow": null,
            "grid_area": null,
            "grid_auto_columns": null,
            "grid_auto_flow": null,
            "grid_auto_rows": null,
            "grid_column": null,
            "grid_gap": null,
            "grid_row": null,
            "grid_template_areas": null,
            "grid_template_columns": null,
            "grid_template_rows": null,
            "height": null,
            "justify_content": null,
            "justify_items": null,
            "left": null,
            "margin": null,
            "max_height": null,
            "max_width": null,
            "min_height": null,
            "min_width": null,
            "object_fit": null,
            "object_position": null,
            "order": null,
            "overflow": null,
            "overflow_x": null,
            "overflow_y": null,
            "padding": null,
            "right": null,
            "top": null,
            "visibility": null,
            "width": null
          }
        },
        "e8686c39744c4d89b42b2a4493bba577": {
          "model_module": "@jupyter-widgets/base",
          "model_name": "LayoutModel",
          "model_module_version": "1.2.0",
          "state": {
            "_model_module": "@jupyter-widgets/base",
            "_model_module_version": "1.2.0",
            "_model_name": "LayoutModel",
            "_view_count": null,
            "_view_module": "@jupyter-widgets/base",
            "_view_module_version": "1.2.0",
            "_view_name": "LayoutView",
            "align_content": null,
            "align_items": null,
            "align_self": null,
            "border": null,
            "bottom": null,
            "display": null,
            "flex": null,
            "flex_flow": null,
            "grid_area": null,
            "grid_auto_columns": null,
            "grid_auto_flow": null,
            "grid_auto_rows": null,
            "grid_column": null,
            "grid_gap": null,
            "grid_row": null,
            "grid_template_areas": null,
            "grid_template_columns": null,
            "grid_template_rows": null,
            "height": null,
            "justify_content": null,
            "justify_items": null,
            "left": null,
            "margin": null,
            "max_height": null,
            "max_width": null,
            "min_height": null,
            "min_width": null,
            "object_fit": null,
            "object_position": null,
            "order": null,
            "overflow": null,
            "overflow_x": null,
            "overflow_y": null,
            "padding": null,
            "right": null,
            "top": null,
            "visibility": null,
            "width": null
          }
        },
        "97fb41df88b44530925ac6d673dfec2c": {
          "model_module": "@jupyter-widgets/controls",
          "model_name": "DescriptionStyleModel",
          "model_module_version": "1.5.0",
          "state": {
            "_model_module": "@jupyter-widgets/controls",
            "_model_module_version": "1.5.0",
            "_model_name": "DescriptionStyleModel",
            "_view_count": null,
            "_view_module": "@jupyter-widgets/base",
            "_view_module_version": "1.2.0",
            "_view_name": "StyleView",
            "description_width": ""
          }
        },
        "7f1646502366456ea0c214dd23f3e8c3": {
          "model_module": "@jupyter-widgets/base",
          "model_name": "LayoutModel",
          "model_module_version": "1.2.0",
          "state": {
            "_model_module": "@jupyter-widgets/base",
            "_model_module_version": "1.2.0",
            "_model_name": "LayoutModel",
            "_view_count": null,
            "_view_module": "@jupyter-widgets/base",
            "_view_module_version": "1.2.0",
            "_view_name": "LayoutView",
            "align_content": null,
            "align_items": null,
            "align_self": null,
            "border": null,
            "bottom": null,
            "display": null,
            "flex": null,
            "flex_flow": null,
            "grid_area": null,
            "grid_auto_columns": null,
            "grid_auto_flow": null,
            "grid_auto_rows": null,
            "grid_column": null,
            "grid_gap": null,
            "grid_row": null,
            "grid_template_areas": null,
            "grid_template_columns": null,
            "grid_template_rows": null,
            "height": null,
            "justify_content": null,
            "justify_items": null,
            "left": null,
            "margin": null,
            "max_height": null,
            "max_width": null,
            "min_height": null,
            "min_width": null,
            "object_fit": null,
            "object_position": null,
            "order": null,
            "overflow": null,
            "overflow_x": null,
            "overflow_y": null,
            "padding": null,
            "right": null,
            "top": null,
            "visibility": null,
            "width": null
          }
        },
        "f67bb65bd3d7411898becc5ac114e8c3": {
          "model_module": "@jupyter-widgets/controls",
          "model_name": "ProgressStyleModel",
          "model_module_version": "1.5.0",
          "state": {
            "_model_module": "@jupyter-widgets/controls",
            "_model_module_version": "1.5.0",
            "_model_name": "ProgressStyleModel",
            "_view_count": null,
            "_view_module": "@jupyter-widgets/base",
            "_view_module_version": "1.2.0",
            "_view_name": "StyleView",
            "bar_color": null,
            "description_width": ""
          }
        },
        "a4b58292078649f5b9cd17af5b0ceb70": {
          "model_module": "@jupyter-widgets/base",
          "model_name": "LayoutModel",
          "model_module_version": "1.2.0",
          "state": {
            "_model_module": "@jupyter-widgets/base",
            "_model_module_version": "1.2.0",
            "_model_name": "LayoutModel",
            "_view_count": null,
            "_view_module": "@jupyter-widgets/base",
            "_view_module_version": "1.2.0",
            "_view_name": "LayoutView",
            "align_content": null,
            "align_items": null,
            "align_self": null,
            "border": null,
            "bottom": null,
            "display": null,
            "flex": null,
            "flex_flow": null,
            "grid_area": null,
            "grid_auto_columns": null,
            "grid_auto_flow": null,
            "grid_auto_rows": null,
            "grid_column": null,
            "grid_gap": null,
            "grid_row": null,
            "grid_template_areas": null,
            "grid_template_columns": null,
            "grid_template_rows": null,
            "height": null,
            "justify_content": null,
            "justify_items": null,
            "left": null,
            "margin": null,
            "max_height": null,
            "max_width": null,
            "min_height": null,
            "min_width": null,
            "object_fit": null,
            "object_position": null,
            "order": null,
            "overflow": null,
            "overflow_x": null,
            "overflow_y": null,
            "padding": null,
            "right": null,
            "top": null,
            "visibility": null,
            "width": null
          }
        },
        "cf2da8f5c75c41dc8561f71cdd92506d": {
          "model_module": "@jupyter-widgets/controls",
          "model_name": "DescriptionStyleModel",
          "model_module_version": "1.5.0",
          "state": {
            "_model_module": "@jupyter-widgets/controls",
            "_model_module_version": "1.5.0",
            "_model_name": "DescriptionStyleModel",
            "_view_count": null,
            "_view_module": "@jupyter-widgets/base",
            "_view_module_version": "1.2.0",
            "_view_name": "StyleView",
            "description_width": ""
          }
        },
        "5880a11b3b144a14aece975eb0e33a02": {
          "model_module": "@jupyter-widgets/controls",
          "model_name": "HBoxModel",
          "model_module_version": "1.5.0",
          "state": {
            "_dom_classes": [],
            "_model_module": "@jupyter-widgets/controls",
            "_model_module_version": "1.5.0",
            "_model_name": "HBoxModel",
            "_view_count": null,
            "_view_module": "@jupyter-widgets/controls",
            "_view_module_version": "1.5.0",
            "_view_name": "HBoxView",
            "box_style": "",
            "children": [
              "IPY_MODEL_df0e75930af74691a445b7d4d1f869a7",
              "IPY_MODEL_b1c74825509547a0b8486cf0df32c1cb",
              "IPY_MODEL_9c787faf24e54759a0d92d61efda3787"
            ],
            "layout": "IPY_MODEL_f38f9871fcb742b29404dc566d78b6ca"
          }
        },
        "df0e75930af74691a445b7d4d1f869a7": {
          "model_module": "@jupyter-widgets/controls",
          "model_name": "HTMLModel",
          "model_module_version": "1.5.0",
          "state": {
            "_dom_classes": [],
            "_model_module": "@jupyter-widgets/controls",
            "_model_module_version": "1.5.0",
            "_model_name": "HTMLModel",
            "_view_count": null,
            "_view_module": "@jupyter-widgets/controls",
            "_view_module_version": "1.5.0",
            "_view_name": "HTMLView",
            "description": "",
            "description_tooltip": null,
            "layout": "IPY_MODEL_9cb47b57338943108874651030f2ed43",
            "placeholder": "​",
            "style": "IPY_MODEL_5924c29e4fec402397f9943cb93c4e96",
            "value": "config_sentence_transformers.json: 100%"
          }
        },
        "b1c74825509547a0b8486cf0df32c1cb": {
          "model_module": "@jupyter-widgets/controls",
          "model_name": "FloatProgressModel",
          "model_module_version": "1.5.0",
          "state": {
            "_dom_classes": [],
            "_model_module": "@jupyter-widgets/controls",
            "_model_module_version": "1.5.0",
            "_model_name": "FloatProgressModel",
            "_view_count": null,
            "_view_module": "@jupyter-widgets/controls",
            "_view_module_version": "1.5.0",
            "_view_name": "ProgressView",
            "bar_style": "success",
            "description": "",
            "description_tooltip": null,
            "layout": "IPY_MODEL_6042f90d073f4c5c92ac777210c0fca9",
            "max": 116,
            "min": 0,
            "orientation": "horizontal",
            "style": "IPY_MODEL_6cb38d6247b94e628d02fe23153a1993",
            "value": 116
          }
        },
        "9c787faf24e54759a0d92d61efda3787": {
          "model_module": "@jupyter-widgets/controls",
          "model_name": "HTMLModel",
          "model_module_version": "1.5.0",
          "state": {
            "_dom_classes": [],
            "_model_module": "@jupyter-widgets/controls",
            "_model_module_version": "1.5.0",
            "_model_name": "HTMLModel",
            "_view_count": null,
            "_view_module": "@jupyter-widgets/controls",
            "_view_module_version": "1.5.0",
            "_view_name": "HTMLView",
            "description": "",
            "description_tooltip": null,
            "layout": "IPY_MODEL_020f7021b4324ae69c685afa88f14c71",
            "placeholder": "​",
            "style": "IPY_MODEL_3e639f63e1594d0d99b6bae63519b345",
            "value": " 116/116 [00:00&lt;00:00, 10.1kB/s]"
          }
        },
        "f38f9871fcb742b29404dc566d78b6ca": {
          "model_module": "@jupyter-widgets/base",
          "model_name": "LayoutModel",
          "model_module_version": "1.2.0",
          "state": {
            "_model_module": "@jupyter-widgets/base",
            "_model_module_version": "1.2.0",
            "_model_name": "LayoutModel",
            "_view_count": null,
            "_view_module": "@jupyter-widgets/base",
            "_view_module_version": "1.2.0",
            "_view_name": "LayoutView",
            "align_content": null,
            "align_items": null,
            "align_self": null,
            "border": null,
            "bottom": null,
            "display": null,
            "flex": null,
            "flex_flow": null,
            "grid_area": null,
            "grid_auto_columns": null,
            "grid_auto_flow": null,
            "grid_auto_rows": null,
            "grid_column": null,
            "grid_gap": null,
            "grid_row": null,
            "grid_template_areas": null,
            "grid_template_columns": null,
            "grid_template_rows": null,
            "height": null,
            "justify_content": null,
            "justify_items": null,
            "left": null,
            "margin": null,
            "max_height": null,
            "max_width": null,
            "min_height": null,
            "min_width": null,
            "object_fit": null,
            "object_position": null,
            "order": null,
            "overflow": null,
            "overflow_x": null,
            "overflow_y": null,
            "padding": null,
            "right": null,
            "top": null,
            "visibility": null,
            "width": null
          }
        },
        "9cb47b57338943108874651030f2ed43": {
          "model_module": "@jupyter-widgets/base",
          "model_name": "LayoutModel",
          "model_module_version": "1.2.0",
          "state": {
            "_model_module": "@jupyter-widgets/base",
            "_model_module_version": "1.2.0",
            "_model_name": "LayoutModel",
            "_view_count": null,
            "_view_module": "@jupyter-widgets/base",
            "_view_module_version": "1.2.0",
            "_view_name": "LayoutView",
            "align_content": null,
            "align_items": null,
            "align_self": null,
            "border": null,
            "bottom": null,
            "display": null,
            "flex": null,
            "flex_flow": null,
            "grid_area": null,
            "grid_auto_columns": null,
            "grid_auto_flow": null,
            "grid_auto_rows": null,
            "grid_column": null,
            "grid_gap": null,
            "grid_row": null,
            "grid_template_areas": null,
            "grid_template_columns": null,
            "grid_template_rows": null,
            "height": null,
            "justify_content": null,
            "justify_items": null,
            "left": null,
            "margin": null,
            "max_height": null,
            "max_width": null,
            "min_height": null,
            "min_width": null,
            "object_fit": null,
            "object_position": null,
            "order": null,
            "overflow": null,
            "overflow_x": null,
            "overflow_y": null,
            "padding": null,
            "right": null,
            "top": null,
            "visibility": null,
            "width": null
          }
        },
        "5924c29e4fec402397f9943cb93c4e96": {
          "model_module": "@jupyter-widgets/controls",
          "model_name": "DescriptionStyleModel",
          "model_module_version": "1.5.0",
          "state": {
            "_model_module": "@jupyter-widgets/controls",
            "_model_module_version": "1.5.0",
            "_model_name": "DescriptionStyleModel",
            "_view_count": null,
            "_view_module": "@jupyter-widgets/base",
            "_view_module_version": "1.2.0",
            "_view_name": "StyleView",
            "description_width": ""
          }
        },
        "6042f90d073f4c5c92ac777210c0fca9": {
          "model_module": "@jupyter-widgets/base",
          "model_name": "LayoutModel",
          "model_module_version": "1.2.0",
          "state": {
            "_model_module": "@jupyter-widgets/base",
            "_model_module_version": "1.2.0",
            "_model_name": "LayoutModel",
            "_view_count": null,
            "_view_module": "@jupyter-widgets/base",
            "_view_module_version": "1.2.0",
            "_view_name": "LayoutView",
            "align_content": null,
            "align_items": null,
            "align_self": null,
            "border": null,
            "bottom": null,
            "display": null,
            "flex": null,
            "flex_flow": null,
            "grid_area": null,
            "grid_auto_columns": null,
            "grid_auto_flow": null,
            "grid_auto_rows": null,
            "grid_column": null,
            "grid_gap": null,
            "grid_row": null,
            "grid_template_areas": null,
            "grid_template_columns": null,
            "grid_template_rows": null,
            "height": null,
            "justify_content": null,
            "justify_items": null,
            "left": null,
            "margin": null,
            "max_height": null,
            "max_width": null,
            "min_height": null,
            "min_width": null,
            "object_fit": null,
            "object_position": null,
            "order": null,
            "overflow": null,
            "overflow_x": null,
            "overflow_y": null,
            "padding": null,
            "right": null,
            "top": null,
            "visibility": null,
            "width": null
          }
        },
        "6cb38d6247b94e628d02fe23153a1993": {
          "model_module": "@jupyter-widgets/controls",
          "model_name": "ProgressStyleModel",
          "model_module_version": "1.5.0",
          "state": {
            "_model_module": "@jupyter-widgets/controls",
            "_model_module_version": "1.5.0",
            "_model_name": "ProgressStyleModel",
            "_view_count": null,
            "_view_module": "@jupyter-widgets/base",
            "_view_module_version": "1.2.0",
            "_view_name": "StyleView",
            "bar_color": null,
            "description_width": ""
          }
        },
        "020f7021b4324ae69c685afa88f14c71": {
          "model_module": "@jupyter-widgets/base",
          "model_name": "LayoutModel",
          "model_module_version": "1.2.0",
          "state": {
            "_model_module": "@jupyter-widgets/base",
            "_model_module_version": "1.2.0",
            "_model_name": "LayoutModel",
            "_view_count": null,
            "_view_module": "@jupyter-widgets/base",
            "_view_module_version": "1.2.0",
            "_view_name": "LayoutView",
            "align_content": null,
            "align_items": null,
            "align_self": null,
            "border": null,
            "bottom": null,
            "display": null,
            "flex": null,
            "flex_flow": null,
            "grid_area": null,
            "grid_auto_columns": null,
            "grid_auto_flow": null,
            "grid_auto_rows": null,
            "grid_column": null,
            "grid_gap": null,
            "grid_row": null,
            "grid_template_areas": null,
            "grid_template_columns": null,
            "grid_template_rows": null,
            "height": null,
            "justify_content": null,
            "justify_items": null,
            "left": null,
            "margin": null,
            "max_height": null,
            "max_width": null,
            "min_height": null,
            "min_width": null,
            "object_fit": null,
            "object_position": null,
            "order": null,
            "overflow": null,
            "overflow_x": null,
            "overflow_y": null,
            "padding": null,
            "right": null,
            "top": null,
            "visibility": null,
            "width": null
          }
        },
        "3e639f63e1594d0d99b6bae63519b345": {
          "model_module": "@jupyter-widgets/controls",
          "model_name": "DescriptionStyleModel",
          "model_module_version": "1.5.0",
          "state": {
            "_model_module": "@jupyter-widgets/controls",
            "_model_module_version": "1.5.0",
            "_model_name": "DescriptionStyleModel",
            "_view_count": null,
            "_view_module": "@jupyter-widgets/base",
            "_view_module_version": "1.2.0",
            "_view_name": "StyleView",
            "description_width": ""
          }
        },
        "3756e3dc79344cfbad694cafacdf3252": {
          "model_module": "@jupyter-widgets/controls",
          "model_name": "HBoxModel",
          "model_module_version": "1.5.0",
          "state": {
            "_dom_classes": [],
            "_model_module": "@jupyter-widgets/controls",
            "_model_module_version": "1.5.0",
            "_model_name": "HBoxModel",
            "_view_count": null,
            "_view_module": "@jupyter-widgets/controls",
            "_view_module_version": "1.5.0",
            "_view_name": "HBoxView",
            "box_style": "",
            "children": [
              "IPY_MODEL_671ca390a4ab4a3285592b35cdde1e88",
              "IPY_MODEL_aa9ab6fa8a244e8e98336ab5ce01ab18",
              "IPY_MODEL_4c58e31cb3f148cea0a3a773f337bfab"
            ],
            "layout": "IPY_MODEL_978c5a3e46a249c69304f62537a46382"
          }
        },
        "671ca390a4ab4a3285592b35cdde1e88": {
          "model_module": "@jupyter-widgets/controls",
          "model_name": "HTMLModel",
          "model_module_version": "1.5.0",
          "state": {
            "_dom_classes": [],
            "_model_module": "@jupyter-widgets/controls",
            "_model_module_version": "1.5.0",
            "_model_name": "HTMLModel",
            "_view_count": null,
            "_view_module": "@jupyter-widgets/controls",
            "_view_module_version": "1.5.0",
            "_view_name": "HTMLView",
            "description": "",
            "description_tooltip": null,
            "layout": "IPY_MODEL_ce03b4a086434299b41c7ee406282707",
            "placeholder": "​",
            "style": "IPY_MODEL_29b95ece444441f3be5da5a940369766",
            "value": "README.md: 100%"
          }
        },
        "aa9ab6fa8a244e8e98336ab5ce01ab18": {
          "model_module": "@jupyter-widgets/controls",
          "model_name": "FloatProgressModel",
          "model_module_version": "1.5.0",
          "state": {
            "_dom_classes": [],
            "_model_module": "@jupyter-widgets/controls",
            "_model_module_version": "1.5.0",
            "_model_name": "FloatProgressModel",
            "_view_count": null,
            "_view_module": "@jupyter-widgets/controls",
            "_view_module_version": "1.5.0",
            "_view_name": "ProgressView",
            "bar_style": "success",
            "description": "",
            "description_tooltip": null,
            "layout": "IPY_MODEL_d4f0d11c58ec4e2aa9958ee80807b1da",
            "max": 10454,
            "min": 0,
            "orientation": "horizontal",
            "style": "IPY_MODEL_ffa6580f29fc4b64b65332e671d08b82",
            "value": 10454
          }
        },
        "4c58e31cb3f148cea0a3a773f337bfab": {
          "model_module": "@jupyter-widgets/controls",
          "model_name": "HTMLModel",
          "model_module_version": "1.5.0",
          "state": {
            "_dom_classes": [],
            "_model_module": "@jupyter-widgets/controls",
            "_model_module_version": "1.5.0",
            "_model_name": "HTMLModel",
            "_view_count": null,
            "_view_module": "@jupyter-widgets/controls",
            "_view_module_version": "1.5.0",
            "_view_name": "HTMLView",
            "description": "",
            "description_tooltip": null,
            "layout": "IPY_MODEL_7ec3dda073434ed4b47e8129296a238f",
            "placeholder": "​",
            "style": "IPY_MODEL_2e6250336a8b4fe98bf9bf3ec4a9bed9",
            "value": " 10.5k/10.5k [00:00&lt;00:00, 586kB/s]"
          }
        },
        "978c5a3e46a249c69304f62537a46382": {
          "model_module": "@jupyter-widgets/base",
          "model_name": "LayoutModel",
          "model_module_version": "1.2.0",
          "state": {
            "_model_module": "@jupyter-widgets/base",
            "_model_module_version": "1.2.0",
            "_model_name": "LayoutModel",
            "_view_count": null,
            "_view_module": "@jupyter-widgets/base",
            "_view_module_version": "1.2.0",
            "_view_name": "LayoutView",
            "align_content": null,
            "align_items": null,
            "align_self": null,
            "border": null,
            "bottom": null,
            "display": null,
            "flex": null,
            "flex_flow": null,
            "grid_area": null,
            "grid_auto_columns": null,
            "grid_auto_flow": null,
            "grid_auto_rows": null,
            "grid_column": null,
            "grid_gap": null,
            "grid_row": null,
            "grid_template_areas": null,
            "grid_template_columns": null,
            "grid_template_rows": null,
            "height": null,
            "justify_content": null,
            "justify_items": null,
            "left": null,
            "margin": null,
            "max_height": null,
            "max_width": null,
            "min_height": null,
            "min_width": null,
            "object_fit": null,
            "object_position": null,
            "order": null,
            "overflow": null,
            "overflow_x": null,
            "overflow_y": null,
            "padding": null,
            "right": null,
            "top": null,
            "visibility": null,
            "width": null
          }
        },
        "ce03b4a086434299b41c7ee406282707": {
          "model_module": "@jupyter-widgets/base",
          "model_name": "LayoutModel",
          "model_module_version": "1.2.0",
          "state": {
            "_model_module": "@jupyter-widgets/base",
            "_model_module_version": "1.2.0",
            "_model_name": "LayoutModel",
            "_view_count": null,
            "_view_module": "@jupyter-widgets/base",
            "_view_module_version": "1.2.0",
            "_view_name": "LayoutView",
            "align_content": null,
            "align_items": null,
            "align_self": null,
            "border": null,
            "bottom": null,
            "display": null,
            "flex": null,
            "flex_flow": null,
            "grid_area": null,
            "grid_auto_columns": null,
            "grid_auto_flow": null,
            "grid_auto_rows": null,
            "grid_column": null,
            "grid_gap": null,
            "grid_row": null,
            "grid_template_areas": null,
            "grid_template_columns": null,
            "grid_template_rows": null,
            "height": null,
            "justify_content": null,
            "justify_items": null,
            "left": null,
            "margin": null,
            "max_height": null,
            "max_width": null,
            "min_height": null,
            "min_width": null,
            "object_fit": null,
            "object_position": null,
            "order": null,
            "overflow": null,
            "overflow_x": null,
            "overflow_y": null,
            "padding": null,
            "right": null,
            "top": null,
            "visibility": null,
            "width": null
          }
        },
        "29b95ece444441f3be5da5a940369766": {
          "model_module": "@jupyter-widgets/controls",
          "model_name": "DescriptionStyleModel",
          "model_module_version": "1.5.0",
          "state": {
            "_model_module": "@jupyter-widgets/controls",
            "_model_module_version": "1.5.0",
            "_model_name": "DescriptionStyleModel",
            "_view_count": null,
            "_view_module": "@jupyter-widgets/base",
            "_view_module_version": "1.2.0",
            "_view_name": "StyleView",
            "description_width": ""
          }
        },
        "d4f0d11c58ec4e2aa9958ee80807b1da": {
          "model_module": "@jupyter-widgets/base",
          "model_name": "LayoutModel",
          "model_module_version": "1.2.0",
          "state": {
            "_model_module": "@jupyter-widgets/base",
            "_model_module_version": "1.2.0",
            "_model_name": "LayoutModel",
            "_view_count": null,
            "_view_module": "@jupyter-widgets/base",
            "_view_module_version": "1.2.0",
            "_view_name": "LayoutView",
            "align_content": null,
            "align_items": null,
            "align_self": null,
            "border": null,
            "bottom": null,
            "display": null,
            "flex": null,
            "flex_flow": null,
            "grid_area": null,
            "grid_auto_columns": null,
            "grid_auto_flow": null,
            "grid_auto_rows": null,
            "grid_column": null,
            "grid_gap": null,
            "grid_row": null,
            "grid_template_areas": null,
            "grid_template_columns": null,
            "grid_template_rows": null,
            "height": null,
            "justify_content": null,
            "justify_items": null,
            "left": null,
            "margin": null,
            "max_height": null,
            "max_width": null,
            "min_height": null,
            "min_width": null,
            "object_fit": null,
            "object_position": null,
            "order": null,
            "overflow": null,
            "overflow_x": null,
            "overflow_y": null,
            "padding": null,
            "right": null,
            "top": null,
            "visibility": null,
            "width": null
          }
        },
        "ffa6580f29fc4b64b65332e671d08b82": {
          "model_module": "@jupyter-widgets/controls",
          "model_name": "ProgressStyleModel",
          "model_module_version": "1.5.0",
          "state": {
            "_model_module": "@jupyter-widgets/controls",
            "_model_module_version": "1.5.0",
            "_model_name": "ProgressStyleModel",
            "_view_count": null,
            "_view_module": "@jupyter-widgets/base",
            "_view_module_version": "1.2.0",
            "_view_name": "StyleView",
            "bar_color": null,
            "description_width": ""
          }
        },
        "7ec3dda073434ed4b47e8129296a238f": {
          "model_module": "@jupyter-widgets/base",
          "model_name": "LayoutModel",
          "model_module_version": "1.2.0",
          "state": {
            "_model_module": "@jupyter-widgets/base",
            "_model_module_version": "1.2.0",
            "_model_name": "LayoutModel",
            "_view_count": null,
            "_view_module": "@jupyter-widgets/base",
            "_view_module_version": "1.2.0",
            "_view_name": "LayoutView",
            "align_content": null,
            "align_items": null,
            "align_self": null,
            "border": null,
            "bottom": null,
            "display": null,
            "flex": null,
            "flex_flow": null,
            "grid_area": null,
            "grid_auto_columns": null,
            "grid_auto_flow": null,
            "grid_auto_rows": null,
            "grid_column": null,
            "grid_gap": null,
            "grid_row": null,
            "grid_template_areas": null,
            "grid_template_columns": null,
            "grid_template_rows": null,
            "height": null,
            "justify_content": null,
            "justify_items": null,
            "left": null,
            "margin": null,
            "max_height": null,
            "max_width": null,
            "min_height": null,
            "min_width": null,
            "object_fit": null,
            "object_position": null,
            "order": null,
            "overflow": null,
            "overflow_x": null,
            "overflow_y": null,
            "padding": null,
            "right": null,
            "top": null,
            "visibility": null,
            "width": null
          }
        },
        "2e6250336a8b4fe98bf9bf3ec4a9bed9": {
          "model_module": "@jupyter-widgets/controls",
          "model_name": "DescriptionStyleModel",
          "model_module_version": "1.5.0",
          "state": {
            "_model_module": "@jupyter-widgets/controls",
            "_model_module_version": "1.5.0",
            "_model_name": "DescriptionStyleModel",
            "_view_count": null,
            "_view_module": "@jupyter-widgets/base",
            "_view_module_version": "1.2.0",
            "_view_name": "StyleView",
            "description_width": ""
          }
        },
        "45a3e96f953c4ef59cd14d0aadc52b60": {
          "model_module": "@jupyter-widgets/controls",
          "model_name": "HBoxModel",
          "model_module_version": "1.5.0",
          "state": {
            "_dom_classes": [],
            "_model_module": "@jupyter-widgets/controls",
            "_model_module_version": "1.5.0",
            "_model_name": "HBoxModel",
            "_view_count": null,
            "_view_module": "@jupyter-widgets/controls",
            "_view_module_version": "1.5.0",
            "_view_name": "HBoxView",
            "box_style": "",
            "children": [
              "IPY_MODEL_d25d6d9170cc461a942e6e1dca0a60d2",
              "IPY_MODEL_feffaecfc98c4829a95b25b2ea99d528",
              "IPY_MODEL_4639d48bed03458981651cad3affe106"
            ],
            "layout": "IPY_MODEL_b0ff9118b9324757ba485c019cb7c697"
          }
        },
        "d25d6d9170cc461a942e6e1dca0a60d2": {
          "model_module": "@jupyter-widgets/controls",
          "model_name": "HTMLModel",
          "model_module_version": "1.5.0",
          "state": {
            "_dom_classes": [],
            "_model_module": "@jupyter-widgets/controls",
            "_model_module_version": "1.5.0",
            "_model_name": "HTMLModel",
            "_view_count": null,
            "_view_module": "@jupyter-widgets/controls",
            "_view_module_version": "1.5.0",
            "_view_name": "HTMLView",
            "description": "",
            "description_tooltip": null,
            "layout": "IPY_MODEL_f49f24ab679349a5b6fd37c79fed1538",
            "placeholder": "​",
            "style": "IPY_MODEL_dda6300bb4de42b3a383375079251322",
            "value": "sentence_bert_config.json: 100%"
          }
        },
        "feffaecfc98c4829a95b25b2ea99d528": {
          "model_module": "@jupyter-widgets/controls",
          "model_name": "FloatProgressModel",
          "model_module_version": "1.5.0",
          "state": {
            "_dom_classes": [],
            "_model_module": "@jupyter-widgets/controls",
            "_model_module_version": "1.5.0",
            "_model_name": "FloatProgressModel",
            "_view_count": null,
            "_view_module": "@jupyter-widgets/controls",
            "_view_module_version": "1.5.0",
            "_view_name": "ProgressView",
            "bar_style": "success",
            "description": "",
            "description_tooltip": null,
            "layout": "IPY_MODEL_83ecc20e8c0f4c1b845cb3feca8ea02e",
            "max": 53,
            "min": 0,
            "orientation": "horizontal",
            "style": "IPY_MODEL_d1094c094ed6417587656dad94323006",
            "value": 53
          }
        },
        "4639d48bed03458981651cad3affe106": {
          "model_module": "@jupyter-widgets/controls",
          "model_name": "HTMLModel",
          "model_module_version": "1.5.0",
          "state": {
            "_dom_classes": [],
            "_model_module": "@jupyter-widgets/controls",
            "_model_module_version": "1.5.0",
            "_model_name": "HTMLModel",
            "_view_count": null,
            "_view_module": "@jupyter-widgets/controls",
            "_view_module_version": "1.5.0",
            "_view_name": "HTMLView",
            "description": "",
            "description_tooltip": null,
            "layout": "IPY_MODEL_327b667e2858445ab8bbd5bca9030213",
            "placeholder": "​",
            "style": "IPY_MODEL_89af84be1c1542f38cf1c797d6d860de",
            "value": " 53.0/53.0 [00:00&lt;00:00, 4.78kB/s]"
          }
        },
        "b0ff9118b9324757ba485c019cb7c697": {
          "model_module": "@jupyter-widgets/base",
          "model_name": "LayoutModel",
          "model_module_version": "1.2.0",
          "state": {
            "_model_module": "@jupyter-widgets/base",
            "_model_module_version": "1.2.0",
            "_model_name": "LayoutModel",
            "_view_count": null,
            "_view_module": "@jupyter-widgets/base",
            "_view_module_version": "1.2.0",
            "_view_name": "LayoutView",
            "align_content": null,
            "align_items": null,
            "align_self": null,
            "border": null,
            "bottom": null,
            "display": null,
            "flex": null,
            "flex_flow": null,
            "grid_area": null,
            "grid_auto_columns": null,
            "grid_auto_flow": null,
            "grid_auto_rows": null,
            "grid_column": null,
            "grid_gap": null,
            "grid_row": null,
            "grid_template_areas": null,
            "grid_template_columns": null,
            "grid_template_rows": null,
            "height": null,
            "justify_content": null,
            "justify_items": null,
            "left": null,
            "margin": null,
            "max_height": null,
            "max_width": null,
            "min_height": null,
            "min_width": null,
            "object_fit": null,
            "object_position": null,
            "order": null,
            "overflow": null,
            "overflow_x": null,
            "overflow_y": null,
            "padding": null,
            "right": null,
            "top": null,
            "visibility": null,
            "width": null
          }
        },
        "f49f24ab679349a5b6fd37c79fed1538": {
          "model_module": "@jupyter-widgets/base",
          "model_name": "LayoutModel",
          "model_module_version": "1.2.0",
          "state": {
            "_model_module": "@jupyter-widgets/base",
            "_model_module_version": "1.2.0",
            "_model_name": "LayoutModel",
            "_view_count": null,
            "_view_module": "@jupyter-widgets/base",
            "_view_module_version": "1.2.0",
            "_view_name": "LayoutView",
            "align_content": null,
            "align_items": null,
            "align_self": null,
            "border": null,
            "bottom": null,
            "display": null,
            "flex": null,
            "flex_flow": null,
            "grid_area": null,
            "grid_auto_columns": null,
            "grid_auto_flow": null,
            "grid_auto_rows": null,
            "grid_column": null,
            "grid_gap": null,
            "grid_row": null,
            "grid_template_areas": null,
            "grid_template_columns": null,
            "grid_template_rows": null,
            "height": null,
            "justify_content": null,
            "justify_items": null,
            "left": null,
            "margin": null,
            "max_height": null,
            "max_width": null,
            "min_height": null,
            "min_width": null,
            "object_fit": null,
            "object_position": null,
            "order": null,
            "overflow": null,
            "overflow_x": null,
            "overflow_y": null,
            "padding": null,
            "right": null,
            "top": null,
            "visibility": null,
            "width": null
          }
        },
        "dda6300bb4de42b3a383375079251322": {
          "model_module": "@jupyter-widgets/controls",
          "model_name": "DescriptionStyleModel",
          "model_module_version": "1.5.0",
          "state": {
            "_model_module": "@jupyter-widgets/controls",
            "_model_module_version": "1.5.0",
            "_model_name": "DescriptionStyleModel",
            "_view_count": null,
            "_view_module": "@jupyter-widgets/base",
            "_view_module_version": "1.2.0",
            "_view_name": "StyleView",
            "description_width": ""
          }
        },
        "83ecc20e8c0f4c1b845cb3feca8ea02e": {
          "model_module": "@jupyter-widgets/base",
          "model_name": "LayoutModel",
          "model_module_version": "1.2.0",
          "state": {
            "_model_module": "@jupyter-widgets/base",
            "_model_module_version": "1.2.0",
            "_model_name": "LayoutModel",
            "_view_count": null,
            "_view_module": "@jupyter-widgets/base",
            "_view_module_version": "1.2.0",
            "_view_name": "LayoutView",
            "align_content": null,
            "align_items": null,
            "align_self": null,
            "border": null,
            "bottom": null,
            "display": null,
            "flex": null,
            "flex_flow": null,
            "grid_area": null,
            "grid_auto_columns": null,
            "grid_auto_flow": null,
            "grid_auto_rows": null,
            "grid_column": null,
            "grid_gap": null,
            "grid_row": null,
            "grid_template_areas": null,
            "grid_template_columns": null,
            "grid_template_rows": null,
            "height": null,
            "justify_content": null,
            "justify_items": null,
            "left": null,
            "margin": null,
            "max_height": null,
            "max_width": null,
            "min_height": null,
            "min_width": null,
            "object_fit": null,
            "object_position": null,
            "order": null,
            "overflow": null,
            "overflow_x": null,
            "overflow_y": null,
            "padding": null,
            "right": null,
            "top": null,
            "visibility": null,
            "width": null
          }
        },
        "d1094c094ed6417587656dad94323006": {
          "model_module": "@jupyter-widgets/controls",
          "model_name": "ProgressStyleModel",
          "model_module_version": "1.5.0",
          "state": {
            "_model_module": "@jupyter-widgets/controls",
            "_model_module_version": "1.5.0",
            "_model_name": "ProgressStyleModel",
            "_view_count": null,
            "_view_module": "@jupyter-widgets/base",
            "_view_module_version": "1.2.0",
            "_view_name": "StyleView",
            "bar_color": null,
            "description_width": ""
          }
        },
        "327b667e2858445ab8bbd5bca9030213": {
          "model_module": "@jupyter-widgets/base",
          "model_name": "LayoutModel",
          "model_module_version": "1.2.0",
          "state": {
            "_model_module": "@jupyter-widgets/base",
            "_model_module_version": "1.2.0",
            "_model_name": "LayoutModel",
            "_view_count": null,
            "_view_module": "@jupyter-widgets/base",
            "_view_module_version": "1.2.0",
            "_view_name": "LayoutView",
            "align_content": null,
            "align_items": null,
            "align_self": null,
            "border": null,
            "bottom": null,
            "display": null,
            "flex": null,
            "flex_flow": null,
            "grid_area": null,
            "grid_auto_columns": null,
            "grid_auto_flow": null,
            "grid_auto_rows": null,
            "grid_column": null,
            "grid_gap": null,
            "grid_row": null,
            "grid_template_areas": null,
            "grid_template_columns": null,
            "grid_template_rows": null,
            "height": null,
            "justify_content": null,
            "justify_items": null,
            "left": null,
            "margin": null,
            "max_height": null,
            "max_width": null,
            "min_height": null,
            "min_width": null,
            "object_fit": null,
            "object_position": null,
            "order": null,
            "overflow": null,
            "overflow_x": null,
            "overflow_y": null,
            "padding": null,
            "right": null,
            "top": null,
            "visibility": null,
            "width": null
          }
        },
        "89af84be1c1542f38cf1c797d6d860de": {
          "model_module": "@jupyter-widgets/controls",
          "model_name": "DescriptionStyleModel",
          "model_module_version": "1.5.0",
          "state": {
            "_model_module": "@jupyter-widgets/controls",
            "_model_module_version": "1.5.0",
            "_model_name": "DescriptionStyleModel",
            "_view_count": null,
            "_view_module": "@jupyter-widgets/base",
            "_view_module_version": "1.2.0",
            "_view_name": "StyleView",
            "description_width": ""
          }
        },
        "2b064e1b92ac424dbbf60bc3a088c49f": {
          "model_module": "@jupyter-widgets/controls",
          "model_name": "HBoxModel",
          "model_module_version": "1.5.0",
          "state": {
            "_dom_classes": [],
            "_model_module": "@jupyter-widgets/controls",
            "_model_module_version": "1.5.0",
            "_model_name": "HBoxModel",
            "_view_count": null,
            "_view_module": "@jupyter-widgets/controls",
            "_view_module_version": "1.5.0",
            "_view_name": "HBoxView",
            "box_style": "",
            "children": [
              "IPY_MODEL_b30ded0b3993451f9887e12f117c7472",
              "IPY_MODEL_83186a0b44ea4c90b104469c6c98f29e",
              "IPY_MODEL_b30ed168c3c44f59af23f4102c6fb776"
            ],
            "layout": "IPY_MODEL_5b3e0fc0968b45e6bbb9984aa9a12495"
          }
        },
        "b30ded0b3993451f9887e12f117c7472": {
          "model_module": "@jupyter-widgets/controls",
          "model_name": "HTMLModel",
          "model_module_version": "1.5.0",
          "state": {
            "_dom_classes": [],
            "_model_module": "@jupyter-widgets/controls",
            "_model_module_version": "1.5.0",
            "_model_name": "HTMLModel",
            "_view_count": null,
            "_view_module": "@jupyter-widgets/controls",
            "_view_module_version": "1.5.0",
            "_view_name": "HTMLView",
            "description": "",
            "description_tooltip": null,
            "layout": "IPY_MODEL_9b9e929d3d254300a2cd869aa0b0b49c",
            "placeholder": "​",
            "style": "IPY_MODEL_eb0d2d56de7f48e8919c36ed77085bd6",
            "value": "config.json: 100%"
          }
        },
        "83186a0b44ea4c90b104469c6c98f29e": {
          "model_module": "@jupyter-widgets/controls",
          "model_name": "FloatProgressModel",
          "model_module_version": "1.5.0",
          "state": {
            "_dom_classes": [],
            "_model_module": "@jupyter-widgets/controls",
            "_model_module_version": "1.5.0",
            "_model_name": "FloatProgressModel",
            "_view_count": null,
            "_view_module": "@jupyter-widgets/controls",
            "_view_module_version": "1.5.0",
            "_view_name": "ProgressView",
            "bar_style": "success",
            "description": "",
            "description_tooltip": null,
            "layout": "IPY_MODEL_360f1e054181499fba946356cdd5d84b",
            "max": 612,
            "min": 0,
            "orientation": "horizontal",
            "style": "IPY_MODEL_faef41ce5469480885db9cf6b25601dc",
            "value": 612
          }
        },
        "b30ed168c3c44f59af23f4102c6fb776": {
          "model_module": "@jupyter-widgets/controls",
          "model_name": "HTMLModel",
          "model_module_version": "1.5.0",
          "state": {
            "_dom_classes": [],
            "_model_module": "@jupyter-widgets/controls",
            "_model_module_version": "1.5.0",
            "_model_name": "HTMLModel",
            "_view_count": null,
            "_view_module": "@jupyter-widgets/controls",
            "_view_module_version": "1.5.0",
            "_view_name": "HTMLView",
            "description": "",
            "description_tooltip": null,
            "layout": "IPY_MODEL_1ab0ffdc9c634ca982013ecf53048a1f",
            "placeholder": "​",
            "style": "IPY_MODEL_a84c4c81226c462b9458d98bfcefeca6",
            "value": " 612/612 [00:00&lt;00:00, 38.3kB/s]"
          }
        },
        "5b3e0fc0968b45e6bbb9984aa9a12495": {
          "model_module": "@jupyter-widgets/base",
          "model_name": "LayoutModel",
          "model_module_version": "1.2.0",
          "state": {
            "_model_module": "@jupyter-widgets/base",
            "_model_module_version": "1.2.0",
            "_model_name": "LayoutModel",
            "_view_count": null,
            "_view_module": "@jupyter-widgets/base",
            "_view_module_version": "1.2.0",
            "_view_name": "LayoutView",
            "align_content": null,
            "align_items": null,
            "align_self": null,
            "border": null,
            "bottom": null,
            "display": null,
            "flex": null,
            "flex_flow": null,
            "grid_area": null,
            "grid_auto_columns": null,
            "grid_auto_flow": null,
            "grid_auto_rows": null,
            "grid_column": null,
            "grid_gap": null,
            "grid_row": null,
            "grid_template_areas": null,
            "grid_template_columns": null,
            "grid_template_rows": null,
            "height": null,
            "justify_content": null,
            "justify_items": null,
            "left": null,
            "margin": null,
            "max_height": null,
            "max_width": null,
            "min_height": null,
            "min_width": null,
            "object_fit": null,
            "object_position": null,
            "order": null,
            "overflow": null,
            "overflow_x": null,
            "overflow_y": null,
            "padding": null,
            "right": null,
            "top": null,
            "visibility": null,
            "width": null
          }
        },
        "9b9e929d3d254300a2cd869aa0b0b49c": {
          "model_module": "@jupyter-widgets/base",
          "model_name": "LayoutModel",
          "model_module_version": "1.2.0",
          "state": {
            "_model_module": "@jupyter-widgets/base",
            "_model_module_version": "1.2.0",
            "_model_name": "LayoutModel",
            "_view_count": null,
            "_view_module": "@jupyter-widgets/base",
            "_view_module_version": "1.2.0",
            "_view_name": "LayoutView",
            "align_content": null,
            "align_items": null,
            "align_self": null,
            "border": null,
            "bottom": null,
            "display": null,
            "flex": null,
            "flex_flow": null,
            "grid_area": null,
            "grid_auto_columns": null,
            "grid_auto_flow": null,
            "grid_auto_rows": null,
            "grid_column": null,
            "grid_gap": null,
            "grid_row": null,
            "grid_template_areas": null,
            "grid_template_columns": null,
            "grid_template_rows": null,
            "height": null,
            "justify_content": null,
            "justify_items": null,
            "left": null,
            "margin": null,
            "max_height": null,
            "max_width": null,
            "min_height": null,
            "min_width": null,
            "object_fit": null,
            "object_position": null,
            "order": null,
            "overflow": null,
            "overflow_x": null,
            "overflow_y": null,
            "padding": null,
            "right": null,
            "top": null,
            "visibility": null,
            "width": null
          }
        },
        "eb0d2d56de7f48e8919c36ed77085bd6": {
          "model_module": "@jupyter-widgets/controls",
          "model_name": "DescriptionStyleModel",
          "model_module_version": "1.5.0",
          "state": {
            "_model_module": "@jupyter-widgets/controls",
            "_model_module_version": "1.5.0",
            "_model_name": "DescriptionStyleModel",
            "_view_count": null,
            "_view_module": "@jupyter-widgets/base",
            "_view_module_version": "1.2.0",
            "_view_name": "StyleView",
            "description_width": ""
          }
        },
        "360f1e054181499fba946356cdd5d84b": {
          "model_module": "@jupyter-widgets/base",
          "model_name": "LayoutModel",
          "model_module_version": "1.2.0",
          "state": {
            "_model_module": "@jupyter-widgets/base",
            "_model_module_version": "1.2.0",
            "_model_name": "LayoutModel",
            "_view_count": null,
            "_view_module": "@jupyter-widgets/base",
            "_view_module_version": "1.2.0",
            "_view_name": "LayoutView",
            "align_content": null,
            "align_items": null,
            "align_self": null,
            "border": null,
            "bottom": null,
            "display": null,
            "flex": null,
            "flex_flow": null,
            "grid_area": null,
            "grid_auto_columns": null,
            "grid_auto_flow": null,
            "grid_auto_rows": null,
            "grid_column": null,
            "grid_gap": null,
            "grid_row": null,
            "grid_template_areas": null,
            "grid_template_columns": null,
            "grid_template_rows": null,
            "height": null,
            "justify_content": null,
            "justify_items": null,
            "left": null,
            "margin": null,
            "max_height": null,
            "max_width": null,
            "min_height": null,
            "min_width": null,
            "object_fit": null,
            "object_position": null,
            "order": null,
            "overflow": null,
            "overflow_x": null,
            "overflow_y": null,
            "padding": null,
            "right": null,
            "top": null,
            "visibility": null,
            "width": null
          }
        },
        "faef41ce5469480885db9cf6b25601dc": {
          "model_module": "@jupyter-widgets/controls",
          "model_name": "ProgressStyleModel",
          "model_module_version": "1.5.0",
          "state": {
            "_model_module": "@jupyter-widgets/controls",
            "_model_module_version": "1.5.0",
            "_model_name": "ProgressStyleModel",
            "_view_count": null,
            "_view_module": "@jupyter-widgets/base",
            "_view_module_version": "1.2.0",
            "_view_name": "StyleView",
            "bar_color": null,
            "description_width": ""
          }
        },
        "1ab0ffdc9c634ca982013ecf53048a1f": {
          "model_module": "@jupyter-widgets/base",
          "model_name": "LayoutModel",
          "model_module_version": "1.2.0",
          "state": {
            "_model_module": "@jupyter-widgets/base",
            "_model_module_version": "1.2.0",
            "_model_name": "LayoutModel",
            "_view_count": null,
            "_view_module": "@jupyter-widgets/base",
            "_view_module_version": "1.2.0",
            "_view_name": "LayoutView",
            "align_content": null,
            "align_items": null,
            "align_self": null,
            "border": null,
            "bottom": null,
            "display": null,
            "flex": null,
            "flex_flow": null,
            "grid_area": null,
            "grid_auto_columns": null,
            "grid_auto_flow": null,
            "grid_auto_rows": null,
            "grid_column": null,
            "grid_gap": null,
            "grid_row": null,
            "grid_template_areas": null,
            "grid_template_columns": null,
            "grid_template_rows": null,
            "height": null,
            "justify_content": null,
            "justify_items": null,
            "left": null,
            "margin": null,
            "max_height": null,
            "max_width": null,
            "min_height": null,
            "min_width": null,
            "object_fit": null,
            "object_position": null,
            "order": null,
            "overflow": null,
            "overflow_x": null,
            "overflow_y": null,
            "padding": null,
            "right": null,
            "top": null,
            "visibility": null,
            "width": null
          }
        },
        "a84c4c81226c462b9458d98bfcefeca6": {
          "model_module": "@jupyter-widgets/controls",
          "model_name": "DescriptionStyleModel",
          "model_module_version": "1.5.0",
          "state": {
            "_model_module": "@jupyter-widgets/controls",
            "_model_module_version": "1.5.0",
            "_model_name": "DescriptionStyleModel",
            "_view_count": null,
            "_view_module": "@jupyter-widgets/base",
            "_view_module_version": "1.2.0",
            "_view_name": "StyleView",
            "description_width": ""
          }
        },
        "dec575cf645847cf8f66c1b7cd43806c": {
          "model_module": "@jupyter-widgets/controls",
          "model_name": "HBoxModel",
          "model_module_version": "1.5.0",
          "state": {
            "_dom_classes": [],
            "_model_module": "@jupyter-widgets/controls",
            "_model_module_version": "1.5.0",
            "_model_name": "HBoxModel",
            "_view_count": null,
            "_view_module": "@jupyter-widgets/controls",
            "_view_module_version": "1.5.0",
            "_view_name": "HBoxView",
            "box_style": "",
            "children": [
              "IPY_MODEL_738c7e6e4da34d7191b95624cbd9eadf",
              "IPY_MODEL_351d143bbd864702a23188269c2dbd72",
              "IPY_MODEL_7204a9800cb14b63824cb6f4a512c8ad"
            ],
            "layout": "IPY_MODEL_74b1f5fb82be4a72bcc226ff754ee65e"
          }
        },
        "738c7e6e4da34d7191b95624cbd9eadf": {
          "model_module": "@jupyter-widgets/controls",
          "model_name": "HTMLModel",
          "model_module_version": "1.5.0",
          "state": {
            "_dom_classes": [],
            "_model_module": "@jupyter-widgets/controls",
            "_model_module_version": "1.5.0",
            "_model_name": "HTMLModel",
            "_view_count": null,
            "_view_module": "@jupyter-widgets/controls",
            "_view_module_version": "1.5.0",
            "_view_name": "HTMLView",
            "description": "",
            "description_tooltip": null,
            "layout": "IPY_MODEL_7f7f19bf85e349fc81abae383564a2fd",
            "placeholder": "​",
            "style": "IPY_MODEL_d699163e994b442c9352a5d86a527d2b",
            "value": "model.safetensors: 100%"
          }
        },
        "351d143bbd864702a23188269c2dbd72": {
          "model_module": "@jupyter-widgets/controls",
          "model_name": "FloatProgressModel",
          "model_module_version": "1.5.0",
          "state": {
            "_dom_classes": [],
            "_model_module": "@jupyter-widgets/controls",
            "_model_module_version": "1.5.0",
            "_model_name": "FloatProgressModel",
            "_view_count": null,
            "_view_module": "@jupyter-widgets/controls",
            "_view_module_version": "1.5.0",
            "_view_name": "ProgressView",
            "bar_style": "success",
            "description": "",
            "description_tooltip": null,
            "layout": "IPY_MODEL_1adda7c037324c2e9855aa2269fa21bf",
            "max": 90868376,
            "min": 0,
            "orientation": "horizontal",
            "style": "IPY_MODEL_03051d3a05a047ed88b71e5ddf5e0ff0",
            "value": 90868376
          }
        },
        "7204a9800cb14b63824cb6f4a512c8ad": {
          "model_module": "@jupyter-widgets/controls",
          "model_name": "HTMLModel",
          "model_module_version": "1.5.0",
          "state": {
            "_dom_classes": [],
            "_model_module": "@jupyter-widgets/controls",
            "_model_module_version": "1.5.0",
            "_model_name": "HTMLModel",
            "_view_count": null,
            "_view_module": "@jupyter-widgets/controls",
            "_view_module_version": "1.5.0",
            "_view_name": "HTMLView",
            "description": "",
            "description_tooltip": null,
            "layout": "IPY_MODEL_e043c30022e545408fe6c05b7c309899",
            "placeholder": "​",
            "style": "IPY_MODEL_c4eea280aa21442aa9da82bc5739ec20",
            "value": " 90.9M/90.9M [00:00&lt;00:00, 190MB/s]"
          }
        },
        "74b1f5fb82be4a72bcc226ff754ee65e": {
          "model_module": "@jupyter-widgets/base",
          "model_name": "LayoutModel",
          "model_module_version": "1.2.0",
          "state": {
            "_model_module": "@jupyter-widgets/base",
            "_model_module_version": "1.2.0",
            "_model_name": "LayoutModel",
            "_view_count": null,
            "_view_module": "@jupyter-widgets/base",
            "_view_module_version": "1.2.0",
            "_view_name": "LayoutView",
            "align_content": null,
            "align_items": null,
            "align_self": null,
            "border": null,
            "bottom": null,
            "display": null,
            "flex": null,
            "flex_flow": null,
            "grid_area": null,
            "grid_auto_columns": null,
            "grid_auto_flow": null,
            "grid_auto_rows": null,
            "grid_column": null,
            "grid_gap": null,
            "grid_row": null,
            "grid_template_areas": null,
            "grid_template_columns": null,
            "grid_template_rows": null,
            "height": null,
            "justify_content": null,
            "justify_items": null,
            "left": null,
            "margin": null,
            "max_height": null,
            "max_width": null,
            "min_height": null,
            "min_width": null,
            "object_fit": null,
            "object_position": null,
            "order": null,
            "overflow": null,
            "overflow_x": null,
            "overflow_y": null,
            "padding": null,
            "right": null,
            "top": null,
            "visibility": null,
            "width": null
          }
        },
        "7f7f19bf85e349fc81abae383564a2fd": {
          "model_module": "@jupyter-widgets/base",
          "model_name": "LayoutModel",
          "model_module_version": "1.2.0",
          "state": {
            "_model_module": "@jupyter-widgets/base",
            "_model_module_version": "1.2.0",
            "_model_name": "LayoutModel",
            "_view_count": null,
            "_view_module": "@jupyter-widgets/base",
            "_view_module_version": "1.2.0",
            "_view_name": "LayoutView",
            "align_content": null,
            "align_items": null,
            "align_self": null,
            "border": null,
            "bottom": null,
            "display": null,
            "flex": null,
            "flex_flow": null,
            "grid_area": null,
            "grid_auto_columns": null,
            "grid_auto_flow": null,
            "grid_auto_rows": null,
            "grid_column": null,
            "grid_gap": null,
            "grid_row": null,
            "grid_template_areas": null,
            "grid_template_columns": null,
            "grid_template_rows": null,
            "height": null,
            "justify_content": null,
            "justify_items": null,
            "left": null,
            "margin": null,
            "max_height": null,
            "max_width": null,
            "min_height": null,
            "min_width": null,
            "object_fit": null,
            "object_position": null,
            "order": null,
            "overflow": null,
            "overflow_x": null,
            "overflow_y": null,
            "padding": null,
            "right": null,
            "top": null,
            "visibility": null,
            "width": null
          }
        },
        "d699163e994b442c9352a5d86a527d2b": {
          "model_module": "@jupyter-widgets/controls",
          "model_name": "DescriptionStyleModel",
          "model_module_version": "1.5.0",
          "state": {
            "_model_module": "@jupyter-widgets/controls",
            "_model_module_version": "1.5.0",
            "_model_name": "DescriptionStyleModel",
            "_view_count": null,
            "_view_module": "@jupyter-widgets/base",
            "_view_module_version": "1.2.0",
            "_view_name": "StyleView",
            "description_width": ""
          }
        },
        "1adda7c037324c2e9855aa2269fa21bf": {
          "model_module": "@jupyter-widgets/base",
          "model_name": "LayoutModel",
          "model_module_version": "1.2.0",
          "state": {
            "_model_module": "@jupyter-widgets/base",
            "_model_module_version": "1.2.0",
            "_model_name": "LayoutModel",
            "_view_count": null,
            "_view_module": "@jupyter-widgets/base",
            "_view_module_version": "1.2.0",
            "_view_name": "LayoutView",
            "align_content": null,
            "align_items": null,
            "align_self": null,
            "border": null,
            "bottom": null,
            "display": null,
            "flex": null,
            "flex_flow": null,
            "grid_area": null,
            "grid_auto_columns": null,
            "grid_auto_flow": null,
            "grid_auto_rows": null,
            "grid_column": null,
            "grid_gap": null,
            "grid_row": null,
            "grid_template_areas": null,
            "grid_template_columns": null,
            "grid_template_rows": null,
            "height": null,
            "justify_content": null,
            "justify_items": null,
            "left": null,
            "margin": null,
            "max_height": null,
            "max_width": null,
            "min_height": null,
            "min_width": null,
            "object_fit": null,
            "object_position": null,
            "order": null,
            "overflow": null,
            "overflow_x": null,
            "overflow_y": null,
            "padding": null,
            "right": null,
            "top": null,
            "visibility": null,
            "width": null
          }
        },
        "03051d3a05a047ed88b71e5ddf5e0ff0": {
          "model_module": "@jupyter-widgets/controls",
          "model_name": "ProgressStyleModel",
          "model_module_version": "1.5.0",
          "state": {
            "_model_module": "@jupyter-widgets/controls",
            "_model_module_version": "1.5.0",
            "_model_name": "ProgressStyleModel",
            "_view_count": null,
            "_view_module": "@jupyter-widgets/base",
            "_view_module_version": "1.2.0",
            "_view_name": "StyleView",
            "bar_color": null,
            "description_width": ""
          }
        },
        "e043c30022e545408fe6c05b7c309899": {
          "model_module": "@jupyter-widgets/base",
          "model_name": "LayoutModel",
          "model_module_version": "1.2.0",
          "state": {
            "_model_module": "@jupyter-widgets/base",
            "_model_module_version": "1.2.0",
            "_model_name": "LayoutModel",
            "_view_count": null,
            "_view_module": "@jupyter-widgets/base",
            "_view_module_version": "1.2.0",
            "_view_name": "LayoutView",
            "align_content": null,
            "align_items": null,
            "align_self": null,
            "border": null,
            "bottom": null,
            "display": null,
            "flex": null,
            "flex_flow": null,
            "grid_area": null,
            "grid_auto_columns": null,
            "grid_auto_flow": null,
            "grid_auto_rows": null,
            "grid_column": null,
            "grid_gap": null,
            "grid_row": null,
            "grid_template_areas": null,
            "grid_template_columns": null,
            "grid_template_rows": null,
            "height": null,
            "justify_content": null,
            "justify_items": null,
            "left": null,
            "margin": null,
            "max_height": null,
            "max_width": null,
            "min_height": null,
            "min_width": null,
            "object_fit": null,
            "object_position": null,
            "order": null,
            "overflow": null,
            "overflow_x": null,
            "overflow_y": null,
            "padding": null,
            "right": null,
            "top": null,
            "visibility": null,
            "width": null
          }
        },
        "c4eea280aa21442aa9da82bc5739ec20": {
          "model_module": "@jupyter-widgets/controls",
          "model_name": "DescriptionStyleModel",
          "model_module_version": "1.5.0",
          "state": {
            "_model_module": "@jupyter-widgets/controls",
            "_model_module_version": "1.5.0",
            "_model_name": "DescriptionStyleModel",
            "_view_count": null,
            "_view_module": "@jupyter-widgets/base",
            "_view_module_version": "1.2.0",
            "_view_name": "StyleView",
            "description_width": ""
          }
        },
        "d31f477d631145e2951078e55126e22e": {
          "model_module": "@jupyter-widgets/controls",
          "model_name": "HBoxModel",
          "model_module_version": "1.5.0",
          "state": {
            "_dom_classes": [],
            "_model_module": "@jupyter-widgets/controls",
            "_model_module_version": "1.5.0",
            "_model_name": "HBoxModel",
            "_view_count": null,
            "_view_module": "@jupyter-widgets/controls",
            "_view_module_version": "1.5.0",
            "_view_name": "HBoxView",
            "box_style": "",
            "children": [
              "IPY_MODEL_537e07b6f61f4cfcb7838e1f5b3632bd",
              "IPY_MODEL_2c040260665145c7a810752bd55c9b7a",
              "IPY_MODEL_43b90bd5a65143d8b82db4549b13fd42"
            ],
            "layout": "IPY_MODEL_297e78394a384a03a2767ff0861ea7b7"
          }
        },
        "537e07b6f61f4cfcb7838e1f5b3632bd": {
          "model_module": "@jupyter-widgets/controls",
          "model_name": "HTMLModel",
          "model_module_version": "1.5.0",
          "state": {
            "_dom_classes": [],
            "_model_module": "@jupyter-widgets/controls",
            "_model_module_version": "1.5.0",
            "_model_name": "HTMLModel",
            "_view_count": null,
            "_view_module": "@jupyter-widgets/controls",
            "_view_module_version": "1.5.0",
            "_view_name": "HTMLView",
            "description": "",
            "description_tooltip": null,
            "layout": "IPY_MODEL_a6d50b40df97457dbfe0a3b41b0a9d20",
            "placeholder": "​",
            "style": "IPY_MODEL_26637e34596e4c2cb071bb61fc6e3500",
            "value": "tokenizer_config.json: 100%"
          }
        },
        "2c040260665145c7a810752bd55c9b7a": {
          "model_module": "@jupyter-widgets/controls",
          "model_name": "FloatProgressModel",
          "model_module_version": "1.5.0",
          "state": {
            "_dom_classes": [],
            "_model_module": "@jupyter-widgets/controls",
            "_model_module_version": "1.5.0",
            "_model_name": "FloatProgressModel",
            "_view_count": null,
            "_view_module": "@jupyter-widgets/controls",
            "_view_module_version": "1.5.0",
            "_view_name": "ProgressView",
            "bar_style": "success",
            "description": "",
            "description_tooltip": null,
            "layout": "IPY_MODEL_289d02db653743248b74b6c8ae7fc689",
            "max": 350,
            "min": 0,
            "orientation": "horizontal",
            "style": "IPY_MODEL_0c9d972681c24e18b487bc41ffa3cc88",
            "value": 350
          }
        },
        "43b90bd5a65143d8b82db4549b13fd42": {
          "model_module": "@jupyter-widgets/controls",
          "model_name": "HTMLModel",
          "model_module_version": "1.5.0",
          "state": {
            "_dom_classes": [],
            "_model_module": "@jupyter-widgets/controls",
            "_model_module_version": "1.5.0",
            "_model_name": "HTMLModel",
            "_view_count": null,
            "_view_module": "@jupyter-widgets/controls",
            "_view_module_version": "1.5.0",
            "_view_name": "HTMLView",
            "description": "",
            "description_tooltip": null,
            "layout": "IPY_MODEL_cb3c6bbad1654b8886f69eb4be7dac22",
            "placeholder": "​",
            "style": "IPY_MODEL_5a5658f3846245dd9b8ad820e933618c",
            "value": " 350/350 [00:00&lt;00:00, 31.3kB/s]"
          }
        },
        "297e78394a384a03a2767ff0861ea7b7": {
          "model_module": "@jupyter-widgets/base",
          "model_name": "LayoutModel",
          "model_module_version": "1.2.0",
          "state": {
            "_model_module": "@jupyter-widgets/base",
            "_model_module_version": "1.2.0",
            "_model_name": "LayoutModel",
            "_view_count": null,
            "_view_module": "@jupyter-widgets/base",
            "_view_module_version": "1.2.0",
            "_view_name": "LayoutView",
            "align_content": null,
            "align_items": null,
            "align_self": null,
            "border": null,
            "bottom": null,
            "display": null,
            "flex": null,
            "flex_flow": null,
            "grid_area": null,
            "grid_auto_columns": null,
            "grid_auto_flow": null,
            "grid_auto_rows": null,
            "grid_column": null,
            "grid_gap": null,
            "grid_row": null,
            "grid_template_areas": null,
            "grid_template_columns": null,
            "grid_template_rows": null,
            "height": null,
            "justify_content": null,
            "justify_items": null,
            "left": null,
            "margin": null,
            "max_height": null,
            "max_width": null,
            "min_height": null,
            "min_width": null,
            "object_fit": null,
            "object_position": null,
            "order": null,
            "overflow": null,
            "overflow_x": null,
            "overflow_y": null,
            "padding": null,
            "right": null,
            "top": null,
            "visibility": null,
            "width": null
          }
        },
        "a6d50b40df97457dbfe0a3b41b0a9d20": {
          "model_module": "@jupyter-widgets/base",
          "model_name": "LayoutModel",
          "model_module_version": "1.2.0",
          "state": {
            "_model_module": "@jupyter-widgets/base",
            "_model_module_version": "1.2.0",
            "_model_name": "LayoutModel",
            "_view_count": null,
            "_view_module": "@jupyter-widgets/base",
            "_view_module_version": "1.2.0",
            "_view_name": "LayoutView",
            "align_content": null,
            "align_items": null,
            "align_self": null,
            "border": null,
            "bottom": null,
            "display": null,
            "flex": null,
            "flex_flow": null,
            "grid_area": null,
            "grid_auto_columns": null,
            "grid_auto_flow": null,
            "grid_auto_rows": null,
            "grid_column": null,
            "grid_gap": null,
            "grid_row": null,
            "grid_template_areas": null,
            "grid_template_columns": null,
            "grid_template_rows": null,
            "height": null,
            "justify_content": null,
            "justify_items": null,
            "left": null,
            "margin": null,
            "max_height": null,
            "max_width": null,
            "min_height": null,
            "min_width": null,
            "object_fit": null,
            "object_position": null,
            "order": null,
            "overflow": null,
            "overflow_x": null,
            "overflow_y": null,
            "padding": null,
            "right": null,
            "top": null,
            "visibility": null,
            "width": null
          }
        },
        "26637e34596e4c2cb071bb61fc6e3500": {
          "model_module": "@jupyter-widgets/controls",
          "model_name": "DescriptionStyleModel",
          "model_module_version": "1.5.0",
          "state": {
            "_model_module": "@jupyter-widgets/controls",
            "_model_module_version": "1.5.0",
            "_model_name": "DescriptionStyleModel",
            "_view_count": null,
            "_view_module": "@jupyter-widgets/base",
            "_view_module_version": "1.2.0",
            "_view_name": "StyleView",
            "description_width": ""
          }
        },
        "289d02db653743248b74b6c8ae7fc689": {
          "model_module": "@jupyter-widgets/base",
          "model_name": "LayoutModel",
          "model_module_version": "1.2.0",
          "state": {
            "_model_module": "@jupyter-widgets/base",
            "_model_module_version": "1.2.0",
            "_model_name": "LayoutModel",
            "_view_count": null,
            "_view_module": "@jupyter-widgets/base",
            "_view_module_version": "1.2.0",
            "_view_name": "LayoutView",
            "align_content": null,
            "align_items": null,
            "align_self": null,
            "border": null,
            "bottom": null,
            "display": null,
            "flex": null,
            "flex_flow": null,
            "grid_area": null,
            "grid_auto_columns": null,
            "grid_auto_flow": null,
            "grid_auto_rows": null,
            "grid_column": null,
            "grid_gap": null,
            "grid_row": null,
            "grid_template_areas": null,
            "grid_template_columns": null,
            "grid_template_rows": null,
            "height": null,
            "justify_content": null,
            "justify_items": null,
            "left": null,
            "margin": null,
            "max_height": null,
            "max_width": null,
            "min_height": null,
            "min_width": null,
            "object_fit": null,
            "object_position": null,
            "order": null,
            "overflow": null,
            "overflow_x": null,
            "overflow_y": null,
            "padding": null,
            "right": null,
            "top": null,
            "visibility": null,
            "width": null
          }
        },
        "0c9d972681c24e18b487bc41ffa3cc88": {
          "model_module": "@jupyter-widgets/controls",
          "model_name": "ProgressStyleModel",
          "model_module_version": "1.5.0",
          "state": {
            "_model_module": "@jupyter-widgets/controls",
            "_model_module_version": "1.5.0",
            "_model_name": "ProgressStyleModel",
            "_view_count": null,
            "_view_module": "@jupyter-widgets/base",
            "_view_module_version": "1.2.0",
            "_view_name": "StyleView",
            "bar_color": null,
            "description_width": ""
          }
        },
        "cb3c6bbad1654b8886f69eb4be7dac22": {
          "model_module": "@jupyter-widgets/base",
          "model_name": "LayoutModel",
          "model_module_version": "1.2.0",
          "state": {
            "_model_module": "@jupyter-widgets/base",
            "_model_module_version": "1.2.0",
            "_model_name": "LayoutModel",
            "_view_count": null,
            "_view_module": "@jupyter-widgets/base",
            "_view_module_version": "1.2.0",
            "_view_name": "LayoutView",
            "align_content": null,
            "align_items": null,
            "align_self": null,
            "border": null,
            "bottom": null,
            "display": null,
            "flex": null,
            "flex_flow": null,
            "grid_area": null,
            "grid_auto_columns": null,
            "grid_auto_flow": null,
            "grid_auto_rows": null,
            "grid_column": null,
            "grid_gap": null,
            "grid_row": null,
            "grid_template_areas": null,
            "grid_template_columns": null,
            "grid_template_rows": null,
            "height": null,
            "justify_content": null,
            "justify_items": null,
            "left": null,
            "margin": null,
            "max_height": null,
            "max_width": null,
            "min_height": null,
            "min_width": null,
            "object_fit": null,
            "object_position": null,
            "order": null,
            "overflow": null,
            "overflow_x": null,
            "overflow_y": null,
            "padding": null,
            "right": null,
            "top": null,
            "visibility": null,
            "width": null
          }
        },
        "5a5658f3846245dd9b8ad820e933618c": {
          "model_module": "@jupyter-widgets/controls",
          "model_name": "DescriptionStyleModel",
          "model_module_version": "1.5.0",
          "state": {
            "_model_module": "@jupyter-widgets/controls",
            "_model_module_version": "1.5.0",
            "_model_name": "DescriptionStyleModel",
            "_view_count": null,
            "_view_module": "@jupyter-widgets/base",
            "_view_module_version": "1.2.0",
            "_view_name": "StyleView",
            "description_width": ""
          }
        },
        "d53ad67e0d534efe85902656bcbf9283": {
          "model_module": "@jupyter-widgets/controls",
          "model_name": "HBoxModel",
          "model_module_version": "1.5.0",
          "state": {
            "_dom_classes": [],
            "_model_module": "@jupyter-widgets/controls",
            "_model_module_version": "1.5.0",
            "_model_name": "HBoxModel",
            "_view_count": null,
            "_view_module": "@jupyter-widgets/controls",
            "_view_module_version": "1.5.0",
            "_view_name": "HBoxView",
            "box_style": "",
            "children": [
              "IPY_MODEL_aa3cb698da1d4828989b0d7a724072ed",
              "IPY_MODEL_8d654d9c98cd4e50b55c2d817e2578e7",
              "IPY_MODEL_049840e1106b4b1fb9da7f5656e2b52e"
            ],
            "layout": "IPY_MODEL_68002f4c5d2f41b5981944c28dc856e2"
          }
        },
        "aa3cb698da1d4828989b0d7a724072ed": {
          "model_module": "@jupyter-widgets/controls",
          "model_name": "HTMLModel",
          "model_module_version": "1.5.0",
          "state": {
            "_dom_classes": [],
            "_model_module": "@jupyter-widgets/controls",
            "_model_module_version": "1.5.0",
            "_model_name": "HTMLModel",
            "_view_count": null,
            "_view_module": "@jupyter-widgets/controls",
            "_view_module_version": "1.5.0",
            "_view_name": "HTMLView",
            "description": "",
            "description_tooltip": null,
            "layout": "IPY_MODEL_6bcad0ae88824678acc77f83e44465b3",
            "placeholder": "​",
            "style": "IPY_MODEL_84c03d42108c4239bcbdc2b45ddd9f6f",
            "value": "vocab.txt: 100%"
          }
        },
        "8d654d9c98cd4e50b55c2d817e2578e7": {
          "model_module": "@jupyter-widgets/controls",
          "model_name": "FloatProgressModel",
          "model_module_version": "1.5.0",
          "state": {
            "_dom_classes": [],
            "_model_module": "@jupyter-widgets/controls",
            "_model_module_version": "1.5.0",
            "_model_name": "FloatProgressModel",
            "_view_count": null,
            "_view_module": "@jupyter-widgets/controls",
            "_view_module_version": "1.5.0",
            "_view_name": "ProgressView",
            "bar_style": "success",
            "description": "",
            "description_tooltip": null,
            "layout": "IPY_MODEL_4daa8abf9bc9432a8ba6420ba2223e8f",
            "max": 231508,
            "min": 0,
            "orientation": "horizontal",
            "style": "IPY_MODEL_5cfdc4066ab247b5a6b7ebb9bf0e9d7e",
            "value": 231508
          }
        },
        "049840e1106b4b1fb9da7f5656e2b52e": {
          "model_module": "@jupyter-widgets/controls",
          "model_name": "HTMLModel",
          "model_module_version": "1.5.0",
          "state": {
            "_dom_classes": [],
            "_model_module": "@jupyter-widgets/controls",
            "_model_module_version": "1.5.0",
            "_model_name": "HTMLModel",
            "_view_count": null,
            "_view_module": "@jupyter-widgets/controls",
            "_view_module_version": "1.5.0",
            "_view_name": "HTMLView",
            "description": "",
            "description_tooltip": null,
            "layout": "IPY_MODEL_ff96b5b6a47c465dbf0ac1c1da5f47d8",
            "placeholder": "​",
            "style": "IPY_MODEL_eed5027cd28c451ca06e3ec6b3caa854",
            "value": " 232k/232k [00:00&lt;00:00, 1.80MB/s]"
          }
        },
        "68002f4c5d2f41b5981944c28dc856e2": {
          "model_module": "@jupyter-widgets/base",
          "model_name": "LayoutModel",
          "model_module_version": "1.2.0",
          "state": {
            "_model_module": "@jupyter-widgets/base",
            "_model_module_version": "1.2.0",
            "_model_name": "LayoutModel",
            "_view_count": null,
            "_view_module": "@jupyter-widgets/base",
            "_view_module_version": "1.2.0",
            "_view_name": "LayoutView",
            "align_content": null,
            "align_items": null,
            "align_self": null,
            "border": null,
            "bottom": null,
            "display": null,
            "flex": null,
            "flex_flow": null,
            "grid_area": null,
            "grid_auto_columns": null,
            "grid_auto_flow": null,
            "grid_auto_rows": null,
            "grid_column": null,
            "grid_gap": null,
            "grid_row": null,
            "grid_template_areas": null,
            "grid_template_columns": null,
            "grid_template_rows": null,
            "height": null,
            "justify_content": null,
            "justify_items": null,
            "left": null,
            "margin": null,
            "max_height": null,
            "max_width": null,
            "min_height": null,
            "min_width": null,
            "object_fit": null,
            "object_position": null,
            "order": null,
            "overflow": null,
            "overflow_x": null,
            "overflow_y": null,
            "padding": null,
            "right": null,
            "top": null,
            "visibility": null,
            "width": null
          }
        },
        "6bcad0ae88824678acc77f83e44465b3": {
          "model_module": "@jupyter-widgets/base",
          "model_name": "LayoutModel",
          "model_module_version": "1.2.0",
          "state": {
            "_model_module": "@jupyter-widgets/base",
            "_model_module_version": "1.2.0",
            "_model_name": "LayoutModel",
            "_view_count": null,
            "_view_module": "@jupyter-widgets/base",
            "_view_module_version": "1.2.0",
            "_view_name": "LayoutView",
            "align_content": null,
            "align_items": null,
            "align_self": null,
            "border": null,
            "bottom": null,
            "display": null,
            "flex": null,
            "flex_flow": null,
            "grid_area": null,
            "grid_auto_columns": null,
            "grid_auto_flow": null,
            "grid_auto_rows": null,
            "grid_column": null,
            "grid_gap": null,
            "grid_row": null,
            "grid_template_areas": null,
            "grid_template_columns": null,
            "grid_template_rows": null,
            "height": null,
            "justify_content": null,
            "justify_items": null,
            "left": null,
            "margin": null,
            "max_height": null,
            "max_width": null,
            "min_height": null,
            "min_width": null,
            "object_fit": null,
            "object_position": null,
            "order": null,
            "overflow": null,
            "overflow_x": null,
            "overflow_y": null,
            "padding": null,
            "right": null,
            "top": null,
            "visibility": null,
            "width": null
          }
        },
        "84c03d42108c4239bcbdc2b45ddd9f6f": {
          "model_module": "@jupyter-widgets/controls",
          "model_name": "DescriptionStyleModel",
          "model_module_version": "1.5.0",
          "state": {
            "_model_module": "@jupyter-widgets/controls",
            "_model_module_version": "1.5.0",
            "_model_name": "DescriptionStyleModel",
            "_view_count": null,
            "_view_module": "@jupyter-widgets/base",
            "_view_module_version": "1.2.0",
            "_view_name": "StyleView",
            "description_width": ""
          }
        },
        "4daa8abf9bc9432a8ba6420ba2223e8f": {
          "model_module": "@jupyter-widgets/base",
          "model_name": "LayoutModel",
          "model_module_version": "1.2.0",
          "state": {
            "_model_module": "@jupyter-widgets/base",
            "_model_module_version": "1.2.0",
            "_model_name": "LayoutModel",
            "_view_count": null,
            "_view_module": "@jupyter-widgets/base",
            "_view_module_version": "1.2.0",
            "_view_name": "LayoutView",
            "align_content": null,
            "align_items": null,
            "align_self": null,
            "border": null,
            "bottom": null,
            "display": null,
            "flex": null,
            "flex_flow": null,
            "grid_area": null,
            "grid_auto_columns": null,
            "grid_auto_flow": null,
            "grid_auto_rows": null,
            "grid_column": null,
            "grid_gap": null,
            "grid_row": null,
            "grid_template_areas": null,
            "grid_template_columns": null,
            "grid_template_rows": null,
            "height": null,
            "justify_content": null,
            "justify_items": null,
            "left": null,
            "margin": null,
            "max_height": null,
            "max_width": null,
            "min_height": null,
            "min_width": null,
            "object_fit": null,
            "object_position": null,
            "order": null,
            "overflow": null,
            "overflow_x": null,
            "overflow_y": null,
            "padding": null,
            "right": null,
            "top": null,
            "visibility": null,
            "width": null
          }
        },
        "5cfdc4066ab247b5a6b7ebb9bf0e9d7e": {
          "model_module": "@jupyter-widgets/controls",
          "model_name": "ProgressStyleModel",
          "model_module_version": "1.5.0",
          "state": {
            "_model_module": "@jupyter-widgets/controls",
            "_model_module_version": "1.5.0",
            "_model_name": "ProgressStyleModel",
            "_view_count": null,
            "_view_module": "@jupyter-widgets/base",
            "_view_module_version": "1.2.0",
            "_view_name": "StyleView",
            "bar_color": null,
            "description_width": ""
          }
        },
        "ff96b5b6a47c465dbf0ac1c1da5f47d8": {
          "model_module": "@jupyter-widgets/base",
          "model_name": "LayoutModel",
          "model_module_version": "1.2.0",
          "state": {
            "_model_module": "@jupyter-widgets/base",
            "_model_module_version": "1.2.0",
            "_model_name": "LayoutModel",
            "_view_count": null,
            "_view_module": "@jupyter-widgets/base",
            "_view_module_version": "1.2.0",
            "_view_name": "LayoutView",
            "align_content": null,
            "align_items": null,
            "align_self": null,
            "border": null,
            "bottom": null,
            "display": null,
            "flex": null,
            "flex_flow": null,
            "grid_area": null,
            "grid_auto_columns": null,
            "grid_auto_flow": null,
            "grid_auto_rows": null,
            "grid_column": null,
            "grid_gap": null,
            "grid_row": null,
            "grid_template_areas": null,
            "grid_template_columns": null,
            "grid_template_rows": null,
            "height": null,
            "justify_content": null,
            "justify_items": null,
            "left": null,
            "margin": null,
            "max_height": null,
            "max_width": null,
            "min_height": null,
            "min_width": null,
            "object_fit": null,
            "object_position": null,
            "order": null,
            "overflow": null,
            "overflow_x": null,
            "overflow_y": null,
            "padding": null,
            "right": null,
            "top": null,
            "visibility": null,
            "width": null
          }
        },
        "eed5027cd28c451ca06e3ec6b3caa854": {
          "model_module": "@jupyter-widgets/controls",
          "model_name": "DescriptionStyleModel",
          "model_module_version": "1.5.0",
          "state": {
            "_model_module": "@jupyter-widgets/controls",
            "_model_module_version": "1.5.0",
            "_model_name": "DescriptionStyleModel",
            "_view_count": null,
            "_view_module": "@jupyter-widgets/base",
            "_view_module_version": "1.2.0",
            "_view_name": "StyleView",
            "description_width": ""
          }
        },
        "6d737dc54d1d449f8a3e063b65a771cc": {
          "model_module": "@jupyter-widgets/controls",
          "model_name": "HBoxModel",
          "model_module_version": "1.5.0",
          "state": {
            "_dom_classes": [],
            "_model_module": "@jupyter-widgets/controls",
            "_model_module_version": "1.5.0",
            "_model_name": "HBoxModel",
            "_view_count": null,
            "_view_module": "@jupyter-widgets/controls",
            "_view_module_version": "1.5.0",
            "_view_name": "HBoxView",
            "box_style": "",
            "children": [
              "IPY_MODEL_8c0d6b0617b148df8d11064bb6942e0b",
              "IPY_MODEL_81b3acc3016d43709c8fcfd2ed013ab3",
              "IPY_MODEL_327bc00ce2404013982da1a1914476da"
            ],
            "layout": "IPY_MODEL_c3f867ce3ce046a48e3b6514c9ff3e96"
          }
        },
        "8c0d6b0617b148df8d11064bb6942e0b": {
          "model_module": "@jupyter-widgets/controls",
          "model_name": "HTMLModel",
          "model_module_version": "1.5.0",
          "state": {
            "_dom_classes": [],
            "_model_module": "@jupyter-widgets/controls",
            "_model_module_version": "1.5.0",
            "_model_name": "HTMLModel",
            "_view_count": null,
            "_view_module": "@jupyter-widgets/controls",
            "_view_module_version": "1.5.0",
            "_view_name": "HTMLView",
            "description": "",
            "description_tooltip": null,
            "layout": "IPY_MODEL_764d29875d884c6baa142a618fbe181d",
            "placeholder": "​",
            "style": "IPY_MODEL_6a95fa23cd274f11b57b7edf82b763ab",
            "value": "tokenizer.json: 100%"
          }
        },
        "81b3acc3016d43709c8fcfd2ed013ab3": {
          "model_module": "@jupyter-widgets/controls",
          "model_name": "FloatProgressModel",
          "model_module_version": "1.5.0",
          "state": {
            "_dom_classes": [],
            "_model_module": "@jupyter-widgets/controls",
            "_model_module_version": "1.5.0",
            "_model_name": "FloatProgressModel",
            "_view_count": null,
            "_view_module": "@jupyter-widgets/controls",
            "_view_module_version": "1.5.0",
            "_view_name": "ProgressView",
            "bar_style": "success",
            "description": "",
            "description_tooltip": null,
            "layout": "IPY_MODEL_c88bfd5fd4634d6cb58a10a4482bb18d",
            "max": 466247,
            "min": 0,
            "orientation": "horizontal",
            "style": "IPY_MODEL_feabc576eeb54a7f82880fb0cde35399",
            "value": 466247
          }
        },
        "327bc00ce2404013982da1a1914476da": {
          "model_module": "@jupyter-widgets/controls",
          "model_name": "HTMLModel",
          "model_module_version": "1.5.0",
          "state": {
            "_dom_classes": [],
            "_model_module": "@jupyter-widgets/controls",
            "_model_module_version": "1.5.0",
            "_model_name": "HTMLModel",
            "_view_count": null,
            "_view_module": "@jupyter-widgets/controls",
            "_view_module_version": "1.5.0",
            "_view_name": "HTMLView",
            "description": "",
            "description_tooltip": null,
            "layout": "IPY_MODEL_3d9a1cd016e0427194933d0c9db03db5",
            "placeholder": "​",
            "style": "IPY_MODEL_3310f7c46e6746148d83d336efe92599",
            "value": " 466k/466k [00:00&lt;00:00, 6.32MB/s]"
          }
        },
        "c3f867ce3ce046a48e3b6514c9ff3e96": {
          "model_module": "@jupyter-widgets/base",
          "model_name": "LayoutModel",
          "model_module_version": "1.2.0",
          "state": {
            "_model_module": "@jupyter-widgets/base",
            "_model_module_version": "1.2.0",
            "_model_name": "LayoutModel",
            "_view_count": null,
            "_view_module": "@jupyter-widgets/base",
            "_view_module_version": "1.2.0",
            "_view_name": "LayoutView",
            "align_content": null,
            "align_items": null,
            "align_self": null,
            "border": null,
            "bottom": null,
            "display": null,
            "flex": null,
            "flex_flow": null,
            "grid_area": null,
            "grid_auto_columns": null,
            "grid_auto_flow": null,
            "grid_auto_rows": null,
            "grid_column": null,
            "grid_gap": null,
            "grid_row": null,
            "grid_template_areas": null,
            "grid_template_columns": null,
            "grid_template_rows": null,
            "height": null,
            "justify_content": null,
            "justify_items": null,
            "left": null,
            "margin": null,
            "max_height": null,
            "max_width": null,
            "min_height": null,
            "min_width": null,
            "object_fit": null,
            "object_position": null,
            "order": null,
            "overflow": null,
            "overflow_x": null,
            "overflow_y": null,
            "padding": null,
            "right": null,
            "top": null,
            "visibility": null,
            "width": null
          }
        },
        "764d29875d884c6baa142a618fbe181d": {
          "model_module": "@jupyter-widgets/base",
          "model_name": "LayoutModel",
          "model_module_version": "1.2.0",
          "state": {
            "_model_module": "@jupyter-widgets/base",
            "_model_module_version": "1.2.0",
            "_model_name": "LayoutModel",
            "_view_count": null,
            "_view_module": "@jupyter-widgets/base",
            "_view_module_version": "1.2.0",
            "_view_name": "LayoutView",
            "align_content": null,
            "align_items": null,
            "align_self": null,
            "border": null,
            "bottom": null,
            "display": null,
            "flex": null,
            "flex_flow": null,
            "grid_area": null,
            "grid_auto_columns": null,
            "grid_auto_flow": null,
            "grid_auto_rows": null,
            "grid_column": null,
            "grid_gap": null,
            "grid_row": null,
            "grid_template_areas": null,
            "grid_template_columns": null,
            "grid_template_rows": null,
            "height": null,
            "justify_content": null,
            "justify_items": null,
            "left": null,
            "margin": null,
            "max_height": null,
            "max_width": null,
            "min_height": null,
            "min_width": null,
            "object_fit": null,
            "object_position": null,
            "order": null,
            "overflow": null,
            "overflow_x": null,
            "overflow_y": null,
            "padding": null,
            "right": null,
            "top": null,
            "visibility": null,
            "width": null
          }
        },
        "6a95fa23cd274f11b57b7edf82b763ab": {
          "model_module": "@jupyter-widgets/controls",
          "model_name": "DescriptionStyleModel",
          "model_module_version": "1.5.0",
          "state": {
            "_model_module": "@jupyter-widgets/controls",
            "_model_module_version": "1.5.0",
            "_model_name": "DescriptionStyleModel",
            "_view_count": null,
            "_view_module": "@jupyter-widgets/base",
            "_view_module_version": "1.2.0",
            "_view_name": "StyleView",
            "description_width": ""
          }
        },
        "c88bfd5fd4634d6cb58a10a4482bb18d": {
          "model_module": "@jupyter-widgets/base",
          "model_name": "LayoutModel",
          "model_module_version": "1.2.0",
          "state": {
            "_model_module": "@jupyter-widgets/base",
            "_model_module_version": "1.2.0",
            "_model_name": "LayoutModel",
            "_view_count": null,
            "_view_module": "@jupyter-widgets/base",
            "_view_module_version": "1.2.0",
            "_view_name": "LayoutView",
            "align_content": null,
            "align_items": null,
            "align_self": null,
            "border": null,
            "bottom": null,
            "display": null,
            "flex": null,
            "flex_flow": null,
            "grid_area": null,
            "grid_auto_columns": null,
            "grid_auto_flow": null,
            "grid_auto_rows": null,
            "grid_column": null,
            "grid_gap": null,
            "grid_row": null,
            "grid_template_areas": null,
            "grid_template_columns": null,
            "grid_template_rows": null,
            "height": null,
            "justify_content": null,
            "justify_items": null,
            "left": null,
            "margin": null,
            "max_height": null,
            "max_width": null,
            "min_height": null,
            "min_width": null,
            "object_fit": null,
            "object_position": null,
            "order": null,
            "overflow": null,
            "overflow_x": null,
            "overflow_y": null,
            "padding": null,
            "right": null,
            "top": null,
            "visibility": null,
            "width": null
          }
        },
        "feabc576eeb54a7f82880fb0cde35399": {
          "model_module": "@jupyter-widgets/controls",
          "model_name": "ProgressStyleModel",
          "model_module_version": "1.5.0",
          "state": {
            "_model_module": "@jupyter-widgets/controls",
            "_model_module_version": "1.5.0",
            "_model_name": "ProgressStyleModel",
            "_view_count": null,
            "_view_module": "@jupyter-widgets/base",
            "_view_module_version": "1.2.0",
            "_view_name": "StyleView",
            "bar_color": null,
            "description_width": ""
          }
        },
        "3d9a1cd016e0427194933d0c9db03db5": {
          "model_module": "@jupyter-widgets/base",
          "model_name": "LayoutModel",
          "model_module_version": "1.2.0",
          "state": {
            "_model_module": "@jupyter-widgets/base",
            "_model_module_version": "1.2.0",
            "_model_name": "LayoutModel",
            "_view_count": null,
            "_view_module": "@jupyter-widgets/base",
            "_view_module_version": "1.2.0",
            "_view_name": "LayoutView",
            "align_content": null,
            "align_items": null,
            "align_self": null,
            "border": null,
            "bottom": null,
            "display": null,
            "flex": null,
            "flex_flow": null,
            "grid_area": null,
            "grid_auto_columns": null,
            "grid_auto_flow": null,
            "grid_auto_rows": null,
            "grid_column": null,
            "grid_gap": null,
            "grid_row": null,
            "grid_template_areas": null,
            "grid_template_columns": null,
            "grid_template_rows": null,
            "height": null,
            "justify_content": null,
            "justify_items": null,
            "left": null,
            "margin": null,
            "max_height": null,
            "max_width": null,
            "min_height": null,
            "min_width": null,
            "object_fit": null,
            "object_position": null,
            "order": null,
            "overflow": null,
            "overflow_x": null,
            "overflow_y": null,
            "padding": null,
            "right": null,
            "top": null,
            "visibility": null,
            "width": null
          }
        },
        "3310f7c46e6746148d83d336efe92599": {
          "model_module": "@jupyter-widgets/controls",
          "model_name": "DescriptionStyleModel",
          "model_module_version": "1.5.0",
          "state": {
            "_model_module": "@jupyter-widgets/controls",
            "_model_module_version": "1.5.0",
            "_model_name": "DescriptionStyleModel",
            "_view_count": null,
            "_view_module": "@jupyter-widgets/base",
            "_view_module_version": "1.2.0",
            "_view_name": "StyleView",
            "description_width": ""
          }
        },
        "ec17f0bb773a4e569c4f3fba5ec6bcbb": {
          "model_module": "@jupyter-widgets/controls",
          "model_name": "HBoxModel",
          "model_module_version": "1.5.0",
          "state": {
            "_dom_classes": [],
            "_model_module": "@jupyter-widgets/controls",
            "_model_module_version": "1.5.0",
            "_model_name": "HBoxModel",
            "_view_count": null,
            "_view_module": "@jupyter-widgets/controls",
            "_view_module_version": "1.5.0",
            "_view_name": "HBoxView",
            "box_style": "",
            "children": [
              "IPY_MODEL_ee84657ea0334af69274f39fb8035b57",
              "IPY_MODEL_2d02360b402044e09e5281e61cb7a297",
              "IPY_MODEL_2a71228219a94b3ba991d8463027211e"
            ],
            "layout": "IPY_MODEL_7ed7f995461e4e6393cbe8451643dea2"
          }
        },
        "ee84657ea0334af69274f39fb8035b57": {
          "model_module": "@jupyter-widgets/controls",
          "model_name": "HTMLModel",
          "model_module_version": "1.5.0",
          "state": {
            "_dom_classes": [],
            "_model_module": "@jupyter-widgets/controls",
            "_model_module_version": "1.5.0",
            "_model_name": "HTMLModel",
            "_view_count": null,
            "_view_module": "@jupyter-widgets/controls",
            "_view_module_version": "1.5.0",
            "_view_name": "HTMLView",
            "description": "",
            "description_tooltip": null,
            "layout": "IPY_MODEL_bed5afb6dcce4bee82552c5a53966d87",
            "placeholder": "​",
            "style": "IPY_MODEL_9827c9eb62084b4293bb4cd14551464a",
            "value": "special_tokens_map.json: 100%"
          }
        },
        "2d02360b402044e09e5281e61cb7a297": {
          "model_module": "@jupyter-widgets/controls",
          "model_name": "FloatProgressModel",
          "model_module_version": "1.5.0",
          "state": {
            "_dom_classes": [],
            "_model_module": "@jupyter-widgets/controls",
            "_model_module_version": "1.5.0",
            "_model_name": "FloatProgressModel",
            "_view_count": null,
            "_view_module": "@jupyter-widgets/controls",
            "_view_module_version": "1.5.0",
            "_view_name": "ProgressView",
            "bar_style": "success",
            "description": "",
            "description_tooltip": null,
            "layout": "IPY_MODEL_222583b747314159b9af4523b42eaf18",
            "max": 112,
            "min": 0,
            "orientation": "horizontal",
            "style": "IPY_MODEL_7697ad234d1642fb851d411b0867bd55",
            "value": 112
          }
        },
        "2a71228219a94b3ba991d8463027211e": {
          "model_module": "@jupyter-widgets/controls",
          "model_name": "HTMLModel",
          "model_module_version": "1.5.0",
          "state": {
            "_dom_classes": [],
            "_model_module": "@jupyter-widgets/controls",
            "_model_module_version": "1.5.0",
            "_model_name": "HTMLModel",
            "_view_count": null,
            "_view_module": "@jupyter-widgets/controls",
            "_view_module_version": "1.5.0",
            "_view_name": "HTMLView",
            "description": "",
            "description_tooltip": null,
            "layout": "IPY_MODEL_996ffa4d007f4ad8aa50c8b18dd92cd3",
            "placeholder": "​",
            "style": "IPY_MODEL_5c76c3817bcd4054ad685b8afafb1e14",
            "value": " 112/112 [00:00&lt;00:00, 5.58kB/s]"
          }
        },
        "7ed7f995461e4e6393cbe8451643dea2": {
          "model_module": "@jupyter-widgets/base",
          "model_name": "LayoutModel",
          "model_module_version": "1.2.0",
          "state": {
            "_model_module": "@jupyter-widgets/base",
            "_model_module_version": "1.2.0",
            "_model_name": "LayoutModel",
            "_view_count": null,
            "_view_module": "@jupyter-widgets/base",
            "_view_module_version": "1.2.0",
            "_view_name": "LayoutView",
            "align_content": null,
            "align_items": null,
            "align_self": null,
            "border": null,
            "bottom": null,
            "display": null,
            "flex": null,
            "flex_flow": null,
            "grid_area": null,
            "grid_auto_columns": null,
            "grid_auto_flow": null,
            "grid_auto_rows": null,
            "grid_column": null,
            "grid_gap": null,
            "grid_row": null,
            "grid_template_areas": null,
            "grid_template_columns": null,
            "grid_template_rows": null,
            "height": null,
            "justify_content": null,
            "justify_items": null,
            "left": null,
            "margin": null,
            "max_height": null,
            "max_width": null,
            "min_height": null,
            "min_width": null,
            "object_fit": null,
            "object_position": null,
            "order": null,
            "overflow": null,
            "overflow_x": null,
            "overflow_y": null,
            "padding": null,
            "right": null,
            "top": null,
            "visibility": null,
            "width": null
          }
        },
        "bed5afb6dcce4bee82552c5a53966d87": {
          "model_module": "@jupyter-widgets/base",
          "model_name": "LayoutModel",
          "model_module_version": "1.2.0",
          "state": {
            "_model_module": "@jupyter-widgets/base",
            "_model_module_version": "1.2.0",
            "_model_name": "LayoutModel",
            "_view_count": null,
            "_view_module": "@jupyter-widgets/base",
            "_view_module_version": "1.2.0",
            "_view_name": "LayoutView",
            "align_content": null,
            "align_items": null,
            "align_self": null,
            "border": null,
            "bottom": null,
            "display": null,
            "flex": null,
            "flex_flow": null,
            "grid_area": null,
            "grid_auto_columns": null,
            "grid_auto_flow": null,
            "grid_auto_rows": null,
            "grid_column": null,
            "grid_gap": null,
            "grid_row": null,
            "grid_template_areas": null,
            "grid_template_columns": null,
            "grid_template_rows": null,
            "height": null,
            "justify_content": null,
            "justify_items": null,
            "left": null,
            "margin": null,
            "max_height": null,
            "max_width": null,
            "min_height": null,
            "min_width": null,
            "object_fit": null,
            "object_position": null,
            "order": null,
            "overflow": null,
            "overflow_x": null,
            "overflow_y": null,
            "padding": null,
            "right": null,
            "top": null,
            "visibility": null,
            "width": null
          }
        },
        "9827c9eb62084b4293bb4cd14551464a": {
          "model_module": "@jupyter-widgets/controls",
          "model_name": "DescriptionStyleModel",
          "model_module_version": "1.5.0",
          "state": {
            "_model_module": "@jupyter-widgets/controls",
            "_model_module_version": "1.5.0",
            "_model_name": "DescriptionStyleModel",
            "_view_count": null,
            "_view_module": "@jupyter-widgets/base",
            "_view_module_version": "1.2.0",
            "_view_name": "StyleView",
            "description_width": ""
          }
        },
        "222583b747314159b9af4523b42eaf18": {
          "model_module": "@jupyter-widgets/base",
          "model_name": "LayoutModel",
          "model_module_version": "1.2.0",
          "state": {
            "_model_module": "@jupyter-widgets/base",
            "_model_module_version": "1.2.0",
            "_model_name": "LayoutModel",
            "_view_count": null,
            "_view_module": "@jupyter-widgets/base",
            "_view_module_version": "1.2.0",
            "_view_name": "LayoutView",
            "align_content": null,
            "align_items": null,
            "align_self": null,
            "border": null,
            "bottom": null,
            "display": null,
            "flex": null,
            "flex_flow": null,
            "grid_area": null,
            "grid_auto_columns": null,
            "grid_auto_flow": null,
            "grid_auto_rows": null,
            "grid_column": null,
            "grid_gap": null,
            "grid_row": null,
            "grid_template_areas": null,
            "grid_template_columns": null,
            "grid_template_rows": null,
            "height": null,
            "justify_content": null,
            "justify_items": null,
            "left": null,
            "margin": null,
            "max_height": null,
            "max_width": null,
            "min_height": null,
            "min_width": null,
            "object_fit": null,
            "object_position": null,
            "order": null,
            "overflow": null,
            "overflow_x": null,
            "overflow_y": null,
            "padding": null,
            "right": null,
            "top": null,
            "visibility": null,
            "width": null
          }
        },
        "7697ad234d1642fb851d411b0867bd55": {
          "model_module": "@jupyter-widgets/controls",
          "model_name": "ProgressStyleModel",
          "model_module_version": "1.5.0",
          "state": {
            "_model_module": "@jupyter-widgets/controls",
            "_model_module_version": "1.5.0",
            "_model_name": "ProgressStyleModel",
            "_view_count": null,
            "_view_module": "@jupyter-widgets/base",
            "_view_module_version": "1.2.0",
            "_view_name": "StyleView",
            "bar_color": null,
            "description_width": ""
          }
        },
        "996ffa4d007f4ad8aa50c8b18dd92cd3": {
          "model_module": "@jupyter-widgets/base",
          "model_name": "LayoutModel",
          "model_module_version": "1.2.0",
          "state": {
            "_model_module": "@jupyter-widgets/base",
            "_model_module_version": "1.2.0",
            "_model_name": "LayoutModel",
            "_view_count": null,
            "_view_module": "@jupyter-widgets/base",
            "_view_module_version": "1.2.0",
            "_view_name": "LayoutView",
            "align_content": null,
            "align_items": null,
            "align_self": null,
            "border": null,
            "bottom": null,
            "display": null,
            "flex": null,
            "flex_flow": null,
            "grid_area": null,
            "grid_auto_columns": null,
            "grid_auto_flow": null,
            "grid_auto_rows": null,
            "grid_column": null,
            "grid_gap": null,
            "grid_row": null,
            "grid_template_areas": null,
            "grid_template_columns": null,
            "grid_template_rows": null,
            "height": null,
            "justify_content": null,
            "justify_items": null,
            "left": null,
            "margin": null,
            "max_height": null,
            "max_width": null,
            "min_height": null,
            "min_width": null,
            "object_fit": null,
            "object_position": null,
            "order": null,
            "overflow": null,
            "overflow_x": null,
            "overflow_y": null,
            "padding": null,
            "right": null,
            "top": null,
            "visibility": null,
            "width": null
          }
        },
        "5c76c3817bcd4054ad685b8afafb1e14": {
          "model_module": "@jupyter-widgets/controls",
          "model_name": "DescriptionStyleModel",
          "model_module_version": "1.5.0",
          "state": {
            "_model_module": "@jupyter-widgets/controls",
            "_model_module_version": "1.5.0",
            "_model_name": "DescriptionStyleModel",
            "_view_count": null,
            "_view_module": "@jupyter-widgets/base",
            "_view_module_version": "1.2.0",
            "_view_name": "StyleView",
            "description_width": ""
          }
        },
        "8af4a2f0a6894af5bde55020d1538e6c": {
          "model_module": "@jupyter-widgets/controls",
          "model_name": "HBoxModel",
          "model_module_version": "1.5.0",
          "state": {
            "_dom_classes": [],
            "_model_module": "@jupyter-widgets/controls",
            "_model_module_version": "1.5.0",
            "_model_name": "HBoxModel",
            "_view_count": null,
            "_view_module": "@jupyter-widgets/controls",
            "_view_module_version": "1.5.0",
            "_view_name": "HBoxView",
            "box_style": "",
            "children": [
              "IPY_MODEL_0161c8c1fff44e72b881f4dada7e9643",
              "IPY_MODEL_26ce7444be96432ba64cef6e06628126",
              "IPY_MODEL_f94ba9f46f564b5b869a230a082ac267"
            ],
            "layout": "IPY_MODEL_3df317b507854ae88054add5c0e63819"
          }
        },
        "0161c8c1fff44e72b881f4dada7e9643": {
          "model_module": "@jupyter-widgets/controls",
          "model_name": "HTMLModel",
          "model_module_version": "1.5.0",
          "state": {
            "_dom_classes": [],
            "_model_module": "@jupyter-widgets/controls",
            "_model_module_version": "1.5.0",
            "_model_name": "HTMLModel",
            "_view_count": null,
            "_view_module": "@jupyter-widgets/controls",
            "_view_module_version": "1.5.0",
            "_view_name": "HTMLView",
            "description": "",
            "description_tooltip": null,
            "layout": "IPY_MODEL_a49814da65f7422db0609b26e2c8f046",
            "placeholder": "​",
            "style": "IPY_MODEL_6a81f9f52858449b94eface5d364b225",
            "value": "config.json: 100%"
          }
        },
        "26ce7444be96432ba64cef6e06628126": {
          "model_module": "@jupyter-widgets/controls",
          "model_name": "FloatProgressModel",
          "model_module_version": "1.5.0",
          "state": {
            "_dom_classes": [],
            "_model_module": "@jupyter-widgets/controls",
            "_model_module_version": "1.5.0",
            "_model_name": "FloatProgressModel",
            "_view_count": null,
            "_view_module": "@jupyter-widgets/controls",
            "_view_module_version": "1.5.0",
            "_view_name": "ProgressView",
            "bar_style": "success",
            "description": "",
            "description_tooltip": null,
            "layout": "IPY_MODEL_d964a0fcf67649f29b7756958a68af7d",
            "max": 190,
            "min": 0,
            "orientation": "horizontal",
            "style": "IPY_MODEL_3740376517d848b0a245358b1edd3c3b",
            "value": 190
          }
        },
        "f94ba9f46f564b5b869a230a082ac267": {
          "model_module": "@jupyter-widgets/controls",
          "model_name": "HTMLModel",
          "model_module_version": "1.5.0",
          "state": {
            "_dom_classes": [],
            "_model_module": "@jupyter-widgets/controls",
            "_model_module_version": "1.5.0",
            "_model_name": "HTMLModel",
            "_view_count": null,
            "_view_module": "@jupyter-widgets/controls",
            "_view_module_version": "1.5.0",
            "_view_name": "HTMLView",
            "description": "",
            "description_tooltip": null,
            "layout": "IPY_MODEL_58a59f8417a64b0ea3d65f781a1897c4",
            "placeholder": "​",
            "style": "IPY_MODEL_00b0ab99bf224a899b34160f2a94b385",
            "value": " 190/190 [00:00&lt;00:00, 4.15kB/s]"
          }
        },
        "3df317b507854ae88054add5c0e63819": {
          "model_module": "@jupyter-widgets/base",
          "model_name": "LayoutModel",
          "model_module_version": "1.2.0",
          "state": {
            "_model_module": "@jupyter-widgets/base",
            "_model_module_version": "1.2.0",
            "_model_name": "LayoutModel",
            "_view_count": null,
            "_view_module": "@jupyter-widgets/base",
            "_view_module_version": "1.2.0",
            "_view_name": "LayoutView",
            "align_content": null,
            "align_items": null,
            "align_self": null,
            "border": null,
            "bottom": null,
            "display": null,
            "flex": null,
            "flex_flow": null,
            "grid_area": null,
            "grid_auto_columns": null,
            "grid_auto_flow": null,
            "grid_auto_rows": null,
            "grid_column": null,
            "grid_gap": null,
            "grid_row": null,
            "grid_template_areas": null,
            "grid_template_columns": null,
            "grid_template_rows": null,
            "height": null,
            "justify_content": null,
            "justify_items": null,
            "left": null,
            "margin": null,
            "max_height": null,
            "max_width": null,
            "min_height": null,
            "min_width": null,
            "object_fit": null,
            "object_position": null,
            "order": null,
            "overflow": null,
            "overflow_x": null,
            "overflow_y": null,
            "padding": null,
            "right": null,
            "top": null,
            "visibility": null,
            "width": null
          }
        },
        "a49814da65f7422db0609b26e2c8f046": {
          "model_module": "@jupyter-widgets/base",
          "model_name": "LayoutModel",
          "model_module_version": "1.2.0",
          "state": {
            "_model_module": "@jupyter-widgets/base",
            "_model_module_version": "1.2.0",
            "_model_name": "LayoutModel",
            "_view_count": null,
            "_view_module": "@jupyter-widgets/base",
            "_view_module_version": "1.2.0",
            "_view_name": "LayoutView",
            "align_content": null,
            "align_items": null,
            "align_self": null,
            "border": null,
            "bottom": null,
            "display": null,
            "flex": null,
            "flex_flow": null,
            "grid_area": null,
            "grid_auto_columns": null,
            "grid_auto_flow": null,
            "grid_auto_rows": null,
            "grid_column": null,
            "grid_gap": null,
            "grid_row": null,
            "grid_template_areas": null,
            "grid_template_columns": null,
            "grid_template_rows": null,
            "height": null,
            "justify_content": null,
            "justify_items": null,
            "left": null,
            "margin": null,
            "max_height": null,
            "max_width": null,
            "min_height": null,
            "min_width": null,
            "object_fit": null,
            "object_position": null,
            "order": null,
            "overflow": null,
            "overflow_x": null,
            "overflow_y": null,
            "padding": null,
            "right": null,
            "top": null,
            "visibility": null,
            "width": null
          }
        },
        "6a81f9f52858449b94eface5d364b225": {
          "model_module": "@jupyter-widgets/controls",
          "model_name": "DescriptionStyleModel",
          "model_module_version": "1.5.0",
          "state": {
            "_model_module": "@jupyter-widgets/controls",
            "_model_module_version": "1.5.0",
            "_model_name": "DescriptionStyleModel",
            "_view_count": null,
            "_view_module": "@jupyter-widgets/base",
            "_view_module_version": "1.2.0",
            "_view_name": "StyleView",
            "description_width": ""
          }
        },
        "d964a0fcf67649f29b7756958a68af7d": {
          "model_module": "@jupyter-widgets/base",
          "model_name": "LayoutModel",
          "model_module_version": "1.2.0",
          "state": {
            "_model_module": "@jupyter-widgets/base",
            "_model_module_version": "1.2.0",
            "_model_name": "LayoutModel",
            "_view_count": null,
            "_view_module": "@jupyter-widgets/base",
            "_view_module_version": "1.2.0",
            "_view_name": "LayoutView",
            "align_content": null,
            "align_items": null,
            "align_self": null,
            "border": null,
            "bottom": null,
            "display": null,
            "flex": null,
            "flex_flow": null,
            "grid_area": null,
            "grid_auto_columns": null,
            "grid_auto_flow": null,
            "grid_auto_rows": null,
            "grid_column": null,
            "grid_gap": null,
            "grid_row": null,
            "grid_template_areas": null,
            "grid_template_columns": null,
            "grid_template_rows": null,
            "height": null,
            "justify_content": null,
            "justify_items": null,
            "left": null,
            "margin": null,
            "max_height": null,
            "max_width": null,
            "min_height": null,
            "min_width": null,
            "object_fit": null,
            "object_position": null,
            "order": null,
            "overflow": null,
            "overflow_x": null,
            "overflow_y": null,
            "padding": null,
            "right": null,
            "top": null,
            "visibility": null,
            "width": null
          }
        },
        "3740376517d848b0a245358b1edd3c3b": {
          "model_module": "@jupyter-widgets/controls",
          "model_name": "ProgressStyleModel",
          "model_module_version": "1.5.0",
          "state": {
            "_model_module": "@jupyter-widgets/controls",
            "_model_module_version": "1.5.0",
            "_model_name": "ProgressStyleModel",
            "_view_count": null,
            "_view_module": "@jupyter-widgets/base",
            "_view_module_version": "1.2.0",
            "_view_name": "StyleView",
            "bar_color": null,
            "description_width": ""
          }
        },
        "58a59f8417a64b0ea3d65f781a1897c4": {
          "model_module": "@jupyter-widgets/base",
          "model_name": "LayoutModel",
          "model_module_version": "1.2.0",
          "state": {
            "_model_module": "@jupyter-widgets/base",
            "_model_module_version": "1.2.0",
            "_model_name": "LayoutModel",
            "_view_count": null,
            "_view_module": "@jupyter-widgets/base",
            "_view_module_version": "1.2.0",
            "_view_name": "LayoutView",
            "align_content": null,
            "align_items": null,
            "align_self": null,
            "border": null,
            "bottom": null,
            "display": null,
            "flex": null,
            "flex_flow": null,
            "grid_area": null,
            "grid_auto_columns": null,
            "grid_auto_flow": null,
            "grid_auto_rows": null,
            "grid_column": null,
            "grid_gap": null,
            "grid_row": null,
            "grid_template_areas": null,
            "grid_template_columns": null,
            "grid_template_rows": null,
            "height": null,
            "justify_content": null,
            "justify_items": null,
            "left": null,
            "margin": null,
            "max_height": null,
            "max_width": null,
            "min_height": null,
            "min_width": null,
            "object_fit": null,
            "object_position": null,
            "order": null,
            "overflow": null,
            "overflow_x": null,
            "overflow_y": null,
            "padding": null,
            "right": null,
            "top": null,
            "visibility": null,
            "width": null
          }
        },
        "00b0ab99bf224a899b34160f2a94b385": {
          "model_module": "@jupyter-widgets/controls",
          "model_name": "DescriptionStyleModel",
          "model_module_version": "1.5.0",
          "state": {
            "_model_module": "@jupyter-widgets/controls",
            "_model_module_version": "1.5.0",
            "_model_name": "DescriptionStyleModel",
            "_view_count": null,
            "_view_module": "@jupyter-widgets/base",
            "_view_module_version": "1.2.0",
            "_view_name": "StyleView",
            "description_width": ""
          }
        }
      }
    }
  },
  "cells": [
    {
      "cell_type": "markdown",
      "source": [
        "# Install and Import library"
      ],
      "metadata": {
        "id": "0YEHv55HkW0c"
      }
    },
    {
      "cell_type": "code",
      "execution_count": null,
      "metadata": {
        "id": "NL7QZq_mkVoS"
      },
      "outputs": [],
      "source": [
        "! pip install pinecone chromadb faiss-cpu grandalf langchain langchain-community langchain-groq langchain-pinecone pinecone-notebooks langchain-anthropic langchain-google-genai langchain-openai langchain-huggingface  pypdf"
      ]
    },
    {
      "cell_type": "code",
      "source": [
        "from langchain_groq import ChatGroq\n",
        "from langchain_anthropic import ChatAnthropic\n",
        "from langchain_google_genai import ChatGoogleGenerativeAI, GoogleGenerativeAIEmbeddings\n",
        "from langchain_openai import ChatOpenAI,OpenAIEmbeddings\n",
        "from langchain_huggingface import ChatHuggingFace, HuggingFaceEndpoint, HuggingFacePipeline, HuggingFaceEmbeddings\n",
        "\n",
        "import os"
      ],
      "metadata": {
        "id": "7LHsT7L5lH9b"
      },
      "execution_count": null,
      "outputs": []
    },
    {
      "cell_type": "code",
      "source": [
        "from google.colab import userdata\n",
        "os.environ[\"HF_TOKEN\"] = userdata.get('HF_TOKEN')\n",
        "os.environ[\"GOOGLE_API_KEY\"] = userdata.get('GOOGLE_API_KEY')\n",
        "os.environ[\"OPENAI_API_KEY\"] = userdata.get('OPENAI_API_KEY')\n",
        "os.environ[\"GROQ_API_KEY\"] = userdata.get('GROQ_API_KEY')\n",
        "os.environ[\"ANTHROPIC_API_KEY\"] = userdata.get('ANTHROPIC_API_KEY')\n",
        "os.environ[\"PINECONE_API_KEY\"] = userdata.get('PINECONE_API_KEY')"
      ],
      "metadata": {
        "id": "xs7REYBLlI-R"
      },
      "execution_count": null,
      "outputs": []
    },
    {
      "cell_type": "markdown",
      "source": [
        "# Model loading"
      ],
      "metadata": {
        "id": "HMBNT_gHSBzJ"
      }
    },
    {
      "cell_type": "markdown",
      "source": [
        "## Chat Model"
      ],
      "metadata": {
        "id": "D_sW3-Ei79mG"
      }
    },
    {
      "cell_type": "code",
      "source": [
        "llm = HuggingFaceEndpoint(\n",
        "    repo_id=\"TinyLlama/TinyLlama-1.1B-Chat-v1.0\",\n",
        "    # repo_id = \"perplexity-ai/r1-1776\",\n",
        "    task=\"text-generation\"\n",
        "  )\n",
        "# llm=HuggingFaceEndpoint(repo_id=\"TinyLlama/TinyLlama-1.1B-Chat-v1.0\",task=\"text-generation\")\n",
        "hf_model = ChatHuggingFace(llm=llm)\n",
        "\n",
        "try:\n",
        "  hf_model.invoke(\"Hi I am Lokesh\")\n",
        "except Exception as e:\n",
        "  print(e)"
      ],
      "metadata": {
        "id": "yab7K2EePSsd"
      },
      "execution_count": null,
      "outputs": []
    },
    {
      "cell_type": "code",
      "source": [
        "gemini_model = ChatGoogleGenerativeAI(model='gemini-1.5-pro')\n",
        "gemini_model.invoke(\"Hi I am Lokesh\")"
      ],
      "metadata": {
        "id": "Fx01kgSQTeTk",
        "colab": {
          "base_uri": "https://localhost:8080/"
        },
        "outputId": "9bdf5950-cfc1-4544-c94d-aeeb3bbf8249"
      },
      "execution_count": null,
      "outputs": [
        {
          "output_type": "execute_result",
          "data": {
            "text/plain": [
              "AIMessage(content=\"Hi Lokesh!  It's nice to meet you. How can I help you today?\", additional_kwargs={}, response_metadata={'prompt_feedback': {'block_reason': 0, 'safety_ratings': []}, 'finish_reason': 'STOP', 'model_name': 'gemini-1.5-pro-002', 'safety_ratings': []}, id='run--63f22ef0-bd1b-47ee-b7a5-d7c8b2c05761-0', usage_metadata={'input_tokens': 5, 'output_tokens': 21, 'total_tokens': 26, 'input_token_details': {'cache_read': 0}})"
            ]
          },
          "metadata": {},
          "execution_count": 6
        }
      ]
    },
    {
      "cell_type": "code",
      "source": [
        "groq_model = ChatGroq(model=\"deepseek-r1-distill-llama-70b\")\n",
        "groq_model.invoke(\"Hi I am Lokesh\")"
      ],
      "metadata": {
        "id": "zWMcWKv8eCQp",
        "colab": {
          "base_uri": "https://localhost:8080/"
        },
        "outputId": "2df5f66f-5a62-433a-98d1-1c0b646206d7"
      },
      "execution_count": null,
      "outputs": [
        {
          "output_type": "execute_result",
          "data": {
            "text/plain": [
              "AIMessage(content='<think>\\n\\n</think>\\n\\nHi Lokesh! How can I assist you today? 😊', additional_kwargs={}, response_metadata={'token_usage': {'completion_tokens': 18, 'prompt_tokens': 8, 'total_tokens': 26, 'completion_time': 0.065454545, 'prompt_time': 0.003477605, 'queue_time': 0.212858083, 'total_time': 0.06893215}, 'model_name': 'deepseek-r1-distill-llama-70b', 'system_fingerprint': 'fp_454c494f52', 'finish_reason': 'stop', 'logprobs': None}, id='run--9a547b0f-504e-4fdb-acc6-b4e540252087-0', usage_metadata={'input_tokens': 8, 'output_tokens': 18, 'total_tokens': 26})"
            ]
          },
          "metadata": {},
          "execution_count": 7
        }
      ]
    },
    {
      "cell_type": "code",
      "source": [
        "open_ai_model = ChatOpenAI(model=\"gpt-4o\")\n",
        "open_ai_model.invoke(\"Hi I am Sunny\")"
      ],
      "metadata": {
        "id": "k0O0bFZxeQrT",
        "colab": {
          "base_uri": "https://localhost:8080/"
        },
        "outputId": "6ba7db5a-e745-4068-96de-89ac1e75df2b"
      },
      "execution_count": null,
      "outputs": [
        {
          "output_type": "execute_result",
          "data": {
            "text/plain": [
              "AIMessage(content='Hello, Sunny! How can I assist you today?', additional_kwargs={'refusal': None}, response_metadata={'token_usage': {'completion_tokens': 12, 'prompt_tokens': 11, 'total_tokens': 23, 'completion_tokens_details': {'accepted_prediction_tokens': 0, 'audio_tokens': 0, 'reasoning_tokens': 0, 'rejected_prediction_tokens': 0}, 'prompt_tokens_details': {'audio_tokens': 0, 'cached_tokens': 0}}, 'model_name': 'gpt-4o-2024-08-06', 'system_fingerprint': 'fp_90122d973c', 'id': 'chatcmpl-BTlGrZNgDqt5XfegLfW3KRkiV7WUs', 'service_tier': 'default', 'finish_reason': 'stop', 'logprobs': None}, id='run--5e95ffb7-f813-45d2-9c71-c0aa29d5a8d4-0', usage_metadata={'input_tokens': 11, 'output_tokens': 12, 'total_tokens': 23, 'input_token_details': {'audio': 0, 'cache_read': 0}, 'output_token_details': {'audio': 0, 'reasoning': 0}})"
            ]
          },
          "metadata": {},
          "execution_count": 8
        }
      ]
    },
    {
      "cell_type": "code",
      "source": [
        "claude_model = ChatAnthropic(model=\"claude-2\")\n",
        "claude_model.invoke(\"Hi I am Sunny\")"
      ],
      "metadata": {
        "id": "fekGPHO0bUG5",
        "colab": {
          "base_uri": "https://localhost:8080/"
        },
        "outputId": "666cb104-8aa8-4ee4-d26c-098dd2655d42"
      },
      "execution_count": null,
      "outputs": [
        {
          "output_type": "execute_result",
          "data": {
            "text/plain": [
              "AIMessage(content='Hello Sunny, nice to meet you!', additional_kwargs={}, response_metadata={'id': 'msg_01DbyMdpQvkYDvzRuQaKCEWc', 'model': 'claude-2.1', 'stop_reason': 'end_turn', 'stop_sequence': None, 'usage': {'cache_creation_input_tokens': 0, 'cache_read_input_tokens': 0, 'input_tokens': 14, 'output_tokens': 13}, 'model_name': 'claude-2.1'}, id='run--85822104-c9b1-4dc7-8e15-619ad3b0556b-0', usage_metadata={'input_tokens': 14, 'output_tokens': 13, 'total_tokens': 27, 'input_token_details': {'cache_read': 0, 'cache_creation': 0}})"
            ]
          },
          "metadata": {},
          "execution_count": 9
        }
      ]
    },
    {
      "cell_type": "code",
      "source": [
        "llm = HuggingFacePipeline.from_model_id(\n",
        "    model_id='TinyLlama/TinyLlama-1.1B-Chat-v1.0',\n",
        "    task='text-generation',\n",
        "    pipeline_kwargs={\n",
        "        \"temperature\": 0.5,\n",
        "        \"max_new_tokens\":100\n",
        "        }\n",
        ")\n",
        "\n",
        "model = ChatHuggingFace(llm=llm)\n",
        "model.invoke(\"Hi I am Lokesh\")"
      ],
      "metadata": {
        "id": "IgmG5tFwecH1",
        "colab": {
          "base_uri": "https://localhost:8080/"
        },
        "outputId": "c3a50bbc-877d-4821-acea-9b911d70c398"
      },
      "execution_count": null,
      "outputs": [
        {
          "output_type": "stream",
          "name": "stderr",
          "text": [
            "Device set to use cpu\n",
            "/usr/local/lib/python3.11/dist-packages/transformers/generation/configuration_utils.py:631: UserWarning: `do_sample` is set to `False`. However, `temperature` is set to `0.5` -- this flag is only used in sample-based generation modes. You should set `do_sample=True` or unset `temperature`.\n",
            "  warnings.warn(\n"
          ]
        },
        {
          "output_type": "execute_result",
          "data": {
            "text/plain": [
              "AIMessage(content='<|user|>\\nHi I am Lokesh</s>\\n<|assistant|>\\nSure, here\\'s a revised version of the text with the added sentence:\\n\\n\"The newest addition to the family is a baby girl, and we couldn\\'t be happier. She\\'s already making us laugh and lighting up our lives with her infectious smile and infectious energy.\"', additional_kwargs={}, response_metadata={}, id='run--f56e4289-29b0-4d50-9c12-83868ac42e79-0')"
            ]
          },
          "metadata": {},
          "execution_count": 10
        }
      ]
    },
    {
      "cell_type": "markdown",
      "source": [
        "## Embeding Model"
      ],
      "metadata": {
        "id": "tMWLHLX98BmK"
      }
    },
    {
      "cell_type": "code",
      "source": [
        "# @markdown # OpenAI\n",
        "\n",
        "embedding_model = \"text-embedding-3-large\" # @param [\"text-embedding-3-large\",\"text-embedding-3-small\",\"text-embedding-ada-002\"]\n",
        "dimensions = 64 #@param {type:\"integer\"}\n",
        "set_dimension = True # @param {type:\"boolean\"}\n",
        "query = \"India is a growing country\" # @param {\"type\":\"string\",\"placeholder\":\"India is a growing country\"}\n",
        "\n",
        "if set_dimension:\n",
        "  openai_embedding = OpenAIEmbeddings(\n",
        "      model=embedding_model,\n",
        "      dimensions=dimensions,\n",
        "  )\n",
        "else:\n",
        "  openai_embedding = OpenAIEmbeddings(\n",
        "      model=embedding_model,\n",
        "  )\n",
        "\n",
        "result = openai_embedding.embed_query(query)\n",
        "print(len(result),result)"
      ],
      "metadata": {
        "id": "EMOwYZgO8DuK",
        "colab": {
          "base_uri": "https://localhost:8080/"
        },
        "outputId": "4388093b-5f21-4bee-e194-fde47168bf8e"
      },
      "execution_count": null,
      "outputs": [
        {
          "output_type": "stream",
          "name": "stdout",
          "text": [
            "64 [-0.22190459072589874, 0.2781512439250946, -0.019638171419501305, 0.047116201370954514, 0.007093434687703848, 0.0018865261226892471, -0.15810702741146088, 0.09076514095067978, 0.03236108645796776, -0.12227867543697357, 0.08452407270669937, -0.04599897190928459, 0.11403430253267288, -0.10378662496805191, -0.10417187958955765, 0.014938108623027802, 0.08899299055337906, -0.20634044706821442, -0.0308393444865942, -0.1088719367980957, -0.19863542914390564, -0.11588350683450699, 0.045228470116853714, -0.17860238254070282, -0.21543237566947937, 0.09045694023370743, -0.036541059613227844, 0.003484114073216915, -0.15533322095870972, 0.13183289766311646, 0.09477175027132034, 0.014052031561732292, 0.06156311556696892, -0.05451301857829094, -0.03172542154788971, 0.27722662687301636, -0.024501964449882507, -0.054859746247529984, -0.07520099729299545, -0.08383062481880188, -0.007314953953027725, 0.015670085325837135, -0.11287855356931686, 0.4059004783630371, 0.1887730062007904, 0.010604034177958965, -0.02933686599135399, -0.14585603773593903, -0.08583392947912216, -0.020533880218863487, -0.25580668449401855, 0.09037989377975464, -0.027930699288845062, 0.05015968531370163, -0.11064409464597702, 0.03607875853776932, -0.014235025271773338, 0.08845363557338715, -0.03933412954211235, -0.16026443243026733, -0.10833258926868439, -0.0478096529841423, -0.017278509214520454, 0.19031400978565216]\n"
          ]
        }
      ]
    },
    {
      "cell_type": "code",
      "source": [
        "# @markdown # Google GenAi\n",
        "\n",
        "embedding_model = \"models/gemini-embedding-exp-03-07\" # @param [\"models/gemini-embedding-exp-03-07\",\"models/text-embedding-004\",\"models/embedding-001\"]\n",
        "task_type = \"retrieval_query\" # @param [\"None\",\"task_type_unspecified\",\"retrieval_query\",\"retrieval_document\",\"semantic_similarity\",\"classification\",\"clustering\"]\n",
        "transport = \"None\" # @param [\"None\",\"rest\",\"grpc\",\"grpc_asyncio\"]\n",
        "query = \"India is a growing country\" # @param {\"type\":\"string\",\"placeholder\":\"India is a growing country\"}\n",
        "\n",
        "func = lambda x : None if x==\"None\" else x\n",
        "task_type = func(task_type)\n",
        "transport = func(transport)\n",
        "\n",
        "google_embedding = GoogleGenerativeAIEmbeddings(\n",
        "    model=embedding_model,\n",
        "    task_type=task_type,\n",
        "    transport=transport\n",
        ")\n",
        "\n",
        "result = google_embedding.embed_query(query)\n",
        "print(len(result),result)\n"
      ],
      "metadata": {
        "id": "z0xAC56Z8QEC",
        "colab": {
          "base_uri": "https://localhost:8080/"
        },
        "outputId": "18020a35-f5b8-4185-8ebc-3d3bc0d589bd"
      },
      "execution_count": null,
      "outputs": [
        {
          "output_type": "stream",
          "name": "stdout",
          "text": [
            "3072 [-0.01328858733177185, -0.008076989091932774, -0.02803654596209526, -0.0385795421898365, -0.0012177267344668508, -0.009753282181918621, 0.018366066738963127, 0.0390302836894989, 0.005043548997491598, -0.023734668269753456, -0.011821064166724682, 0.006893169600516558, 0.019229836761951447, 0.03314683958888054, 0.11351391673088074, 0.020717905834317207, 0.0073205651715397835, -0.019075468182563782, 0.006459957454353571, -0.0205469261854887, -0.003892261302098632, 0.01249883696436882, 0.01834138110280037, 0.004717701114714146, -0.005373682361096144, -0.0032776377629488707, 0.006898732855916023, 0.02193414606153965, 0.021265285089612007, 0.014482101425528526, 0.005145769566297531, -0.027150483801960945, 0.023643454536795616, 0.012725071050226688, 0.017535502091050148, 0.015545469708740711, 0.022201204672455788, 0.0026000298094004393, 0.02127012610435486, 0.005257639102637768, -0.02616986259818077, 0.009095565415918827, -0.022166412323713303, -0.007171641103923321, -0.028205083683133125, -0.009816399775445461, -0.013868274167180061, -0.0021237717010080814, -0.00363388704136014, 0.014518032781779766, -0.008481813594698906, -0.0129407849162817, -0.030563408508896828, -0.16161364316940308, -0.00013045463128946722, 0.010254891589283943, -0.003525951411575079, -0.005071470979601145, 0.02015729807317257, 0.000320611143251881, -0.008248499594628811, 0.01632642187178135, -0.0036300814244896173, 0.013907567597925663, 0.002236715517938137, -0.012520856224000454, 0.014694290235638618, -0.02716130204498768, -0.0030767086427658796, 0.017162470147013664, 0.03978263586759567, 0.008536068722605705, 0.011873491108417511, -0.0011896451469510794, -0.007652594242244959, -0.007194088771939278, 0.0008688752423040569, 0.010223313234746456, -0.006604047026485205, 0.05249914154410362, -0.02720547467470169, -0.008542787283658981, -0.008755945600569248, -0.0224667526781559, -0.007026237901300192, -0.023030972108244896, -0.016797348856925964, -0.014020211063325405, -0.026935499161481857, -0.0015378773678094149, 0.002020171843469143, 0.003660211805254221, 0.000308151647914201, -0.004498661961406469, -0.010725809261202812, 0.027641596272587776, -0.039983220398426056, 0.008669508621096611, 0.02008422464132309, -0.0029375043231993914, 0.016934974119067192, -0.006346066482365131, 0.011027980595827103, -0.006908406503498554, -0.008716331794857979, 0.007638164795935154, 0.013640833087265491, 0.00021102986647747457, 0.02662036009132862, 0.02476804330945015, 0.0017494743224233389, 0.0012057898566126823, -0.010028357617557049, 0.020040303468704224, -0.005316232331097126, -0.1729799509048462, -0.001118279411457479, 0.023696739226579666, 0.009850597940385342, 0.012775289826095104, 0.0015446918550878763, 0.009080201387405396, -0.004664798732846975, 0.021889563649892807, 0.0021150754764676094, 0.009001697413623333, 0.005126600153744221, 0.025885142385959625, -0.01286401692777872, 0.0215202234685421, -0.013138740323483944, -0.004653527867048979, -0.007690559606999159, -0.002446215832605958, 0.009388744831085205, 0.017057884484529495, 0.02007322944700718, -0.01612553559243679, 0.01779586263000965, -0.04356278106570244, -0.005822404287755489, 0.00584682310000062, -0.010354278609156609, -0.003033964429050684, 0.014901647344231606, -0.026056863367557526, 0.010833218693733215, -0.003392668440937996, 0.01776634156703949, -0.004775885958224535, 0.013060222379863262, 0.01801242120563984, 0.022511370480060577, 0.005569703411310911, -0.016939904540777206, -0.015604627318680286, 0.011984610930085182, 0.006109213922172785, 0.0007568472647108138, 0.0007346800994127989, 1.3178240806155372e-05, -0.005773508921265602, -0.0057408371940255165, 0.029451772570610046, 0.009471258148550987, 0.00675201416015625, -0.035964950919151306, 0.027263598516583443, 0.030009020119905472, 0.011075926944613457, -0.009842092171311378, -0.004086132626980543, 0.013223040848970413, 0.013967524282634258, -0.005430908408015966, -0.00701926788315177, -0.002991889137774706, 0.011471616104245186, 0.012308084405958652, -0.017933743074536324, -0.007461375091224909, -0.007117716129869223, 0.0061567616648972034, 0.004008299671113491, 0.027051839977502823, -0.014606441371142864, -0.006023608148097992, 0.024581369012594223, -0.005047841463238001, 0.017041459679603577, 0.009725897572934628, -0.012158689089119434, -0.010167291387915611, 0.01833183690905571, 0.008918344974517822, -0.007445288356393576, -0.004829488694667816, -0.005451180972158909, 0.021369358524680138, -0.010841966606676579, 0.004771878477185965, -0.01536942832171917, 0.0019211956532672048, -0.040554966777563095, 0.02200292982161045, -0.00141267164144665, -0.0030087961349636316, 0.011986348778009415, -0.005316930823028088, 0.003230549395084381, 0.011558122001588345, -0.016957156360149384, 0.0032684672623872757, -0.02911391295492649, 0.010184552520513535, 0.028007997199892998, 0.019913680851459503, -0.003779997583478689, 0.007493571378290653, -0.0032305074855685234, 0.004747293423861265, -0.0006689053261652589, -0.017515406012535095, -0.007237907964736223, -0.03203301504254341, 0.004186207428574562, 0.007935373112559319, 0.004376985598355532, -0.0072417110204696655, -0.005618639290332794, 0.0005628494545817375, -0.01893950067460537, -0.008714668452739716, 0.021415019407868385, 0.007415829226374626, 0.01574568636715412, 0.0020907940343022346, 0.004538604058325291, -0.005613327957689762, 0.005402945913374424, -0.0005990678328089416, 0.0096841249614954, -0.0005873253685422242, -0.007221763487905264, -0.01987713761627674, 0.009963876567780972, 0.0102542070671916, -0.011801251210272312, -0.004612331744283438, -0.0033667890820652246, -0.017371155321598053, -0.005380946211516857, 0.0019039734033867717, -0.013756928965449333, -0.013157353736460209, -0.007344068493694067, 0.00641285814344883, -0.006528493016958237, 0.013233501464128494, -0.010545504279434681, 0.03203568235039711, 0.00027929586940445006, -0.011440623551607132, 0.010218425653874874, -0.02321087196469307, 0.009720535948872566, -0.018735071644186974, 0.0008710568654350936, -0.0058290595188736916, 0.003551002824679017, 0.02016921155154705, 0.0010876379674300551, -0.027063217014074326, 0.005553065333515406, 0.006464877165853977, 0.00749899772927165, -0.10462263971567154, -0.017483368515968323, -0.015061816200613976, -0.018675850704312325, -0.008898206055164337, 0.006106674205511808, -0.00027126900386065245, -0.009967370890080929, 0.013854856602847576, -0.0028792161028832197, 0.004857202991843224, -0.03870219364762306, 0.02305835485458374, -0.001044764881953597, 0.0026640358846634626, -0.003949160221964121, 0.011039276607334614, -0.02238893322646618, 0.019215410575270653, -0.003433150239288807, 0.008415354415774345, -0.024734986945986748, -0.016157107427716255, -0.033389583230018616, 0.0015876912511885166, -0.02166362851858139, 0.006787093356251717, 0.02423846535384655, 0.012233495712280273, 0.007516331505030394, 0.003762052161619067, 0.001421425142325461, -0.008626443333923817, -0.017286352813243866, 0.0005761257489211857, 0.016438130289316177, 0.005258513614535332, -0.002808360615745187, 0.011932657100260258, -0.0015924813924357295, -0.01784755289554596, -0.0008568678167648613, 0.0058567882515490055, 0.007032514549791813, -0.01029953546822071, 0.0068122027441859245, 0.016625018790364265, 0.005658837500959635, -0.03484586253762245, 0.004347261041402817, -0.009011661633849144, 0.014271852560341358, 0.01746724359691143, -0.027600325644016266, -0.011917353607714176, -0.019400212913751602, 0.013688918203115463, -0.012054309248924255, -0.015026874840259552, 0.02563525177538395, 0.0207963977009058, 0.012762758880853653, 0.025196097791194916, 0.022890936583280563, -0.0034276004880666733, -0.007387765683233738, 0.01176832988858223, 0.004306682851165533, 0.018149549141526222, -0.014347770251333714, 0.0011797891929745674, -0.03418947011232376, -0.015698017552495003, -0.02022680640220642, 0.020329689607024193, 0.026210149750113487, -0.007637994829565287, -0.004439729265868664, -0.01937456801533699, 0.02001914568245411, 0.012015653774142265, -0.00273223128169775, -0.0171341672539711, -0.029504980891942978, 0.010965420864522457, -0.0026978219393640757, -0.004007942508906126, 0.013661948032677174, 0.011280725710093975, -0.027947017922997475, 0.0026866968255490065, -0.0044016302563250065, 0.005154501646757126, 0.021115565672516823, 0.012378512881696224, -0.03470443934202194, 0.002687624655663967, 0.008444366045296192, 0.01721627078950405, -0.004192827735096216, 0.028254201635718346, 0.0047379727475345135, 0.004425984341651201, -0.016044648364186287, -0.009902129881083965, 0.004982952959835529, 0.001839779200963676, 0.002410158747807145, -0.025146108120679855, 0.0039494093507528305, 0.018323805183172226, -6.331028998829424e-05, -0.02706882171332836, 0.00947005394846201, -0.015696292743086815, 0.005258192308247089, 0.001486025983467698, 0.0074331071227788925, -0.00814251508563757, -0.0019101533107459545, -0.0008601164445281029, -0.014394747093319893, -0.024475831538438797, -0.010162217542529106, -0.011837058700621128, 0.00260562589392066, -0.006542458664625883, 0.0018276824848726392, 0.02373342774808407, -0.012077194638550282, -0.013622510246932507, -0.01414803508669138, -0.009060469456017017, 0.014645912684500217, 0.019193386659026146, -0.010457796044647694, 0.02766517549753189, -4.307894050725736e-05, 0.0081464983522892, 0.014720146544277668, -0.0013719691196456552, -0.0003253570175729692, -0.0038764376658946276, -0.0010302538285031915, 0.006728939712047577, -0.003243714338168502, 0.0037410028744488955, 0.02397567592561245, -0.036909107118844986, -0.052270159125328064, -0.0050603775307536125, -0.016918903216719627, 0.0013149197911843657, 0.01762070320546627, -0.014276213012635708, -0.016231177374720573, -0.0239238478243351, 0.010637004859745502, 0.024114936590194702, -0.000958852528128773, -0.011494380421936512, 0.006723067257553339, -0.017161644995212555, -0.021848348900675774, 0.012520384043455124, 0.03133997321128845, 0.005922100506722927, -0.0010543587850406766, 0.011450430378317833, 0.004480584058910608, -0.026533450931310654, 0.00996390450745821, 0.0066037867218256, -0.012916270643472672, -0.010910965502262115, 0.0066541098058223724, 0.002415962517261505, -0.008300118148326874, -0.00542700057849288, -0.0036218289751559496, -0.022138280794024467, 0.008680958300828934, -0.016180770471692085, 0.005901570897549391, -0.009499143809080124, -0.03682234510779381, -0.003500863444060087, 0.014422590844333172, -0.005550962407141924, 0.0009487607167102396, 0.009545882232487202, -0.006882570218294859, 0.011903900653123856, 0.028826549649238586, -0.0013902389910072088, 0.00026085827266797423, -0.011553093791007996, -0.018907060846686363, 0.012374537996947765, -0.006712971720844507, 0.004027099814265966, -0.012835266068577766, 0.011239612475037575, -0.02201913297176361, -0.003912024199962616, 0.02954147756099701, 0.03763280436396599, -0.017041103914380074, 0.0014771586284041405, 0.030036956071853638, -0.0148527966812253, 0.010300871916115284, -0.009595811367034912, 0.02844923920929432, 0.010783259756863117, 0.04309343546628952, -0.00353330303914845, 0.022411255165934563, 0.014991506934165955, -0.004550333134829998, -0.020099451765418053, -0.03624674305319786, 0.0007640434196218848, 0.008924929425120354, 0.02260611020028591, 0.006523012183606625, 0.007508858572691679, -0.01289471797645092, 0.0037648987490683794, 0.0010571889579296112, 0.01962236315011978, 0.014318239875137806, -0.006821987219154835, -0.004595195408910513, -0.03598346933722496, 0.007755048107355833, -0.0049430252984166145, 0.01730780489742756, -0.02996545284986496, -0.009809802286326885, -0.03953634575009346, -0.021993208676576614, 0.01781483180820942, -0.004618403967469931, 0.00497483229264617, -0.0037403141614049673, -0.0024006948806345463, -0.014433327130973339, -0.0021481961011886597, 0.02964198589324951, 0.014213464222848415, 0.014412649907171726, 0.011648689396679401, 0.0010990963783115149, -0.01020006276667118, 0.047519877552986145, 0.004143726546317339, 0.01015120092779398, -0.011310561560094357, -0.0003509059315547347, 0.0054963380098342896, -0.022703003138303757, 0.016693342477083206, 0.013723064213991165, 0.0014658075524494052, -0.005842177662998438, -0.017931153997778893, 0.0029256592970341444, 0.0360502228140831, -0.11751149594783783, -0.005792273208498955, 0.025081578642129898, -0.025802306830883026, -0.016527732834219933, 0.009331448934972286, 0.04134884849190712, -0.02390679158270359, 0.020924411714076996, -0.005896535702049732, -0.008752789348363876, -0.0033869019243866205, 0.009435515850782394, -0.0219638179987669, -0.003517063334584236, 0.009109681472182274, 0.020551074296236038, 0.02668928913772106, -0.0013479777844622731, -0.021931542083621025, 0.014413649216294289, 0.02952062524855137, 0.007464569061994553, 0.01369615737348795, -0.010624933056533337, 0.021618660539388657, -0.00940257403999567, 0.014302127063274384, -0.040469951927661896, -0.02712346985936165, -0.017977075651288033, -0.02341991662979126, -0.0030013860668987036, 0.009440809488296509, 0.02800152264535427, -0.0258029792457819, 0.003907973878085613, 0.024756737053394318, 0.004653310403227806, -0.0030385886784642935, 0.02321702428162098, 0.01377109158784151, -0.0071786558255553246, -0.006920694839209318, -0.009031925350427628, -0.0014905947027727962, 0.015182940289378166, -0.0023227070923894644, -0.0076354509219527245, 0.02026692032814026, -0.03693917766213417, -0.02441369742155075, 0.01564507931470871, 0.0018958266591653228, -0.007500235922634602, -0.017256397753953934, -0.010287887416779995, 0.01717860996723175, 0.010272026993334293, -0.002609944436699152, -0.01589532569050789, 0.026556087657809258, 0.01207673829048872, 0.01922982558608055, 0.012770542874932289, -0.0102620804682374, -0.019737670198082924, 0.0039646257646381855, 0.029812529683113098, 0.014455199241638184, -0.00563602801412344, 0.0011948972241953015, -0.024004636332392693, 0.009614778682589531, 0.013962561264634132, 0.00906507670879364, 0.04832981526851654, 0.0146405640989542, 0.015451514162123203, -0.010362319648265839, -0.012805408798158169, 0.00021689539426006377, -0.0750727504491806, -0.01418739091604948, -0.007728958502411842, -0.010442612692713737, 0.029987875372171402, -0.011085128411650658, 0.02498294971883297, -0.0018163984641432762, -0.020261796191334724, 0.041012950241565704, 0.01655394956469536, 0.008147467859089375, 0.003376768436282873, -0.018934354186058044, 0.003468253882601857, -0.011688867583870888, 0.04292931780219078, -0.006761870812624693, -0.03044573776423931, 0.002786266850307584, -0.010424476116895676, -0.006910531781613827, -0.002776909153908491, 0.01617816649377346, 0.010964591056108475, 0.01573224924504757, 0.01834448240697384, -0.0034775889944285154, -0.005235271994024515, -0.01611205004155636, -0.005497316364198923, -0.12945277988910675, -0.0033692819997668266, -0.009314854629337788, -0.017597265541553497, 0.015999484807252884, 0.009192251600325108, 0.019983192905783653, -0.017605412751436234, -0.03313663974404335, -0.01994767226278782, 0.018786055967211723, -0.007588492706418037, -0.03689134493470192, -0.005885520949959755, 0.03926307335495949, 0.1315392255783081, -0.014131598174571991, 0.014688683673739433, -0.00018412916688248515, -0.026730824261903763, 0.0016901098424568772, 0.005101846996694803, 0.004284312948584557, -0.01493796519935131, -0.005246900487691164, 0.007614889647811651, 0.005465996451675892, 0.00252100289799273, 0.013686633668839931, -0.002985991770401597, 0.008780748583376408, -0.008530582301318645, 0.0066359457559883595, 0.0076441578567028046, -0.008641986176371574, 0.013642092235386372, 0.01027417741715908, 0.010010742582380772, 0.01780262216925621, -0.023556148633360863, 0.035923559218645096, 0.0013729817001149058, -0.026909608393907547, 0.000373545044567436, -0.014378062449395657, -0.01292633917182684, 0.0056676375679671764, -0.028638223186135292, -0.004468465689569712, 0.021307380869984627, -0.01082415971904993, -0.07938436418771744, -0.001620759954676032, 0.028142979368567467, -0.0009418439585715532, -0.018306566402316093, 0.005071737337857485, 0.004331565462052822, -0.017061475664377213, 0.012779648415744305, -0.00032267061760649085, -0.01813609153032303, -0.00809529609978199, -0.00035403616493567824, -0.027980050072073936, 0.01461845450103283, 0.022495754063129425, -0.005554698407649994, 0.0036493507213890553, 0.0298948772251606, -0.019249850884079933, 0.0028817576821893454, -0.0015675564063712955, 0.027793988585472107, 0.015440907329320908, -0.018435392528772354, -0.004554152954369783, 0.026539746671915054, 0.008480986580252647, -0.0023713356349617243, -0.020937299355864525, -0.00037827150663360953, 0.028483670204877853, 0.0063894749619066715, 0.02249014750123024, -0.04134916886687279, -0.005675296299159527, 0.008896609768271446, -0.0019385573687031865, 0.01748812384903431, -0.014470286667346954, -0.008413533680140972, -0.008721327409148216, -0.0004697235708590597, 0.011241680011153221, -0.0116786053404212, -0.026882072910666466, 0.017150288447737694, 0.035568952560424805, -0.019255181774497032, 0.03189807012677193, -0.01572776958346367, 0.03019873984158039, -0.03333519399166107, -0.01474298257380724, 0.0016041190829128027, 0.013395769521594048, -0.010776839219033718, -0.010052177123725414, 0.008153068833053112, -0.0017413757741451263, -0.02201179414987564, -0.025120873004198074, 0.016354944556951523, -0.006429646164178848, 0.009535226970911026, 0.007025949656963348, 0.011537018232047558, 0.010505151003599167, -0.010308469645678997, 0.012192036025226116, 0.025505565106868744, -0.014862403273582458, -0.0034718059469014406, 0.0014514017384499311, 0.009804384782910347, -0.006480119191110134, 0.004014854319393635, 0.0069696372374892235, -0.014871803112328053, -0.003626797581091523, 0.01152511965483427, 0.00015950424131006002, 0.0019964927341789007, 0.016392502933740616, 0.0141539191827178, -0.007166753988713026, -0.005720288958400488, -0.007052588742226362, -0.009472386911511421, 0.026133915409445763, 0.00022589077707380056, -0.0024966213386505842, 0.001363577088341117, 0.010817380622029305, 0.007715876214206219, 4.631416595657356e-05, -0.0012967473594471812, 0.008814670145511627, -0.005072040483355522, 0.007134543266147375, -0.011244363151490688, 0.013078015297651291, 0.0060137612745165825, 0.0143817700445652, 0.017532138153910637, 0.009082538075745106, 0.02732601761817932, -0.0007949123973958194, 0.0004999272641725838, 0.00247476645745337, -0.0014520756667479873, -0.006443042773753405, -0.005626296158879995, -0.001705923699773848, 0.002901969477534294, -0.010938704945147038, -0.0017223182367160916, 0.009410458616912365, 0.02929300256073475, 0.013756281696259975, 0.0064602321945130825, -0.02961556985974312, -0.021045314148068428, -0.007610950153321028, 0.007160964421927929, -0.006207238417118788, -0.011247849091887474, -0.015818139538168907, 0.006418820004910231, -0.0030257808975875378, -0.004327889531850815, -0.00033444419386796653, 0.015929915010929108, -0.016812840476632118, 0.02405374124646187, 0.0300450399518013, 0.006558182183653116, 0.015038037672638893, 0.009853418916463852, 0.0028953973669558764, -0.011019737459719181, 0.023617299273610115, 0.0009789341129362583, -0.001037341309711337, 0.013233627192676067, -0.010271476581692696, -0.009546296671032906, -0.0003561167686711997, 0.01560923084616661, 0.009693445637822151, -0.001438385690562427, 0.011524706147611141, -0.006340225227177143, -0.001619722810573876, 0.011298262514173985, 0.0015459766145795584, -0.008991770446300507, 0.00025864929193630815, 0.016127850860357285, 0.003312622429803014, 0.010512317530810833, -0.007343323901295662, 0.008342706598341465, -0.021729014813899994, -0.00474186334758997, -0.01970616541802883, -0.004252954386174679, -0.0005697408341802657, -0.008934436365962029, -0.002213083440437913, -0.0019178080838173628, 0.004072417505085468, -0.012840895913541317, -0.005146440584212542, -0.013458194211125374, -6.72814276185818e-05, -0.010060150176286697, 0.008334633894264698, 0.0017405423568561673, -0.0026581967249512672, -0.0021273954771459103, -0.00423845648765564, 0.010107554495334625, -0.003482712898403406, 0.0009100022143684328, 0.010695471428334713, -0.0020791247952729464, 0.013637256808578968, -0.01229273620992899, 0.009968052618205547, -0.008636167272925377, 0.004983231890946627, -0.0014730397379025817, 0.0018485183827579021, -0.002666736952960491, 0.016015559434890747, 0.018517211079597473, -0.019358286634087563, 0.02471931092441082, -0.0017484348500147462, 0.014403392560780048, -0.0033955792896449566, 0.005579076707363129, -0.019219741225242615, 0.002039544750005007, -0.003054292406886816, 0.012830546125769615, -0.016909072175621986, 0.008328012190759182, -0.00444420799612999, 0.010171854868531227, 0.0019433186389505863, 0.02751610428094864, -0.003942765295505524, -0.012731576338410378, -0.00979330763220787, -0.012039054185152054, -0.006642154883593321, 0.014390452764928341, 0.01548704318702221, 0.004574477206915617, 0.002438075141981244, 0.009177112951874733, 0.0010290315840393305, -0.0030991709791123867, -0.0007719369023106992, -0.0010907496325671673, 0.0042881774716079235, -0.0041784681379795074, 0.0019744005985558033, -0.014964361675083637, 2.162704367947299e-05, 0.010843265801668167, -0.006398896221071482, -0.012601200491189957, 0.005770224146544933, -0.0006175790913403034, 0.017544828355312347, -0.01852460764348507, -0.00915355235338211, -0.002896183868870139, -0.013982756994664669, 0.009359491989016533, -0.0019762939773499966, 0.0039041407871991396, 0.004062795080244541, 0.005871545523405075, -0.010342412628233433, -0.005209058057516813, 0.012386265210807323, -0.007345925085246563, -0.0059326994232833385, 0.0012232467997819185, 0.02737661637365818, 0.0038059207145124674, 0.013677303679287434, 0.002089955611154437, 0.0041382089257240295, 0.008175721392035484, 0.09378590434789658, -0.001165886176750064, 0.01438823714852333, 0.02309589646756649, 0.000680590863339603, -0.013379745185375214, -0.00014001726231072098, -0.01901184767484665, -0.0037063329946249723, 0.010051061399281025, -0.012579120695590973, -0.009601125493645668, 0.012617782689630985, 0.012859842739999294, 0.004886328708380461, 0.009092062711715698, -0.0030681847129017115, -0.009541511535644531, 0.01793203316628933, -0.002616175217553973, -0.0030907485634088516, 0.007287723012268543, -0.008655978366732597, -0.01753891445696354, 0.01075720600783825, -0.0280048456043005, 0.008579451590776443, -0.021763160824775696, -0.005743036977946758, 0.009215370751917362, -0.004947655834257603, -0.006942472420632839, 0.006494154222309589, 0.010513263754546642, 0.003461346961557865, 0.013463298790156841, -0.010295895859599113, 0.009883003309369087, -0.002619424369186163, -0.010814681649208069, 0.001052380190230906, -0.005923808552324772, -0.003298367140814662, 0.012645446695387363, -0.0011562822619453073, 0.005589002277702093, -0.018622247502207756, -0.004405265208333731, -0.014452275820076466, -0.0026866584084928036, -0.0013150088489055634, -0.00401536887511611, 0.011327248066663742, 0.008686566725373268, 0.007146268151700497, 0.0001866282254923135, 0.004476736765354872, -0.009989669546484947, -0.009388312697410583, -0.01893782988190651, 0.0009559312602505088, 0.010790102183818817, -0.004740056116133928, -0.00910812709480524, -0.0024608662351965904, -0.012401445768773556, -0.0018534656846895814, -0.0054603079333901405, -0.01949860341846943, 0.0041955625638365746, -0.008055292069911957, -0.009824808686971664, -0.006319538690149784, 0.015026931650936604, 0.041833795607089996, 0.014727109111845493, -0.005369856953620911, -0.0104244789108634, -0.0038949435111135244, -0.003833286464214325, -0.001637271954677999, 0.005627532955259085, 0.005987919867038727, -0.019941681995987892, 0.009401549585163593, -0.016592569649219513, -0.00481637567281723, -0.005577788222581148, -0.0015299554215744138, -0.006335475482046604, -0.009916997514665127, 0.0045005204156041145, -0.006080114282667637, -0.007462998852133751, 0.006761027500033379, 0.0007970434962771833, 0.08332464098930359, 0.004015937447547913, -0.019152158871293068, 0.008129376918077469, 0.009040029719471931, 0.01077691838145256, 0.005819081328809261, 0.0022804834879934788, 0.026350269094109535, 0.003214799566194415, 0.01737646386027336, 0.00012170330592198297, 0.009235079400241375, -0.00175623525865376, -0.001689879922196269, 0.002481182338669896, -0.009103959426283836, 0.010298890061676502, 0.006491833832114935, -0.015552589669823647, -0.0027703174855560064, 0.009428600780665874, -0.007206527981907129, 0.004612456075847149, -0.015710564330220222, 0.0024211248382925987, 0.0002556598628871143, -0.012880470603704453, -0.005563025362789631, -0.006357715930789709, -0.008722049184143543, -0.012452876195311546, 0.0026872067246586084, 0.011273089796304703, -0.00222362345084548, 0.0019123679958283901, 0.002393947681412101, 0.009942241944372654, 0.005812611896544695, -0.006896663457155228, 0.008762495592236519, 0.015075936913490295, -0.0018306146375834942, 0.0060026333667337894, -0.018397295847535133, -0.0038662953302264214, -0.006326139438897371, 0.014784881845116615, -0.002163069089874625, 0.001801275764591992, -0.007970981299877167, -0.009136003442108631, -0.01618318259716034, -0.0028799790889024734, -0.003107442520558834, -0.0022691157646477222, -0.0019820043817162514, -0.0030494481325149536, -0.007886171340942383, 0.025890560820698738, -0.0010657594539225101, -0.016829516738653183, 0.007582900580018759, 0.005752018187195063, -0.021554574370384216, 0.0036691557615995407, 0.013257135637104511, 0.011776287108659744, 0.0014969018520787358, 0.0054893819615244865, -0.0012511516688391566, 0.018096478655934334, -0.004348302725702524, 0.021253829821944237, 0.002041077008470893, 0.014675034210085869, -0.011642410419881344, -0.009472078643739223, -0.007605202961713076, 0.008670571260154247, 0.003685439471155405, -0.003906056983396411, -0.008088418282568455, 0.008212129585444927, 0.00983371865004301, 0.013162923976778984, 0.004394227638840675, 0.015969401225447655, 0.02249715104699135, -0.006875868421047926, -0.0018449377967044711, -0.016396289691329002, -0.00920373760163784, 0.007722979877144098, -0.010056684724986553, -0.0012909520883113146, -0.009844930842518806, 0.001633345615118742, -0.011350569315254688, 0.010802256874740124, -0.005172785371541977, 0.010712745599448681, -0.009635989554226398, -0.015681259334087372, 0.010590653866529465, -0.0061666760593652725, -0.005514507181942463, -0.004461857955902815, 0.003558896016329527, 0.004388376139104366, -0.029346365481615067, 0.00020702053734567016, -0.007121792063117027, 0.0005941647686995566, 0.00804111734032631, -0.021338697522878647, -0.0025723772123456, -0.009236986748874187, -0.0008349426789209247, -0.00982227735221386, 5.9105541367898695e-06, -0.011921286582946777, -0.00894884578883648, 0.014792678877711296, -0.006550110876560211, -0.014504891820251942, 0.0024900506250560284, 0.005497332196682692, 0.0009826344903558493, -0.0011663512559607625, 0.017316648736596107, -0.0022777514532208443, -0.005813748110085726, -0.010394947603344917, 0.01879136450588703, 0.003986380062997341, -0.011821753345429897, 0.0191112719476223, -0.013518418185412884, 0.006668406073004007, 0.008293918333947659, -0.015851307660341263, -0.019959595054388046, -0.007447301875799894, 0.011714155785739422, 0.007041063159704208, -0.014657826162874699, -0.006393141113221645, 0.00039681282942183316, -0.014382807537913322, -0.021124834194779396, 0.005088697653263807, -0.006019861903041601, 0.0052501908503472805, 0.005430873017758131, -0.006157414522022009, 0.0015928137581795454, 0.003679470391944051, -0.008318174630403519, -0.011522086337208748, 0.02121584862470627, -0.06031360477209091, 0.006917450577020645, 0.0025965797249227762, 0.004059139173477888, -0.003948066849261522, 0.0004576897481456399, -0.00523928040638566, -0.0005621068412438035, 0.010063822381198406, -0.017914773896336555, -0.005314290057867765, -0.01484303455799818, 0.00022231806360650808, 0.010761556215584278, -0.017128387466073036, 0.012173475697636604, -0.0011957817478105426, 0.012898216024041176, -0.005369173362851143, -0.004420273005962372, -0.0006196373142302036, 0.0025067406240850687, -0.01168831530958414, 0.01117966789752245, 0.022111406549811363, 0.0006548913079313934, -0.0006875720573589206, 0.005936674773693085, -6.805764132877812e-05, 7.900774653535336e-05, -0.0014314241707324982, -0.011147154495120049, 0.006290697492659092, 0.020954493433237076, 0.01088282372802496, -0.0007316836854442954, 0.0030415868386626244, -0.0012748305452987552, 0.0036636514123529196, -0.010949750430881977, -0.011532105505466461, -0.0049323104321956635, -0.00018733477918431163, 0.005096959415823221, -0.014694340527057648, 0.0028503506910055876, 0.022797031328082085, -0.0030924901366233826, 0.02174854278564453, -0.003067219629883766, 0.006617911159992218, 0.019078684970736504, -0.005146028008311987, 0.007592090871185064, -0.0029291589744389057, -2.1114541596034542e-05, -0.00101366825401783, 0.0015199838671833277, 0.002870461205020547, -0.00709689361974597, 0.01488563697785139, -0.0001753609103616327, -0.006439183838665485, 0.007206756621599197, -0.010649329982697964, 0.006107760593295097, 0.012424701824784279, 0.010081454180181026, -0.022923221811652184, -0.009457983076572418, 0.006372913718223572, 0.00967329926788807, -0.015781553462147713, -0.0065523786470294, -0.006723855622112751, 0.0016048181569203734, 0.00426945835351944, 0.019162926822900772, 0.002784224459901452, 0.010740403085947037, 0.007713716011494398, 0.011921608820557594, 0.013596885837614536, -0.015241366811096668, 0.01747843623161316, -0.0020391319412738085, 0.00025371884112246335, 0.0002239910390926525, -0.021796688437461853, -0.010243941098451614, 0.002743021585047245, 0.003116446314379573, 0.0008654974517412484, 0.004982560873031616, -0.0017711423570290208, 0.018063634634017944, 0.01420375145971775, 0.00542053859680891, 0.013404542580246925, 0.0037796124815940857, -0.0184597447514534, -0.03281616047024727, 0.0041008200496435165, 0.013596110977232456, -0.010426509194076061, 0.009346285834908485, -0.014257697388529778, 0.0015296210767701268, 0.002986632287502289, -0.00019413113477639854, 0.004568730015307665, -0.002179908100515604, 0.0009267341229133308, -0.0074128094129264355, -0.015964452177286148, -0.0011179184075444937, 0.0022412321995943785, -0.004298115149140358, -0.0004162184486631304, 0.0014280450996011496, -0.009912355802953243, 0.006910561118274927, 0.005097000859677792, -0.01800219714641571, 0.01439499482512474, -0.0061784773133695126, -0.00819759164005518, 0.008580327033996582, 0.0044676573015749454, -0.008678324520587921, 0.0006821280694566667, 0.0061704558320343494, -0.0008810217841528356, 0.002721853321418166, 0.002718100557103753, 0.007166680414229631, 0.011545474641025066, 0.023633914068341255, -0.007805683184415102, -0.01132554467767477, 0.00015082604659255594, 0.0031502917408943176, 0.012858198955655098, -0.002457505324855447, 0.01268454547971487, -0.005959332454949617, 0.01930583268404007, 0.000984208774752915, 0.018037816509604454, 0.006561052054166794, -0.005797810852527618, 0.014617260545492172, 0.02134053036570549, 0.003991372417658567, -0.002691415371373296, -0.01268844772130251, 0.009914965368807316, -0.004740691743791103, -0.000983863021247089, -0.0009204798843711615, 0.007801236119121313, -0.00336856534704566, 0.008007959462702274, -0.003081487724557519, 0.015544066205620766, -0.012083322741091251, -0.002105755964294076, 0.0005764501402154565, -0.007332124747335911, -0.011123448610305786, 0.010771570727229118, -0.012784790247678757, -0.01544584333896637, 0.01441658940166235, -0.007293094415217638, -0.015383492223918438, 0.005893138237297535, -0.0063249594531953335, -0.003544497536495328, 0.006646256428211927, -0.017420588061213493, 0.0010037708561867476, -0.0018982220208272338, 0.0034584093373268843, 0.006218425929546356, -0.001025506528094411, 0.002053579781204462, 0.0005409293808043003, 0.004587043076753616, 0.014824953861534595, 0.007324757520109415, 0.00466138357296586, -0.029703481122851372, -0.004515799693763256, 0.0006597661413252354, 0.004691724665462971, -0.00820132065564394, -0.0059221419505774975, 0.018144875764846802, -0.00037093376158736646, -0.010413948446512222, -0.013153934851288795, 0.019855637103319168, -0.013586221262812614, 0.012597751803696156, -0.1076473519206047, -0.00723522063344717, 0.0007123809773474932, -0.0020223099272698164, -0.007248611189424992, -0.004780794959515333, 0.019857129082083702, -0.017489757388830185, -0.008182063698768616, -0.015798207372426987, 0.008198562078177929, -0.013349568471312523, -0.011583741754293442, -0.033705778419971466, -0.0028869525995105505, 0.007089974358677864, 0.004725117702037096, -0.023175431415438652, 0.004312857985496521, 0.015592322684824467, -0.006876148749142885, -0.0025501293130218983, -0.013571109622716904, 0.00326846307143569, -0.007737492676824331, -0.004958984442055225, -0.01244539488106966, -0.002879844978451729, -0.004989580251276493, 0.028435971587896347, -0.008701689541339874, 0.004599238745868206, 0.006427035667002201, -0.004361109808087349, 0.013628292828798294, -0.007047416176646948, 0.008524023927748203, 0.007645521312952042, -0.13263514637947083, -0.004020132124423981, 0.003942784853279591, -0.016674863174557686, -0.0012385814916342497, 0.015231072902679443, -0.005411607213318348, -0.007878675125539303, 0.004778949078172445, -0.001167198526673019, -0.0042077722027897835, -0.011381981894373894, -0.005144424736499786, -0.008606525138020515, 0.005931728985160589, -0.008526775985956192, -0.025564882904291153, 0.023580553010106087, -0.0011002783430740237, -0.007845158688724041, 0.005135186482220888, 0.0029120808467268944, 0.009909023530781269, 0.007341313175857067, 0.0036838268861174583, -0.012222465127706528, 0.008004467934370041, 0.009153622202575207, 0.016203289851546288, -0.004891273565590382, 0.022191010415554047, 0.006580699700862169, -0.0051149711944162846, 0.008745936676859856, 0.021879611536860466, 0.021640628576278687, -0.0029249759390950203, 0.011976630426943302, 0.0022016216535121202, -0.002100847428664565, 0.012602762319147587, 0.02311176061630249, 0.008927162736654282, 0.014750543981790543, 0.011661405675113201, -0.0040100133046507835, 0.002547171898186207, 0.008176642470061779, 0.0029579007532447577, -0.006715219933539629, 0.0091573940590024, 0.001137498882599175, -0.005689001642167568, 0.006293172482401133, 0.001004791702143848, 0.004942979197949171, 1.2983192391402554e-05, 0.002776492852717638, 0.01155821792781353, 0.002307955641299486, -0.006546309683471918, -0.016894035041332245, -0.0014984633307904005, 0.004226695746183395, 0.0017887544818222523, -0.0033998817671090364, 0.01627836562693119, 0.0056996396742761135, -0.008619751781225204, 0.0017954835202544928, 0.005020207725465298, 0.02093588560819626, 0.008480323478579521, -0.016279729083180428, -0.023909810930490494, -0.01178758218884468, 0.017065394669771194, 0.010937071405351162, -0.01882997527718544, -0.00023371088900603354, 0.01539680827409029, 0.002190994331613183, 0.00182085030246526, -0.0012696634512394667, -0.0014234873233363032, -0.006662747822701931, 0.0063637723214924335, -0.004932392854243517, 0.00364022352732718, -0.0392729789018631, -0.001252252608537674, 0.008313602767884731, -0.012586381286382675, 0.00322997965849936, -0.019817477092146873, -0.008517958223819733, -0.02155313454568386, -0.00019366366905160248, 0.004834326449781656, 0.0005430726450867951, 0.033606529235839844, -0.00029803323559463024, 0.009309569373726845, 0.004758809227496386, 0.003962131682783365, -0.006122655235230923, -0.01455635391175747, -0.012924205511808395, 0.005281707737594843, -0.012622407637536526, -0.006677051540464163, -0.022990375757217407, 0.017360277473926544, 0.017802687361836433, -0.023882517591118813, 0.01669805310666561, -0.025536030530929565, -0.0040024262852966785, -0.016901105642318726, -0.0032039338257163763, -0.016797108575701714, 0.014113388024270535, 0.011638456955552101, -0.011014807969331741, 0.02577820047736168, 0.00316159357316792, 0.02415228635072708, -0.02655906043946743, -0.0064916107803583145, 0.010503973811864853, 0.003478024620562792, -0.008697272278368473, -0.009536058641970158, 0.010516803711652756, 5.3849921641813125e-06, 0.011721871793270111, 0.002238920656964183, 0.019649064168334007, -0.012855407781898975, -0.014396333135664463, -0.009122959338128567, 0.009956290014088154, -0.017112312838435173, 0.006591572891920805, -0.0012147531379014254, 0.015569156967103481, 0.006980262231081724, 0.00018629759142640978, -0.004953069146722555, -0.0029862697701901197, -0.018230075016617775, -0.004150106571614742, -0.010113196447491646, 0.003924478776752949, -0.004456379916518927, -0.0016025586519390345, -0.026390070095658302, -0.011597920209169388, 0.006403652019798756, -0.00958871841430664, -0.006394336465746164, 0.0013902768259868026, -0.012931604869663715, -0.004174347966909409, 0.0004648423637263477, 0.024170953780412674, 0.002886270172894001, -0.030529895797371864, 0.015311618335545063, -0.003828235901892185, -0.006515458691865206, 0.0017830729484558105, -0.008579840883612633, 0.013079244643449783, 0.0029220646247267723, -0.009432089515030384, -0.00812060758471489, -0.0022381881717592478, 0.026811107993125916, 0.01964288204908371, -0.012076032347977161, -0.011309574358165264, -0.004275328014045954, -0.015420744195580482, 0.03280337154865265, -0.004843683447688818, -0.011989710852503777, -0.008978010155260563, -0.004080540034919977, -0.01492864266037941, -0.008923674933612347, -0.0082711698487401, 0.010436603799462318, -0.015860561281442642, -0.002495874185115099, 0.009511117823421955, 0.0011404057731851935, -0.0033643031492829323, 0.0059378682635724545, 0.013501917012035847, 0.008448618464171886, 0.0006864697788842022, 0.01042186189442873, -0.1348380148410797, 0.004177234135568142, -0.0015929262153804302, -0.01939922384917736, -0.006744918413460255, -0.014928440563380718, -0.007023122161626816, 0.00041094468906521797, 0.018726227805018425, -0.027765842154622078, 0.003943184390664101, -8.491543849231675e-05, -0.00018129248928744346, -0.012785973958671093, 0.007022008299827576, -0.015521280467510223, 0.00936637632548809, 0.020988527685403824, -0.013797763735055923, -0.004144972190260887, -0.026158176362514496, -0.01118401251733303, -0.02206113003194332, 0.005199471488595009, -0.037203073501586914, -0.007156831678003073, -0.0143052376806736, -0.003514890791848302, -0.0031357875559479, 0.0035249919164925814, 0.008044340647757053, -0.004336517304182053, -0.004324423614889383, 0.005740475840866566, 0.0013804258778691292, -0.00544745521619916, 0.011916503310203552, 0.004500718787312508, -0.009991337545216084, 0.04022327810525894, -0.005114453844726086, 0.004551529418677092, -0.02060248889029026, 0.003119345288723707, 0.007235264405608177, 0.0030220814514905214, -0.02900771051645279, -0.023122379556298256, -0.014417995698750019, -0.005312000866979361, -0.014877868816256523, -0.0028498934116214514, 0.005631375592201948, -0.0050279232673347, 0.010108738206326962, -0.028686515986919403, 0.0016856958391144872, 0.007702157367020845, -0.01280878484249115, -0.007656225468963385, 0.015806008130311966, -0.0036221304908394814, 0.0007337133283726871, 0.011124907061457634, 0.023060530424118042, -0.016133103519678116, 0.00935949757695198, 0.16485388576984406, -0.0023343064822256565, -0.0016358165303245187, -0.007942445576190948, -0.014351037330925465, -0.0044353376142680645, 0.01421650405973196, -0.006627182010561228, -0.003420105902478099, -0.01937832497060299, 0.024734344333410263, 0.016018345952033997, -0.011150367558002472, -0.008652250282466412, -0.006553378887474537, -0.004461463075131178, 0.0064875343814492226, -0.009933436289429665, 0.002258383436128497, -0.0013844402274116874, -0.013114762492477894, -0.013891172595322132, 0.0019321291474625468, -0.02652677148580551, 0.016079582273960114, -0.010148628614842892, 0.005361219402402639, 0.02914300002157688, 0.00991654023528099, 0.003569973399862647, 0.0076081156730651855, -0.024209383875131607, 0.000911596929654479, -0.01925239898264408, -0.0017878457438200712, 0.015870383009314537, -0.012609270401299, 0.009261883795261383, 0.00728247407823801, -0.00376332551240921, 0.022861666977405548, -0.00919640064239502, -0.015062268823385239, -0.008080716244876385, -0.006774331443011761, -0.022667013108730316, -0.005625760182738304, -0.004152765031903982, 0.0011411431478336453, -0.004528135526925325, -0.013897971250116825, -0.009348820894956589, -0.007455325685441494, 0.014162336476147175, 0.011412370018661022, 0.013633697293698788, -0.022202065214514732, -0.00045988752390258014, 0.0028680693358182907, -0.00944735947996378, -0.007330194115638733, 6.317395309451967e-05, -0.02317420393228531, -0.014790121465921402, 0.0024852147325873375, 0.017514057457447052, -0.004182170610874891, -0.03406967222690582, 0.011228714138269424, -0.1244254931807518, 0.006296620704233646, -0.019423309713602066, -0.020825156942009926, -0.009901251643896103, 0.0021920581348240376, 0.024839699268341064, 0.03518237546086311, 0.019685300067067146, 0.012196478433907032, 0.007373434957116842, 0.009603729471564293, -0.014683319255709648, 0.016667239367961884, 0.010603442788124084, 0.016505567356944084, 0.0009999608155339956, -0.0015780298272147775, 0.03467750921845436, 0.010037226602435112, -0.010064533911645412, 0.01960126869380474, 0.004729357548058033, -0.002154436195269227, 0.008662763051688671, 0.013781355693936348, -0.01684243604540825, 0.006379368714988232, -0.006057994905859232, -0.022148653864860535, 0.008242874406278133, 0.030508698895573616, -0.010978372767567635, 0.004483467899262905, -0.0036923105362802744, -0.00838402658700943, 0.015929408371448517, 0.019319556653499603, -0.0012297899229452014, 0.008937019854784012, -0.00012469696230255067, 0.006659781094640493, -0.012048798613250256, 0.0002646470384206623, -0.003412610152736306, 0.012642069719731808, 0.013798867352306843, -0.021662583574652672, -0.0021118326112627983, -0.006650259718298912, 0.002875769278034568, -0.01656060293316841, -0.01298945676535368, 0.005857702810317278, 0.010867110453546047, -0.009051748551428318, 0.02947556972503662, -0.021449483931064606, 0.004059482365846634, 0.002315693302080035, -0.014033970423042774, 0.020138829946517944, 0.018799955025315285, -0.005676714237779379, 0.0062441457994282246, -0.021657494828104973, -0.0020670986268669367, -0.003643258009105921, 0.024800308048725128, 0.001759265549480915, -0.0281737819314003, -0.009120051749050617, 0.011548852548003197, 0.0018545633647590876, 0.00602008868008852, -0.02595554105937481, 0.011022496968507767, 0.0011507488088682294, -0.0021056176628917456, 0.010616408661007881, 0.005103547591716051, 0.0044352333061397076, 0.002033558674156666, -0.014532445929944515, 0.05388914793729782, -0.008297284133732319, -0.009412514045834541, -0.012229613028466702, 0.012323681265115738, 0.018291091546416283, -0.010210246779024601, 0.023636123165488243, 0.0072483886033296585, 0.001840917975641787, 0.015493523329496384, 0.021333646029233932, -0.004910225979983807, 0.02131631225347519, 0.003290375228971243, -0.020018363371491432, 0.0049929553642869, -0.00676412507891655, 0.0038143452256917953, 0.02401747927069664, 0.01440659910440445, -0.002988494699820876, 0.007410991936922073, 0.003441218053922057, 0.002943882253021002, 0.0135292187333107, 0.012910944409668446, -0.014082680456340313, 0.005304886028170586, 0.007101838942617178, 0.016762277111411095, 0.03087615966796875, -0.004992553498595953, -0.005020202603191137, 0.0014249024679884315, -0.010307428427040577, 0.017609313130378723, -0.0022981977090239525, 0.00315157906152308, -0.0041457111947238445, -0.006058716680854559, 0.00894047599285841, 0.008043394424021244, 0.007152414880692959, 0.03743710741400719, 0.020348189398646355, 0.004007161594927311, 0.02948322333395481, -0.004564314614981413, -0.009192478843033314, 0.012805177830159664, -0.005346042104065418, 0.03234764561057091, -0.007531913463026285, -0.01700618490576744, -0.004680939018726349, 0.013695272617042065, -0.014647185802459717, -0.0019884025678038597, 0.0304054357111454, -0.01739390939474106, -0.000914381816983223, 0.013306712731719017, 0.011422563344240189, 0.005350591614842415, -0.0077351792715489864, -0.03123105689883232, -0.012427769601345062, -0.020723305642604828, 0.005386835429817438, 0.006032547913491726, 0.007149749901145697, 0.00842262152582407, -0.003654671832919121, -0.011768453754484653, -0.012387492693960667, -0.02708388864994049, -0.0011771139688789845, -0.004974993411451578, 0.00810147263109684, 0.012108616530895233, 0.003622549818828702, -0.0017986512975767255, -0.019709529355168343, -0.016830332577228546, 0.00031068208045326173, 0.029062410816550255, 0.007662045303732157, -0.0032731918618083, 0.000989978201687336, -7.383248157566413e-05, 0.02173413150012493, 0.018253210932016373, -0.008708122186362743, 0.003768555587157607, -0.07770949602127075, 0.007290242705494165, 0.011157583445310593, -0.013044144958257675, 0.0016936102183535695, -0.008832489140331745, 0.0019144826801493764, -0.012308274395763874, -0.03703510761260986, -0.02569892443716526, 0.026658715680241585, -0.018253471702337265, 0.0011529993498697877, -0.0035613325890153646, -0.021146515384316444, 0.0323844775557518, -0.017551133409142494, -0.011165432631969452, 0.007089164573699236, 0.01229042001068592, 0.007409955840557814, 0.005163088906556368, 0.005250937771052122, 0.008845852687954903, -0.012731275521218777, -0.015035467222332954, -0.007809184491634369, 0.019557608291506767, -0.010132893919944763, -0.0060460916720330715, 0.014628286473453045, -0.002818026579916477, -0.014853931032121181, -0.03644948825240135, -0.016655592247843742, 0.00030313487513922155, -0.011562255211174488, -0.01687578111886978, 0.008698445744812489, -0.032079067081213, 0.01996234431862831, 0.005404299590736628, -0.09511695057153702, -0.0007755542756058276, -0.000680362107232213, -0.00014651569654233754, 0.022435113787651062, -0.013644799590110779, 0.004703387152403593, -0.013985254801809788, 0.007137341424822807, 0.0002729800471570343, 0.004633347038179636, 0.004091928247362375, -0.004793011583387852, 0.006192969158291817, -0.012287701480090618, 0.009760797023773193, -0.0024225274100899696, -0.013304273597896099, -0.025770146399736404, -0.022104907780885696, 0.01872146688401699, -0.01396960113197565, 0.002309646224603057, 0.00683793518692255, -0.014403645880520344, 0.009703029878437519, -0.004891805816441774, 0.03337075188755989, 0.004819423891603947, -0.013712783344089985, -0.005514001008123159, 0.0042887660674750805, 0.024308549240231514, 0.010968245565891266, 0.01088013220578432, 0.003959304187446833, 0.004231554456055164, 0.019619300961494446, 0.026182960718870163, 0.02286560833454132, 0.00955805554986, 0.011938193812966347, 0.00667917262762785, 0.00037227338179945946, 0.01669689640402794, -0.1197676733136177, -0.0002679718309082091, 0.0011811986332759261, -0.019013244658708572, 0.019541118294000626, 0.005745868198573589, 0.0041518667712807655, 0.10716651380062103, 0.002193667460232973, -0.03058452159166336, -0.0026946449652314186, 0.007021752651780844, -0.019001128152012825, -0.006546063348650932, -0.009224442765116692, 0.002154486021026969, 0.012490476481616497, 0.011120056733489037, 0.0015903855673968792, -0.007961893454194069, -0.027321703732013702, -0.005017496179789305, 0.011072317138314247, -0.02522849105298519, 0.010922970250248909, -0.06516678631305695, -0.012962841428816319, 0.004688472021371126, -0.005950085818767548, 0.011720702983438969, -0.011569565162062645, -0.024725351482629776, -0.013118403032422066, -0.0017148819752037525, -0.0005957928369753063, 0.014579419046640396, -0.001382474321871996, 0.003967319615185261, -0.0012498062569648027, 0.01405593566596508, -0.017815636470913887, 0.005363635253161192, 0.016577288508415222, -0.020331867039203644, 0.010641631670296192, -0.003335685236379504, -0.007181367836892605, 0.02538468688726425, -0.03842005878686905, 0.00042200525058433414, 0.0018073560204356909, -0.024537468329072, -0.004673693794757128, -0.008599611930549145, 0.014544245786964893, -0.009674504399299622, -0.012573564425110817, -0.013823259621858597, -0.0027538216672837734, 0.006078389007598162, -0.005533628631383181, -0.0010111534502357244, -0.005318010691553354, -0.0038460774812847376, -0.010283023118972778, 0.010618564672768116, -0.01743711344897747, -0.020936686545610428, -0.015189951285719872, 0.007061748765408993, 0.015320578590035439, 0.01379713136702776, 0.027479203417897224, -0.006004102993756533, 0.008280807174742222, -0.01872536912560463, -0.015889715403318405, 0.005293151363730431, -0.01976575143635273, -0.02178427204489708, 0.01082679908722639, 0.014926794916391373, 0.01651175506412983, -0.014258751645684242, -0.0008192502427846193, -0.001580232521519065, 0.006466224789619446, 0.0173360463231802, 0.005358257330954075, 0.024113915860652924, -0.001138958497904241, 0.017149604856967926, 0.004240833222866058, -0.012876348569989204, -0.0022212453186511993, 0.014303356409072876, -0.003691335441544652, 0.002679812256246805, 0.0016480851918458939, 0.0005948570906184614, 0.007658522110432386, 0.03484295308589935, 0.00017304570064879954, -0.017466573044657707, -0.013646271079778671, 0.005076609551906586, 0.0008128646295517683, 0.010173222050070763, -0.0038050932344049215, 0.0033299820497632027, 0.013884719461202621, -0.01435771118849516, -0.013851840049028397, 0.006598439533263445, 0.03276501223444939, -0.012565518729388714, -0.00922292098402977, -0.004122341983020306, -0.027973024174571037, -0.0002571498625911772, 0.007557202596217394, 0.002681559417396784, -0.011944305151700974, -0.015582959167659283, 0.008422142826020718, -0.0049859946593642235, -0.005566791165620089, -0.0272283386439085, -0.0033743262756615877, 0.00373673508875072, 0.028188349679112434, 0.008979322388768196, -0.020740164443850517, -0.0028888657689094543, 0.0009580907062627375, 0.0021482042502611876, 0.004002775996923447, 0.015370077453553677, -0.023697618395090103, -0.0038452749140560627, -0.0001904294331325218, -0.01445489376783371, -0.003475708421319723, 0.005496329162269831, 0.013971527107059956, 0.008112091571092606, -0.0008314648875966668, 0.004665221553295851, -0.005783579312264919, -0.0014098092215135694, -0.017778584733605385, 0.025294553488492966, 0.0056548104621469975, -0.014151240698993206, 0.012171437032520771, 0.002688990207388997, 0.01643485762178898, 0.005331507883965969, 0.01787497103214264, -0.012368883937597275, 0.00867017824202776, -0.004896694328635931, 0.0028753287624567747, 0.027523944154381752, -0.008098820224404335, -0.0010554061736911535, 0.008267812430858612, -0.009985150769352913, 0.002499455353245139, -0.0031236843205988407, 0.04178006574511528, -0.01642834022641182, 0.010983899235725403, 0.00363841000944376, 0.03235780447721481, -0.011745870113372803, -0.0005992952501401305, 0.0003396125102881342, 0.0018654746236279607, -0.003409497905522585, 0.001001924742013216, 0.008349098265171051, -0.011317380703985691, -0.0029860823415219784, 0.009884475730359554, 0.01794380508363247, 0.004686318803578615, -0.01011921837925911, 0.022739751264452934, -0.019995801150798798, 0.010847951285541058, 0.016834255307912827, -0.0048689646646380424, -0.008150995709002018, 0.0050621647387743, 0.010394170880317688, -0.004421773832291365, -0.010828118771314621, 0.015071727335453033, 0.015654847025871277, 0.014634993858635426, -0.0034323239233344793, -0.010356404818594456, -0.01025665644556284, 0.003173207398504019, 0.005011940374970436, -0.034552477300167084, 0.02061515673995018, -0.006420977413654327, 0.005674912128597498, 0.001060189912095666, -0.00647811871021986, 0.0035320071037858725, 0.014523692429065704, -0.0010079023195430636, 0.012613195925951004, 0.022783488035202026, -0.02854624018073082, -0.0019005016656592488, 0.0048736026510596275, 0.01074291579425335, 0.0017360917991027236, 0.0009135931613855064, 0.01136306207627058, -0.012216472066938877, -0.00061573158018291, 0.005930843763053417, -0.007330005522817373, 0.0006138037424534559, 0.003615995403379202, 0.0028281027916818857, 0.0017319181933999062, -0.0005196588463149965, 4.629351678886451e-05, -0.025416307151317596, -0.037752602249383926, -0.01215266715735197, -0.023849232122302055, -1.4213692338671535e-05, -0.001388812204822898, -0.0015339609235525131, 0.0065259188413619995, 0.0006459835567511618, -4.296947372495197e-05, -0.010023152455687523, -0.007894477806985378, -0.007713627070188522, -0.009382683783769608, -0.004857551772147417, 0.006140642333775759, -0.00157629803288728, -0.007621290627866983, 0.005803065840154886, -0.022206222638487816, -0.0034239445813000202, 0.005160510540008545, -0.0037929038517177105, 0.0029246548656374216, -0.0035703573375940323, 0.01179152075201273, 0.03409230336546898, 0.0092979297041893, -0.00613282760605216, 0.00782342255115509, -0.02441238984465599, 0.00984582956880331, 0.0037543175276368856, 4.395019277581014e-05, -0.027660371735692024, 0.012625782750546932, 0.027683837339282036, -0.014833223074674606, -0.02996239997446537, 0.00969600211828947, -0.0063352035358548164, -0.0034649320878088474, 0.002271464327350259, 0.006218577269464731, 0.0005078351241536438, 0.018734967336058617, 0.00910938624292612, -0.0012264872202649713, 0.008284795098006725, 0.012430757284164429, 0.005730191245675087, -0.014890541322529316, 0.028736228123307228, -0.0018142798217013478, 0.0009475177503190935, -0.010430079884827137, 0.005570776294916868, 0.006227846257388592, 0.010723303072154522, -0.0030596796423196793, -0.025962000712752342, -0.039370208978652954, 0.013002255000174046, 0.0015269488794729114, -0.012038704939186573, 0.010218500159680843, -0.0020185422617942095, -0.010749232955276966, -0.013674859888851643, -0.017939068377017975, -0.004821692127734423, 0.0036286073736846447, 0.019266456365585327, 0.0035632646176964045, -0.010580945760011673, -0.0015183323994278908, 0.0037549762055277824, -0.009843505918979645, 0.019854579120874405, 0.01384916715323925, -0.02867267280817032, -0.004765793215483427, 0.010295775718986988, 0.0006748687592335045, 0.002666880376636982, -0.0027768113650381565, -0.01511292066425085, 0.006755774840712547, 0.016504263505339622, 0.01078652124851942, 0.008027956821024418, 0.012385114096105099, 0.030641155317425728, -0.0005567778134718537, -0.0008513397187925875, -0.02524569071829319, -0.02416769042611122, 0.007490529213100672, -0.005536300130188465, -0.0018703036475926638, 0.017046557739377022, 0.011900006793439388, -0.010101817548274994, 0.018548108637332916, 0.012109329923987389, 0.01966463029384613, -0.015239929780364037, 0.012718643993139267, 0.007269838824868202, -0.02073613740503788, 0.019215155392885208, 1.8954326151288114e-05, -0.010207444429397583, -0.0015237407060340047, 0.008070421405136585, -0.009663160890340805, -0.006891086231917143, 0.007607459556311369, 0.005954877473413944, 0.008658559061586857, 0.010052413679659367, -0.0026660903822630644, -0.011954267509281635, -0.01142663974314928, 0.02003946155309677, 0.006150881759822369, 0.007936927489936352, -0.006752899847924709, 0.00544177507981658, 0.011908323504030704, 0.016225697472691536, -0.0050387014634907246, 0.0021109168883413076, -0.03169659525156021, -0.01619897224009037, -0.0007703203009441495, 8.629521471448243e-05, 0.0010042230132967234, -0.02213233709335327, -0.010758553631603718, -0.011119608767330647, -0.003622503485530615, -0.02492593787610531, 0.004821347072720528, -0.009320111945271492, -0.015448145568370819, -0.0005651611718349159, 0.00020887785649392754, -0.017979247495532036, -0.008656186051666737, 0.0014125594170764089, 0.010636170394718647, -0.004286757670342922, 0.010004770942032337, -0.006711128633469343, 0.009671610780060291, 0.0001517490454716608, 0.007308180443942547, 0.011582779698073864, 0.0001511629088781774, 0.005227291025221348, -0.00525309331715107, -0.013911325484514236, -0.012409470975399017, -0.01714172586798668, -0.0012289178557693958, -0.009810618124902248, -0.005948150064796209, 0.003891662461683154, 0.008757296949625015, 0.005751237738877535, -0.0011970873456448317, 0.020354503765702248, 0.015365717001259327, -0.0024607947561889887, 0.009550418704748154, 0.009769699536263943, -0.0015130401588976383, 0.016117842867970467, 0.005236098077148199, -0.015279747545719147, 0.013506961055099964, -0.009698474779725075, 0.005106382537633181, 0.0013198427623137832, 0.019235067069530487, -0.014965699054300785, -0.013156155124306679, -0.0005890098982490599, -0.0027701419312506914, -0.007449310272932053, -0.0011548828333616257, -0.0120107876136899, -0.019145814701914787, 0.030314190313220024, -0.006033594720065594, 0.013143743388354778, -0.007506218738853931, -0.0004665380984079093, 0.008268697187304497, -0.010413420386612415, 0.001087578828446567, -0.0194707028567791, 0.00945606455206871, -0.005049975123256445, 0.016847433522343636, 0.014914093539118767, 0.023083966225385666, -0.0011298551689833403, 0.004446530248969793, 0.0009230542927980423, 0.0073202792555093765, -0.0026034903712570667, 0.008866879157721996, -0.021769488230347633, 0.016724810004234314, -0.0053199948742985725, -0.01537367608398199, -0.0029164301231503487, 0.004684540443122387, 0.00037819560384377837, -0.0030824607238173485, 0.015129228122532368, -0.0056968810968101025, 0.012666088528931141, -0.018424993380904198, -0.012089535593986511, 0.003778196405619383, 0.004595635458827019, -0.008211148902773857, -0.0034001674503087997, -0.007960638962686062, -0.0009708101861178875, -0.009445550851523876, -0.01371467299759388, -0.014962807297706604, -0.030479300767183304, 0.0015499681467190385, -0.0567665733397007, 0.022877249866724014, 0.01202844362705946, -0.0016956203617155552, 0.026457522064447403, 0.0008449822198599577, 0.007149197161197662, -0.05228515341877937, 0.007666960824280977, 0.004749962594360113, -0.0033734783064574003, 0.018260320648550987, 0.0014495443319901824, -0.008396463468670845, 0.00152835703920573, 0.016482066363096237, -0.010889118537306786, -0.008941629901528358, -0.03341102600097656, 0.016827061772346497, -0.01867138221859932, 0.008941489271819592, 0.004619118757545948, -0.0060266489163041115, 0.00386616587638855, -0.01708097755908966, 0.005407622549682856, -0.01129680871963501, -0.005450356286019087, -0.012220142409205437, 0.021215315908193588, -0.012670828960835934, 0.0026220555882900953, 0.0008652001852169633, 0.02071787603199482, 0.018996909260749817, 0.0068143513053655624, -0.05469895899295807, -0.0046437084674835205, 0.0008842174429446459, 0.015333930030465126, 0.0002678986929822713, 0.015518136322498322, -0.017129380255937576, -0.00860968604683876, 0.018422305583953857, -0.013257474638521671, 0.0017671501263976097, -0.007982403971254826, 0.011437776498496532, -0.0007172739715315402, -0.032180506736040115, -0.00654223607853055, 0.0023724145721644163, -0.007891546003520489, -0.0001254249073099345, 0.013850986957550049, -0.00411599176004529, 0.003351099556311965, 0.0045462059788405895, -0.014054863713681698, 0.020840482786297798, -0.011523650959134102, 0.009297488257288933, -0.008747474290430546, -0.006789712235331535, -0.013833936303853989, -0.009562991559505463, 0.009847510606050491, -0.00872745644301176, -0.011077001690864563, 0.010407799854874611, 0.007620038464665413, -0.006661323364824057, 0.0069982754066586494, -0.016728604212403297, -0.01344231516122818, 0.0021744403056800365, -0.004003418143838644, -0.0023834938183426857, 0.02974877506494522, -0.016525156795978546, 0.0025834841653704643, -0.02001972496509552, 0.008305942639708519, -0.006860042456537485, 0.02060064673423767, 0.01068668719381094, -0.019591134041547775, -0.0005517256795428693, -0.0019336408004164696, -0.0016721595311537385, -0.01644769497215748, 0.004258826375007629, -0.0034443638287484646, -0.009049365296959877, 0.020297273993492126, 0.0402236171066761, -0.012901166453957558, -0.003748105140402913, 0.0008922318229451776, 0.017133694142103195, 0.022880462929606438, 0.035569362342357635, 0.006555237807333469, -0.004866652190685272, 0.0037520399782806635, 0.00018345967691857368, 0.0017672289395704865, 0.0014726795488968492, -0.00959673710167408, 0.006809554994106293, -0.007259634789079428, 0.0034339416306465864, 0.006659000646322966, -0.006825719960033894, 0.003601590869948268, 0.00634962972253561, -0.018997585400938988, -0.00505433976650238, 0.009987467899918556, -0.004694285802543163, 0.005398789886385202, -0.0067517259158194065, -0.012780616991221905, -0.007677262648940086, 0.009250618517398834, 0.010629433207213879, 0.0014435381162911654, -0.0034909099340438843, 0.0008536798413842916, 0.0003523837367538363, 0.00045579447760246694, 0.006832537241280079, 0.021629350259900093, -0.006299363914877176, -0.0029663729947060347, -0.024362847208976746, -0.018028540536761284, 0.0026179817505180836, -0.010541806928813457, 0.00750148156657815, 0.003360284259542823, -0.02661113440990448, 0.0043257297948002815, -0.026979563757777214, 0.01870860531926155, 0.008322197012603283, -0.013429082930088043, 0.002216180320829153, 0.001105220289900899, -0.0029584337025880814, -0.008152153342962265, 8.714382420293987e-05, 0.012141374871134758, 0.010948545299470425, -0.0032512398902326822, 0.003538332646712661, -0.009772373363375664, -0.006223761476576328, -0.009715733118355274, 0.015039591118693352, -0.02616751380264759, 0.02128325216472149, -0.004727799445390701, -0.002160412725061178, 0.0003339234972372651, 0.00539819523692131, 0.02376304194331169, -0.0021713750902563334, -0.00705938832834363, 0.006226509343832731, 0.008817285299301147, 0.006560558453202248, 0.025750242173671722, -0.014160947874188423, 0.013130019418895245, 0.01239712256938219, -0.008871188387274742, 0.003619680879637599, 0.010060188360512257, -0.014508301392197609, -0.007714997511357069, 0.022196093574166298, 0.017014378681778908, -0.007146788295358419, 0.018323566764593124, 0.006328250281512737, -0.009522109292447567, -0.004335344303399324, 0.0023124953731894493, -0.004555622581392527, 0.008589563891291618, 0.008943342603743076, 0.018259042873978615, 0.007268367800861597, -0.009770938195288181, -0.01613692380487919, -0.001054848893545568, -0.00025543422088958323, -0.015365125611424446, -0.001453657285310328, 0.003451024182140827, 0.006898172199726105, -0.003542232094332576, 0.02377176471054554, 0.008325117640197277, -0.0027308003045618534, -0.02452232502400875, 0.013318328186869621, 0.006352782249450684, 0.011135557666420937, 0.004601226653903723, -0.006763390731066465, 0.17747637629508972, 0.10216069966554642, -0.013987695798277855, -0.011849995702505112, 0.011831648647785187, -0.008159485645592213, 0.003571164794266224, 0.016672804951667786, 0.01987130381166935, 0.00016688648611307144, -0.01006250735372305, -0.012720275670289993, -0.010160029865801334, 0.005148051306605339, 0.016432590782642365, -0.01889961212873459, -0.004381826147437096, 0.005272671580314636, 0.0013939790660515428, 0.009678510017693043, -0.014982200227677822, 0.01036656554788351, -0.00786574650555849, -0.0087351119145751, -0.014524318277835846, -0.006528636906296015, -0.019901972264051437, 0.0023987703025341034, -0.0014309296384453773, 0.019250478595495224, -0.014855309389531612, -0.0020434220787137747, -0.013098962604999542, -0.005579764489084482, 0.010567763820290565, -0.00420769490301609, -0.01374741829931736, -0.019841644912958145, 0.0057880268432199955, 0.003019717987626791, -0.022371266037225723, 0.006137416232377291, -0.009741673246026039, -0.012050365097820759, 0.0006322301342152059, -0.00864062923938036, -0.015580152161419392, 0.003628554055467248, 0.0005287619424052536, -0.007670645136386156, -0.023414913564920425, 0.006192071363329887, 0.002509911311790347, 0.01650385744869709, 0.0020846265833824873, -0.0036579726729542017, 0.022575104609131813, -0.0021296534687280655, -0.03097594529390335, 0.007616014685481787, 0.006731057073920965, -0.015381255187094212, 0.012173417955636978, -0.004120634403079748, 0.009023926220834255, -0.007224990054965019, 0.004411148838698864, 0.0014800068456679583, -0.007584966719150543, 0.006377695593982935, -0.004077638033777475, 0.023020314052700996, -0.015979306772351265, 0.006413148250430822, -0.019000709056854248, 0.001823129365220666, 0.005231979303061962, 0.0007559424266219139, 0.0009134528809227049, -0.006613965146243572, -0.005489641800522804, -0.005901381839066744, -0.015039848163723946, 0.023785952478647232, 0.0021403534337878227, 0.010665844194591045, 0.008084678091108799, 0.020645704120397568, 0.11449828743934631, 0.011167431250214577, 0.002554314909502864, -0.009922643192112446, 0.009776790626347065, 0.0093989921733737, -0.011855141259729862, 0.04651356115937233, 0.00393309723585844, -0.006411741022020578, -0.004919785540550947, 0.011394538916647434, 0.006572223734110594, 0.0019573417957872152, 0.011369576677680016, 0.013790563680231571, 0.01882580853998661, 0.050724729895591736, 0.012148457579314709, -0.0014636908890679479, -0.012477327138185501, 0.006086581852287054, -0.009008824825286865, -0.010536180809140205, 0.006831394508481026, -0.007330639753490686, 0.008830582723021507, 0.01610601134598255, -0.009078588336706161, 0.01841220073401928, -0.0875713899731636, 0.0003436806728132069, -0.019023647531867027, -0.015278913080692291, -0.0002725996309891343, 0.0008294932777062058, -0.003795467782765627, -0.00771499564871192, -0.03500979021191597, 0.010278400965034962, -0.010892053134739399, -0.014119807630777359, -0.0009082432952709496, -0.005637738388031721, -0.007800987455993891, 0.026481114327907562, 0.013303371146321297, 0.008243135176599026, -0.02244790829718113, 0.014836988411843777, -0.022120941430330276, 0.009179891087114811, 0.0017816199688240886, 0.041691169142723083, 0.005526185967028141, 0.011160864494740963, 0.02374882623553276, 0.012609027326107025, -0.0022528746630996466, 0.005812540650367737, 0.004120551981031895, 0.006874788086861372, -0.0011651975801214576, -0.001832381822168827, -0.001228270586580038, 0.01802785135805607, -0.005278395488858223, -0.010725121945142746, 0.005258272867649794, 0.008830958046019077, 0.01409714762121439, -0.02889464609324932, -0.001450310810469091, -0.047569312155246735, -0.00920156855136156, 0.004153953865170479, -0.018607480451464653, 0.007250675465911627, -0.010692236013710499, -0.01584869623184204, 0.05646444484591484, -0.006540016271173954, -0.004483573138713837, -0.009804436936974525, -0.017676135525107384, -0.009097610600292683, 0.025004038587212563, 0.010966276749968529, 0.005269411485642195, 0.02735844813287258, -0.017337271943688393, 0.00571989081799984, -0.010263681411743164, 0.007580539211630821, 0.002401940291747451, -0.0067969998344779015, -0.001359616289846599, 0.008712044917047024, 0.02016257308423519, 0.015748189762234688, -0.01070936769247055, 0.010186650790274143, 0.01822623237967491, -0.012284214608371258, -0.00473607424646616, -0.008414201438426971, 0.00447540357708931, -0.01420158613473177, 0.020297441631555557, 0.0280614010989666, 0.018713394179940224, -0.0077304840087890625, -0.01462982501834631, 0.15605881810188293, -0.004211545456200838, 0.0038541227113455534, 0.01266256533563137, 0.014143969863653183, 0.013340877369046211, 0.021967941895127296, -0.006989834364503622, 0.017395542934536934, -0.005411892663687468, -0.020678211003541946, 0.012266227975487709, -0.0033954130485653877, 0.0012332285987213254, -0.016151325777173042, -0.014301598072052002, 0.003349518170580268, -0.027506548911333084, 0.023518187925219536, -0.006149211432784796, -0.02092776633799076, -0.01460941880941391, -0.0012642777292057872, -0.0038283702451735735, -0.029304519295692444, -0.00010851673141587526, -0.004149585496634245, 0.02552252821624279, -0.017868435010313988, 0.003146624192595482, 0.010213378816843033, 1.6215431969612837e-05, 0.030160684138536453, -0.01813052035868168, -0.01758938655257225, 0.004767769016325474, 0.012031057849526405, -0.0005329383420757949, -0.008707622066140175, 0.005478938575834036, -0.009966708719730377, 0.024113714694976807, 0.006523939315229654, 0.01196730975061655, -0.02757124789059162, 0.200795516371727, 0.007405104115605354, 0.008039125241339207, 0.018737666308879852, 0.009460900910198689, 0.0003555542789399624, -0.005531535483896732, 0.013351303525269032, 0.02378748543560505, 0.02233627624809742, 0.0016332898521795869, -7.110490696504712e-05, -0.008858252316713333, 0.0068496353924274445, -0.029436510056257248, 0.004679437261074781, 0.006671624258160591, 0.00021922800806351006, -0.010709901340305805, -0.020260054618120193, 3.37276651407592e-05, 0.0109724011272192, -0.011331710033118725, -0.0048538981936872005, -0.01475105807185173, 0.00852289516478777, 0.005434667691588402, 0.009040392003953457, 0.012687873095273972, 0.009946622885763645, -0.005790078081190586, -0.006860286928713322, -0.028284572064876556, 0.014708089642226696, -0.0002985840546898544, -0.006213660351932049, -0.008630531840026379, -0.004831978585571051, -0.000976721988990903, -0.01416360680013895, -0.0037039355374872684, -0.004098815843462944, 0.014447378925979137, 0.029721127822995186, -0.008668721653521061, -0.00333578628487885, -0.0029913061298429966, 0.01232840120792389, 0.008163326419889927, 0.003918318543583155, 0.02631228230893612, 0.008715867064893246, -0.011344535276293755, 0.02076593041419983, 0.005838864482939243, 0.010892540216445923, 0.002628169720992446, -0.0025816084817051888, -0.0331055223941803, 0.014574280008673668, -0.011587711982429028, 0.014369508251547813, 0.0028302972204983234, 0.012692592106759548, 0.005942538846284151, -0.005189818330109119, -0.004026086535304785]\n"
          ]
        }
      ]
    },
    {
      "cell_type": "code",
      "source": [
        "# @markdown # Hugging Face\n",
        "model_name = \"all-MiniLM-L6-v2\" # @param [\"BAAI/bge-en-icl\",\"all-MiniLM-L6-v2\"]\n",
        "query = \"India is a growing country\" # @param {\"type\":\"string\",\"placeholder\":\"India is a growing country\"}\n",
        "huggingface_embeddings=HuggingFaceEmbeddings(model_name=model_name)\n",
        "\n",
        "result = huggingface_embeddings.embed_query(query)\n",
        "print(len(result),result)"
      ],
      "metadata": {
        "id": "Tn8JwvZQ8SHS",
        "colab": {
          "base_uri": "https://localhost:8080/",
          "height": 441,
          "referenced_widgets": [
            "46539b0ee97345588b8ce3bb95e35acd",
            "fca1540ba5a94fc49d619e8cd182d4bc",
            "21f7a0b502264f37b6e9f758be3e5b2a",
            "70d1a00b62bb4232b33c500b1cd5dc54",
            "551fdd6a1f754cd1b156fcbcae0723d0",
            "e8686c39744c4d89b42b2a4493bba577",
            "97fb41df88b44530925ac6d673dfec2c",
            "7f1646502366456ea0c214dd23f3e8c3",
            "f67bb65bd3d7411898becc5ac114e8c3",
            "a4b58292078649f5b9cd17af5b0ceb70",
            "cf2da8f5c75c41dc8561f71cdd92506d",
            "5880a11b3b144a14aece975eb0e33a02",
            "df0e75930af74691a445b7d4d1f869a7",
            "b1c74825509547a0b8486cf0df32c1cb",
            "9c787faf24e54759a0d92d61efda3787",
            "f38f9871fcb742b29404dc566d78b6ca",
            "9cb47b57338943108874651030f2ed43",
            "5924c29e4fec402397f9943cb93c4e96",
            "6042f90d073f4c5c92ac777210c0fca9",
            "6cb38d6247b94e628d02fe23153a1993",
            "020f7021b4324ae69c685afa88f14c71",
            "3e639f63e1594d0d99b6bae63519b345",
            "3756e3dc79344cfbad694cafacdf3252",
            "671ca390a4ab4a3285592b35cdde1e88",
            "aa9ab6fa8a244e8e98336ab5ce01ab18",
            "4c58e31cb3f148cea0a3a773f337bfab",
            "978c5a3e46a249c69304f62537a46382",
            "ce03b4a086434299b41c7ee406282707",
            "29b95ece444441f3be5da5a940369766",
            "d4f0d11c58ec4e2aa9958ee80807b1da",
            "ffa6580f29fc4b64b65332e671d08b82",
            "7ec3dda073434ed4b47e8129296a238f",
            "2e6250336a8b4fe98bf9bf3ec4a9bed9",
            "45a3e96f953c4ef59cd14d0aadc52b60",
            "d25d6d9170cc461a942e6e1dca0a60d2",
            "feffaecfc98c4829a95b25b2ea99d528",
            "4639d48bed03458981651cad3affe106",
            "b0ff9118b9324757ba485c019cb7c697",
            "f49f24ab679349a5b6fd37c79fed1538",
            "dda6300bb4de42b3a383375079251322",
            "83ecc20e8c0f4c1b845cb3feca8ea02e",
            "d1094c094ed6417587656dad94323006",
            "327b667e2858445ab8bbd5bca9030213",
            "89af84be1c1542f38cf1c797d6d860de",
            "2b064e1b92ac424dbbf60bc3a088c49f",
            "b30ded0b3993451f9887e12f117c7472",
            "83186a0b44ea4c90b104469c6c98f29e",
            "b30ed168c3c44f59af23f4102c6fb776",
            "5b3e0fc0968b45e6bbb9984aa9a12495",
            "9b9e929d3d254300a2cd869aa0b0b49c",
            "eb0d2d56de7f48e8919c36ed77085bd6",
            "360f1e054181499fba946356cdd5d84b",
            "faef41ce5469480885db9cf6b25601dc",
            "1ab0ffdc9c634ca982013ecf53048a1f",
            "a84c4c81226c462b9458d98bfcefeca6",
            "dec575cf645847cf8f66c1b7cd43806c",
            "738c7e6e4da34d7191b95624cbd9eadf",
            "351d143bbd864702a23188269c2dbd72",
            "7204a9800cb14b63824cb6f4a512c8ad",
            "74b1f5fb82be4a72bcc226ff754ee65e",
            "7f7f19bf85e349fc81abae383564a2fd",
            "d699163e994b442c9352a5d86a527d2b",
            "1adda7c037324c2e9855aa2269fa21bf",
            "03051d3a05a047ed88b71e5ddf5e0ff0",
            "e043c30022e545408fe6c05b7c309899",
            "c4eea280aa21442aa9da82bc5739ec20",
            "d31f477d631145e2951078e55126e22e",
            "537e07b6f61f4cfcb7838e1f5b3632bd",
            "2c040260665145c7a810752bd55c9b7a",
            "43b90bd5a65143d8b82db4549b13fd42",
            "297e78394a384a03a2767ff0861ea7b7",
            "a6d50b40df97457dbfe0a3b41b0a9d20",
            "26637e34596e4c2cb071bb61fc6e3500",
            "289d02db653743248b74b6c8ae7fc689",
            "0c9d972681c24e18b487bc41ffa3cc88",
            "cb3c6bbad1654b8886f69eb4be7dac22",
            "5a5658f3846245dd9b8ad820e933618c",
            "d53ad67e0d534efe85902656bcbf9283",
            "aa3cb698da1d4828989b0d7a724072ed",
            "8d654d9c98cd4e50b55c2d817e2578e7",
            "049840e1106b4b1fb9da7f5656e2b52e",
            "68002f4c5d2f41b5981944c28dc856e2",
            "6bcad0ae88824678acc77f83e44465b3",
            "84c03d42108c4239bcbdc2b45ddd9f6f",
            "4daa8abf9bc9432a8ba6420ba2223e8f",
            "5cfdc4066ab247b5a6b7ebb9bf0e9d7e",
            "ff96b5b6a47c465dbf0ac1c1da5f47d8",
            "eed5027cd28c451ca06e3ec6b3caa854",
            "6d737dc54d1d449f8a3e063b65a771cc",
            "8c0d6b0617b148df8d11064bb6942e0b",
            "81b3acc3016d43709c8fcfd2ed013ab3",
            "327bc00ce2404013982da1a1914476da",
            "c3f867ce3ce046a48e3b6514c9ff3e96",
            "764d29875d884c6baa142a618fbe181d",
            "6a95fa23cd274f11b57b7edf82b763ab",
            "c88bfd5fd4634d6cb58a10a4482bb18d",
            "feabc576eeb54a7f82880fb0cde35399",
            "3d9a1cd016e0427194933d0c9db03db5",
            "3310f7c46e6746148d83d336efe92599",
            "ec17f0bb773a4e569c4f3fba5ec6bcbb",
            "ee84657ea0334af69274f39fb8035b57",
            "2d02360b402044e09e5281e61cb7a297",
            "2a71228219a94b3ba991d8463027211e",
            "7ed7f995461e4e6393cbe8451643dea2",
            "bed5afb6dcce4bee82552c5a53966d87",
            "9827c9eb62084b4293bb4cd14551464a",
            "222583b747314159b9af4523b42eaf18",
            "7697ad234d1642fb851d411b0867bd55",
            "996ffa4d007f4ad8aa50c8b18dd92cd3",
            "5c76c3817bcd4054ad685b8afafb1e14",
            "8af4a2f0a6894af5bde55020d1538e6c",
            "0161c8c1fff44e72b881f4dada7e9643",
            "26ce7444be96432ba64cef6e06628126",
            "f94ba9f46f564b5b869a230a082ac267",
            "3df317b507854ae88054add5c0e63819",
            "a49814da65f7422db0609b26e2c8f046",
            "6a81f9f52858449b94eface5d364b225",
            "d964a0fcf67649f29b7756958a68af7d",
            "3740376517d848b0a245358b1edd3c3b",
            "58a59f8417a64b0ea3d65f781a1897c4",
            "00b0ab99bf224a899b34160f2a94b385"
          ]
        },
        "outputId": "aa2e45b1-5d70-4ac5-c560-6366c23b4446"
      },
      "execution_count": null,
      "outputs": [
        {
          "output_type": "display_data",
          "data": {
            "text/plain": [
              "modules.json:   0%|          | 0.00/349 [00:00<?, ?B/s]"
            ],
            "application/vnd.jupyter.widget-view+json": {
              "version_major": 2,
              "version_minor": 0,
              "model_id": "46539b0ee97345588b8ce3bb95e35acd"
            }
          },
          "metadata": {}
        },
        {
          "output_type": "display_data",
          "data": {
            "text/plain": [
              "config_sentence_transformers.json:   0%|          | 0.00/116 [00:00<?, ?B/s]"
            ],
            "application/vnd.jupyter.widget-view+json": {
              "version_major": 2,
              "version_minor": 0,
              "model_id": "5880a11b3b144a14aece975eb0e33a02"
            }
          },
          "metadata": {}
        },
        {
          "output_type": "display_data",
          "data": {
            "text/plain": [
              "README.md:   0%|          | 0.00/10.5k [00:00<?, ?B/s]"
            ],
            "application/vnd.jupyter.widget-view+json": {
              "version_major": 2,
              "version_minor": 0,
              "model_id": "3756e3dc79344cfbad694cafacdf3252"
            }
          },
          "metadata": {}
        },
        {
          "output_type": "display_data",
          "data": {
            "text/plain": [
              "sentence_bert_config.json:   0%|          | 0.00/53.0 [00:00<?, ?B/s]"
            ],
            "application/vnd.jupyter.widget-view+json": {
              "version_major": 2,
              "version_minor": 0,
              "model_id": "45a3e96f953c4ef59cd14d0aadc52b60"
            }
          },
          "metadata": {}
        },
        {
          "output_type": "display_data",
          "data": {
            "text/plain": [
              "config.json:   0%|          | 0.00/612 [00:00<?, ?B/s]"
            ],
            "application/vnd.jupyter.widget-view+json": {
              "version_major": 2,
              "version_minor": 0,
              "model_id": "2b064e1b92ac424dbbf60bc3a088c49f"
            }
          },
          "metadata": {}
        },
        {
          "output_type": "stream",
          "name": "stderr",
          "text": [
            "Xet Storage is enabled for this repo, but the 'hf_xet' package is not installed. Falling back to regular HTTP download. For better performance, install the package with: `pip install huggingface_hub[hf_xet]` or `pip install hf_xet`\n",
            "WARNING:huggingface_hub.file_download:Xet Storage is enabled for this repo, but the 'hf_xet' package is not installed. Falling back to regular HTTP download. For better performance, install the package with: `pip install huggingface_hub[hf_xet]` or `pip install hf_xet`\n"
          ]
        },
        {
          "output_type": "display_data",
          "data": {
            "text/plain": [
              "model.safetensors:   0%|          | 0.00/90.9M [00:00<?, ?B/s]"
            ],
            "application/vnd.jupyter.widget-view+json": {
              "version_major": 2,
              "version_minor": 0,
              "model_id": "dec575cf645847cf8f66c1b7cd43806c"
            }
          },
          "metadata": {}
        },
        {
          "output_type": "display_data",
          "data": {
            "text/plain": [
              "tokenizer_config.json:   0%|          | 0.00/350 [00:00<?, ?B/s]"
            ],
            "application/vnd.jupyter.widget-view+json": {
              "version_major": 2,
              "version_minor": 0,
              "model_id": "d31f477d631145e2951078e55126e22e"
            }
          },
          "metadata": {}
        },
        {
          "output_type": "display_data",
          "data": {
            "text/plain": [
              "vocab.txt:   0%|          | 0.00/232k [00:00<?, ?B/s]"
            ],
            "application/vnd.jupyter.widget-view+json": {
              "version_major": 2,
              "version_minor": 0,
              "model_id": "d53ad67e0d534efe85902656bcbf9283"
            }
          },
          "metadata": {}
        },
        {
          "output_type": "display_data",
          "data": {
            "text/plain": [
              "tokenizer.json:   0%|          | 0.00/466k [00:00<?, ?B/s]"
            ],
            "application/vnd.jupyter.widget-view+json": {
              "version_major": 2,
              "version_minor": 0,
              "model_id": "6d737dc54d1d449f8a3e063b65a771cc"
            }
          },
          "metadata": {}
        },
        {
          "output_type": "display_data",
          "data": {
            "text/plain": [
              "special_tokens_map.json:   0%|          | 0.00/112 [00:00<?, ?B/s]"
            ],
            "application/vnd.jupyter.widget-view+json": {
              "version_major": 2,
              "version_minor": 0,
              "model_id": "ec17f0bb773a4e569c4f3fba5ec6bcbb"
            }
          },
          "metadata": {}
        },
        {
          "output_type": "display_data",
          "data": {
            "text/plain": [
              "config.json:   0%|          | 0.00/190 [00:00<?, ?B/s]"
            ],
            "application/vnd.jupyter.widget-view+json": {
              "version_major": 2,
              "version_minor": 0,
              "model_id": "8af4a2f0a6894af5bde55020d1538e6c"
            }
          },
          "metadata": {}
        },
        {
          "output_type": "stream",
          "name": "stdout",
          "text": [
            "384 [0.04652419313788414, -0.03841586783528328, -0.020850857719779015, 0.023816175758838654, 0.0687897652387619, -0.021041328087449074, 0.013878699392080307, -0.03014145791530609, -0.023620005697011948, 0.053420186042785645, 0.07592421770095825, -0.03870828449726105, 0.004604072775691748, 0.02037832699716091, 0.004490302409976721, 0.013204904273152351, -0.03557905927300453, -0.08155126869678497, -0.010968387126922607, -0.07982286810874939, -0.02969965711236, 0.03725045919418335, 0.009932871907949448, -0.026426194235682487, 0.03741077706217766, -0.001230493769980967, 0.0654568001627922, -0.08167450875043869, 0.015372431837022305, 0.053513478487730026, 0.010447172448039055, 0.14234355092048645, -0.025024374946951866, -0.001049715792760253, -0.04509156197309494, -0.0068294936791062355, 0.044003672897815704, 0.0837005227804184, 0.09523004293441772, -0.0424606055021286, 0.05784742161631584, -0.04957456886768341, 0.033043891191482544, -0.029475882649421692, 0.026376768946647644, -0.001838688156567514, 0.01494466233998537, 0.014775145798921585, -0.042766932398080826, -0.07185656577348709, 0.008131311275064945, 0.00754074240103364, -0.01237549353390932, -0.03283640369772911, 0.019169528037309647, -0.10028432309627533, -0.02618655376136303, -0.042829480022192, -0.005572114605456591, 0.043081607669591904, 0.010083918459713459, 0.014780222438275814, -0.00035306913196109235, -0.024646935984492302, 0.044183697551488876, 0.007433736231178045, 0.011117255315184593, 0.06197933480143547, -0.047350719571113586, 0.020288551226258278, 0.009412821382284164, 0.0323406346142292, 0.016330499202013016, 0.0775599405169487, -0.04249292239546776, -0.0944429412484169, -0.03677311912178993, 0.13724495470523834, 0.06514687836170197, -0.006501889321953058, 0.01760353147983551, 0.01827671192586422, 0.040200598537921906, 0.047060899436473846, -0.05468868091702461, 0.010184896178543568, 0.018664730712771416, -0.08727341890335083, -0.0831657275557518, -0.05633926019072533, 0.08970221132040024, 0.06993145495653152, -0.012867019511759281, 0.04602636769413948, -0.019643506035208702, -0.05648471787571907, -0.0907491147518158, -0.09463363885879517, -0.06275386363267899, 0.036079291254282, -0.006961299572139978, 0.017538808286190033, -0.018376652151346207, 0.031226128339767456, -0.09100472182035446, -0.05987410619854927, -0.08848021179437637, 0.02109736017882824, 0.06959064304828644, 0.0461270697414875, -0.053519152104854584, 0.09844613820314407, -0.0671161413192749, 0.04224144667387009, -0.018987128511071205, -0.03194109722971916, -0.021580955013632774, 0.012009683065116405, -0.03092269040644169, 0.01783510111272335, -0.002890392206609249, 0.06307929754257202, -0.07904192805290222, 0.009069746360182762, -0.031415119767189026, -0.09025561809539795, -0.055874068289995193, -4.3515452722357484e-33, -0.03803817927837372, -0.023581210523843765, 0.07075484097003937, 0.04868345335125923, -0.07275661826133728, 0.01646796427667141, -0.009606598876416683, -0.05144808068871498, -0.04240725189447403, -0.0915050208568573, -0.08087179064750671, -0.033142685890197754, 0.01783803105354309, -0.06717292219400406, 0.15306563675403595, -0.054783619940280914, -0.026839178055524826, 0.07015340030193329, 0.05539610609412193, 0.03235270455479622, -0.07008004188537598, -0.0033304246608167887, 0.06688495725393295, 0.02239873632788658, 0.016952868551015854, -0.00041242464794777334, 0.09036442637443542, 0.03536408022046089, -0.03331063687801361, 0.007376315537840128, 0.04800986871123314, -0.024878904223442078, -0.0829802080988884, -0.0873272493481636, -0.06493791192770004, -0.04137520492076874, 0.03192545101046562, 0.001562597812153399, -0.03233810514211655, 0.02020990289747715, -0.014956401661038399, 0.00035855063470080495, -0.028716538101434708, 0.015473827719688416, 0.031498681753873825, 0.06978338956832886, 0.04636276885867119, -0.009029996581375599, -0.07479536533355713, 0.04505610093474388, -0.030671164393424988, 0.05644448474049568, 0.031225252896547318, -0.09132484346628189, 0.06068917736411095, 0.05084538459777832, 0.01028345339000225, 0.049591779708862305, 0.0518907755613327, 0.01493155024945736, -0.05415130779147148, -0.0758645161986351, -0.060991283506155014, 0.047305189073085785, -0.024843621999025345, 0.12521617114543915, 0.09599048644304276, 0.0017183866584673524, 0.00909490417689085, 0.009888171218335629, 0.05784523859620094, 0.021052170544862747, -0.014283106662333012, 0.10981915146112442, -0.0975571945309639, 0.03938927501440048, 0.028268637135624886, -0.03907284513115883, -0.02014693059027195, 0.04354099929332733, -0.05533428490161896, -0.026319095864892006, 0.006682039704173803, -0.11799996346235275, 0.1030413955450058, -0.047964490950107574, -0.06566949188709259, -0.0444764718413353, 0.05716277286410332, 0.01095685176551342, -0.06260446459054947, -0.06238144636154175, 0.011241073720157146, 0.016056682914495468, 0.0339219756424427, 1.9743322099792898e-33, 0.03925517946481705, 0.03246794268488884, -0.06588286906480789, 0.016685038805007935, 0.03609125316143036, -0.01014691311866045, -0.015912452712655067, 0.035991646349430084, -0.016895605251193047, 0.019804395735263824, -0.026648931205272675, 0.08521290868520737, 0.08158286660909653, 0.09561283886432648, 0.04766758903861046, -0.007763299159705639, 0.09579429030418396, 0.07053308188915253, -0.058811210095882416, 0.03236207365989685, -0.028193680569529533, 0.018058843910694122, -0.044608086347579956, -0.035756345838308334, -0.02864735573530197, 0.02752804197371006, -0.16576296091079712, 0.043271634727716446, -0.03713914379477501, -0.02729438617825508, 0.040843721479177475, -0.029582375660538673, -0.02971798926591873, 0.030353335663676262, -0.06300842761993408, -0.04420499503612518, -0.005785598419606686, -0.05207250267267227, 0.0544588528573513, 0.06119219958782196, -0.06920307874679565, 0.0846194326877594, 0.06003289669752121, 0.047419533133506775, -0.0642075389623642, -0.07376828044652939, 0.06525228917598724, 0.11862728744745255, -0.010522544384002686, -0.04989185929298401, 0.04177626967430115, 0.009355206042528152, 0.061044882982969284, -0.06814365088939667, -0.05183305963873863, 0.025326186791062355, -0.01331019215285778, 0.0913405641913414, -0.0992765948176384, -0.03379629924893379, -0.004592523444443941, -0.0035626734606921673, 0.007586637977510691, 0.017612339928746223, -0.026017114520072937, 0.008667202666401863, 0.051473766565322876, 0.0013938011834397912, 0.06567051261663437, -0.049478985369205475, 0.05816657841205597, -0.028163598850369453, -0.1215893104672432, 0.08809737861156464, -0.043496012687683105, 0.0015345592983067036, 0.013330628164112568, 0.02133927308022976, 0.03140326961874962, -0.016784904524683952, 0.010607139207422733, 0.024948103353381157, 0.05858407914638519, -0.06920047104358673, -0.03600331395864487, 0.0060493675991892815, 0.05385240539908409, -0.06499197334051132, 0.034355636686086655, 0.06117045506834984, -0.05997214466333389, -0.04700837284326553, -0.09724538028240204, -0.04424098879098892, 0.018985755741596222, -1.4243166646110694e-08, -0.01629197597503662, -0.05827723443508148, 0.0452578030526638, 0.052231065928936005, 0.033952441066503525, -0.014452973380684853, 0.05183225870132446, 0.05291854590177536, 0.02812289260327816, 0.013527614995837212, -0.0367884486913681, -0.025928931310772896, 0.02290480025112629, 0.05695639178156853, -0.004818241111934185, -0.04094061627984047, -0.008641066960990429, -0.00846074428409338, -0.041429303586483, -0.06340888142585754, 0.035589154809713364, 0.05594916269183159, 0.10595335066318512, 0.007559335324913263, 0.0165176372975111, -0.08789827674627304, -0.08130548894405365, -0.02399616315960884, -0.03276645392179489, 0.010835057124495506, 0.029158664867281914, 0.014044877141714096, 0.03937049210071564, -0.0484020821750164, 0.00820921827107668, 0.00785208772867918, 0.0479791983962059, 0.02062610536813736, 0.07736264914274216, -0.07155463099479675, -0.019028328359127045, 0.03890984505414963, 0.04863152652978897, 0.01183126401156187, -0.03326794132590294, -0.05927599221467972, 0.023552246391773224, 0.04732876643538475, -0.0482526458799839, -0.07504851371049881, -0.05813615024089813, -0.020082369446754456, 0.01731266640126705, 0.031043967232108116, 0.012208628468215466, 0.024807613343000412, -0.060602039098739624, 0.009752655401825905, -0.018553372472524643, 0.02592845819890499, -0.026996301487088203, -0.03160712122917175, 0.03598567470908165, 0.03501970320940018]\n"
          ]
        }
      ]
    },
    {
      "cell_type": "markdown",
      "source": [
        "# Generate Structure output"
      ],
      "metadata": {
        "id": "rGeGRKH6lv93"
      }
    },
    {
      "cell_type": "code",
      "source": [
        "from langchain.output_parsers import StructuredOutputParser , ResponseSchema\n",
        "from langchain_core.prompts import PromptTemplate"
      ],
      "metadata": {
        "id": "dt0ME8T9mXgl"
      },
      "execution_count": null,
      "outputs": []
    },
    {
      "cell_type": "code",
      "source": [
        "schema=[\n",
        "    ResponseSchema(name=\"first_fact\",description=\"This is the first fact\"),\n",
        "    ResponseSchema(name=\"second_fact\",description=\"This is the second fact\"),\n",
        "    ResponseSchema(name=\"third_fact\",description=\"This is the third fact\"),\n",
        "]\n",
        "\n",
        "structured_output_parser = StructuredOutputParser.from_response_schemas(schema)\n",
        "format_instructions = structured_output_parser.get_format_instructions()\n",
        "\n",
        "format_instructions"
      ],
      "metadata": {
        "id": "fts0DFX2lcjG",
        "colab": {
          "base_uri": "https://localhost:8080/",
          "height": 53
        },
        "outputId": "47a506cf-e514-4b0e-e5f3-aa41b5de7255"
      },
      "execution_count": null,
      "outputs": [
        {
          "output_type": "execute_result",
          "data": {
            "text/plain": [
              "'The output should be a markdown code snippet formatted in the following schema, including the leading and trailing \"```json\" and \"```\":\\n\\n```json\\n{\\n\\t\"first_fact\": string  // This is the first fact\\n\\t\"second_fact\": string  // This is the second fact\\n\\t\"third_fact\": string  // This is the third fact\\n}\\n```'"
            ],
            "application/vnd.google.colaboratory.intrinsic+json": {
              "type": "string"
            }
          },
          "metadata": {},
          "execution_count": 15
        }
      ]
    },
    {
      "cell_type": "code",
      "source": [
        "template = PromptTemplate(\n",
        "    template=\"Give 3 fact about {topic}\\n {format_instruction}\",\n",
        "    input_variables=[\"topic\"],\n",
        "    partial_variables={\"format_instruction\": format_instructions}\n",
        ")\n",
        "\n",
        "chain = template | gemini_model | structured_output_parser\n",
        "\n",
        "chain.invoke({\"topic\":\"Men's love\"})"
      ],
      "metadata": {
        "id": "UV5sOsL9mOi2",
        "colab": {
          "base_uri": "https://localhost:8080/"
        },
        "outputId": "e330df59-3568-432c-d26e-3d41c98320eb"
      },
      "execution_count": null,
      "outputs": [
        {
          "output_type": "execute_result",
          "data": {
            "text/plain": [
              "{'first_fact': 'Men often express love through actions rather than words, such as fixing things, offering help, or providing for loved ones.',\n",
              " 'second_fact': 'Men can struggle to articulate their feelings, sometimes due to societal expectations or emotional conditioning.',\n",
              " 'third_fact': 'Men value respect and appreciation as much as they value love and affection.'}"
            ]
          },
          "metadata": {},
          "execution_count": 16
        }
      ]
    },
    {
      "cell_type": "code",
      "source": [
        "chain.get_graph().print_ascii()"
      ],
      "metadata": {
        "id": "ILeL8Lmem-oP",
        "colab": {
          "base_uri": "https://localhost:8080/"
        },
        "outputId": "fc909be2-8f38-4425-a4de-107da4f52554"
      },
      "execution_count": null,
      "outputs": [
        {
          "output_type": "stream",
          "name": "stdout",
          "text": [
            "        +-------------+          \n",
            "        | PromptInput |          \n",
            "        +-------------+          \n",
            "                *                \n",
            "                *                \n",
            "                *                \n",
            "       +----------------+        \n",
            "       | PromptTemplate |        \n",
            "       +----------------+        \n",
            "                *                \n",
            "                *                \n",
            "                *                \n",
            "   +------------------------+    \n",
            "   | ChatGoogleGenerativeAI |    \n",
            "   +------------------------+    \n",
            "                *                \n",
            "                *                \n",
            "                *                \n",
            "   +------------------------+    \n",
            "   | StructuredOutputParser |    \n",
            "   +------------------------+    \n",
            "                *                \n",
            "                *                \n",
            "                *                \n",
            "+------------------------------+ \n",
            "| StructuredOutputParserOutput | \n",
            "+------------------------------+ \n"
          ]
        }
      ]
    },
    {
      "cell_type": "markdown",
      "source": [
        "# Pydantic Output parser"
      ],
      "metadata": {
        "id": "WNLiflpunMYR"
      }
    },
    {
      "cell_type": "code",
      "source": [
        "from pydantic import BaseModel, Field\n",
        "from langchain_core.output_parsers import PydanticOutputParser"
      ],
      "metadata": {
        "id": "c3FRR1jnnHau"
      },
      "execution_count": null,
      "outputs": []
    },
    {
      "cell_type": "code",
      "source": [
        "class Person(BaseModel):\n",
        "  name:str=Field(description=\"Name of the person\")\n",
        "  age:int=Field(description=\"Age of the person\")\n",
        "  city:str=Field(description=\"name of the city where the person is located\")\n",
        "\n",
        "parser = PydanticOutputParser(pydantic_object=Person)\n",
        "\n",
        "format_instructions = parser.get_format_instructions()\n",
        "format_instructions"
      ],
      "metadata": {
        "id": "pmVQiJYBniht",
        "colab": {
          "base_uri": "https://localhost:8080/",
          "height": 105
        },
        "outputId": "cb81aa82-6bf1-441b-d82e-47043b005ce2"
      },
      "execution_count": null,
      "outputs": [
        {
          "output_type": "execute_result",
          "data": {
            "text/plain": [
              "'The output should be formatted as a JSON instance that conforms to the JSON schema below.\\n\\nAs an example, for the schema {\"properties\": {\"foo\": {\"title\": \"Foo\", \"description\": \"a list of strings\", \"type\": \"array\", \"items\": {\"type\": \"string\"}}}, \"required\": [\"foo\"]}\\nthe object {\"foo\": [\"bar\", \"baz\"]} is a well-formatted instance of the schema. The object {\"properties\": {\"foo\": [\"bar\", \"baz\"]}} is not well-formatted.\\n\\nHere is the output schema:\\n```\\n{\"properties\": {\"name\": {\"description\": \"Name of the person\", \"title\": \"Name\", \"type\": \"string\"}, \"age\": {\"description\": \"Age of the person\", \"title\": \"Age\", \"type\": \"integer\"}, \"city\": {\"description\": \"name of the city where the person is located\", \"title\": \"City\", \"type\": \"string\"}}, \"required\": [\"name\", \"age\", \"city\"]}\\n```'"
            ],
            "application/vnd.google.colaboratory.intrinsic+json": {
              "type": "string"
            }
          },
          "metadata": {},
          "execution_count": 19
        }
      ]
    },
    {
      "cell_type": "code",
      "source": [
        "template = PromptTemplate(\n",
        "    template='Generate the nammme, age and city of a fictional {place} person \\n {format_instruction}',\n",
        "    input_variables=['place'],\n",
        "    partial_variables={'format_instruction':parser.get_format_instructions()}\n",
        ")\n",
        "\n",
        "chain = template | gemini_model | parser\n",
        "\n",
        "result = chain.invoke({'place':'Malvan'})\n",
        "result, result.name, result.age, result.city"
      ],
      "metadata": {
        "id": "3FnSwOE2n0LS",
        "colab": {
          "base_uri": "https://localhost:8080/"
        },
        "outputId": "1fec6b8a-0336-47b3-ff41-c52744f5fbfe"
      },
      "execution_count": null,
      "outputs": [
        {
          "output_type": "execute_result",
          "data": {
            "text/plain": [
              "(Person(name='Devendra Parab', age=42, city='Malvan'),\n",
              " 'Devendra Parab',\n",
              " 42,\n",
              " 'Malvan')"
            ]
          },
          "metadata": {},
          "execution_count": 20
        }
      ]
    },
    {
      "cell_type": "code",
      "source": [
        "type(result)"
      ],
      "metadata": {
        "id": "qSb0UsJToDbj",
        "colab": {
          "base_uri": "https://localhost:8080/",
          "height": 186
        },
        "outputId": "fd60de4d-2070-4f2e-cb2d-4ecbb7e29170"
      },
      "execution_count": null,
      "outputs": [
        {
          "output_type": "execute_result",
          "data": {
            "text/plain": [
              "__main__.Person"
            ],
            "text/html": [
              "<div style=\"max-width:800px; border: 1px solid var(--colab-border-color);\"><style>\n",
              "      pre.function-repr-contents {\n",
              "        overflow-x: auto;\n",
              "        padding: 8px 12px;\n",
              "        max-height: 500px;\n",
              "      }\n",
              "\n",
              "      pre.function-repr-contents.function-repr-contents-collapsed {\n",
              "        cursor: pointer;\n",
              "        max-height: 100px;\n",
              "      }\n",
              "    </style>\n",
              "    <pre style=\"white-space: initial; background:\n",
              "         var(--colab-secondary-surface-color); padding: 8px 12px;\n",
              "         border-bottom: 1px solid var(--colab-border-color);\"><b>Person</b><br/>def __init__(self, /, **data: Any) -&gt; None</pre><pre class=\"function-repr-contents function-repr-contents-collapsed\" style=\"\"><a class=\"filepath\" style=\"display:none\" href=\"#\"></a>!!! abstract &quot;Usage Documentation&quot;\n",
              "    [Models](../concepts/models.md)\n",
              "\n",
              "A base class for creating Pydantic models.\n",
              "\n",
              "Attributes:\n",
              "    __class_vars__: The names of the class variables defined on the model.\n",
              "    __private_attributes__: Metadata about the private attributes of the model.\n",
              "    __signature__: The synthesized `__init__` [`Signature`][inspect.Signature] of the model.\n",
              "\n",
              "    __pydantic_complete__: Whether model building is completed, or if there are still undefined fields.\n",
              "    __pydantic_core_schema__: The core schema of the model.\n",
              "    __pydantic_custom_init__: Whether the model has a custom `__init__` function.\n",
              "    __pydantic_decorators__: Metadata containing the decorators defined on the model.\n",
              "        This replaces `Model.__validators__` and `Model.__root_validators__` from Pydantic V1.\n",
              "    __pydantic_generic_metadata__: Metadata for generic models; contains data used for a similar purpose to\n",
              "        __args__, __origin__, __parameters__ in typing-module generics. May eventually be replaced by these.\n",
              "    __pydantic_parent_namespace__: Parent namespace of the model, used for automatic rebuilding of models.\n",
              "    __pydantic_post_init__: The name of the post-init method for the model, if defined.\n",
              "    __pydantic_root_model__: Whether the model is a [`RootModel`][pydantic.root_model.RootModel].\n",
              "    __pydantic_serializer__: The `pydantic-core` `SchemaSerializer` used to dump instances of the model.\n",
              "    __pydantic_validator__: The `pydantic-core` `SchemaValidator` used to validate instances of the model.\n",
              "\n",
              "    __pydantic_fields__: A dictionary of field names and their corresponding [`FieldInfo`][pydantic.fields.FieldInfo] objects.\n",
              "    __pydantic_computed_fields__: A dictionary of computed field names and their corresponding [`ComputedFieldInfo`][pydantic.fields.ComputedFieldInfo] objects.\n",
              "\n",
              "    __pydantic_extra__: A dictionary containing extra values, if [`extra`][pydantic.config.ConfigDict.extra]\n",
              "        is set to `&#x27;allow&#x27;`.\n",
              "    __pydantic_fields_set__: The names of fields explicitly set during instantiation.\n",
              "    __pydantic_private__: Values of private attributes set on the model instance.</pre></div>"
            ]
          },
          "metadata": {},
          "execution_count": 21
        }
      ]
    },
    {
      "cell_type": "markdown",
      "source": [
        "# Text Splitter"
      ],
      "metadata": {
        "id": "MR-spDZco5-V"
      }
    },
    {
      "cell_type": "code",
      "source": [
        "from langchain.text_splitter import CharacterTextSplitter, RecursiveCharacterTextSplitter\n",
        "\n",
        "text = \"\"\"LangChain is a powerful framework for building LLM applications. It helps in connecting language models with data sources, APIs, and other components. One of its key features is text processing, where it allows splitting large documents into smaller chunks. This is useful for vector databases, retrieval-augmented generation (RAG), and long-context handling. Another feature is its integration with various AI tools and libraries. This makes LangChain a great choice for developers working on AI-powered applications.\n",
        "\n",
        "LangChain provides seamless support for working with embeddings and vector databases, allowing efficient document retrieval and query resolution. It also simplifies prompt engineering, making it easier to design structured prompts for LLMs. Developers can use LangChain to build sophisticated AI chatbots, content generators, and even research assistants.\n",
        "\n",
        "The framework supports multiple LLM providers, including OpenAI, Hugging Face, and local models like Llama and Mistral. It offers various chain types, such as sequential and parallel chains, enabling flexible workflow automation. LangChain's integration with tools like Pinecone, ChromaDB, and FAISS ensures fast and scalable search capabilities.\n",
        "\n",
        "With built-in memory components, LangChain allows chatbots and virtual assistants to maintain context over extended interactions. This helps in creating human-like conversations that feel more natural. Furthermore, LangChain supports function calling and API interaction, making it ideal for building AI-powered applications that require external data fetching.\n",
        "\n",
        "The ecosystem also includes template-based prompt handling, making it easier to experiment with different LLM configurations. Developers can fine-tune their models, optimize performance, and integrate LangChain with various cloud-based AI solutions. Whether for research, automation, or enterprise applications, LangChain stands out as a robust and flexible framework for AI development.\n",
        ".\"\"\""
      ],
      "metadata": {
        "id": "aH7fq_VDoPFp"
      },
      "execution_count": null,
      "outputs": []
    },
    {
      "cell_type": "code",
      "source": [
        "splitter = CharacterTextSplitter(\n",
        "    separator=\"\\n\",\n",
        "    chunk_size=200,\n",
        "    chunk_overlap=50\n",
        ")\n",
        "\n",
        "chunks = splitter.split_text(text)\n",
        "\n",
        "for i, chunk in enumerate(chunks,start=1):\n",
        "  print(f\"Chunk{i}:\\n{chunk}\\n{'-'*50}\")"
      ],
      "metadata": {
        "id": "RGPnw0VfpFkP",
        "colab": {
          "base_uri": "https://localhost:8080/"
        },
        "outputId": "637ce40a-7539-4cdb-ca29-89ee779fd687"
      },
      "execution_count": null,
      "outputs": [
        {
          "output_type": "stream",
          "name": "stderr",
          "text": [
            "WARNING:langchain_text_splitters.base:Created a chunk of size 518, which is longer than the specified 200\n",
            "WARNING:langchain_text_splitters.base:Created a chunk of size 355, which is longer than the specified 200\n",
            "WARNING:langchain_text_splitters.base:Created a chunk of size 346, which is longer than the specified 200\n",
            "WARNING:langchain_text_splitters.base:Created a chunk of size 361, which is longer than the specified 200\n",
            "WARNING:langchain_text_splitters.base:Created a chunk of size 387, which is longer than the specified 200\n"
          ]
        },
        {
          "output_type": "stream",
          "name": "stdout",
          "text": [
            "Chunk1:\n",
            "LangChain is a powerful framework for building LLM applications. It helps in connecting language models with data sources, APIs, and other components. One of its key features is text processing, where it allows splitting large documents into smaller chunks. This is useful for vector databases, retrieval-augmented generation (RAG), and long-context handling. Another feature is its integration with various AI tools and libraries. This makes LangChain a great choice for developers working on AI-powered applications.\n",
            "--------------------------------------------------\n",
            "Chunk2:\n",
            "LangChain provides seamless support for working with embeddings and vector databases, allowing efficient document retrieval and query resolution. It also simplifies prompt engineering, making it easier to design structured prompts for LLMs. Developers can use LangChain to build sophisticated AI chatbots, content generators, and even research assistants.\n",
            "--------------------------------------------------\n",
            "Chunk3:\n",
            "The framework supports multiple LLM providers, including OpenAI, Hugging Face, and local models like Llama and Mistral. It offers various chain types, such as sequential and parallel chains, enabling flexible workflow automation. LangChain's integration with tools like Pinecone, ChromaDB, and FAISS ensures fast and scalable search capabilities.\n",
            "--------------------------------------------------\n",
            "Chunk4:\n",
            "With built-in memory components, LangChain allows chatbots and virtual assistants to maintain context over extended interactions. This helps in creating human-like conversations that feel more natural. Furthermore, LangChain supports function calling and API interaction, making it ideal for building AI-powered applications that require external data fetching.\n",
            "--------------------------------------------------\n",
            "Chunk5:\n",
            "The ecosystem also includes template-based prompt handling, making it easier to experiment with different LLM configurations. Developers can fine-tune their models, optimize performance, and integrate LangChain with various cloud-based AI solutions. Whether for research, automation, or enterprise applications, LangChain stands out as a robust and flexible framework for AI development.\n",
            "--------------------------------------------------\n",
            "Chunk6:\n",
            ".\n",
            "--------------------------------------------------\n"
          ]
        }
      ]
    },
    {
      "cell_type": "code",
      "source": [
        "splitter = RecursiveCharacterTextSplitter(\n",
        "    separators=[\"\\n\\n\",\"\\n\",\" \",\"\"],\n",
        "    chunk_size=500,\n",
        "    chunk_overlap=100,\n",
        "    length_function=len\n",
        ")\n",
        "\n",
        "chunks = splitter.split_text(text)\n",
        "\n",
        "for i, chunk in enumerate(chunks,start=1):\n",
        "  print(f\"Chunk{i}:\\n{chunk}\\n{'-'*50}\")"
      ],
      "metadata": {
        "id": "KOTy_92-pxki",
        "colab": {
          "base_uri": "https://localhost:8080/"
        },
        "outputId": "14c9cd25-41e2-4a6a-d164-161728244d62"
      },
      "execution_count": null,
      "outputs": [
        {
          "output_type": "stream",
          "name": "stdout",
          "text": [
            "Chunk1:\n",
            "LangChain is a powerful framework for building LLM applications. It helps in connecting language models with data sources, APIs, and other components. One of its key features is text processing, where it allows splitting large documents into smaller chunks. This is useful for vector databases, retrieval-augmented generation (RAG), and long-context handling. Another feature is its integration with various AI tools and libraries. This makes LangChain a great choice for developers working on\n",
            "--------------------------------------------------\n",
            "Chunk2:\n",
            "with various AI tools and libraries. This makes LangChain a great choice for developers working on AI-powered applications.\n",
            "--------------------------------------------------\n",
            "Chunk3:\n",
            "LangChain provides seamless support for working with embeddings and vector databases, allowing efficient document retrieval and query resolution. It also simplifies prompt engineering, making it easier to design structured prompts for LLMs. Developers can use LangChain to build sophisticated AI chatbots, content generators, and even research assistants.\n",
            "--------------------------------------------------\n",
            "Chunk4:\n",
            "The framework supports multiple LLM providers, including OpenAI, Hugging Face, and local models like Llama and Mistral. It offers various chain types, such as sequential and parallel chains, enabling flexible workflow automation. LangChain's integration with tools like Pinecone, ChromaDB, and FAISS ensures fast and scalable search capabilities.\n",
            "--------------------------------------------------\n",
            "Chunk5:\n",
            "With built-in memory components, LangChain allows chatbots and virtual assistants to maintain context over extended interactions. This helps in creating human-like conversations that feel more natural. Furthermore, LangChain supports function calling and API interaction, making it ideal for building AI-powered applications that require external data fetching.\n",
            "--------------------------------------------------\n",
            "Chunk6:\n",
            "The ecosystem also includes template-based prompt handling, making it easier to experiment with different LLM configurations. Developers can fine-tune their models, optimize performance, and integrate LangChain with various cloud-based AI solutions. Whether for research, automation, or enterprise applications, LangChain stands out as a robust and flexible framework for AI development.\n",
            ".\n",
            "--------------------------------------------------\n"
          ]
        }
      ]
    },
    {
      "cell_type": "markdown",
      "source": [
        "# Vector Dataset\n",
        "\n",
        "1. SQL Based Database :- MySQl, ProgresSQL,\n",
        "\n",
        "2. NoSQL Database :- MongoDB\n",
        "\n",
        "3. Vector Database :- FAISS, Pinecone, AstraDB, WAVITE, ChromaDB, Weaviate"
      ],
      "metadata": {
        "id": "8xpBmRQPwDz5"
      }
    },
    {
      "cell_type": "code",
      "source": [
        "from langchain_community.document_loaders import PyPDFLoader, PyPDFDirectoryLoader\n",
        "\n",
        "loader=PyPDFLoader(\"https://raw.githubusercontent.com/sunnysavita10/genai_bootcamp/refs/heads/main/data/llama2.pdf\")\n",
        "\n",
        "docs = loader.load()\n",
        "print(len(docs))\n",
        "docs[0]"
      ],
      "metadata": {
        "id": "MqKF6vc1qUX7",
        "colab": {
          "base_uri": "https://localhost:8080/"
        },
        "outputId": "c0a90fc8-10a5-4215-ce4b-a3e4f86fbe06"
      },
      "execution_count": null,
      "outputs": [
        {
          "output_type": "stream",
          "name": "stdout",
          "text": [
            "77\n"
          ]
        },
        {
          "output_type": "execute_result",
          "data": {
            "text/plain": [
              "Document(metadata={'producer': 'pdfTeX-1.40.25', 'creator': 'LaTeX with hyperref', 'creationdate': '2023-07-20T00:30:36+00:00', 'author': '', 'keywords': '', 'moddate': '2023-07-20T00:30:36+00:00', 'ptex.fullbanner': 'This is pdfTeX, Version 3.141592653-2.6-1.40.25 (TeX Live 2023) kpathsea version 6.3.5', 'subject': '', 'title': '', 'trapped': '/False', 'source': 'https://raw.githubusercontent.com/sunnysavita10/genai_bootcamp/refs/heads/main/data/llama2.pdf', 'total_pages': 77, 'page': 0, 'page_label': '1'}, page_content='Llama 2: Open Foundation and Fine-Tuned Chat Models\\nHugo Touvron∗ Louis Martin† Kevin Stone†\\nPeter Albert Amjad Almahairi Yasmine Babaei Nikolay Bashlykov Soumya Batra\\nPrajjwal Bhargava Shruti Bhosale Dan Bikel Lukas Blecher Cristian Canton Ferrer Moya Chen\\nGuillem Cucurull David Esiobu Jude Fernandes Jeremy Fu Wenyin Fu Brian Fuller\\nCynthia Gao Vedanuj Goswami Naman Goyal Anthony Hartshorn Saghar Hosseini Rui Hou\\nHakan Inan Marcin Kardas Viktor Kerkez Madian Khabsa Isabel Kloumann Artem Korenev\\nPunit Singh Koura Marie-Anne Lachaux Thibaut Lavril Jenya Lee Diana Liskovich\\nYinghai Lu Yuning Mao Xavier Martinet Todor Mihaylov Pushkar Mishra\\nIgor Molybog Yixin Nie Andrew Poulton Jeremy Reizenstein Rashi Rungta Kalyan Saladi\\nAlan Schelten Ruan Silva Eric Michael Smith Ranjan Subramanian Xiaoqing Ellen Tan Binh Tang\\nRoss Taylor Adina Williams Jian Xiang Kuan Puxin Xu Zheng Yan Iliyan Zarov Yuchen Zhang\\nAngela Fan Melanie Kambadur Sharan Narang Aurelien Rodriguez Robert Stojnic\\nSergey Edunov Thomas Scialom∗\\nGenAI, Meta\\nAbstract\\nIn this work, we develop and release Llama 2, a collection of pretrained and fine-tuned\\nlarge language models (LLMs) ranging in scale from 7 billion to 70 billion parameters.\\nOur fine-tuned LLMs, calledLlama 2-Chat, are optimized for dialogue use cases. Our\\nmodels outperform open-source chat models on most benchmarks we tested, and based on\\nour human evaluations for helpfulness and safety, may be a suitable substitute for closed-\\nsource models. We provide a detailed description of our approach to fine-tuning and safety\\nimprovements ofLlama 2-Chatin order to enable the community to build on our work and\\ncontribute to the responsible development of LLMs.\\n∗Equal contribution, corresponding authors: {tscialom, htouvron}@meta.com\\n†Second author\\nContributions for all the authors can be found in Section A.1.\\narXiv:2307.09288v2  [cs.CL]  19 Jul 2023')"
            ]
          },
          "metadata": {},
          "execution_count": 25
        }
      ]
    },
    {
      "cell_type": "markdown",
      "source": [
        "## FAISS"
      ],
      "metadata": {
        "id": "9c1mOh3M_V-C"
      }
    },
    {
      "cell_type": "code",
      "source": [
        "import faiss\n",
        "from langchain_community.docstore.in_memory import InMemoryDocstore\n",
        "from langchain_community.vectorstores import FAISS"
      ],
      "metadata": {
        "id": "Anj_u1yc7iNL"
      },
      "execution_count": null,
      "outputs": []
    },
    {
      "cell_type": "code",
      "source": [
        "vector_store = FAISS(\n",
        "    embedding_function=huggingface_embeddings,\n",
        "    index=faiss.IndexFlatIP(384),\n",
        "    docstore=InMemoryDocstore(),\n",
        "    index_to_docstore_id={}\n",
        ")\n",
        "\n",
        "vector_store.add_documents(docs)"
      ],
      "metadata": {
        "id": "31OwKVe58-KW",
        "colab": {
          "base_uri": "https://localhost:8080/"
        },
        "outputId": "5cb0a197-8dd2-406c-d00b-1401949ba1bf"
      },
      "execution_count": null,
      "outputs": [
        {
          "output_type": "execute_result",
          "data": {
            "text/plain": [
              "['d6fc9445-4205-442a-b290-28a52e6be260',\n",
              " '7c105c6b-af62-4d2d-b7f1-f0ef85729b0d',\n",
              " '03120f83-cb6d-4248-aa5d-9b2afec7f191',\n",
              " '6250c2a9-0961-4f10-afae-5b2919a66ec1',\n",
              " '3ebcfec2-eebf-4fa6-a82f-81f9e4a1532a',\n",
              " '6a731af5-9692-42a4-8141-bf701513bd06',\n",
              " 'cc216989-56af-4e79-a959-8da31fd25dba',\n",
              " 'bdd42fe3-ac63-40ef-97d1-1466e26b5d74',\n",
              " '39f65404-21dc-4f9d-bb50-93dc13347c86',\n",
              " '8a1d6f6c-b4ef-474c-93da-7568b0047d47',\n",
              " 'a2d49b6a-8545-4799-85fb-bedd4cba6f17',\n",
              " '172dc274-afeb-4735-80a7-693d1c4f99c9',\n",
              " '32c1bd0c-afd3-42e9-b9e8-d91165dfda54',\n",
              " '66cbaaa9-6e55-493d-8a9e-c4e907b24f30',\n",
              " '2cc3cf9d-a9e6-4677-8306-e18668f010f1',\n",
              " 'b2f6294f-e528-4f04-ba40-b62f5cbf987b',\n",
              " '4f5b3589-7420-4639-b6d0-53523f66bed4',\n",
              " '80cdcb62-2c29-45a0-8356-9944c6832409',\n",
              " '5528aee7-4c36-4d8a-8c3a-4404b62de306',\n",
              " '2c414abf-a81e-4f59-9e2c-aa591b86bf15',\n",
              " 'f2c2d894-539e-4b62-aedf-42cc1b386934',\n",
              " '5a2e7519-660e-4f66-ad63-52cda95c3828',\n",
              " '2e2a53a6-a22d-4bef-8ec1-9d6e0e9f24e0',\n",
              " '82f1aba0-d07c-4ee6-881a-e15299923179',\n",
              " 'fe782533-4359-40a7-9f7a-08430d78e81a',\n",
              " 'c2875119-7e27-4789-9b34-0072a978ff5e',\n",
              " '6d43ddd6-52fe-4abb-940c-75552026b557',\n",
              " '7f07ac89-b1b7-4d05-a67a-cce244f1f85a',\n",
              " 'fe3a6db5-85ff-4328-8b4a-9d947aafab83',\n",
              " '949cdc6e-0676-49da-91b4-76fce7196517',\n",
              " 'e5d9b958-c9cf-4e97-ba72-3cc24fbe34ab',\n",
              " '2d742fe2-5c9d-4127-b788-70d1ef23d338',\n",
              " 'ead0e020-2a45-4ea5-8113-0d851afc1153',\n",
              " '3ee23f95-dfcb-4fec-a990-0e22356316c4',\n",
              " '6b3828f9-2573-46fd-87ff-e91514987aeb',\n",
              " '6b2ba701-7016-4dc4-b27e-8cf73229e63c',\n",
              " 'f2978dbe-1b21-4a95-87f8-cc6522e81fcc',\n",
              " '06572a69-f23d-4805-883a-bfe11d01520b',\n",
              " 'eff37690-f8ee-48b2-a6ce-6cd46e13369e',\n",
              " 'fdff2f4b-58c6-4b52-ac9e-c887457a861f',\n",
              " '7563b169-e3be-4b6a-b632-2f8ba8de1d21',\n",
              " 'b63ed7ce-8089-4144-8e28-18f374945d9c',\n",
              " '772bb5d0-47ff-483d-8a9b-ee2cf0ecb06f',\n",
              " '19b3238c-190c-4683-aadf-bb4232d44a9a',\n",
              " '689da64f-c9f7-419f-8c0a-c9e451f19c8b',\n",
              " 'f90ec58f-4334-42e3-b0c9-b9f6c1d72f5b',\n",
              " 'ac9e7073-2aae-49cd-9ce1-09b1dcb6f85b',\n",
              " 'e2b5a226-b42d-4c13-87b1-24fbafa6f74f',\n",
              " 'e3d352ac-cd6e-4010-a10e-5bd88ccd2d47',\n",
              " '6d0e40d9-4e1c-4700-ac58-1db7e1e08408',\n",
              " 'ac57aaf0-608c-4b58-b350-dab1a110cd8b',\n",
              " 'dc4c0a06-015f-46c1-98aa-2bb55b085485',\n",
              " 'bcb1d538-1879-4c27-b8e4-fb8fdf17d5e2',\n",
              " '7385c8a1-a98c-438f-859c-a516bf4e2185',\n",
              " '894f3c59-228b-441d-a666-8f5397a2da5f',\n",
              " 'c7105e07-20d6-462b-a7e4-80c11fc44eee',\n",
              " '0ac3fd41-4f61-49c1-a114-bba0d6199df4',\n",
              " '22aaa01f-feda-417e-bec7-0d8ffe285438',\n",
              " '3d568539-caa0-4def-ba1c-994780799656',\n",
              " 'c66686b5-5873-4cae-b1c7-bd4796ae01e0',\n",
              " '255a28eb-2453-415b-92c0-5cb271f8bf53',\n",
              " '63e5d499-643e-4ddb-8115-8a3058ff34d6',\n",
              " 'd6d75bd7-d7c2-400e-b169-b5303b99d346',\n",
              " '1f65b8ab-94e2-489e-aaae-280879ddcd84',\n",
              " '4133ae56-3284-4982-8e19-e3ac0aada02e',\n",
              " '3e1199c7-da9c-4fa8-b2a5-0dbd3ee32426',\n",
              " '905ea8d1-c55e-4a7d-acf9-2ea638e20183',\n",
              " 'f85ec3f7-ff70-4acd-bd88-635440908999',\n",
              " '6965dea5-96b2-4858-953c-86dc0d4c988e',\n",
              " '80d0ce3c-e0a9-4d40-af0a-ab1404d8cd10',\n",
              " 'ce3782cc-70c9-4b63-b3cc-add857e2b72e',\n",
              " 'caeda31d-f752-42c3-b0e3-4a31346b8ac5',\n",
              " 'ca51f1bb-a9a1-44c2-b6a4-3aec3d0cdf30',\n",
              " '6b23f626-9bff-4fef-bbc0-9eb93d40d151',\n",
              " '4e354109-6c4c-43b1-969b-0f2de94d1610',\n",
              " '1f6cc48e-eb4c-4fcb-9cde-c1895f933f01',\n",
              " '2bc50633-1f1e-45f1-adda-b14eacd72860']"
            ]
          },
          "metadata": {},
          "execution_count": 27
        }
      ]
    },
    {
      "cell_type": "code",
      "source": [
        "vector_store.similarity_search(\n",
        "    query=\"What is llama2 and what is a difference between llama2 and mistral?\",\n",
        "    k=2\n",
        ")"
      ],
      "metadata": {
        "id": "GaK_Cirh-dwR",
        "colab": {
          "base_uri": "https://localhost:8080/"
        },
        "outputId": "f4529b39-ceec-49ed-e534-18dddfbf52c4"
      },
      "execution_count": null,
      "outputs": [
        {
          "output_type": "execute_result",
          "data": {
            "text/plain": [
              "[Document(id='2bc50633-1f1e-45f1-adda-b14eacd72860', metadata={'producer': 'pdfTeX-1.40.25', 'creator': 'LaTeX with hyperref', 'creationdate': '2023-07-20T00:30:36+00:00', 'author': '', 'keywords': '', 'moddate': '2023-07-20T00:30:36+00:00', 'ptex.fullbanner': 'This is pdfTeX, Version 3.141592653-2.6-1.40.25 (TeX Live 2023) kpathsea version 6.3.5', 'subject': '', 'title': '', 'trapped': '/False', 'source': 'https://raw.githubusercontent.com/sunnysavita10/genai_bootcamp/refs/heads/main/data/llama2.pdf', 'total_pages': 77, 'page': 76, 'page_label': '77'}, page_content='A.7 Model Card\\nTable 52 presents a model card (Mitchell et al., 2018; Anil et al., 2023) that summarizes details of the models.\\nModel Details\\nModel DevelopersMeta AI\\nVariations Llama 2comes in a range of parameter sizes—7B, 13B, and 70B—as well as\\npretrained and fine-tuned variations.\\nInput Models input text only.\\nOutput Models generate text only.\\nModel ArchitectureLlama 2isanauto-regressivelanguagemodelthatusesanoptimizedtransformer\\narchitecture. The tuned versions use supervised fine-tuning (SFT) and reinforce-\\nment learning with human feedback (RLHF) to align to human preferences for\\nhelpfulness and safety.\\nModel Dates Llama 2was trained between January 2023 and July 2023.\\nStatus This is a static model trained on an offline dataset. Future versions of the tuned\\nmodels will be released as we improve model safety with community feedback.\\nLicense A custom commercial license is available at:ai.meta.com/resources/\\nmodels-and-libraries/llama-downloads/\\nWhere to send com-\\nments\\nInstructions on how to provide feedback or comments on the model can be\\nfound in the model README, or by opening an issue in the GitHub repository\\n(https://github.com/facebookresearch/llama/).\\nIntended Use\\nIntended Use CasesLlama 2is intended for commercial and research use in English. Tuned models\\nare intended for assistant-like chat, whereas pretrained models can be adapted\\nfor a variety of natural language generation tasks.\\nOut-of-Scope UsesUse in any manner that violates applicable laws or regulations (including trade\\ncompliance laws). Use in languages other than English. Use in any other way\\nthat is prohibited by the Acceptable Use Policy and Licensing Agreement for\\nLlama 2.\\nHardware and Software(Section 2.2)\\nTraining Factors We used custom training libraries, Meta’s Research Super Cluster, and produc-\\ntion clusters for pretraining. Fine-tuning, annotation, and evaluation were also\\nperformed on third-party cloud compute.\\nCarbon Footprint Pretraining utilized a cumulative 3.3M GPU hours of computation on hardware\\nof type A100-80GB (TDP of 350-400W). Estimated total emissions were 539\\ntCO2eq, 100% of which were offset by Meta’s sustainability program.\\nTraining Data(Sections 2.1 and 3)\\nOverview Llama 2was pretrained on 2 trillion tokens of data from publicly available\\nsources. The fine-tuning data includes publicly available instruction datasets, as\\nwellasoveronemillionnewhuman-annotatedexamples. Neitherthepretraining\\nnor the fine-tuning datasets include Meta user data.\\nData Freshness The pretraining data has a cutoff of September 2022, but some tuning data is\\nmore recent, up to July 2023.\\nEvaluation Results\\nSee evaluations for pretraining (Section 2); fine-tuning (Section 3); and safety (Section 4).\\nEthical Considerations and Limitations(Section 5.2)\\nLlama 2is a new technology that carries risks with use. Testing conducted to date has been in\\nEnglish, and has not covered, nor could it cover all scenarios. For these reasons, as with all LLMs,\\nLlama 2’s potential outputs cannot be predicted in advance, and the model may in some instances\\nproduce inaccurate or objectionable responses to user prompts. Therefore, before deploying any\\napplications ofLlama 2, developers should perform safety testing and tuning tailored to their\\nspecific applications of the model. Please see the Responsible Use Guide available available at\\nhttps://ai.meta.com/llama/responsible-user-guide\\nTable 52: Model card forLlama 2.\\n77'),\n",
              " Document(id='2e2a53a6-a22d-4bef-8ec1-9d6e0e9f24e0', metadata={'producer': 'pdfTeX-1.40.25', 'creator': 'LaTeX with hyperref', 'creationdate': '2023-07-20T00:30:36+00:00', 'author': '', 'keywords': '', 'moddate': '2023-07-20T00:30:36+00:00', 'ptex.fullbanner': 'This is pdfTeX, Version 3.141592653-2.6-1.40.25 (TeX Live 2023) kpathsea version 6.3.5', 'subject': '', 'title': '', 'trapped': '/False', 'source': 'https://raw.githubusercontent.com/sunnysavita10/genai_bootcamp/refs/heads/main/data/llama2.pdf', 'total_pages': 77, 'page': 22, 'page_label': '23'}, page_content='TruthfulQA↑ ToxiGen↓\\nMPT 7B 29.13 22.32\\n30B 35.25 22.61\\nFalcon 7B 25.95 14.53\\n40B 40.39 23.44\\nLlama 1\\n7B 27.42 23.00\\n13B 41.74 23.08\\n33B 44.19 22.57\\n65B 48.71 21.77\\nLlama 2\\n7B 33.29 21.25\\n13B 41.86 26.10\\n34B 43.45 21.19\\n70B 50.18 24.60\\nTable 11: Evaluation of pretrained LLMs on automatic safety benchmarks.For TruthfulQA, we present the\\npercentage of generations that are both truthful and informative (the higher the better). For ToxiGen, we\\npresent the percentage of toxic generations (the smaller, the better).\\nBenchmarks give a summary view of model capabilities and behaviors that allow us to understand general\\npatterns in the model, but they do not provide a fully comprehensive view of the impact the model may have\\non people or real-world outcomes; that would require study of end-to-end product deployments. Further\\ntesting and mitigation should be done to understand bias and other social issues for the specific context\\nin which a system may be deployed. For this, it may be necessary to test beyond the groups available in\\nthe BOLD dataset (race, religion, and gender). As LLMs are integrated and deployed, we look forward to\\ncontinuing research that will amplify their potential for positive impact on these important social issues.\\n4.2 Safety Fine-Tuning\\nIn this section, we describe our approach to safety fine-tuning, including safety categories, annotation\\nguidelines, and the techniques we use to mitigate safety risks. We employ a process similar to the general\\nfine-tuning methods as described in Section 3, with some notable differences related to safety concerns.\\nSpecifically, we use the following techniques in safety fine-tuning:\\n1. Supervised Safety Fine-Tuning: We initialize by gathering adversarial prompts and safe demonstra-\\ntions that are then included in the general supervised fine-tuning process (Section 3.1). This teaches\\nthe model to align with our safety guidelines even before RLHF, and thus lays the foundation for\\nhigh-quality human preference data annotation.\\n2. Safety RLHF: Subsequently, we integrate safety in the general RLHF pipeline described in Sec-\\ntion 3.2.2. This includes training a safety-specific reward model and gathering more challenging\\nadversarial prompts for rejection sampling style fine-tuning and PPO optimization.\\n3. Safety Context Distillation: Finally, we refine our RLHF pipeline with context distillation (Askell\\net al., 2021b). This involves generating safer model responses by prefixing a prompt with a safety\\npreprompt, e.g.,“You are a safe and responsible assistant,”and then fine-tuning the model on the safer\\nresponses without the preprompt, which essentiallydistillsthe safety preprompt (context) into the\\nmodel. We use a targeted approach that allows our safety reward model to choose whether to use\\ncontext distillation for each sample.\\n4.2.1 Safety Categories and Annotation Guidelines\\nBased on limitations of LLMs known from prior work, we design instructions for our annotation team to\\ncreate adversarial prompts along two dimensions: arisk category, or potential topic about which the LLM\\ncould produce unsafe content; and anattack vector, or question style to cover different varieties of prompts\\nthat could elicit bad model behaviors.\\nTheriskcategoriesconsideredcanbebroadlydividedintothefollowingthreecategories: illicitandcriminal\\nactivities(e.g., terrorism, theft, human trafficking);hateful and harmful activities(e.g., defamation, self-\\nharm, eating disorders, discrimination); andunqualified advice(e.g., medical advice, financial advice, legal\\n23')]"
            ]
          },
          "metadata": {},
          "execution_count": 28
        }
      ]
    },
    {
      "cell_type": "markdown",
      "source": [
        "## Chroma DB"
      ],
      "metadata": {
        "id": "S8ottPEh_Ybn"
      }
    },
    {
      "cell_type": "code",
      "source": [
        "from langchain_text_splitters import RecursiveCharacterTextSplitter\n",
        "\n",
        "text_splitter = RecursiveCharacterTextSplitter(\n",
        "    chunk_size=2000,\n",
        "    chunk_overlap=200,\n",
        "    length_function=len,\n",
        "    is_separator_regex=False\n",
        ")\n",
        "\n",
        "further_split_doc=text_splitter.split_documents(docs)"
      ],
      "metadata": {
        "id": "04uMzQRY-6NI"
      },
      "execution_count": null,
      "outputs": []
    },
    {
      "cell_type": "code",
      "source": [
        "from langchain_community.vectorstores import Chroma\n",
        "persist_directory = \"vdb_latest\"\n",
        "\n",
        "chroma_vdb = Chroma.from_documents(\n",
        "    documents=further_split_doc,\n",
        "    embedding=huggingface_embeddings,\n",
        "    persist_directory=persist_directory\n",
        ")\n",
        "\n",
        "chroma_vdb.persist()"
      ],
      "metadata": {
        "id": "jc_dTZciAQtS",
        "colab": {
          "base_uri": "https://localhost:8080/"
        },
        "outputId": "e8051ea5-a9c3-40a8-9b29-788a431f5eca"
      },
      "execution_count": null,
      "outputs": [
        {
          "output_type": "stream",
          "name": "stderr",
          "text": [
            "<ipython-input-30-d2d2026e63e2>:10: LangChainDeprecationWarning: Since Chroma 0.4.x the manual persistence method is no longer supported as docs are automatically persisted.\n",
            "  chroma_vdb.persist()\n"
          ]
        }
      ]
    },
    {
      "cell_type": "code",
      "source": [
        "vdb = Chroma(\n",
        "    persist_directory=persist_directory,\n",
        "    embedding_function=huggingface_embeddings\n",
        ")\n",
        "\n",
        "retriever=vdb.as_retriever()\n",
        "\n",
        "print(retriever.search_type, retriever.search_kwargs)\n",
        "\n",
        "retriever.get_relevant_documents(\"what is transformer and how it is working for llama2 model?\",k=1)"
      ],
      "metadata": {
        "id": "hPpImldKByf1",
        "colab": {
          "base_uri": "https://localhost:8080/"
        },
        "outputId": "e81562cd-b6ee-4922-96d3-0c1fb82416a5"
      },
      "execution_count": null,
      "outputs": [
        {
          "output_type": "stream",
          "name": "stdout",
          "text": [
            "similarity {}\n"
          ]
        },
        {
          "output_type": "stream",
          "name": "stderr",
          "text": [
            "<ipython-input-31-2038965b573e>:1: LangChainDeprecationWarning: The class `Chroma` was deprecated in LangChain 0.2.9 and will be removed in 1.0. An updated version of the class exists in the :class:`~langchain-chroma package and should be used instead. To use it run `pip install -U :class:`~langchain-chroma` and import as `from :class:`~langchain_chroma import Chroma``.\n",
            "  vdb = Chroma(\n",
            "<ipython-input-31-2038965b573e>:10: LangChainDeprecationWarning: The method `BaseRetriever.get_relevant_documents` was deprecated in langchain-core 0.1.46 and will be removed in 1.0. Use :meth:`~invoke` instead.\n",
            "  retriever.get_relevant_documents(\"what is transformer and how it is working for llama2 model?\",k=1)\n"
          ]
        },
        {
          "output_type": "execute_result",
          "data": {
            "text/plain": [
              "[Document(metadata={'page_label': '7', 'trapped': '/False', 'source': 'https://raw.githubusercontent.com/sunnysavita10/genai_bootcamp/refs/heads/main/data/llama2.pdf', 'producer': 'pdfTeX-1.40.25', 'page': 6, 'keywords': '', 'author': '', 'moddate': '2023-07-20T00:30:36+00:00', 'creationdate': '2023-07-20T00:30:36+00:00', 'subject': '', 'ptex.fullbanner': 'This is pdfTeX, Version 3.141592653-2.6-1.40.25 (TeX Live 2023) kpathsea version 6.3.5', 'total_pages': 77, 'title': '', 'creator': 'LaTeX with hyperref'}, page_content='sustainability program.∗∗ Our open release strategy also means that these pretraining costs will not need to\\nbe incurred by other companies, saving more global resources.\\n2.3 Llama 2Pretrained Model Evaluation\\nIn this section, we report the results for theLlama 1and Llama 2base models, MosaicML Pretrained\\nTransformer(MPT)†† models,andFalcon(Almazroueietal.,2023)modelsonstandardacademicbenchmarks.\\nFor all the evaluations, we use our internal evaluations library. We reproduce results for the MPT and Falcon\\nmodels internally. For these models, we always pick the best score between our evaluation framework and\\nany publicly reported results.\\nIn Table 3, we summarize the overall performance across a suite of popular benchmarks. Note that safety\\nbenchmarks are shared in Section 4.1. The benchmarks are grouped into the categories listed below. The\\nresults for all the individual benchmarks are available in Section A.2.2.\\n• Code. We report the average pass@1 scores of our models on HumanEval (Chen et al., 2021) and\\nMBPP (Austin et al., 2021).\\n• CommonsenseReasoning. WereporttheaverageofPIQA(Bisketal.,2020), SIQA(Sapetal.,2019),\\nHellaSwag (Zellers et al., 2019a), WinoGrande (Sakaguchi et al., 2021), ARC easy and challenge\\n(Clark et al., 2018), OpenBookQA (Mihaylov et al., 2018), and CommonsenseQA (Talmor et al.,\\n2018). We report 7-shot results for CommonSenseQA and 0-shot results for all other benchmarks.\\n• World Knowledge.We evaluate the 5-shot performance on NaturalQuestions (Kwiatkowski et al.,\\n2019) and TriviaQA (Joshi et al., 2017) and report the average.\\n• Reading Comprehension.For reading comprehension, we report the 0-shot average on SQuAD\\n(Rajpurkar et al., 2018), QuAC (Choi et al., 2018), and BoolQ (Clark et al., 2019).\\n• MATH. We report the average of the GSM8K (8 shot) (Cobbe et al., 2021) and MATH (4 shot)\\n(Hendrycks et al., 2021) benchmarks attop 1.\\n∗∗https://sustainability.fb.com/2021-sustainability-report/\\n††https://www.mosaicml.com/blog/mpt-7b\\n7')]"
            ]
          },
          "metadata": {},
          "execution_count": 31
        }
      ]
    },
    {
      "cell_type": "markdown",
      "source": [
        "## Pinecone"
      ],
      "metadata": {
        "id": "D9Arwou5DMaL"
      }
    },
    {
      "cell_type": "code",
      "source": [
        "from pinecone import Pinecone, ServerlessSpec\n",
        "\n",
        "import time\n",
        "\n",
        "pc = Pinecone()\n",
        "\n",
        "\n",
        "index_name = \"test-index\" # @param {\"type\":\"string\"}\n",
        "\n",
        "existing_indexes = [index_info[\"name\"] for index_info in pc.list_indexes()]\n",
        "\n",
        "if index_name not in existing_indexes:\n",
        "    pc.create_index(\n",
        "        name=index_name,\n",
        "        dimension=384,\n",
        "        metric=\"cosine\",\n",
        "        spec=ServerlessSpec(cloud=\"aws\", region=\"us-east-1\"),\n",
        "    )\n",
        "    while not pc.describe_index(index_name).status[\"ready\"]:\n",
        "        time.sleep(1)\n",
        "\n",
        "index = pc.Index(index_name)"
      ],
      "metadata": {
        "id": "n4paW1dnH6WC"
      },
      "execution_count": null,
      "outputs": []
    },
    {
      "cell_type": "code",
      "source": [
        "from langchain_pinecone import PineconeVectorStore\n",
        "from uuid import uuid4\n",
        "\n",
        "pc_vector_store = PineconeVectorStore(\n",
        "    index=index,\n",
        "    embedding=huggingface_embeddings,\n",
        "\n",
        ")\n",
        "\n",
        "uuids = [\n",
        "    str(uuid4()) for  _ in range(len(further_split_doc))\n",
        "]\n",
        "\n",
        "\n",
        "print(uuids[0])\n",
        "\n",
        "pc_vector_store.add_documents(documents=further_split_doc, ids=uuids)"
      ],
      "metadata": {
        "id": "UYzGbcwOCtcJ",
        "colab": {
          "base_uri": "https://localhost:8080/"
        },
        "outputId": "fec5c621-e383-4a08-efb2-29501f349e36"
      },
      "execution_count": null,
      "outputs": [
        {
          "output_type": "stream",
          "name": "stdout",
          "text": [
            "9dbcae6c-aa0a-4a3e-8697-02226e9b95df\n"
          ]
        },
        {
          "output_type": "execute_result",
          "data": {
            "text/plain": [
              "['9dbcae6c-aa0a-4a3e-8697-02226e9b95df',\n",
              " 'd8d9c5b2-57a7-4b9a-8e84-a57fa5624f54',\n",
              " '2161aa4a-fecb-4769-a972-58dbd43ae85c',\n",
              " 'bbd15c16-e8f0-45b8-8d00-3e8687376526',\n",
              " '28b56bd7-904b-4e0b-b29f-72fbbbe9251f',\n",
              " '87c9fef8-1aa9-41db-a08b-195226fa70b4',\n",
              " '3de874cb-d2fa-408f-8b66-470c3f374d1f',\n",
              " '36fcc732-81fe-4423-a45b-45de0b2dfb37',\n",
              " '28cde285-8769-4631-9016-c4c5ee7dbc1c',\n",
              " 'c3219444-0f2a-4d2f-bd2d-88f318b3ae0c',\n",
              " 'af41c227-d570-4194-bf51-216ba39e5e2a',\n",
              " '40ffe6a5-5e27-4374-b9fc-2f173c2e812f',\n",
              " '82ba117d-0840-4c24-8a7f-08bf71026b5f',\n",
              " 'a8cfa077-7a58-4259-9c8c-70ef6410661a',\n",
              " '496e638e-18a0-48d2-945e-40612c8b8074',\n",
              " 'e55f4492-1106-4480-950c-9e9807ea21ac',\n",
              " '43a7ded1-2ae9-436f-891d-e769d8c5d334',\n",
              " '6efb84e7-7819-46a1-a658-c8a9f91bdd97',\n",
              " '213f8f09-4c2b-4552-8e25-915908951e63',\n",
              " '1cf3f8ad-2a3d-4ca3-8569-c020f3cc6f8d',\n",
              " '381fd5e7-6bcb-4cfa-86a1-4459c0faee83',\n",
              " 'cd7ca8c1-09e3-4421-ba4c-1bdb7c599eec',\n",
              " '81e73146-0771-4dd0-974b-fa30573700b4',\n",
              " 'ca2c6e3b-5d46-4fc8-8389-53f5fbf19157',\n",
              " '1f8566b9-e37f-4a38-9133-423c900e62e3',\n",
              " 'dba05d73-e79c-4c66-b27c-98e4ba9a7cb1',\n",
              " '28454b47-219f-4609-842c-10509e72941f',\n",
              " 'ac3534ce-f630-4b75-b2cd-3dba4baa0434',\n",
              " 'e8309e10-1c1a-465c-b71f-7d4fc122b31b',\n",
              " '83250213-fba5-487b-9808-5949c85ce3ec',\n",
              " 'c9fce7b4-c981-4e13-84f8-9f272f985183',\n",
              " '5b7c140f-678d-48dc-affe-da304f8fb43c',\n",
              " '8d9c946b-d02b-4d5e-8f85-4ef9f8047fb9',\n",
              " '3d7a0d22-159a-42a1-a24b-0773173fbb4f',\n",
              " '7ffcc04a-6784-4460-a55b-f1103b2af017',\n",
              " '3c4ba2d3-61c8-493a-b7e8-51349fe156f7',\n",
              " '3122e91b-08c5-43d0-b051-1be98834d665',\n",
              " '54367927-7fe6-4466-a758-b69f0143aadc',\n",
              " '71a5f9aa-bf2f-4a42-a507-d54f2eefe0cc',\n",
              " '4f7744db-36ac-48ef-9c7c-8465a7836d29',\n",
              " 'adec3bc7-aff3-4ec8-89d4-9391a350fc33',\n",
              " '1ed52c72-94db-4f8c-a22e-ae243b483357',\n",
              " 'be0491a7-5567-4a02-b396-926aa44565b0',\n",
              " 'c2d4e9da-cf12-45ce-bf0d-dfd8e471e5d6',\n",
              " '2ae02db6-505a-4993-bbcf-b82b9032d8f6',\n",
              " 'bc0c4b0f-ed4e-4db8-bc74-cecf633320e4',\n",
              " '10bdacd3-9c7f-4aae-a3e0-0aad75ca4c4a',\n",
              " '4c242cdf-bcdf-4cdc-a8f3-982a7d70f280',\n",
              " '04e69794-5762-4389-9237-b1c5e0133324',\n",
              " '2be861fe-6548-4af6-9d45-99935510c0a4',\n",
              " '5e189293-3e30-4088-bcab-fe9b6ee01611',\n",
              " 'b1a4a316-23a2-4a60-89fc-b5dfa6a77ffb',\n",
              " 'cf17c58e-a560-48b7-9182-b9bdb99e0163',\n",
              " '3c1b46cf-fb52-4639-a91d-8c8aef904e6e',\n",
              " 'c6fc2d45-9b9f-4f00-8672-56bd1e319c26',\n",
              " '48bc10c8-06c5-4ed0-80f1-5a1fe3dfb29b',\n",
              " '161d0cb0-594a-4744-9691-5c968dfd93b2',\n",
              " '5f0dbadd-c085-4034-bc28-615cae2baaba',\n",
              " '2dd363d6-23da-4067-81c7-ae057a79a7a5',\n",
              " 'e6ed7a24-0a0e-45fb-9f81-c28a1ec6a0b9',\n",
              " 'd12b774b-bd20-48ad-a2dd-a7d9a1a46b4b',\n",
              " '75b69d65-de1a-4c35-b838-8ccd28ce24e4',\n",
              " 'ed11273a-57bd-4ea7-b05e-a654cb32a27f',\n",
              " '9a424f51-307f-4d9e-a207-96cb2b524022',\n",
              " '1e3e1ab9-c035-4f4c-97b3-4ebc1e6c341d',\n",
              " 'f96047b0-71ac-4c8c-99ec-07c989d3d814',\n",
              " '91fac78d-4bd1-4fdb-8717-596d9779e4e6',\n",
              " '76bdc231-0c9d-437b-a53d-2226ee76de50',\n",
              " '92df89f9-be7d-4d08-b634-340349c6450f',\n",
              " '0e2ed3c1-0587-4a64-ba89-974e4cb993ae',\n",
              " 'efc6e805-4cbe-463d-92d5-1591bf78f569',\n",
              " 'c8da00fd-d328-4057-b661-c469078ec74c',\n",
              " '8576d7af-8926-494e-b4d5-e4c417e87504',\n",
              " '4a813c6c-3245-406b-93f8-87b3f922061a',\n",
              " 'e46ee536-0678-4d1a-91de-b7eb0b981202',\n",
              " '33a5fb5e-19e0-4565-86d8-78263ae80f71',\n",
              " '26a126ff-fed3-4ca1-a192-13aff30ec763',\n",
              " '049539ae-36f0-4f16-ba87-44da3caa285d',\n",
              " 'ed1ea722-9db9-4fa7-a888-daaf99c0cd29',\n",
              " '1ea8aa18-268c-4ab3-b371-95ab107ef199',\n",
              " '51aca588-9814-4d3a-b2e2-0c3350e99d90',\n",
              " 'f07a6b20-3624-4d4e-a4a9-e438d16f2281',\n",
              " 'b4bd565c-80cd-4267-8f71-edec263e15d4',\n",
              " 'cfddcb02-26f5-4ddd-b8db-27e13420965e',\n",
              " '628c8048-68f0-4ba2-8249-d2b45dbb3aa8',\n",
              " 'f4f220d1-4df5-40e2-84a4-4757cfe562a1',\n",
              " 'a69efbff-1e23-4205-a752-8b624b220cdf',\n",
              " 'e17a8ec2-9b10-4970-acf5-020caabfb4e0',\n",
              " '8c593f23-49c7-4321-9342-961a0f3c8e33',\n",
              " '1eae56a2-5bb2-430e-8f03-6ac1da41cfa2',\n",
              " 'cd78f9b1-72da-4c8d-9b44-6fb1dccad298',\n",
              " '40c91397-d0a0-4ac9-8d22-d30dfdec0558',\n",
              " 'b00fb334-6273-4070-877e-168b9bff4485',\n",
              " '8be31b19-dbae-4365-ada2-8ee1dc2482cf',\n",
              " '2934957a-9c46-4d3a-87a9-99383ceee104',\n",
              " 'fa51f38b-da8c-4dd8-8bae-b31c1753da9a',\n",
              " 'ae400691-ca64-4857-863d-104b6426c851',\n",
              " '6c77da7b-3785-4f6b-bdbd-f7e1e8503066',\n",
              " '02ce1d26-69cd-42d5-a040-4a31fe872549',\n",
              " '019fe985-a468-4bcc-9d58-ca91eb846c67',\n",
              " '4cf24547-dbc3-4524-ad5f-4c6b6f189cfe',\n",
              " 'd8e1c10c-8bab-4637-ac5b-6511e18788de',\n",
              " '98b2a947-656e-4d5a-bf8e-8a595a27f3f8',\n",
              " 'd92aacb0-2415-4217-bcc2-59388526ce33',\n",
              " '53fa086b-821c-4795-83fe-52da5295959a',\n",
              " '3f1075e6-cd87-4050-b094-7987feb00029',\n",
              " '4d08e3f6-fee4-46b7-81c6-d023c6ea3b5e',\n",
              " 'b1fe568b-6be1-48b2-826a-028720ec2255',\n",
              " '57aa07dd-6160-4fde-b932-cfdeaed21ef4',\n",
              " '8c0f634e-f65f-4a69-a038-9ac4364eacb2',\n",
              " '9a0dd633-5c02-4fae-b3ef-cbd7e0f899be',\n",
              " 'f832aa65-4ef6-4231-bb6f-7007abfe15c9',\n",
              " 'b4175472-dffb-4216-afd4-36f0b2fd6eae',\n",
              " '2d189695-405c-4194-99e9-2f6ca51e4d9b',\n",
              " '403306c3-4f1d-47a9-ba8d-080e4a4cea6a',\n",
              " 'be534f4e-92de-4d5b-88b6-9ba5d9863023',\n",
              " '426de9e5-7949-4036-8130-164f95f54981',\n",
              " 'da5c52af-e0d4-4ab7-8d01-88424739e505',\n",
              " '3bb48a5d-1a79-44db-a446-97cb497976c2',\n",
              " 'c913f4d9-603b-4c55-bad4-01bfd5bd9142',\n",
              " 'fe8ca9a1-7827-45a1-bf0b-8d2af46aee84',\n",
              " 'ffd0b35b-4007-4663-94c6-ff07492b7734',\n",
              " 'b764f100-9b59-4fb1-82c1-1980bafd76f8',\n",
              " 'e2eed1fd-a700-4518-bee1-323a0ceda1e8',\n",
              " 'ea4f014b-46fa-4900-a482-22796bc56199',\n",
              " '1570915c-d0eb-49db-81cd-fada1dcdab78',\n",
              " 'a0967904-5a94-4649-9aaa-63599338ff84',\n",
              " '72585bb3-15a2-408c-b1a4-9a9dcad4a1a3',\n",
              " '7f24d9a0-295a-474a-99b6-8313881ef16b',\n",
              " '580cc0a4-0a39-42c0-b0d2-24af962c8016',\n",
              " '3f31220e-6c06-48ac-9f3a-33918c1a242b',\n",
              " '11564fe7-b8f2-474a-ba2c-7d5f277ef423',\n",
              " '3581cbe5-4413-42e1-a4c6-a513012b46b8',\n",
              " '0be53a2b-dae3-419c-8c03-72c27139b1ab',\n",
              " 'e98380fd-4a3b-480f-b91b-658e57fa1bab',\n",
              " '8285dd97-7101-4a2d-a4b7-3a3a842b6bd0',\n",
              " '310dff71-3286-4d5e-b973-5b09b080b78c',\n",
              " '140491bc-8c52-4f4d-bc09-71d79657bd7e',\n",
              " '1e18d1fc-346a-4937-b370-b2e76e2a253e',\n",
              " '6e207aa0-1e39-42fb-9026-0f71ee343380',\n",
              " '4e2674d4-5703-4fd4-80e4-951dec387c2c',\n",
              " '72c60677-2a2f-4795-9309-24cf5c50ec22',\n",
              " '34b5959a-52ce-440e-81d8-2c124bb158ab',\n",
              " '21dcc0e3-c9d2-41a5-8573-00f85e3879a1',\n",
              " 'c6ef29ec-6eba-4cf5-837d-2b21026dca6f',\n",
              " '6be490b3-4a76-44d0-b079-bd30a1a41722',\n",
              " '411f4728-b7c1-4270-988b-07799be62742',\n",
              " '2d6fba63-9a21-454f-808c-d7d9a8e9b28c',\n",
              " '96e7d440-af61-4cf2-94c8-b047f9b83008',\n",
              " 'ba7999b8-e922-41c9-a056-4f4565ad641c',\n",
              " '19a19c3e-5d1c-49fc-9f11-620d32a28b69',\n",
              " 'a7b58879-2028-4040-8578-75315b877dc4',\n",
              " '7ae4c184-30ce-4e62-8e38-0cafe1e41cb9',\n",
              " '8c37e579-34aa-45ec-9e68-55514074f05c',\n",
              " '35bc83cf-5d07-4bf4-b3cd-76839c01c8f3',\n",
              " 'd5ea3b2d-bd0b-4285-be97-1f11ecf5b295',\n",
              " '52c523aa-9274-4872-9f4c-d238f25ed8de',\n",
              " '3ad3ad9a-c5b0-4a54-b344-d143c0c970de',\n",
              " 'f465e001-067e-4a3b-b3cd-fa704e0eef89',\n",
              " '1eceea6f-ebdf-4f7a-aeb5-7e47ce135607',\n",
              " '7f93d830-bee3-4391-ae15-3067b639cb93',\n",
              " 'e95c9d7c-1330-4c1c-b8f1-a3fd2547a953',\n",
              " '87324346-a305-438d-9c41-72e30781bc47',\n",
              " '2985236a-27cb-4a91-b3a7-921ff56652be',\n",
              " 'b73d02ff-8510-4c23-9782-4642b2773e55',\n",
              " '18f141c9-a627-452e-ac81-ede54be17051',\n",
              " 'eb1b4981-7844-4f60-9253-40d478d96cf8',\n",
              " 'ade8362f-9ea2-4e43-a4c1-b8c486bcdb55',\n",
              " 'd0f475c7-e1bb-4544-9a32-12cf73970f10',\n",
              " '3eb04e66-c549-4da0-8d2e-bf9981573a98',\n",
              " '0d5473eb-7268-4d77-8501-5d69f5f071aa',\n",
              " '5dad5e0f-45ca-4e51-87b7-f22a311f1bb0',\n",
              " '41a7563c-a6b3-4213-8af4-22715151878b',\n",
              " 'c21220ea-b481-45e7-985b-9c4fc4698dd3',\n",
              " '8c5f31d2-d0ef-4dae-8745-6ffabc8ac3fa']"
            ]
          },
          "metadata": {},
          "execution_count": 33
        }
      ]
    },
    {
      "cell_type": "code",
      "source": [
        "results = vector_store.similarity_search(\n",
        "    \"what is llama2 and how it is different from mistral?\",\n",
        "    k=2,\n",
        "    filter={\n",
        "        \"source\":\"https://raw.githubusercontent.com/sunnysavita10/genai_bootcamp/refs/heads/main/data/llama2.pdf\"\n",
        "    }\n",
        ")\n",
        "\n",
        "results"
      ],
      "metadata": {
        "id": "ev3wp0zwGLge",
        "colab": {
          "base_uri": "https://localhost:8080/"
        },
        "outputId": "8b8bec89-b607-49bb-f62c-8be972adf452"
      },
      "execution_count": null,
      "outputs": [
        {
          "output_type": "execute_result",
          "data": {
            "text/plain": [
              "[Document(id='2bc50633-1f1e-45f1-adda-b14eacd72860', metadata={'producer': 'pdfTeX-1.40.25', 'creator': 'LaTeX with hyperref', 'creationdate': '2023-07-20T00:30:36+00:00', 'author': '', 'keywords': '', 'moddate': '2023-07-20T00:30:36+00:00', 'ptex.fullbanner': 'This is pdfTeX, Version 3.141592653-2.6-1.40.25 (TeX Live 2023) kpathsea version 6.3.5', 'subject': '', 'title': '', 'trapped': '/False', 'source': 'https://raw.githubusercontent.com/sunnysavita10/genai_bootcamp/refs/heads/main/data/llama2.pdf', 'total_pages': 77, 'page': 76, 'page_label': '77'}, page_content='A.7 Model Card\\nTable 52 presents a model card (Mitchell et al., 2018; Anil et al., 2023) that summarizes details of the models.\\nModel Details\\nModel DevelopersMeta AI\\nVariations Llama 2comes in a range of parameter sizes—7B, 13B, and 70B—as well as\\npretrained and fine-tuned variations.\\nInput Models input text only.\\nOutput Models generate text only.\\nModel ArchitectureLlama 2isanauto-regressivelanguagemodelthatusesanoptimizedtransformer\\narchitecture. The tuned versions use supervised fine-tuning (SFT) and reinforce-\\nment learning with human feedback (RLHF) to align to human preferences for\\nhelpfulness and safety.\\nModel Dates Llama 2was trained between January 2023 and July 2023.\\nStatus This is a static model trained on an offline dataset. Future versions of the tuned\\nmodels will be released as we improve model safety with community feedback.\\nLicense A custom commercial license is available at:ai.meta.com/resources/\\nmodels-and-libraries/llama-downloads/\\nWhere to send com-\\nments\\nInstructions on how to provide feedback or comments on the model can be\\nfound in the model README, or by opening an issue in the GitHub repository\\n(https://github.com/facebookresearch/llama/).\\nIntended Use\\nIntended Use CasesLlama 2is intended for commercial and research use in English. Tuned models\\nare intended for assistant-like chat, whereas pretrained models can be adapted\\nfor a variety of natural language generation tasks.\\nOut-of-Scope UsesUse in any manner that violates applicable laws or regulations (including trade\\ncompliance laws). Use in languages other than English. Use in any other way\\nthat is prohibited by the Acceptable Use Policy and Licensing Agreement for\\nLlama 2.\\nHardware and Software(Section 2.2)\\nTraining Factors We used custom training libraries, Meta’s Research Super Cluster, and produc-\\ntion clusters for pretraining. Fine-tuning, annotation, and evaluation were also\\nperformed on third-party cloud compute.\\nCarbon Footprint Pretraining utilized a cumulative 3.3M GPU hours of computation on hardware\\nof type A100-80GB (TDP of 350-400W). Estimated total emissions were 539\\ntCO2eq, 100% of which were offset by Meta’s sustainability program.\\nTraining Data(Sections 2.1 and 3)\\nOverview Llama 2was pretrained on 2 trillion tokens of data from publicly available\\nsources. The fine-tuning data includes publicly available instruction datasets, as\\nwellasoveronemillionnewhuman-annotatedexamples. Neitherthepretraining\\nnor the fine-tuning datasets include Meta user data.\\nData Freshness The pretraining data has a cutoff of September 2022, but some tuning data is\\nmore recent, up to July 2023.\\nEvaluation Results\\nSee evaluations for pretraining (Section 2); fine-tuning (Section 3); and safety (Section 4).\\nEthical Considerations and Limitations(Section 5.2)\\nLlama 2is a new technology that carries risks with use. Testing conducted to date has been in\\nEnglish, and has not covered, nor could it cover all scenarios. For these reasons, as with all LLMs,\\nLlama 2’s potential outputs cannot be predicted in advance, and the model may in some instances\\nproduce inaccurate or objectionable responses to user prompts. Therefore, before deploying any\\napplications ofLlama 2, developers should perform safety testing and tuning tailored to their\\nspecific applications of the model. Please see the Responsible Use Guide available available at\\nhttps://ai.meta.com/llama/responsible-user-guide\\nTable 52: Model card forLlama 2.\\n77'),\n",
              " Document(id='6d0e40d9-4e1c-4700-ac58-1db7e1e08408', metadata={'producer': 'pdfTeX-1.40.25', 'creator': 'LaTeX with hyperref', 'creationdate': '2023-07-20T00:30:36+00:00', 'author': '', 'keywords': '', 'moddate': '2023-07-20T00:30:36+00:00', 'ptex.fullbanner': 'This is pdfTeX, Version 3.141592653-2.6-1.40.25 (TeX Live 2023) kpathsea version 6.3.5', 'subject': '', 'title': '', 'trapped': '/False', 'source': 'https://raw.githubusercontent.com/sunnysavita10/genai_bootcamp/refs/heads/main/data/llama2.pdf', 'total_pages': 77, 'page': 49, 'page_label': '50'}, page_content='NaturalQuestions TriviaQA (Wiki)\\n0-shot 1-shot 5-shot 64-shot 0-shot 1-shot 5-shot 64-shot\\nMPT 7B 11.6 17.8 20.8 22.7 55.7 59.6 61.2 61.6\\n30B 15.8 23.0 26.6 29.3 68.0 71.3 73.3 73.6\\nFalcon 7B 15.7 18.1 21.0 24.0 52.6 56.8 64.6 61.1\\n40B 26.3 29.5 33.5 35.5 74.6 78.6 79.9 79.6\\nLlama 1\\n7B 16.8 18.7 22.0 26.1 63.3 67.4 70.4 71.0\\n13B 20.1 23.4 28.1 31.9 70.1 74.4 77.1 77.9\\n33B 24.9 28.3 32.9 36.0 78.7 80.7 83.8 83.6\\n65B 23.8 31.0 35.0 39.9 81.7 84.5 85.9 86.0\\nLlama 2\\n7B 16.4 22.7 25.7 29.5 65.8 68.9 72.1 73.7\\n13B 16.1 28.0 31.2 34.6 73.1 77.2 79.6 79.4\\n34B 25.1 30.0 32.8 39.9 81.0 83.3 84.5 84.6\\n70B 25.3 33.0 39.5 44.3 82.4 85.0 87.6 87.5\\nTable 22:(Left) NaturalQuestions. Exact match performance.(Right) TriviaQA.Zero-shot and few-shot\\nexact match performance on the filtered dev set. For TriviaQA, we evaluate on Wiki validation subset.\\nSQUAD (EM) QUAC (f1)\\nModel Size 0-shot 1-shot 4-shot 5-shot 0-shot 1-shot\\nMPT 7B 59.5 62.8 62.6 62.7 38.0 37.7\\nMPT 30B 74.7 74.2 72.4 74.2 40.4 41.1\\nFalcon 7B 16.4 16.0 16.9 17.5 24.0 18.8\\nFalcon 40B 72.9 73.1 71.7 71.0 41.2 43.3\\nLlama 1\\n7B 60.0 62.3 63.3 62.8 38.9 32.0\\n13B 68.9 68.4 66.4 66.7 39.9 36.5\\n33B 75.5 77.0 76.3 75.6 44.1 40.3\\n65B 79.4 80.0 78.3 77.9 41.0 39.8\\nLlama 2\\n7B 67.2 72.3 72.6 72.5 39.4 39.7\\n13B 72.9 72.1 70.6 71.3 42.7 44.8\\n34B 77.4 78.8 77.5 77.5 42.9 44.4\\n70B 80.7 82.6 81.9 81.9 42.4 49.3\\nTable 23:Comparison to open-source models on reading comprehension (SQUAD and QUAC).\\nModel Size Avg AQuA-RAT LogiQA LSAT-AR LSAT-LR LSAT-RC SAT-en SAT-en (w/o Psg.) SAT-math\\nMPT 7B 23.5 27.6 23.0 18.7 21.2 20.8 25.2 32.5 23.6\\nMPT 30B 33.8 28.0 28.7 23.9 35.1 37.9 63.1 36.9 27.7\\nFalcon 7B 21.2 21.7 22.3 16.1 17.3 20.4 26.2 23.8 26.4\\nFalcon 40B 37.0 18.5 36.4 19.6 40.2 45.7 58.7 58.7 32.7\\nLlama 1\\n7B 23.9 18.9 24.6 26.1 19.2 21.9 33.0 32.5 22.3\\n13B 33.9 20.1 34.9 22.2 31.6 39.8 52.9 45.1 29.5\\n33B 41.7 18.9 37.3 18.7 48.0 59.5 74.8 44.7 35.0\\n65B 47.6 23.6 42.1 23.9 56.7 63.6 83.0 48.1 41.8\\nLlama 2\\n7B 29.3 23.2 31.0 23.9 22.4 32.7 43.2 37.4 28.2\\n13B 39.1 21.7 38.1 23.0 41.0 54.6 62.1 46.1 27.3\\n34B 43.4 19.3 40.7 21.3 47.5 62.1 77.2 49.0 32.7\\n70B 54.2 23.2 48.8 25.7 70.2 76.6 86.9 53.4 41.8\\nTable 24: Comparison to open source models on AGI Eval (English)\\n50')]"
            ]
          },
          "metadata": {},
          "execution_count": 34
        }
      ]
    }
  ]
}
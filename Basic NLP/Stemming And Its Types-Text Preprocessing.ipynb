{
 "cells": [
  {
   "cell_type": "markdown",
   "metadata": {},
   "source": [
    "## Stemming\n",
    "\n",
    "Stemming is the process of reducing a word to its word stem that **affixes to suffixes and prefixes** or to the roots of words known as a **lemma**. Stemming is important in natural language understanding `(NLU)` and natural language processing `(NLP)`."
   ]
  },
  {
   "cell_type": "markdown",
   "metadata": {},
   "source": [
    "**Classification Problem**\n",
    "\n",
    "Comments of product is a positive review or negative review\n",
    "\n",
    "| Review words        | Root Word |\n",
    "|---------------------|-----------|\n",
    "| eating, eats, eaten | eat       |\n",
    "| going, gone, goes   | go        |"
   ]
  },
  {
   "cell_type": "code",
   "execution_count": 28,
   "metadata": {},
   "outputs": [],
   "source": [
    "words=[\"eating\",\"eats\",\"eaten\",\"writing\",\"writes\",\"programming\",\"programs\",\"history\",\"finally\",\"finalized\",\"congratulations\",\"sitting\",\"fairly\",\"sportingly\",\"going\",\"goes\"]"
   ]
  },
  {
   "cell_type": "markdown",
   "metadata": {},
   "source": [
    "## PortStemmer"
   ]
  },
  {
   "cell_type": "code",
   "execution_count": 29,
   "metadata": {},
   "outputs": [
    {
     "name": "stdout",
     "output_type": "stream",
     "text": [
      "eating --> eat\n",
      "eats --> eat\n",
      "eaten --> eaten\n",
      "writing --> write\n",
      "writes --> write\n",
      "programming --> program\n",
      "programs --> program\n",
      "history --> histori\n",
      "finally --> final\n",
      "finalized --> final\n",
      "congratulations --> congratul\n",
      "sitting --> sit\n",
      "fairly --> fairli\n",
      "sportingly --> sportingli\n",
      "going --> go\n",
      "goes --> goe\n"
     ]
    }
   ],
   "source": [
    "from nltk.stem import PorterStemmer\n",
    "stemmer=PorterStemmer()\n",
    "for word in words:\n",
    "    print(word,\"-->\",stemmer.stem(word))"
   ]
  },
  {
   "cell_type": "markdown",
   "metadata": {},
   "source": [
    "## RegexpStemmer class\n",
    "\n",
    "NLTK has `RegexpStemmer` class with the help of which we can easily implement **Regular Expression Stemmer algorithms**. It basically takes a single regular expression and removes any prefix or suffix that matches the expression. Let us see an example"
   ]
  },
  {
   "cell_type": "code",
   "execution_count": 32,
   "metadata": {},
   "outputs": [
    {
     "name": "stdout",
     "output_type": "stream",
     "text": [
      "eating --> eat\n",
      "eats --> eat\n",
      "eaten --> eaten\n",
      "writing --> writ\n",
      "writes --> writ\n",
      "programming --> programm\n",
      "programs --> program\n",
      "history --> history\n",
      "finally --> finally\n",
      "finalized --> finalized\n",
      "congratulations --> congratulation\n",
      "sitting --> sitt\n",
      "fairly --> fairly\n",
      "sportingly --> sportly\n",
      "going --> go\n",
      "goes --> go\n",
      "ingeating --> eat\n",
      "ingeat --> eat\n"
     ]
    }
   ],
   "source": [
    "new_words = words + [\"ingeating\",\"ingeat\"]\n",
    "from nltk.stem import RegexpStemmer\n",
    "reg_stemmer=RegexpStemmer(\"ing$|s$|e$|able$|ing|es$\",min=4)\n",
    "for word in new_words:\n",
    "    print(word,\"-->\",reg_stemmer.stem(word))"
   ]
  },
  {
   "cell_type": "markdown",
   "metadata": {},
   "source": [
    "## Snowball Stemmer"
   ]
  },
  {
   "cell_type": "code",
   "execution_count": 31,
   "metadata": {},
   "outputs": [
    {
     "name": "stdout",
     "output_type": "stream",
     "text": [
      "eating --> eat\n",
      "eats --> eat\n",
      "eaten --> eaten\n",
      "writing --> write\n",
      "writes --> write\n",
      "programming --> program\n",
      "programs --> program\n",
      "history --> histori\n",
      "finally --> final\n",
      "finalized --> final\n",
      "congratulations --> congratul\n",
      "sitting --> sit\n",
      "fairly --> fair\n",
      "sportingly --> sport\n",
      "going --> go\n",
      "goes --> goe\n"
     ]
    }
   ],
   "source": [
    "from nltk.stem import SnowballStemmer\n",
    "snow_stemmer=SnowballStemmer(\"english\")\n",
    "for word in words:\n",
    "    print(word,\"-->\",snow_stemmer.stem(word))"
   ]
  },
  {
   "cell_type": "code",
   "execution_count": null,
   "metadata": {},
   "outputs": [],
   "source": []
  }
 ],
 "metadata": {
  "kernelspec": {
   "display_name": "env",
   "language": "python",
   "name": "python3"
  },
  "language_info": {
   "codemirror_mode": {
    "name": "ipython",
    "version": 3
   },
   "file_extension": ".py",
   "mimetype": "text/x-python",
   "name": "python",
   "nbconvert_exporter": "python",
   "pygments_lexer": "ipython3",
   "version": "3.10.9"
  }
 },
 "nbformat": 4,
 "nbformat_minor": 2
}

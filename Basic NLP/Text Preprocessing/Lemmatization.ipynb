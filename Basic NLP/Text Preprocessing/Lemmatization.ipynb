{
 "cells": [
  {
   "cell_type": "code",
   "execution_count": 3,
   "metadata": {},
   "outputs": [
    {
     "name": "stderr",
     "output_type": "stream",
     "text": [
      "[nltk_data] Downloading package wordnet to\n",
      "[nltk_data]     C:\\Users\\ASUS\\AppData\\Roaming\\nltk_data...\n"
     ]
    },
    {
     "data": {
      "text/plain": [
       "True"
      ]
     },
     "execution_count": 3,
     "metadata": {},
     "output_type": "execute_result"
    }
   ],
   "source": [
    "import nltk\n",
    "nltk.download('wordnet')"
   ]
  },
  {
   "cell_type": "markdown",
   "metadata": {},
   "source": [
    "## Wordnet Lemmatizer\n",
    "Lemmatization technique is like **stemming**. The output we will get after lemmatization is called `lemma`, which is a root word rather than root stem, the output of stemming. After lemmatization, we will be getting a valid word that means the same thing.\n",
    "\n",
    "NLTK provides `WordNetLemmatizer` class which is a **thin wrapper around the wordnet corpus**. This class uses `morphy()` function to the `WordNet CorpusReader` class to find a **lemma**. Let us understand it with an example\n",
    "\n",
    "## Usecase :-\n",
    "1. Q&A\n",
    "2. Text summarization\n",
    "3. Chatbots"
   ]
  },
  {
   "cell_type": "code",
   "execution_count": 1,
   "metadata": {},
   "outputs": [],
   "source": [
    "words=[\"eating\",\"eats\",\"eaten\",\"writing\",\"writes\",\"programming\",\"programs\",\"history\",\"finally\",\"finalized\",\"congratulations\",\"sitting\",\"fairly\",\"sportingly\",\"going\",\"goes\"]"
   ]
  },
  {
   "cell_type": "code",
   "execution_count": 6,
   "metadata": {},
   "outputs": [
    {
     "name": "stdout",
     "output_type": "stream",
     "text": [
      "==================== Noun words: ====================\n",
      "eating --> eating\n",
      "eats --> eats\n",
      "eaten --> eaten\n",
      "writing --> writing\n",
      "writes --> writes\n",
      "programming --> programming\n",
      "programs --> program\n",
      "history --> history\n",
      "finally --> finally\n",
      "finalized --> finalized\n",
      "congratulations --> congratulation\n",
      "sitting --> sitting\n",
      "fairly --> fairly\n",
      "sportingly --> sportingly\n",
      "going --> going\n",
      "goes --> go\n",
      "==================== Verb words: ====================\n",
      "eating --> eat\n",
      "eats --> eat\n",
      "eaten --> eat\n",
      "writing --> write\n",
      "writes --> write\n",
      "programming --> program\n",
      "programs --> program\n",
      "history --> history\n",
      "finally --> finally\n",
      "finalized --> finalize\n",
      "congratulations --> congratulations\n",
      "sitting --> sit\n",
      "fairly --> fairly\n",
      "sportingly --> sportingly\n",
      "going --> go\n",
      "goes --> go\n",
      "==================== Adjective words: ====================\n",
      "eating --> eating\n",
      "eats --> eats\n",
      "eaten --> eaten\n",
      "writing --> writing\n",
      "writes --> writes\n",
      "programming --> programming\n",
      "programs --> programs\n",
      "history --> history\n",
      "finally --> finally\n",
      "finalized --> finalized\n",
      "congratulations --> congratulations\n",
      "sitting --> sitting\n",
      "fairly --> fairly\n",
      "sportingly --> sportingly\n",
      "going --> going\n",
      "goes --> goes\n",
      "==================== Adverb words: ====================\n",
      "eating --> eating\n",
      "eats --> eats\n",
      "eaten --> eaten\n",
      "writing --> writing\n",
      "writes --> writes\n",
      "programming --> programming\n",
      "programs --> programs\n",
      "history --> history\n",
      "finally --> finally\n",
      "finalized --> finalized\n",
      "congratulations --> congratulations\n",
      "sitting --> sitting\n",
      "fairly --> fairly\n",
      "sportingly --> sportingly\n",
      "going --> going\n",
      "goes --> goes\n",
      "==================== Satellite adjective words: ====================\n",
      "eating --> eating\n",
      "eats --> eats\n",
      "eaten --> eaten\n",
      "writing --> writing\n",
      "writes --> writes\n",
      "programming --> programming\n",
      "programs --> programs\n",
      "history --> history\n",
      "finally --> finally\n",
      "finalized --> finalized\n",
      "congratulations --> congratulations\n",
      "sitting --> sitting\n",
      "fairly --> fairly\n",
      "sportingly --> sportingly\n",
      "going --> going\n",
      "goes --> goes\n"
     ]
    }
   ],
   "source": [
    "from nltk.stem import WordNetLemmatizer\n",
    "lemmatizer = WordNetLemmatizer()\n",
    "POS = {\n",
    "    \"Noun\":\"n\",\n",
    "    \"Verb\":\"v\",\n",
    "    \"Adjective\":\"a\",\n",
    "    \"Adverb\":\"r\",\n",
    "    \"Satellite adjective\":\"s\"\n",
    "}\n",
    "for pos in POS:\n",
    "    print(\"=\"*20,pos,\"words:\",\"=\"*20)\n",
    "    for word in words:\n",
    "        print(word,\"-->\",lemmatizer.lemmatize(word,pos=POS[pos]))"
   ]
  },
  {
   "cell_type": "code",
   "execution_count": null,
   "metadata": {},
   "outputs": [],
   "source": []
  }
 ],
 "metadata": {
  "kernelspec": {
   "display_name": "env",
   "language": "python",
   "name": "python3"
  },
  "language_info": {
   "codemirror_mode": {
    "name": "ipython",
    "version": 3
   },
   "file_extension": ".py",
   "mimetype": "text/x-python",
   "name": "python",
   "nbconvert_exporter": "python",
   "pygments_lexer": "ipython3",
   "version": "3.10.9"
  }
 },
 "nbformat": 4,
 "nbformat_minor": 2
}
